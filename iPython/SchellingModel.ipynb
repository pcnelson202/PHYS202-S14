{
 "metadata": {
  "name": "",
  "signature": "sha256:72774024981a75254ee08c7f034a40a730c3f749f5aefc0ed5cb64881e59aab0"
 },
 "nbformat": 3,
 "nbformat_minor": 0,
 "worksheets": [
  {
   "cells": [
    {
     "cell_type": "heading",
     "level": 1,
     "metadata": {},
     "source": [
      "Schelling Model"
     ]
    },
    {
     "cell_type": "code",
     "collapsed": false,
     "input": [
      "import numpy as np\n",
      "import time\n",
      "from ipythonblocks import BlockGrid\n",
      "from ipythonblocks import colors\n",
      "from IPython.html import widgets\n",
      "from IPython.display import display\n",
      "from IPython.html.widgets import interact,interactive"
     ],
     "language": "python",
     "metadata": {},
     "outputs": [],
     "prompt_number": 1
    },
    {
     "cell_type": "heading",
     "level": 3,
     "metadata": {},
     "source": [
      "User Interface Pieces"
     ]
    },
    {
     "cell_type": "markdown",
     "metadata": {},
     "source": [
      "Possible widgets\n",
      "\n",
      "* Board height/width **Check!**\n",
      "* Population Density **Check!**\n",
      "* Red vs. Blue percentage **Check!**\n",
      "* Similarity satisfaction **Check!**\n",
      "* Time interval for how often an iteration is run\n",
      "* How many iterations are run **Check!**\n",
      "* Buttons! Possibly a button to start the iteration procecss, or a button to generate a new initial board.\n",
      "* If there is time, create other widgets, to make color of the empty spaces changeable (r,g,b widget), as well as 3 widgets for r,g, and b of the \"red\" and \"blue\" population."
     ]
    },
    {
     "cell_type": "heading",
     "level": 3,
     "metadata": {},
     "source": [
      "Thought Process/Logic"
     ]
    },
    {
     "cell_type": "markdown",
     "metadata": {},
     "source": [
      "*Steps for creating a randomly generated board*\n",
      "\n",
      "1. Create a blank board with a specified height and width. **Check!**\n",
      "2. Find the amount of spaces that should be red, find the amount of spaces that should be blue. **Check!** \n",
      "3. Pick a random spot; if it is not red, make it red until there are as many red spaces as there should be. **Check!**\n",
      "4. Pick a random spot; if it is not red and it is not blue, make it blue, until there are as many blue spaces as there should be. **Check!**\n",
      "5. Show the board. **Check!**\n",
      "\n",
      "\n",
      "*For a functioning Schelling Model*\n",
      "\n",
      "1. Write an x and y for loop. It should check whether the block is red or blue. If it is, check its satisfaction rating. **Check!**\n",
      "2. Create a blank array, then form an array of pieces of the grid that have a satisfaction rating below the threshold. **Check!**\n",
      "3. In order, find a random open spot for each of the unsatisfied pieces. **Check!**\n",
      "4. Have steps 1-3 repeat themselves for the specified number of iterations. **Check!**"
     ]
    },
    {
     "cell_type": "heading",
     "level": 3,
     "metadata": {},
     "source": [
      "Necessary Functions"
     ]
    },
    {
     "cell_type": "markdown",
     "metadata": {},
     "source": [
      "Functions for creating the board\n",
      "\n",
      "* An overarching function that incorporates all the following: (InitialBoard)\n",
      "* A function that makes a board based off adjustable Height/Width (BlankBoard)\n",
      "* A function that finds the amount of squares that should be red and the amount that should be blue. (AmountCalculator)\n",
      "* A function that finds a space that is \"unpopulated\" (FindtoFill)\n",
      "\n",
      "Functions for running the Model\n",
      "\n",
      "* An overaching function that incorporates all the following: (SchellingModel)\n",
      "* A function that checks satisfaction rating including data of edges and corners (ICantGetNo)\n",
      "* The same function as above that finds an unpopulated space\n",
      "* A function that pulls the value of the TimeInterval slider and uses it to slow down the model\n"
     ]
    },
    {
     "cell_type": "heading",
     "level": 1,
     "metadata": {},
     "source": [
      "Functions"
     ]
    },
    {
     "cell_type": "code",
     "collapsed": false,
     "input": [],
     "language": "python",
     "metadata": {},
     "outputs": [],
     "prompt_number": 1
    },
    {
     "cell_type": "heading",
     "level": 3,
     "metadata": {},
     "source": [
      "Functions for selling real estate"
     ]
    },
    {
     "cell_type": "code",
     "collapsed": false,
     "input": [
      "def BlankBoard(Width=25,Height=25):\n",
      "    \"\"\"Creates a blank white board with given width and height values.\"\"\"\n",
      "    board = BlockGrid(Width,Height,fill=(200,200,200))\n",
      "    return board\n",
      "\n",
      "def AmountCalculator(Width=25,Height=25,PopulationDensity=80,RedBlue=50):\n",
      "    \"\"\"Based off of Width, Height, Population Density, and Red/Blue percentages, calculates the amount of spots \n",
      "    that should be red and the amount of spots that should be blue.\"\"\"\n",
      "    AmountRed = int((PopulationDensity/100.)*((float(Height))*Width)*(RedBlue/100.))\n",
      "    AmountBlue = int((PopulationDensity/100.)*((float(Height))*Width)*((100-RedBlue)/100.))\n",
      "    return AmountRed, AmountBlue\n",
      "    \n",
      "def FindtoFill(board, Width, Height, color):\n",
      "    \"\"\"Generates random points on the board until it finds a blank one.\"\"\" #Come back to this function.  \n",
      "    tally = 0\n",
      "    attempts = 0\n",
      "    while tally == 0:\n",
      "        x = np.random.randint(0,Width)\n",
      "        y = np.random.randint(0,Height)\n",
      "        if (board[y,x].rgb != (0,0,255)) and (board[y,x].rgb != (255,0,0)):\n",
      "            board[y,x] = color\n",
      "            tally += 1\n",
      "    return tally\n",
      "\n",
      "def Initialboard(Width,Height,PopulationDensity,RedBlue,SatisfactionThreshold):\n",
      "    \"\"\"Creates a board that is ready to run iterations for a Schelling Model.\"\"\"\n",
      "    RED = (255,0,0)\n",
      "    BLUE = (0,0,255)\n",
      "    board = BlankBoard(Width,Height)\n",
      "    AmountRed, AmountBlue = AmountCalculator(Width,Height,PopulationDensity,RedBlue)\n",
      "    redtally = 0\n",
      "    bluetally = 0\n",
      "    while redtally < AmountRed:\n",
      "        tally = FindtoFill(board, Width, Height, RED)\n",
      "        if tally == 1:\n",
      "            redtally += 1\n",
      "    while bluetally < AmountBlue:\n",
      "        tally = FindtoFill(board, Width, Height, BLUE)\n",
      "        if tally == 1:\n",
      "            bluetally += 1\n",
      "    return board"
     ],
     "language": "python",
     "metadata": {},
     "outputs": [],
     "prompt_number": 36
    },
    {
     "cell_type": "heading",
     "level": 3,
     "metadata": {},
     "source": [
      "Functions for finding unsatisfied residents"
     ]
    },
    {
     "cell_type": "code",
     "collapsed": false,
     "input": [
      "def Checkup(board,j,i,color,friends,neighbors):\n",
      "    if board[j-1,i].rgb == color:\n",
      "        friends+=1\n",
      "    if board[j-1,i].rgb == (200,200,200):\n",
      "        neighbors -=1\n",
      "    return friends,neighbors\n",
      "\n",
      "def Checkupright(board,j,i,color,friends,neighbors):\n",
      "    if board[j-1,i+1].rgb == color:\n",
      "        friends+=1\n",
      "    if board[j-1,i].rgb == (200,200,200):\n",
      "        neighbors -=1\n",
      "    return friends,neighbors\n",
      "\n",
      "def Checkupleft(board,j,i,color,friends,neighbors):\n",
      "    if board[j-1,i-1].rgb == color:\n",
      "        friends+=1\n",
      "    if board[j-1,i].rgb == (200,200,200):\n",
      "        neighbors -=1\n",
      "    return friends,neighbors\n",
      "\n",
      "def Checkleft(board,j,i,color,friends,neighbors):\n",
      "    if board[j,i-1].rgb == color:\n",
      "        friends+=1\n",
      "    if board[j-1,i].rgb == (200,200,200):\n",
      "        neighbors -=1\n",
      "    return friends,neighbors\n",
      "\n",
      "def Checkdownleft(board,j,i,color,friends,neighbors):\n",
      "    if board[j+1,i-1].rgb == color:\n",
      "        friends+=1\n",
      "    if board[j-1,i].rgb == (200,200,200):\n",
      "        neighbors -=1\n",
      "    return friends,neighbors\n",
      "\n",
      "def Checkdown(board,j,i,color,friends,neighbors):\n",
      "    if board[j+1,i].rgb == color:\n",
      "        friends+=1\n",
      "    if board[j-1,i].rgb == (200,200,200):\n",
      "        neighbors -=1\n",
      "    return friends,neighbors\n",
      "\n",
      "def Checkdownright(board,j,i,color,friends,neighbors):\n",
      "    if board[j+1,i+1].rgb == color:\n",
      "        friends+=1\n",
      "    if board[j-1,i].rgb == (200,200,200):\n",
      "        neighbors -=1\n",
      "    return friends,neighbors\n",
      "\n",
      "def Checkright(board,j,i,color,friends,neighbors):\n",
      "    if board[j,i+1].rgb == color:\n",
      "        friends+=1\n",
      "    if board[j-1,i].rgb == (200,200,200):\n",
      "        neighbors -=1\n",
      "    return friends,neighbors\n",
      "    \n",
      "def Neighbors(board,y,x):\n",
      "    \"\"\"Determines the color of a given block and then counts the number of touching blocks, including diagonals.\"\"\"\n",
      "    if (((y == 0) or (y == board.height-1)) and ((x == 0) or (x == board.width-1))):\n",
      "        neighbors = 3\n",
      "    elif ((y == 0) or (y == board.height-1) or (x==0) or (x==board.width-1)):\n",
      "        neighbors = 5\n",
      "    else:\n",
      "        neighbors = 8\n",
      "    return neighbors    \n",
      "\n",
      "def ICantGetNo(SatisfactionThreshold,board,Width,Height):\n",
      "    \"\"\"Checks each piece of the board. If its satisfaction is below the threshold, it appends that piece to a list called\n",
      "    unsatisfied.\"\"\"\n",
      "    unsatisfied = []\n",
      "    for i in range(Width):\n",
      "        for j in range(Height):\n",
      "            friends = 0\n",
      "            color = board[j,i].rgb\n",
      "            if color == (200,200,200):\n",
      "                Satisfaction = 101\n",
      "            else:\n",
      "                neighbors = Neighbors(board,j,i)\n",
      "                if i != 0:\n",
      "                    friends,neighbors = Checkleft(board,j,i,color,friends,neighbors)\n",
      "                if i != Width-1:\n",
      "                    friends,neighbors = Checkright(board,j,i,color,friends,neighbors)\n",
      "                if j != 0:\n",
      "                    friends,neighbors = Checkup(board,j,i,color,friends,neighbors)\n",
      "                if j != Height-1:\n",
      "                    friends,neighbors = Checkdown(board,j,i,color,friends,neighbors)\n",
      "                if (i != 0 and j != 0):\n",
      "                    friends,neighbors = Checkupleft(board,j,i,color,friends,neighbors)\n",
      "                if (i != 0 and j != Height-1):\n",
      "                    friends,neighbors = Checkdownleft(board,j,i,color,friends,neighbors)\n",
      "                if (i != Width-1 and j != 0):\n",
      "                    friends,neighbors = Checkupright(board,j,i,color,friends,neighbors)\n",
      "                if (i != Width-1 and j != Height-1):\n",
      "                    friends,neighbors = Checkdownleft(board,j,i,color,friends,neighbors)\n",
      "                if neighbors == 0:\n",
      "                    Satisfaction = 0\n",
      "                else:\n",
      "                    Satisfaction = (float(friends)/neighbors)*100.\n",
      "            if Satisfaction < SatisfactionThreshold:\n",
      "                unsatisfied.append([j,i])\n",
      "    return unsatisfied"
     ],
     "language": "python",
     "metadata": {},
     "outputs": [],
     "prompt_number": 29
    },
    {
     "cell_type": "heading",
     "level": 3,
     "metadata": {},
     "source": [
      "Functions that work with the moving company"
     ]
    },
    {
     "cell_type": "code",
     "collapsed": false,
     "input": [
      "def TheIterator(Width=10,Height=10,PopulationDensity=80,RedBlue=50,SatisfactionThreshold=50,Iterations=10,TimeInterval=100):\n",
      "    Start = Initialboard(Width,Height,PopulationDensity,RedBlue,SatisfactionThreshold)\n",
      "    if PopulationDensity ==100:\n",
      "        print \"There are no spaces available to move too. Schelling Model complete.\"\n",
      "    else:\n",
      "        RollingStones = ICantGetNo(SatisfactionThreshold,Start,Width,Height)\n",
      "        for i in range(Iterations):\n",
      "            for i in range(len(RollingStones)):\n",
      "                Continue = 0\n",
      "                while Continue == 0:\n",
      "                    Continue = FindtoFill(Start, Width, Height,Start[RollingStones[i][0],RollingStones[i][1]].rgb)\n",
      "                Start[RollingStones[i][0],RollingStones[i][1]].rgb = (200,200,200)\n",
      "            RollingStones = ICantGetNo(SatisfactionThreshold,Start,Width,Height)\n",
      "    return Start.show()"
     ],
     "language": "python",
     "metadata": {},
     "outputs": [],
     "prompt_number": 144
    },
    {
     "cell_type": "heading",
     "level": 3,
     "metadata": {},
     "source": [
      "Button Functions"
     ]
    },
    {
     "cell_type": "code",
     "collapsed": false,
     "input": [
      "SchellingButton = widgets.ButtonWidget(description=\"Run Schelling Model\")\n",
      "display(SchellingButton)        \n",
      "def RunButton(Width=25,Height=25,PopulationDensity=80,RedBlue=50,SatisfactionThreshold=50,Iterations=10,TimeInterval=100):\n",
      "    Initialboard(Width,Height,PopulationDensity,RedBlue,SatisfactionThreshold).show()\n",
      "    SchellingButton=widgets.ButtonWidget(desciption=\"Run Schelling Model\")\n",
      "    SchellingButton.on_click(TheIterator(Width,Height,PopulationDensity,RedBlue,SatisfactionThreshold,Iterations,TimeInterval))\n",
      "\n",
      "def new_button(clicked):\n",
      "    button = widgets.ButtonWidget()\n",
      "    button.clicks = 0\n",
      "    clicked.clicks += 1\n",
      "    button.description = \"%d\" % clicked.clicks\n",
      "    display(button)\n",
      "    button.on_click(new_button)\n",
      "button = widgets.ButtonWidget(description = \"Start\")\n",
      "button.clicks = 0\n",
      "display(button)\n",
      "button.on_click(new_button)\n",
      "v1=interact(Width=(10,50),Height=(10,50),PopulationDensity=(0,100),RedBlue=(10,90),\n",
      "            SatisfactionThreshold=(10,90),Iterations=(1,250),TimeInterval=(10,250))\n",
      "def RunButton2(b):\n",
      "    return TheIterator(Width,Height,PopulationDensity,RedBlue,SatisfactionThreshold,Iterations,TimeInterval)\n",
      "\n",
      "SchellingButton.on_click(RunButton2)"
     ],
     "language": "python",
     "metadata": {},
     "outputs": [
      {
       "ename": "NameError",
       "evalue": "global name 'Width' is not defined",
       "output_type": "pyerr",
       "traceback": [
        "\u001b[1;31m---------------------------------------------------------------------------\u001b[0m\n\u001b[1;31mNameError\u001b[0m                                 Traceback (most recent call last)",
        "\u001b[1;32m<ipython-input-166-285cba8639de>\u001b[0m in \u001b[0;36mRunButton2\u001b[1;34m(b)\u001b[0m\n\u001b[0;32m     20\u001b[0m             SatisfactionThreshold=(10,90),Iterations=(1,250),TimeInterval=(10,250))\n\u001b[0;32m     21\u001b[0m \u001b[1;32mdef\u001b[0m \u001b[0mRunButton2\u001b[0m\u001b[1;33m(\u001b[0m\u001b[0mb\u001b[0m\u001b[1;33m)\u001b[0m\u001b[1;33m:\u001b[0m\u001b[1;33m\u001b[0m\u001b[0m\n\u001b[1;32m---> 22\u001b[1;33m     \u001b[1;32mreturn\u001b[0m \u001b[0mTheIterator\u001b[0m\u001b[1;33m(\u001b[0m\u001b[0mWidth\u001b[0m\u001b[1;33m,\u001b[0m\u001b[0mHeight\u001b[0m\u001b[1;33m,\u001b[0m\u001b[0mPopulationDensity\u001b[0m\u001b[1;33m,\u001b[0m\u001b[0mRedBlue\u001b[0m\u001b[1;33m,\u001b[0m\u001b[0mSatisfactionThreshold\u001b[0m\u001b[1;33m,\u001b[0m\u001b[0mIterations\u001b[0m\u001b[1;33m,\u001b[0m\u001b[0mTimeInterval\u001b[0m\u001b[1;33m)\u001b[0m\u001b[1;33m\u001b[0m\u001b[0m\n\u001b[0m\u001b[0;32m     23\u001b[0m \u001b[1;33m\u001b[0m\u001b[0m\n\u001b[0;32m     24\u001b[0m \u001b[0mSchellingButton\u001b[0m\u001b[1;33m.\u001b[0m\u001b[0mon_click\u001b[0m\u001b[1;33m(\u001b[0m\u001b[0mRunButton2\u001b[0m\u001b[1;33m)\u001b[0m\u001b[1;33m\u001b[0m\u001b[0m\n",
        "\u001b[1;31mNameError\u001b[0m: global name 'Width' is not defined"
       ]
      }
     ],
     "prompt_number": 166
    },
    {
     "cell_type": "code",
     "collapsed": false,
     "input": [
      "display(SchellingButton)\n",
      "v1=interact(TheIterator,Width=(10,50),Height=(10,50),PopulationDensity=(0,100),RedBlue=(10,90),\n",
      "            SatisfactionThreshold=(10,90),Iterations=(1,250),TimeInterval=(10,250)))\n",
      "v2=\n"
     ],
     "language": "python",
     "metadata": {},
     "outputs": [
      {
       "ename": "SyntaxError",
       "evalue": "invalid syntax (<ipython-input-155-8642ffd2f86a>, line 3)",
       "output_type": "pyerr",
       "traceback": [
        "\u001b[1;36m  File \u001b[1;32m\"<ipython-input-155-8642ffd2f86a>\"\u001b[1;36m, line \u001b[1;32m3\u001b[0m\n\u001b[1;33m    SatisfactionThreshold=(10,90),Iterations=(1,250),TimeInterval=(10,250)))\u001b[0m\n\u001b[1;37m                                                                           ^\u001b[0m\n\u001b[1;31mSyntaxError\u001b[0m\u001b[1;31m:\u001b[0m invalid syntax\n"
       ]
      }
     ],
     "prompt_number": 155
    },
    {
     "cell_type": "heading",
     "level": 2,
     "metadata": {},
     "source": [
      "The Schelling Model in Action"
     ]
    },
    {
     "cell_type": "code",
     "collapsed": false,
     "input": [
      "def new_button(clicked):\n",
      "    button = widgets.ButtonWidget()\n",
      "    button.clicks = 0\n",
      "    clicked.clicks += 1\n",
      "    button.description = \"%d\" % clicked.clicks\n",
      "    display(button)\n",
      "    button.on_click(new_button)\n",
      "button = widgets.ButtonWidget(description = \"Start\")\n",
      "button.clicks = 0\n",
      "display(button)\n",
      "button.on_click(new_button)\n",
      "    \n"
     ],
     "language": "python",
     "metadata": {},
     "outputs": [],
     "prompt_number": 81
    },
    {
     "cell_type": "code",
     "collapsed": false,
     "input": [
      "board = BlockGrid(2,2,fill=(100,100,100))\n",
      "display(board)\n",
      "type(board)"
     ],
     "language": "python",
     "metadata": {},
     "outputs": [
      {
       "html": [
        "<style type=\"text/css\">table.blockgrid {border: none;} .blockgrid tr {border: none;} .blockgrid td {padding: 0px;} #blocks60d1ad41-19e1-49c3-95c3-1755381c81a5 td {border: 1px solid white;}</style><table id=\"blocks60d1ad41-19e1-49c3-95c3-1755381c81a5\" class=\"blockgrid\"><tbody><tr><td title=\"Index: [0, 0]&#10;Color: (100, 100, 100)\" style=\"width: 20px; height: 20px;background-color: rgb(100, 100, 100);\"></td><td title=\"Index: [0, 1]&#10;Color: (100, 100, 100)\" style=\"width: 20px; height: 20px;background-color: rgb(100, 100, 100);\"></td></tr><tr><td title=\"Index: [1, 0]&#10;Color: (100, 100, 100)\" style=\"width: 20px; height: 20px;background-color: rgb(100, 100, 100);\"></td><td title=\"Index: [1, 1]&#10;Color: (100, 100, 100)\" style=\"width: 20px; height: 20px;background-color: rgb(100, 100, 100);\"></td></tr></tbody></table>"
       ],
       "metadata": {},
       "output_type": "display_data",
       "text": [
        "<ipythonblocks.ipythonblocks.BlockGrid at 0x4c649b0>"
       ]
      },
      {
       "metadata": {},
       "output_type": "pyout",
       "prompt_number": 9,
       "text": [
        "ipythonblocks.ipythonblocks.BlockGrid"
       ]
      }
     ],
     "prompt_number": 9
    },
    {
     "cell_type": "code",
     "collapsed": false,
     "input": [],
     "language": "python",
     "metadata": {},
     "outputs": []
    }
   ],
   "metadata": {}
  }
 ]
}