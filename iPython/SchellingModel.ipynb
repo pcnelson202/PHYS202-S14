{
 "metadata": {
  "name": "",
  "signature": "sha256:bebfcc81b355df92809676e6d649f593fb7886934cffe39489b1a0dff2a4d7df"
 },
 "nbformat": 3,
 "nbformat_minor": 0,
 "worksheets": [
  {
   "cells": [
    {
     "cell_type": "heading",
     "level": 1,
     "metadata": {},
     "source": [
      "Schelling Model"
     ]
    },
    {
     "cell_type": "code",
     "collapsed": false,
     "input": [
      "import numpy as np\n",
      "from ipythonblocks import BlockGrid\n",
      "from ipythonblocks import colors\n",
      "from IPython.html.widgets import interact,interactive"
     ],
     "language": "python",
     "metadata": {},
     "outputs": [],
     "prompt_number": 1
    },
    {
     "cell_type": "heading",
     "level": 3,
     "metadata": {},
     "source": [
      "User Interface Pieces"
     ]
    },
    {
     "cell_type": "markdown",
     "metadata": {},
     "source": [
      "Possible widgets\n",
      "\n",
      "* Board height/width **Check!**\n",
      "* Population Density **Check!**\n",
      "* Red vs. Blue percentage **Check!**\n",
      "* Similarity satisfaction **Check!**\n",
      "* Time interval for how often an iteration is run **Check!**\n",
      "* How many iterations are run **Check!**\n",
      "* Buttons! Possibly a button to start the iteration procecss, or a button to generate a new initial board.\n",
      "* If there is time, create other widgets, to make color of the empty spaces changeable (r,g,b widget), as well as 3 widgets for r,g, and b of the \"red\" and \"blue\" population."
     ]
    },
    {
     "cell_type": "heading",
     "level": 3,
     "metadata": {},
     "source": [
      "Thought Process/Logic"
     ]
    },
    {
     "cell_type": "markdown",
     "metadata": {},
     "source": [
      "*Steps for creating a randomly generated board*\n",
      "\n",
      "1. Create a blank board with a specified height and width. **Check!**\n",
      "2. Find the amount of spaces that should be red, find the amount of spaces that should be blue. **Check!** \n",
      "3. Pick a random spot; if it is not red, make it red until there are as many red spaces as there should be. **Check!**\n",
      "4. Pick a random spot; if it is not red and it is not blue, make it blue, until there are as many blue spaces as there should be. **Check!**\n",
      "5. Show the board. **Check!**\n",
      "\n",
      "\n",
      "*For a functioning Schelling Model*\n",
      "\n",
      "1. Write an x and y for loop. It should check whether the block is red or blue. If it is, check its satisfaction rating. **Check!**\n",
      "2. Create a blank array, then form an array of pieces of the grid that have a satisfaction rating below the threshold. **Check!**\n",
      "3. In order, find a random open spot for each of the unsatisfied pieces. \n",
      "4. Have steps 1-3 repeat themselves for the specified number of iterations."
     ]
    },
    {
     "cell_type": "heading",
     "level": 3,
     "metadata": {},
     "source": [
      "Necessary Functions"
     ]
    },
    {
     "cell_type": "markdown",
     "metadata": {},
     "source": [
      "Functions for creating the board\n",
      "\n",
      "* An overarching function that incorporates all the following: (InitialBoard)\n",
      "* A function that makes a board based off adjustable Height/Width (BlankBoard)\n",
      "* A function that finds the amount of squares that should be red and the amount that should be blue. (AmountCalculator)\n",
      "* A function that finds a space that is \"unpopulated\" (FindtoFill)\n",
      "\n",
      "Functions for running the Model\n",
      "\n",
      "* An overaching function that incorporates all the following: (SchellingModel)\n",
      "* A function that checks satisfaction rating including data of edges and corners (ICantGetNo)\n",
      "* The same function as above that finds an unpopulated space\n"
     ]
    },
    {
     "cell_type": "heading",
     "level": 1,
     "metadata": {},
     "source": [
      "Functions"
     ]
    },
    {
     "cell_type": "code",
     "collapsed": false,
     "input": [],
     "language": "python",
     "metadata": {},
     "outputs": [],
     "prompt_number": 1
    },
    {
     "cell_type": "heading",
     "level": 3,
     "metadata": {},
     "source": [
      "Functions for selling real estate"
     ]
    },
    {
     "cell_type": "code",
     "collapsed": false,
     "input": [
      "def BlankBoard(Width=25,Height=25):\n",
      "    \"\"\"Creates a blank white board with given width and height values.\"\"\"\n",
      "    board = BlockGrid(Width,Height,fill=(200,200,200))\n",
      "    return board, Width, Height\n",
      "\n",
      "def AmountCalculator(Width=25,Height=25,PopulationDensity=80,RedBlue=50):\n",
      "    \"\"\"Based off of Width, Height, Population Density, and Red/Blue percentages, calculates the amount of spots \n",
      "    that should be red and the amount of spots that should be blue.\"\"\"\n",
      "    AmountRed = int((PopulationDensity/100.)*((float(Height))*Width)*(RedBlue/100.))\n",
      "    AmountBlue = int((PopulationDensity/100.)*((float(Height))*Width)*((100-RedBlue)/100.))\n",
      "    return AmountRed, AmountBlue\n",
      "    \n",
      "def FindtoFill(board, Width, Height, color):\n",
      "    \"\"\"Generates random points on the board until it finds a blank one.\"\"\" #Come back to this function.  \n",
      "    tally = 0\n",
      "    x = np.random.randint(0,Width)\n",
      "    y = np.random.randint(0,Height)\n",
      "    if (board[y,x].rgb != (0,0,255)) and (board[y,x].rgb != (255,0,0)):\n",
      "        board[y,x] = color\n",
      "        tally += 1\n",
      "    return tally\n",
      "\n",
      "def Initialboard(Width,Height,PopulationDensity,RedBlue,SatisfactionThreshold):\n",
      "    \"\"\"Creates a board that is ready to run iterations for a Schelling Model.\"\"\"\n",
      "    RED = (255,0,0)\n",
      "    BLUE = (0,0,255)\n",
      "    board, Width, Height = BlankBoard(Width,Height)\n",
      "    AmountRed, AmountBlue = AmountCalculator(Width,Height,PopulationDensity,RedBlue)\n",
      "    redtally = 0\n",
      "    bluetally = 0\n",
      "    while redtally < AmountRed:\n",
      "        tally = FindtoFill(board, Width, Height, RED)\n",
      "        if tally == 1:\n",
      "            redtally += 1\n",
      "    while bluetally < AmountBlue:\n",
      "        tally = FindtoFill(board, Width, Height, BLUE)\n",
      "        if tally == 1:\n",
      "            bluetally += 1\n",
      "    return board"
     ],
     "language": "python",
     "metadata": {},
     "outputs": [],
     "prompt_number": 2
    },
    {
     "cell_type": "heading",
     "level": 3,
     "metadata": {},
     "source": [
      "Functions for finding unsatisfied residents"
     ]
    },
    {
     "cell_type": "code",
     "collapsed": false,
     "input": [
      "def Checkup(board,j,i,color,friends):\n",
      "    if board[j-1,i].rgb == color:\n",
      "        friends+=1\n",
      "    return friends\n",
      "\n",
      "def Checkupright(board,j,i,color,friends):\n",
      "    if board[j-1,i+1].rgb == color:\n",
      "        friends+=1\n",
      "    return friends\n",
      "\n",
      "def Checkupleft(board,j,i,color,friends):\n",
      "    if board[j-1,i-1].rgb == color:\n",
      "        friends+=1\n",
      "    return friends\n",
      "\n",
      "def Checkleft(board,j,i,color,friends):\n",
      "    if board[j,i-1].rgb == color:\n",
      "        friends+=1\n",
      "    return friends\n",
      "\n",
      "def Checkdownleft(board,j,i,color,friends):\n",
      "    if board[j+1,i-1].rgb == color:\n",
      "        friends+=1\n",
      "    return friends\n",
      "\n",
      "def Checkdown(board,j,i,color,friends):\n",
      "    if board[j+1,i].rgb == color:\n",
      "        friends+=1\n",
      "    return friends\n",
      "\n",
      "def Checkdownright(board,j,i,color,friends):\n",
      "    if board[j+1,i+1].rgb == color:\n",
      "        friends+=1\n",
      "    return friends\n",
      "\n",
      "def Checkright(board,j,i,color,friends):\n",
      "    if board[j,i+1].rgb == color:\n",
      "        friends+=1\n",
      "    return friends\n",
      "    \n",
      "def Neighbors(board,y,x):\n",
      "    \"\"\"Determines the color of a given block and then counts the number of touching blocks, including diagonals.\"\"\"\n",
      "    if (((y == 0) or (y == board.height-1)) and ((x == 0) or (x == board.width-1))):\n",
      "        neighbors = 3\n",
      "    elif ((y == 0) or (y == board.height-1) or (x==0) or (x==board.width-1)):\n",
      "        neighbors = 5\n",
      "    else:\n",
      "        neighbors = 8\n",
      "    return neighbors    \n",
      "\n",
      "def ICantGetNo(SatisfactionThreshold,board,Width,Height):\n",
      "    \"\"\"Checks each piece of the board. If its satisfaction is below the threshold, it appends that piece to a list called\n",
      "    unsatisfied.\"\"\"\n",
      "    unsatisfied = []\n",
      "    for i in range(Width):\n",
      "        for j in range(Height):\n",
      "            friends = 0\n",
      "            color = board[j,i].rgb\n",
      "            neighbors = Neighbors(board,j,i)\n",
      "            if color == (200,200,200):\n",
      "                Satisfaction = 101\n",
      "            else:\n",
      "                if i != 0:\n",
      "                    friends = Checkleft(board,j,i,color,friends)\n",
      "                if i != Width-1:\n",
      "                    friends = Checkright(board,j,i,color,friends)\n",
      "                if j != 0:\n",
      "                    friends = Checkup(board,j,i,color,friends)\n",
      "                if j != Height-1:\n",
      "                    friends = Checkdown(board,j,i,color,friends)\n",
      "                if (i != 0 and j != 0):\n",
      "                    friends = Checkupleft(board,j,i,color,friends)\n",
      "                if (i != 0 and j != Height-1):\n",
      "                    friends = Checkdownleft(board,j,i,color,friends)\n",
      "                if (i != Width-1 and j != 0):\n",
      "                    friends = Checkupright(board,j,i,color,friends)\n",
      "                if (i != Width-1 and j != Height-1):\n",
      "                    friends = Checkdownleft(board,j,i,color,friends)\n",
      "                Satisfaction = (float(friends)/neighbors)*100.\n",
      "            if Satisfaction < SatisfactionThreshold:\n",
      "                unsatisfied.append([j,i])\n",
      "    return unsatisfied"
     ],
     "language": "python",
     "metadata": {},
     "outputs": [],
     "prompt_number": 3
    },
    {
     "cell_type": "heading",
     "level": 3,
     "metadata": {},
     "source": [
      "Functions that work with the moving company"
     ]
    },
    {
     "cell_type": "code",
     "collapsed": false,
     "input": [
      "def TheIterator(Width=10,Height=10,PopulationDensity=80,RedBlue=50,SatisfactionThreshold=50,Iterations=10,TimeInterval=100):\n",
      "    Start = Initialboard(Width,Height,PopulationDensity,RedBlue,SatisfactionThreshold)\n",
      "    RollingStones = ICantGetNo(SatisfactionThreshold,Start,Width,Height)\n",
      "    for i in range(Iterations):\n",
      "        for i in range(len(RollingStones)):\n",
      "            Continue = 0\n",
      "            while Continue == 0:\n",
      "                Continue = FindtoFill(Start, Width, Height,Start[RollingStones[i][0],RollingStones[i][1]].rgb)\n",
      "            Start[RollingStones[i][0],RollingStones[i][1]].rgb = (200,200,200)\n",
      "        RollingStones = ICantGetNo(SatisfactionThreshold,Start,Width,Height)\n",
      "    return Start.show()"
     ],
     "language": "python",
     "metadata": {},
     "outputs": [],
     "prompt_number": 4
    },
    {
     "cell_type": "heading",
     "level": 2,
     "metadata": {},
     "source": [
      "The Schelling Model in Action"
     ]
    },
    {
     "cell_type": "code",
     "collapsed": false,
     "input": [
      "v2 = interact(TheIterator,Width=(10,50),Height=(10,50),PopulationDensity=(0,100),RedBlue=(10,90),SatisfactionThreshold=(10,90)\n",
      "              ,Iterations=(1,250),TimeInterval=100)"
     ],
     "language": "python",
     "metadata": {},
     "outputs": [
      {
       "html": [
        "<style type=\"text/css\">table.blockgrid {border: none;} .blockgrid tr {border: none;} .blockgrid td {padding: 0px;} #blocks5807a7ab-c493-46dd-b657-0d08a4a71ea7 td {border: 1px solid white;}</style><table id=\"blocks5807a7ab-c493-46dd-b657-0d08a4a71ea7\" class=\"blockgrid\"><tbody><tr><td title=\"Index: [0, 0]&#10;Color: (0, 0, 255)\" style=\"width: 20px; height: 20px;background-color: rgb(0, 0, 255);\"></td><td title=\"Index: [0, 1]&#10;Color: (0, 0, 255)\" style=\"width: 20px; height: 20px;background-color: rgb(0, 0, 255);\"></td><td title=\"Index: [0, 2]&#10;Color: (255, 0, 0)\" style=\"width: 20px; height: 20px;background-color: rgb(255, 0, 0);\"></td><td title=\"Index: [0, 3]&#10;Color: (255, 0, 0)\" style=\"width: 20px; height: 20px;background-color: rgb(255, 0, 0);\"></td><td title=\"Index: [0, 4]&#10;Color: (200, 200, 200)\" style=\"width: 20px; height: 20px;background-color: rgb(200, 200, 200);\"></td><td title=\"Index: [0, 5]&#10;Color: (200, 200, 200)\" style=\"width: 20px; height: 20px;background-color: rgb(200, 200, 200);\"></td><td title=\"Index: [0, 6]&#10;Color: (255, 0, 0)\" style=\"width: 20px; height: 20px;background-color: rgb(255, 0, 0);\"></td><td title=\"Index: [0, 7]&#10;Color: (255, 0, 0)\" style=\"width: 20px; height: 20px;background-color: rgb(255, 0, 0);\"></td><td title=\"Index: [0, 8]&#10;Color: (255, 0, 0)\" style=\"width: 20px; height: 20px;background-color: rgb(255, 0, 0);\"></td><td title=\"Index: [0, 9]&#10;Color: (200, 200, 200)\" style=\"width: 20px; height: 20px;background-color: rgb(200, 200, 200);\"></td></tr><tr><td title=\"Index: [1, 0]&#10;Color: (0, 0, 255)\" style=\"width: 20px; height: 20px;background-color: rgb(0, 0, 255);\"></td><td title=\"Index: [1, 1]&#10;Color: (255, 0, 0)\" style=\"width: 20px; height: 20px;background-color: rgb(255, 0, 0);\"></td><td title=\"Index: [1, 2]&#10;Color: (255, 0, 0)\" style=\"width: 20px; height: 20px;background-color: rgb(255, 0, 0);\"></td><td title=\"Index: [1, 3]&#10;Color: (255, 0, 0)\" style=\"width: 20px; height: 20px;background-color: rgb(255, 0, 0);\"></td><td title=\"Index: [1, 4]&#10;Color: (200, 200, 200)\" style=\"width: 20px; height: 20px;background-color: rgb(200, 200, 200);\"></td><td title=\"Index: [1, 5]&#10;Color: (255, 0, 0)\" style=\"width: 20px; height: 20px;background-color: rgb(255, 0, 0);\"></td><td title=\"Index: [1, 6]&#10;Color: (255, 0, 0)\" style=\"width: 20px; height: 20px;background-color: rgb(255, 0, 0);\"></td><td title=\"Index: [1, 7]&#10;Color: (255, 0, 0)\" style=\"width: 20px; height: 20px;background-color: rgb(255, 0, 0);\"></td><td title=\"Index: [1, 8]&#10;Color: (200, 200, 200)\" style=\"width: 20px; height: 20px;background-color: rgb(200, 200, 200);\"></td><td title=\"Index: [1, 9]&#10;Color: (255, 0, 0)\" style=\"width: 20px; height: 20px;background-color: rgb(255, 0, 0);\"></td></tr><tr><td title=\"Index: [2, 0]&#10;Color: (255, 0, 0)\" style=\"width: 20px; height: 20px;background-color: rgb(255, 0, 0);\"></td><td title=\"Index: [2, 1]&#10;Color: (255, 0, 0)\" style=\"width: 20px; height: 20px;background-color: rgb(255, 0, 0);\"></td><td title=\"Index: [2, 2]&#10;Color: (255, 0, 0)\" style=\"width: 20px; height: 20px;background-color: rgb(255, 0, 0);\"></td><td title=\"Index: [2, 3]&#10;Color: (255, 0, 0)\" style=\"width: 20px; height: 20px;background-color: rgb(255, 0, 0);\"></td><td title=\"Index: [2, 4]&#10;Color: (200, 200, 200)\" style=\"width: 20px; height: 20px;background-color: rgb(200, 200, 200);\"></td><td title=\"Index: [2, 5]&#10;Color: (255, 0, 0)\" style=\"width: 20px; height: 20px;background-color: rgb(255, 0, 0);\"></td><td title=\"Index: [2, 6]&#10;Color: (255, 0, 0)\" style=\"width: 20px; height: 20px;background-color: rgb(255, 0, 0);\"></td><td title=\"Index: [2, 7]&#10;Color: (200, 200, 200)\" style=\"width: 20px; height: 20px;background-color: rgb(200, 200, 200);\"></td><td title=\"Index: [2, 8]&#10;Color: (200, 200, 200)\" style=\"width: 20px; height: 20px;background-color: rgb(200, 200, 200);\"></td><td title=\"Index: [2, 9]&#10;Color: (255, 0, 0)\" style=\"width: 20px; height: 20px;background-color: rgb(255, 0, 0);\"></td></tr><tr><td title=\"Index: [3, 0]&#10;Color: (200, 200, 200)\" style=\"width: 20px; height: 20px;background-color: rgb(200, 200, 200);\"></td><td title=\"Index: [3, 1]&#10;Color: (255, 0, 0)\" style=\"width: 20px; height: 20px;background-color: rgb(255, 0, 0);\"></td><td title=\"Index: [3, 2]&#10;Color: (255, 0, 0)\" style=\"width: 20px; height: 20px;background-color: rgb(255, 0, 0);\"></td><td title=\"Index: [3, 3]&#10;Color: (200, 200, 200)\" style=\"width: 20px; height: 20px;background-color: rgb(200, 200, 200);\"></td><td title=\"Index: [3, 4]&#10;Color: (200, 200, 200)\" style=\"width: 20px; height: 20px;background-color: rgb(200, 200, 200);\"></td><td title=\"Index: [3, 5]&#10;Color: (200, 200, 200)\" style=\"width: 20px; height: 20px;background-color: rgb(200, 200, 200);\"></td><td title=\"Index: [3, 6]&#10;Color: (200, 200, 200)\" style=\"width: 20px; height: 20px;background-color: rgb(200, 200, 200);\"></td><td title=\"Index: [3, 7]&#10;Color: (255, 0, 0)\" style=\"width: 20px; height: 20px;background-color: rgb(255, 0, 0);\"></td><td title=\"Index: [3, 8]&#10;Color: (255, 0, 0)\" style=\"width: 20px; height: 20px;background-color: rgb(255, 0, 0);\"></td><td title=\"Index: [3, 9]&#10;Color: (255, 0, 0)\" style=\"width: 20px; height: 20px;background-color: rgb(255, 0, 0);\"></td></tr><tr><td title=\"Index: [4, 0]&#10;Color: (200, 200, 200)\" style=\"width: 20px; height: 20px;background-color: rgb(200, 200, 200);\"></td><td title=\"Index: [4, 1]&#10;Color: (255, 0, 0)\" style=\"width: 20px; height: 20px;background-color: rgb(255, 0, 0);\"></td><td title=\"Index: [4, 2]&#10;Color: (255, 0, 0)\" style=\"width: 20px; height: 20px;background-color: rgb(255, 0, 0);\"></td><td title=\"Index: [4, 3]&#10;Color: (255, 0, 0)\" style=\"width: 20px; height: 20px;background-color: rgb(255, 0, 0);\"></td><td title=\"Index: [4, 4]&#10;Color: (0, 0, 255)\" style=\"width: 20px; height: 20px;background-color: rgb(0, 0, 255);\"></td><td title=\"Index: [4, 5]&#10;Color: (200, 200, 200)\" style=\"width: 20px; height: 20px;background-color: rgb(200, 200, 200);\"></td><td title=\"Index: [4, 6]&#10;Color: (200, 200, 200)\" style=\"width: 20px; height: 20px;background-color: rgb(200, 200, 200);\"></td><td title=\"Index: [4, 7]&#10;Color: (255, 0, 0)\" style=\"width: 20px; height: 20px;background-color: rgb(255, 0, 0);\"></td><td title=\"Index: [4, 8]&#10;Color: (255, 0, 0)\" style=\"width: 20px; height: 20px;background-color: rgb(255, 0, 0);\"></td><td title=\"Index: [4, 9]&#10;Color: (255, 0, 0)\" style=\"width: 20px; height: 20px;background-color: rgb(255, 0, 0);\"></td></tr><tr><td title=\"Index: [5, 0]&#10;Color: (255, 0, 0)\" style=\"width: 20px; height: 20px;background-color: rgb(255, 0, 0);\"></td><td title=\"Index: [5, 1]&#10;Color: (255, 0, 0)\" style=\"width: 20px; height: 20px;background-color: rgb(255, 0, 0);\"></td><td title=\"Index: [5, 2]&#10;Color: (255, 0, 0)\" style=\"width: 20px; height: 20px;background-color: rgb(255, 0, 0);\"></td><td title=\"Index: [5, 3]&#10;Color: (0, 0, 255)\" style=\"width: 20px; height: 20px;background-color: rgb(0, 0, 255);\"></td><td title=\"Index: [5, 4]&#10;Color: (0, 0, 255)\" style=\"width: 20px; height: 20px;background-color: rgb(0, 0, 255);\"></td><td title=\"Index: [5, 5]&#10;Color: (0, 0, 255)\" style=\"width: 20px; height: 20px;background-color: rgb(0, 0, 255);\"></td><td title=\"Index: [5, 6]&#10;Color: (200, 200, 200)\" style=\"width: 20px; height: 20px;background-color: rgb(200, 200, 200);\"></td><td title=\"Index: [5, 7]&#10;Color: (255, 0, 0)\" style=\"width: 20px; height: 20px;background-color: rgb(255, 0, 0);\"></td><td title=\"Index: [5, 8]&#10;Color: (255, 0, 0)\" style=\"width: 20px; height: 20px;background-color: rgb(255, 0, 0);\"></td><td title=\"Index: [5, 9]&#10;Color: (255, 0, 0)\" style=\"width: 20px; height: 20px;background-color: rgb(255, 0, 0);\"></td></tr><tr><td title=\"Index: [6, 0]&#10;Color: (200, 200, 200)\" style=\"width: 20px; height: 20px;background-color: rgb(200, 200, 200);\"></td><td title=\"Index: [6, 1]&#10;Color: (255, 0, 0)\" style=\"width: 20px; height: 20px;background-color: rgb(255, 0, 0);\"></td><td title=\"Index: [6, 2]&#10;Color: (0, 0, 255)\" style=\"width: 20px; height: 20px;background-color: rgb(0, 0, 255);\"></td><td title=\"Index: [6, 3]&#10;Color: (0, 0, 255)\" style=\"width: 20px; height: 20px;background-color: rgb(0, 0, 255);\"></td><td title=\"Index: [6, 4]&#10;Color: (0, 0, 255)\" style=\"width: 20px; height: 20px;background-color: rgb(0, 0, 255);\"></td><td title=\"Index: [6, 5]&#10;Color: (0, 0, 255)\" style=\"width: 20px; height: 20px;background-color: rgb(0, 0, 255);\"></td><td title=\"Index: [6, 6]&#10;Color: (0, 0, 255)\" style=\"width: 20px; height: 20px;background-color: rgb(0, 0, 255);\"></td><td title=\"Index: [6, 7]&#10;Color: (0, 0, 255)\" style=\"width: 20px; height: 20px;background-color: rgb(0, 0, 255);\"></td><td title=\"Index: [6, 8]&#10;Color: (0, 0, 255)\" style=\"width: 20px; height: 20px;background-color: rgb(0, 0, 255);\"></td><td title=\"Index: [6, 9]&#10;Color: (0, 0, 255)\" style=\"width: 20px; height: 20px;background-color: rgb(0, 0, 255);\"></td></tr><tr><td title=\"Index: [7, 0]&#10;Color: (0, 0, 255)\" style=\"width: 20px; height: 20px;background-color: rgb(0, 0, 255);\"></td><td title=\"Index: [7, 1]&#10;Color: (0, 0, 255)\" style=\"width: 20px; height: 20px;background-color: rgb(0, 0, 255);\"></td><td title=\"Index: [7, 2]&#10;Color: (0, 0, 255)\" style=\"width: 20px; height: 20px;background-color: rgb(0, 0, 255);\"></td><td title=\"Index: [7, 3]&#10;Color: (0, 0, 255)\" style=\"width: 20px; height: 20px;background-color: rgb(0, 0, 255);\"></td><td title=\"Index: [7, 4]&#10;Color: (0, 0, 255)\" style=\"width: 20px; height: 20px;background-color: rgb(0, 0, 255);\"></td><td title=\"Index: [7, 5]&#10;Color: (0, 0, 255)\" style=\"width: 20px; height: 20px;background-color: rgb(0, 0, 255);\"></td><td title=\"Index: [7, 6]&#10;Color: (0, 0, 255)\" style=\"width: 20px; height: 20px;background-color: rgb(0, 0, 255);\"></td><td title=\"Index: [7, 7]&#10;Color: (0, 0, 255)\" style=\"width: 20px; height: 20px;background-color: rgb(0, 0, 255);\"></td><td title=\"Index: [7, 8]&#10;Color: (0, 0, 255)\" style=\"width: 20px; height: 20px;background-color: rgb(0, 0, 255);\"></td><td title=\"Index: [7, 9]&#10;Color: (200, 200, 200)\" style=\"width: 20px; height: 20px;background-color: rgb(200, 200, 200);\"></td></tr><tr><td title=\"Index: [8, 0]&#10;Color: (0, 0, 255)\" style=\"width: 20px; height: 20px;background-color: rgb(0, 0, 255);\"></td><td title=\"Index: [8, 1]&#10;Color: (0, 0, 255)\" style=\"width: 20px; height: 20px;background-color: rgb(0, 0, 255);\"></td><td title=\"Index: [8, 2]&#10;Color: (0, 0, 255)\" style=\"width: 20px; height: 20px;background-color: rgb(0, 0, 255);\"></td><td title=\"Index: [8, 3]&#10;Color: (0, 0, 255)\" style=\"width: 20px; height: 20px;background-color: rgb(0, 0, 255);\"></td><td title=\"Index: [8, 4]&#10;Color: (255, 0, 0)\" style=\"width: 20px; height: 20px;background-color: rgb(255, 0, 0);\"></td><td title=\"Index: [8, 5]&#10;Color: (0, 0, 255)\" style=\"width: 20px; height: 20px;background-color: rgb(0, 0, 255);\"></td><td title=\"Index: [8, 6]&#10;Color: (0, 0, 255)\" style=\"width: 20px; height: 20px;background-color: rgb(0, 0, 255);\"></td><td title=\"Index: [8, 7]&#10;Color: (200, 200, 200)\" style=\"width: 20px; height: 20px;background-color: rgb(200, 200, 200);\"></td><td title=\"Index: [8, 8]&#10;Color: (0, 0, 255)\" style=\"width: 20px; height: 20px;background-color: rgb(0, 0, 255);\"></td><td title=\"Index: [8, 9]&#10;Color: (0, 0, 255)\" style=\"width: 20px; height: 20px;background-color: rgb(0, 0, 255);\"></td></tr><tr><td title=\"Index: [9, 0]&#10;Color: (0, 0, 255)\" style=\"width: 20px; height: 20px;background-color: rgb(0, 0, 255);\"></td><td title=\"Index: [9, 1]&#10;Color: (0, 0, 255)\" style=\"width: 20px; height: 20px;background-color: rgb(0, 0, 255);\"></td><td title=\"Index: [9, 2]&#10;Color: (0, 0, 255)\" style=\"width: 20px; height: 20px;background-color: rgb(0, 0, 255);\"></td><td title=\"Index: [9, 3]&#10;Color: (255, 0, 0)\" style=\"width: 20px; height: 20px;background-color: rgb(255, 0, 0);\"></td><td title=\"Index: [9, 4]&#10;Color: (255, 0, 0)\" style=\"width: 20px; height: 20px;background-color: rgb(255, 0, 0);\"></td><td title=\"Index: [9, 5]&#10;Color: (0, 0, 255)\" style=\"width: 20px; height: 20px;background-color: rgb(0, 0, 255);\"></td><td title=\"Index: [9, 6]&#10;Color: (0, 0, 255)\" style=\"width: 20px; height: 20px;background-color: rgb(0, 0, 255);\"></td><td title=\"Index: [9, 7]&#10;Color: (0, 0, 255)\" style=\"width: 20px; height: 20px;background-color: rgb(0, 0, 255);\"></td><td title=\"Index: [9, 8]&#10;Color: (0, 0, 255)\" style=\"width: 20px; height: 20px;background-color: rgb(0, 0, 255);\"></td><td title=\"Index: [9, 9]&#10;Color: (0, 0, 255)\" style=\"width: 20px; height: 20px;background-color: rgb(0, 0, 255);\"></td></tr></tbody></table>"
       ],
       "metadata": {},
       "output_type": "display_data",
       "text": [
        "<IPython.core.display.HTML at 0x4c69930>"
       ]
      }
     ],
     "prompt_number": 5
    },
    {
     "cell_type": "code",
     "collapsed": false,
     "input": [],
     "language": "python",
     "metadata": {},
     "outputs": [],
     "prompt_number": 5
    }
   ],
   "metadata": {}
  }
 ]
}