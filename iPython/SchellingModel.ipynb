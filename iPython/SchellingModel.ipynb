{
 "metadata": {
  "name": "",
  "signature": "sha256:bedf22f95370c3cefd9f3e9c21706e4eae057599da72111549dc0b73b6709d55"
 },
 "nbformat": 3,
 "nbformat_minor": 0,
 "worksheets": [
  {
   "cells": [
    {
     "cell_type": "heading",
     "level": 1,
     "metadata": {},
     "source": [
      "Schelling Model"
     ]
    },
    {
     "cell_type": "code",
     "collapsed": false,
     "input": [
      "import numpy as np\n",
      "import time\n",
      "from ipythonblocks import BlockGrid\n",
      "from ipythonblocks import colors\n",
      "from IPython.html import widgets\n",
      "from IPython.display import display\n",
      "from IPython.html.widgets import interact,interactive"
     ],
     "language": "python",
     "metadata": {},
     "outputs": [],
     "prompt_number": 6
    },
    {
     "cell_type": "heading",
     "level": 3,
     "metadata": {},
     "source": [
      "User Interface Pieces"
     ]
    },
    {
     "cell_type": "markdown",
     "metadata": {},
     "source": [
      "Possible widgets\n",
      "\n",
      "* Board height/width **Check!**\n",
      "* Population Density **Check!**\n",
      "* Red vs. Blue percentage **Check!**\n",
      "* Similarity satisfaction **Check!**\n",
      "* Time interval for how often an iteration is run\n",
      "* How many iterations are run **Check!**\n",
      "* Buttons! Possibly a button to start the iteration procecss, or a button to generate a new initial board.\n",
      "* If there is time, create other widgets, to make color of the empty spaces changeable (r,g,b widget), as well as 3 widgets for r,g, and b of the \"red\" and \"blue\" population."
     ]
    },
    {
     "cell_type": "heading",
     "level": 3,
     "metadata": {},
     "source": [
      "Thought Process/Logic"
     ]
    },
    {
     "cell_type": "markdown",
     "metadata": {},
     "source": [
      "*Steps for creating a randomly generated board*\n",
      "\n",
      "1. Create a blank board with a specified height and width. **Check!**\n",
      "2. Find the amount of spaces that should be red, find the amount of spaces that should be blue. **Check!** \n",
      "3. Pick a random spot; if it is not red, make it red until there are as many red spaces as there should be. **Check!**\n",
      "4. Pick a random spot; if it is not red and it is not blue, make it blue, until there are as many blue spaces as there should be. **Check!**\n",
      "5. Show the board. **Check!**\n",
      "\n",
      "\n",
      "*For a functioning Schelling Model*\n",
      "\n",
      "1. Write an x and y for loop. It should check whether the block is red or blue. If it is, check its satisfaction rating. **Check!**\n",
      "2. Create a blank array, then form an array of pieces of the grid that have a satisfaction rating below the threshold. **Check!**\n",
      "3. In order, find a random open spot for each of the unsatisfied pieces. **Check!**\n",
      "4. Have steps 1-3 repeat themselves for the specified number of iterations. **Check!**"
     ]
    },
    {
     "cell_type": "heading",
     "level": 3,
     "metadata": {},
     "source": [
      "Necessary Functions"
     ]
    },
    {
     "cell_type": "markdown",
     "metadata": {},
     "source": [
      "Functions for creating the board\n",
      "\n",
      "* An overarching function that incorporates all the following: (InitialBoard)\n",
      "* A function that makes a board based off adjustable Height/Width (BlankBoard)\n",
      "* A function that finds the amount of squares that should be red and the amount that should be blue. (AmountCalculator)\n",
      "* A function that finds a space that is \"unpopulated\" (FindtoFill)\n",
      "\n",
      "Functions for running the Model\n",
      "\n",
      "* An overaching function that incorporates all the following: (SchellingModel)\n",
      "* A function that checks satisfaction rating including data of edges and corners (ICantGetNo)\n",
      "* The same function as above that finds an unpopulated space\n",
      "* A function that pulls the value of the TimeInterval slider and uses it to slow down the model\n"
     ]
    },
    {
     "cell_type": "heading",
     "level": 1,
     "metadata": {},
     "source": [
      "Functions"
     ]
    },
    {
     "cell_type": "code",
     "collapsed": false,
     "input": [],
     "language": "python",
     "metadata": {},
     "outputs": [],
     "prompt_number": 6
    },
    {
     "cell_type": "heading",
     "level": 3,
     "metadata": {},
     "source": [
      "Functions for selling real estate"
     ]
    },
    {
     "cell_type": "code",
     "collapsed": false,
     "input": [
      "def BlankBoard(Width=25,Height=25):\n",
      "    \"\"\"Creates a blank white board with given width and height values.\"\"\"\n",
      "    board = BlockGrid(Width,Height,fill=(200,200,200))\n",
      "    return board, Width, Height\n",
      "\n",
      "def AmountCalculator(Width=25,Height=25,PopulationDensity=80,RedBlue=50):\n",
      "    \"\"\"Based off of Width, Height, Population Density, and Red/Blue percentages, calculates the amount of spots \n",
      "    that should be red and the amount of spots that should be blue.\"\"\"\n",
      "    AmountRed = int((PopulationDensity/100.)*((float(Height))*Width)*(RedBlue/100.))\n",
      "    AmountBlue = int((PopulationDensity/100.)*((float(Height))*Width)*((100-RedBlue)/100.))\n",
      "    return AmountRed, AmountBlue\n",
      "    \n",
      "def FindtoFill(board, Width, Height, color):\n",
      "    \"\"\"Generates random points on the board until it finds a blank one.\"\"\" #Come back to this function.  \n",
      "    tally = 0\n",
      "    attempts = 0\n",
      "    while tally == 0:\n",
      "        x = np.random.randint(0,Width)\n",
      "        y = np.random.randint(0,Height)\n",
      "        if (board[y,x].rgb != (0,0,255)) and (board[y,x].rgb != (255,0,0)):\n",
      "            board[y,x] = color\n",
      "            tally += 1\n",
      "    return tally\n",
      "\n",
      "def Initialboard(Width,Height,PopulationDensity,RedBlue,SatisfactionThreshold):\n",
      "    \"\"\"Creates a board that is ready to run iterations for a Schelling Model.\"\"\"\n",
      "    RED = (255,0,0)\n",
      "    BLUE = (0,0,255)\n",
      "    board, Width, Height = BlankBoard(Width,Height)\n",
      "    AmountRed, AmountBlue = AmountCalculator(Width,Height,PopulationDensity,RedBlue)\n",
      "    redtally = 0\n",
      "    bluetally = 0\n",
      "    while redtally < AmountRed:\n",
      "        tally = FindtoFill(board, Width, Height, RED)\n",
      "        if tally == 1:\n",
      "            redtally += 1\n",
      "    while bluetally < AmountBlue:\n",
      "        tally = FindtoFill(board, Width, Height, BLUE)\n",
      "        if tally == 1:\n",
      "            bluetally += 1\n",
      "    return board"
     ],
     "language": "python",
     "metadata": {},
     "outputs": [],
     "prompt_number": 7
    },
    {
     "cell_type": "heading",
     "level": 3,
     "metadata": {},
     "source": [
      "Functions for finding unsatisfied residents"
     ]
    },
    {
     "cell_type": "code",
     "collapsed": false,
     "input": [
      "def Checkup(board,j,i,color,friends):\n",
      "    if board[j-1,i].rgb == color:\n",
      "        friends+=1\n",
      "    return friends\n",
      "\n",
      "def Checkupright(board,j,i,color,friends):\n",
      "    if board[j-1,i+1].rgb == color:\n",
      "        friends+=1\n",
      "    return friends\n",
      "\n",
      "def Checkupleft(board,j,i,color,friends):\n",
      "    if board[j-1,i-1].rgb == color:\n",
      "        friends+=1\n",
      "    return friends\n",
      "\n",
      "def Checkleft(board,j,i,color,friends):\n",
      "    if board[j,i-1].rgb == color:\n",
      "        friends+=1\n",
      "    return friends\n",
      "\n",
      "def Checkdownleft(board,j,i,color,friends):\n",
      "    if board[j+1,i-1].rgb == color:\n",
      "        friends+=1\n",
      "    return friends\n",
      "\n",
      "def Checkdown(board,j,i,color,friends):\n",
      "    if board[j+1,i].rgb == color:\n",
      "        friends+=1\n",
      "    return friends\n",
      "\n",
      "def Checkdownright(board,j,i,color,friends):\n",
      "    if board[j+1,i+1].rgb == color:\n",
      "        friends+=1\n",
      "    return friends\n",
      "\n",
      "def Checkright(board,j,i,color,friends):\n",
      "    if board[j,i+1].rgb == color:\n",
      "        friends+=1\n",
      "    return friends\n",
      "    \n",
      "def Neighbors(board,y,x):\n",
      "    \"\"\"Determines the color of a given block and then counts the number of touching blocks, including diagonals.\"\"\"\n",
      "    if (((y == 0) or (y == board.height-1)) and ((x == 0) or (x == board.width-1))):\n",
      "        neighbors = 3\n",
      "    elif ((y == 0) or (y == board.height-1) or (x==0) or (x==board.width-1)):\n",
      "        neighbors = 5\n",
      "    else:\n",
      "        neighbors = 8\n",
      "    return neighbors    \n",
      "\n",
      "def ICantGetNo(SatisfactionThreshold,board,Width,Height):\n",
      "    \"\"\"Checks each piece of the board. If its satisfaction is below the threshold, it appends that piece to a list called\n",
      "    unsatisfied.\"\"\"\n",
      "    unsatisfied = []\n",
      "    for i in range(Width):\n",
      "        for j in range(Height):\n",
      "            friends = 0\n",
      "            color = board[j,i].rgb\n",
      "            neighbors = Neighbors(board,j,i)\n",
      "            if color == (200,200,200):\n",
      "                Satisfaction = 101\n",
      "            else:\n",
      "                if i != 0:\n",
      "                    friends = Checkleft(board,j,i,color,friends)\n",
      "                if i != Width-1:\n",
      "                    friends = Checkright(board,j,i,color,friends)\n",
      "                if j != 0:\n",
      "                    friends = Checkup(board,j,i,color,friends)\n",
      "                if j != Height-1:\n",
      "                    friends = Checkdown(board,j,i,color,friends)\n",
      "                if (i != 0 and j != 0):\n",
      "                    friends = Checkupleft(board,j,i,color,friends)\n",
      "                if (i != 0 and j != Height-1):\n",
      "                    friends = Checkdownleft(board,j,i,color,friends)\n",
      "                if (i != Width-1 and j != 0):\n",
      "                    friends = Checkupright(board,j,i,color,friends)\n",
      "                if (i != Width-1 and j != Height-1):\n",
      "                    friends = Checkdownleft(board,j,i,color,friends)\n",
      "                Satisfaction = (float(friends)/neighbors)*100.\n",
      "            if Satisfaction < SatisfactionThreshold:\n",
      "                unsatisfied.append([j,i])\n",
      "    return unsatisfied"
     ],
     "language": "python",
     "metadata": {},
     "outputs": [],
     "prompt_number": 8
    },
    {
     "cell_type": "heading",
     "level": 3,
     "metadata": {},
     "source": [
      "Functions that work with the moving company"
     ]
    },
    {
     "cell_type": "code",
     "collapsed": false,
     "input": [
      "def TheIterator(Width=10,Height=10,PopulationDensity=80,RedBlue=50,SatisfactionThreshold=50,Iterations=10,TimeInterval=100):\n",
      "    Start = Initialboard(Width,Height,PopulationDensity,RedBlue,SatisfactionThreshold)\n",
      "    if PopulationDensity ==100:\n",
      "        print \"There are no spaces available to move too. Schelling Model complete.\"\n",
      "    else:\n",
      "        RollingStones = ICantGetNo(SatisfactionThreshold,Start,Width,Height)\n",
      "        for i in range(Iterations):\n",
      "            for i in range(len(RollingStones)):\n",
      "                Continue = 0\n",
      "                while Continue == 0:\n",
      "                    Continue = FindtoFill(Start, Width, Height,Start[RollingStones[i][0],RollingStones[i][1]].rgb)\n",
      "                Start[RollingStones[i][0],RollingStones[i][1]].rgb = (200,200,200)\n",
      "            RollingStones = ICantGetNo(SatisfactionThreshold,Start,Width,Height)\n",
      "    return Start.show()"
     ],
     "language": "python",
     "metadata": {},
     "outputs": [],
     "prompt_number": 9
    },
    {
     "cell_type": "heading",
     "level": 3,
     "metadata": {},
     "source": [
      "Button Functions"
     ]
    },
    {
     "cell_type": "code",
     "collapsed": false,
     "input": [
      "Boardbutton = widgets.ButtonWidget(description=\"Generate Board\")\n",
      "SchellingButton = widgets.ButtonWidget(description=\"Run Schelling Model\")\n",
      "\n",
      "def SchellingWidgets(button1,button2,Width=25,Height=25,PopulationDensity=80,RedBlue=50,\n",
      "                     SatisfactionThreshold=50,Iterations=100,TimeInterval=100):\n",
      "    Start = button1.on_click(BoardGenerator(Width,Height,PopulationDensity,RedBlue,SatisfactionThreshold))\n",
      "    button2.on_click(IterationRunner(Start,Width,Height,PopulationDensity,SatisfactionThreshold,Iterations,TimeInterval)).show()\n",
      "    return\n",
      "    \n",
      "def IterationRunner(Start,Width,Height,PopulationDensity,SatisfactionThreshold,Iterations,TimeInterval):\n",
      "    if type(Start) != BlockGrid:\n",
      "        print \"You'll need a board to run the model. Try the other button.\"\n",
      "    if PopulationDensity ==100:\n",
      "        print \"There are no spaces available to move too. Schelling Model complete.\"\n",
      "    else:\n",
      "        RollingStones = ICantGetNo(SatisfactionThreshold,Start,Width,Height)\n",
      "        for i in range(Iterations):\n",
      "            for i in range(len(RollingStones)):\n",
      "                Continue = 0\n",
      "                while Continue == 0:\n",
      "                    Continue = FindtoFill(Start, Width, Height,Start[RollingStones[i][0],RollingStones[i][1]].rgb)\n",
      "                Start[RollingStones[i][0],RollingStones[i][1]].rgb = (200,200,200)\n",
      "            RollingStones = ICantGetNo(SatisfactionThreshold,Start,Width,Height)\n",
      "    return Start.show()\n",
      "\n",
      "def BoardGenerator(Width,Height,PopulationDensity,RedBlue,SatisfactionThreshold):\n",
      "    board = Initialboard(Width, Height,PopulationDensity,RedBlue,SatisfactionThreshold)\n",
      "    print \"Board generated.\"\n",
      "    SchellingButton = widgets.ButtonWidget(description=\"Run Schelling Model\")\n",
      "    display(SchellingButton)\n",
      "    return board"
     ],
     "language": "python",
     "metadata": {},
     "outputs": [],
     "prompt_number": 17
    },
    {
     "cell_type": "heading",
     "level": 2,
     "metadata": {},
     "source": [
      "The Schelling Model in Action"
     ]
    },
    {
     "cell_type": "code",
     "collapsed": false,
     "input": [
      "Boardbutton = widgets.ButtonWidget(description=\"Generate Board\")\n",
      "SchellingButton = widgets.ButtonWidget(description=\"Run Schelling Model\")\n",
      "\n",
      "v2 = interact(SchellingWidgets(Boardbutton,SchellingButton,Width=(10,50),Height=(10,50),PopulationDensity=(0,100),\n",
      "              RedBlue=(10,90),SatisfactionThreshold=(10,90),Iterations=(1,250),TimeInterval=(10,250)))"
     ],
     "language": "python",
     "metadata": {},
     "outputs": [
      {
       "ename": "TypeError",
       "evalue": "range() integer end argument expected, got tuple.",
       "output_type": "pyerr",
       "traceback": [
        "\u001b[1;31m---------------------------------------------------------------------------\u001b[0m\n\u001b[1;31mTypeError\u001b[0m                                 Traceback (most recent call last)",
        "\u001b[1;32m<ipython-input-19-ebf9e6894f52>\u001b[0m in \u001b[0;36m<module>\u001b[1;34m()\u001b[0m\n\u001b[0;32m      3\u001b[0m \u001b[1;33m\u001b[0m\u001b[0m\n\u001b[0;32m      4\u001b[0m v2 = interact(SchellingWidgets(Boardbutton,SchellingButton,Width=(10,50),Height=(10,50),PopulationDensity=(0,100),\n\u001b[1;32m----> 5\u001b[1;33m               RedBlue=(10,90),SatisfactionThreshold=(10,90),Iterations=(1,250),TimeInterval=(10,250)))\n\u001b[0m",
        "\u001b[1;32m<ipython-input-17-3975709df956>\u001b[0m in \u001b[0;36mSchellingWidgets\u001b[1;34m(button1, button2, Width, Height, PopulationDensity, RedBlue, SatisfactionThreshold, Iterations, TimeInterval)\u001b[0m\n\u001b[0;32m      4\u001b[0m def SchellingWidgets(button1,button2,Width=25,Height=25,PopulationDensity=80,RedBlue=50,\n\u001b[0;32m      5\u001b[0m                      SatisfactionThreshold=50,Iterations=100,TimeInterval=100):\n\u001b[1;32m----> 6\u001b[1;33m     \u001b[0mStart\u001b[0m \u001b[1;33m=\u001b[0m \u001b[0mbutton1\u001b[0m\u001b[1;33m.\u001b[0m\u001b[0mon_click\u001b[0m\u001b[1;33m(\u001b[0m\u001b[0mBoardGenerator\u001b[0m\u001b[1;33m(\u001b[0m\u001b[0mWidth\u001b[0m\u001b[1;33m,\u001b[0m\u001b[0mHeight\u001b[0m\u001b[1;33m,\u001b[0m\u001b[0mPopulationDensity\u001b[0m\u001b[1;33m,\u001b[0m\u001b[0mRedBlue\u001b[0m\u001b[1;33m,\u001b[0m\u001b[0mSatisfactionThreshold\u001b[0m\u001b[1;33m)\u001b[0m\u001b[1;33m)\u001b[0m\u001b[1;33m\u001b[0m\u001b[0m\n\u001b[0m\u001b[0;32m      7\u001b[0m     \u001b[0mbutton2\u001b[0m\u001b[1;33m.\u001b[0m\u001b[0mon_click\u001b[0m\u001b[1;33m(\u001b[0m\u001b[0mIterationRunner\u001b[0m\u001b[1;33m(\u001b[0m\u001b[0mStart\u001b[0m\u001b[1;33m,\u001b[0m\u001b[0mWidth\u001b[0m\u001b[1;33m,\u001b[0m\u001b[0mHeight\u001b[0m\u001b[1;33m,\u001b[0m\u001b[0mPopulationDensity\u001b[0m\u001b[1;33m,\u001b[0m\u001b[0mSatisfactionThreshold\u001b[0m\u001b[1;33m,\u001b[0m\u001b[0mIterations\u001b[0m\u001b[1;33m,\u001b[0m\u001b[0mTimeInterval\u001b[0m\u001b[1;33m)\u001b[0m\u001b[1;33m)\u001b[0m\u001b[1;33m.\u001b[0m\u001b[0mshow\u001b[0m\u001b[1;33m(\u001b[0m\u001b[1;33m)\u001b[0m\u001b[1;33m\u001b[0m\u001b[0m\n\u001b[0;32m      8\u001b[0m     \u001b[1;32mreturn\u001b[0m\u001b[1;33m\u001b[0m\u001b[0m\n",
        "\u001b[1;32m<ipython-input-17-3975709df956>\u001b[0m in \u001b[0;36mBoardGenerator\u001b[1;34m(Width, Height, PopulationDensity, RedBlue, SatisfactionThreshold)\u001b[0m\n\u001b[0;32m     25\u001b[0m \u001b[1;33m\u001b[0m\u001b[0m\n\u001b[0;32m     26\u001b[0m \u001b[1;32mdef\u001b[0m \u001b[0mBoardGenerator\u001b[0m\u001b[1;33m(\u001b[0m\u001b[0mWidth\u001b[0m\u001b[1;33m,\u001b[0m\u001b[0mHeight\u001b[0m\u001b[1;33m,\u001b[0m\u001b[0mPopulationDensity\u001b[0m\u001b[1;33m,\u001b[0m\u001b[0mRedBlue\u001b[0m\u001b[1;33m,\u001b[0m\u001b[0mSatisfactionThreshold\u001b[0m\u001b[1;33m)\u001b[0m\u001b[1;33m:\u001b[0m\u001b[1;33m\u001b[0m\u001b[0m\n\u001b[1;32m---> 27\u001b[1;33m     \u001b[0mboard\u001b[0m \u001b[1;33m=\u001b[0m \u001b[0mInitialboard\u001b[0m\u001b[1;33m(\u001b[0m\u001b[0mWidth\u001b[0m\u001b[1;33m,\u001b[0m \u001b[0mHeight\u001b[0m\u001b[1;33m,\u001b[0m\u001b[0mPopulationDensity\u001b[0m\u001b[1;33m,\u001b[0m\u001b[0mRedBlue\u001b[0m\u001b[1;33m,\u001b[0m\u001b[0mSatisfactionThreshold\u001b[0m\u001b[1;33m)\u001b[0m\u001b[1;33m\u001b[0m\u001b[0m\n\u001b[0m\u001b[0;32m     28\u001b[0m     \u001b[1;32mprint\u001b[0m \u001b[1;34m\"Board generated.\"\u001b[0m\u001b[1;33m\u001b[0m\u001b[0m\n\u001b[0;32m     29\u001b[0m     \u001b[0mSchellingButton\u001b[0m \u001b[1;33m=\u001b[0m \u001b[0mwidgets\u001b[0m\u001b[1;33m.\u001b[0m\u001b[0mButtonWidget\u001b[0m\u001b[1;33m(\u001b[0m\u001b[0mdescription\u001b[0m\u001b[1;33m=\u001b[0m\u001b[1;34m\"Run Schelling Model\"\u001b[0m\u001b[1;33m)\u001b[0m\u001b[1;33m\u001b[0m\u001b[0m\n",
        "\u001b[1;32m<ipython-input-7-692cccc32bd8>\u001b[0m in \u001b[0;36mInitialboard\u001b[1;34m(Width, Height, PopulationDensity, RedBlue, SatisfactionThreshold)\u001b[0m\n\u001b[0;32m     27\u001b[0m     \u001b[0mRED\u001b[0m \u001b[1;33m=\u001b[0m \u001b[1;33m(\u001b[0m\u001b[1;36m255\u001b[0m\u001b[1;33m,\u001b[0m\u001b[1;36m0\u001b[0m\u001b[1;33m,\u001b[0m\u001b[1;36m0\u001b[0m\u001b[1;33m)\u001b[0m\u001b[1;33m\u001b[0m\u001b[0m\n\u001b[0;32m     28\u001b[0m     \u001b[0mBLUE\u001b[0m \u001b[1;33m=\u001b[0m \u001b[1;33m(\u001b[0m\u001b[1;36m0\u001b[0m\u001b[1;33m,\u001b[0m\u001b[1;36m0\u001b[0m\u001b[1;33m,\u001b[0m\u001b[1;36m255\u001b[0m\u001b[1;33m)\u001b[0m\u001b[1;33m\u001b[0m\u001b[0m\n\u001b[1;32m---> 29\u001b[1;33m     \u001b[0mboard\u001b[0m\u001b[1;33m,\u001b[0m \u001b[0mWidth\u001b[0m\u001b[1;33m,\u001b[0m \u001b[0mHeight\u001b[0m \u001b[1;33m=\u001b[0m \u001b[0mBlankBoard\u001b[0m\u001b[1;33m(\u001b[0m\u001b[0mWidth\u001b[0m\u001b[1;33m,\u001b[0m\u001b[0mHeight\u001b[0m\u001b[1;33m)\u001b[0m\u001b[1;33m\u001b[0m\u001b[0m\n\u001b[0m\u001b[0;32m     30\u001b[0m     \u001b[0mAmountRed\u001b[0m\u001b[1;33m,\u001b[0m \u001b[0mAmountBlue\u001b[0m \u001b[1;33m=\u001b[0m \u001b[0mAmountCalculator\u001b[0m\u001b[1;33m(\u001b[0m\u001b[0mWidth\u001b[0m\u001b[1;33m,\u001b[0m\u001b[0mHeight\u001b[0m\u001b[1;33m,\u001b[0m\u001b[0mPopulationDensity\u001b[0m\u001b[1;33m,\u001b[0m\u001b[0mRedBlue\u001b[0m\u001b[1;33m)\u001b[0m\u001b[1;33m\u001b[0m\u001b[0m\n\u001b[0;32m     31\u001b[0m     \u001b[0mredtally\u001b[0m \u001b[1;33m=\u001b[0m \u001b[1;36m0\u001b[0m\u001b[1;33m\u001b[0m\u001b[0m\n",
        "\u001b[1;32m<ipython-input-7-692cccc32bd8>\u001b[0m in \u001b[0;36mBlankBoard\u001b[1;34m(Width, Height)\u001b[0m\n\u001b[0;32m      1\u001b[0m \u001b[1;32mdef\u001b[0m \u001b[0mBlankBoard\u001b[0m\u001b[1;33m(\u001b[0m\u001b[0mWidth\u001b[0m\u001b[1;33m=\u001b[0m\u001b[1;36m25\u001b[0m\u001b[1;33m,\u001b[0m\u001b[0mHeight\u001b[0m\u001b[1;33m=\u001b[0m\u001b[1;36m25\u001b[0m\u001b[1;33m)\u001b[0m\u001b[1;33m:\u001b[0m\u001b[1;33m\u001b[0m\u001b[0m\n\u001b[0;32m      2\u001b[0m     \u001b[1;34m\"\"\"Creates a blank white board with given width and height values.\"\"\"\u001b[0m\u001b[1;33m\u001b[0m\u001b[0m\n\u001b[1;32m----> 3\u001b[1;33m     \u001b[0mboard\u001b[0m \u001b[1;33m=\u001b[0m \u001b[0mBlockGrid\u001b[0m\u001b[1;33m(\u001b[0m\u001b[0mWidth\u001b[0m\u001b[1;33m,\u001b[0m\u001b[0mHeight\u001b[0m\u001b[1;33m,\u001b[0m\u001b[0mfill\u001b[0m\u001b[1;33m=\u001b[0m\u001b[1;33m(\u001b[0m\u001b[1;36m200\u001b[0m\u001b[1;33m,\u001b[0m\u001b[1;36m200\u001b[0m\u001b[1;33m,\u001b[0m\u001b[1;36m200\u001b[0m\u001b[1;33m)\u001b[0m\u001b[1;33m)\u001b[0m\u001b[1;33m\u001b[0m\u001b[0m\n\u001b[0m\u001b[0;32m      4\u001b[0m     \u001b[1;32mreturn\u001b[0m \u001b[0mboard\u001b[0m\u001b[1;33m,\u001b[0m \u001b[0mWidth\u001b[0m\u001b[1;33m,\u001b[0m \u001b[0mHeight\u001b[0m\u001b[1;33m\u001b[0m\u001b[0m\n\u001b[0;32m      5\u001b[0m \u001b[1;33m\u001b[0m\u001b[0m\n",
        "\u001b[1;32mC:\\Documents and Settings\\Nick\\Anaconda\\lib\\site-packages\\ipythonblocks\\ipythonblocks.pyc\u001b[0m in \u001b[0;36m__init__\u001b[1;34m(self, width, height, fill, block_size, lines_on)\u001b[0m\n\u001b[0;32m    398\u001b[0m         \u001b[0mself\u001b[0m\u001b[1;33m.\u001b[0m\u001b[0m_block_size\u001b[0m \u001b[1;33m=\u001b[0m \u001b[0mblock_size\u001b[0m\u001b[1;33m\u001b[0m\u001b[0m\n\u001b[0;32m    399\u001b[0m         \u001b[0mself\u001b[0m\u001b[1;33m.\u001b[0m\u001b[0mlines_on\u001b[0m \u001b[1;33m=\u001b[0m \u001b[0mlines_on\u001b[0m\u001b[1;33m\u001b[0m\u001b[0m\n\u001b[1;32m--> 400\u001b[1;33m         \u001b[0mself\u001b[0m\u001b[1;33m.\u001b[0m\u001b[0m_initialize_grid\u001b[0m\u001b[1;33m(\u001b[0m\u001b[0mfill\u001b[0m\u001b[1;33m)\u001b[0m\u001b[1;33m\u001b[0m\u001b[0m\n\u001b[0m\u001b[0;32m    401\u001b[0m \u001b[1;33m\u001b[0m\u001b[0m\n\u001b[0;32m    402\u001b[0m     \u001b[1;32mdef\u001b[0m \u001b[0m_initialize_grid\u001b[0m\u001b[1;33m(\u001b[0m\u001b[0mself\u001b[0m\u001b[1;33m,\u001b[0m \u001b[0mfill\u001b[0m\u001b[1;33m)\u001b[0m\u001b[1;33m:\u001b[0m\u001b[1;33m\u001b[0m\u001b[0m\n",
        "\u001b[1;32mC:\\Documents and Settings\\Nick\\Anaconda\\lib\\site-packages\\ipythonblocks\\ipythonblocks.pyc\u001b[0m in \u001b[0;36m_initialize_grid\u001b[1;34m(self, fill)\u001b[0m\n\u001b[0;32m    403\u001b[0m         grid = [[Block(*fill, size=self._block_size)\n\u001b[0;32m    404\u001b[0m                 for col in range(self.width)]\n\u001b[1;32m--> 405\u001b[1;33m                 for row in range(self.height)]\n\u001b[0m\u001b[0;32m    406\u001b[0m \u001b[1;33m\u001b[0m\u001b[0m\n\u001b[0;32m    407\u001b[0m         \u001b[0mself\u001b[0m\u001b[1;33m.\u001b[0m\u001b[0m_grid\u001b[0m \u001b[1;33m=\u001b[0m \u001b[0mgrid\u001b[0m\u001b[1;33m\u001b[0m\u001b[0m\n",
        "\u001b[1;31mTypeError\u001b[0m: range() integer end argument expected, got tuple."
       ]
      }
     ],
     "prompt_number": 19
    },
    {
     "cell_type": "code",
     "collapsed": false,
     "input": [
      "board = BlockGrid(2,2,fill=(100,100,100))\n",
      "display(board)\n",
      "type(board)"
     ],
     "language": "python",
     "metadata": {},
     "outputs": []
    },
    {
     "cell_type": "code",
     "collapsed": false,
     "input": [],
     "language": "python",
     "metadata": {},
     "outputs": []
    }
   ],
   "metadata": {}
  }
 ]
}