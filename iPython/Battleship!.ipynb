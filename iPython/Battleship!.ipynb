{
 "metadata": {
  "name": "",
  "signature": "sha256:ec4cacfe277074e119b12bc27d0cf32634ee2c4b4dcd0cba36910b681de68437"
 },
 "nbformat": 3,
 "nbformat_minor": 0,
 "worksheets": [
  {
   "cells": [
    {
     "cell_type": "heading",
     "level": 1,
     "metadata": {},
     "source": [
      "Battleship!"
     ]
    },
    {
     "cell_type": "markdown",
     "metadata": {},
     "source": [
      "Click the cell below and hit Shift+Enter to begin Battleship.\n",
      "\n",
      "The computer will hide a battleship that takes up 3 spaces. It will either be vertically placed or horizontally placed. The rows are numbered 0 through 7 and the columns are numbered 0 through 7. You have up to 15 tries to sink the battleship, and if you are successful, you win; if you are not successful, good luck resisting the temptation to try again."
     ]
    },
    {
     "cell_type": "code",
     "collapsed": false,
     "input": [
      "from ipythonblocks import BlockGrid\n",
      "from ipythonblocks import colors\n",
      "board = BlockGrid(8,8, fill=(122, 122, 255))\n",
      "print \"Let's play Battleship! Here is your board.\"\n",
      "board.show()\n",
      "print \"Start by making a guess. You have 15 tries. The rows and columns are numbered 0 through 7.\"\n",
      "board = BlockGrid(8,8, fill=(122,122,255))\n",
      "from random import randint\n",
      "def random_row(board):\n",
      "    return randint(1, board.width-2)\n",
      "\n",
      "def random_col(board):\n",
      "    return randint(1, board.height-2)\n",
      "ship_row1 = 27\n",
      "ship_col1 = 27\n",
      "ship_row1 = random_row(board)\n",
      "ship_col1 = random_col(board)\n",
      "orientation = randint(1,10)\n",
      "if orientation % 2 == 0:\n",
      "    ship_col2 = ship_col1+1\n",
      "    ship_col3 = ship_col1-1\n",
      "    ship_row2 = ship_row1\n",
      "    ship_row3 = ship_row1\n",
      "else:\n",
      "    ship_row2 = ship_row1+1\n",
      "    ship_row3 = ship_row1-1\n",
      "    ship_col2 = ship_col1\n",
      "    ship_col3 = ship_col1\n",
      "hits = 0\n",
      "for turn in range(15):\n",
      "    guess_row = int(raw_input(\"Guess Row:\"))\n",
      "    guess_col = int(raw_input(\"Guess Col:\"))\n",
      "    if (guess_row == ship_row1 or guess_row == ship_row2 or guess_row == ship_row3) and (guess_col == ship_col1 or guess_col == ship_col2 or guess_col == ship_col3):\n",
      "        print \"You hit my battleship!\"\n",
      "        hits+=1\n",
      "        board[guess_row,guess_col] = colors['Red']\n",
      "        board.show()\n",
      "        if hits == 3:\n",
      "            print \"Oh no! My battleship is sinking! The good news is that I survived long enough to give you this message.\"\n",
      "            break\n",
      "    else:\n",
      "        if (guess_row < 0 or guess_row > 7) or (guess_col < 0 or guess_col > 7):\n",
      "            print \"Oops, that's not even in the ocean.\"\n",
      "            board.show()\n",
      "        elif board[guess_row,guess_col].blue == 0:\n",
      "            print \"You guessed that one already.\"\n",
      "            board.show()\n",
      "        else:\n",
      "            print \"You missed my battleship!\"\n",
      "            board[guess_row,guess_col] = colors['Black']\n",
      "            board.show()\n",
      "    print \"End of Turn\", turn + 1\n",
      "    if turn == 14:\n",
      "        print \"You didn't sink my battleship. Maybe you should play a different game.\"\n",
      "        board[ship_row1,ship_col1] = colors['Red']\n",
      "        board[ship_row1,ship_col2] = colors['Red']\n",
      "        board[ship_row1,ship_col3] = colors['Red']\n",
      "        board[ship_row2,ship_col1] = colors['Red']\n",
      "        board[ship_row2,ship_col2] = colors['Red']\n",
      "        board[ship_row2,ship_col3] = colors['Red']\n",
      "        board[ship_row3,ship_col1] = colors['Red']\n",
      "        board[ship_row3,ship_col2] = colors['Red']\n",
      "        board[ship_row3,ship_col3] = colors['Red']\n",
      "        board.show()\n",
      "        print \"Here's where I was hiding.\"\n",
      "      \n"
     ],
     "language": "python",
     "metadata": {},
     "outputs": [
      {
       "output_type": "stream",
       "stream": "stdout",
       "text": [
        "Let's play Battleship! Here is your board.\n"
       ]
      },
      {
       "html": [
        "<style type=\"text/css\">table.blockgrid {border: none;} .blockgrid tr {border: none;} .blockgrid td {padding: 0px;} #blocks8fc8f2ed-0e22-4f26-82d8-4c1b75a78621 td {border: 1px solid white;}</style><table id=\"blocks8fc8f2ed-0e22-4f26-82d8-4c1b75a78621\" class=\"blockgrid\"><tbody><tr><td title=\"Index: [0, 0]&#10;Color: (122, 122, 255)\" style=\"width: 20px; height: 20px;background-color: rgb(122, 122, 255);\"></td><td title=\"Index: [0, 1]&#10;Color: (122, 122, 255)\" style=\"width: 20px; height: 20px;background-color: rgb(122, 122, 255);\"></td><td title=\"Index: [0, 2]&#10;Color: (122, 122, 255)\" style=\"width: 20px; height: 20px;background-color: rgb(122, 122, 255);\"></td><td title=\"Index: [0, 3]&#10;Color: (122, 122, 255)\" style=\"width: 20px; height: 20px;background-color: rgb(122, 122, 255);\"></td><td title=\"Index: [0, 4]&#10;Color: (122, 122, 255)\" style=\"width: 20px; height: 20px;background-color: rgb(122, 122, 255);\"></td><td title=\"Index: [0, 5]&#10;Color: (122, 122, 255)\" style=\"width: 20px; height: 20px;background-color: rgb(122, 122, 255);\"></td><td title=\"Index: [0, 6]&#10;Color: (122, 122, 255)\" style=\"width: 20px; height: 20px;background-color: rgb(122, 122, 255);\"></td><td title=\"Index: [0, 7]&#10;Color: (122, 122, 255)\" style=\"width: 20px; height: 20px;background-color: rgb(122, 122, 255);\"></td></tr><tr><td title=\"Index: [1, 0]&#10;Color: (122, 122, 255)\" style=\"width: 20px; height: 20px;background-color: rgb(122, 122, 255);\"></td><td title=\"Index: [1, 1]&#10;Color: (122, 122, 255)\" style=\"width: 20px; height: 20px;background-color: rgb(122, 122, 255);\"></td><td title=\"Index: [1, 2]&#10;Color: (122, 122, 255)\" style=\"width: 20px; height: 20px;background-color: rgb(122, 122, 255);\"></td><td title=\"Index: [1, 3]&#10;Color: (122, 122, 255)\" style=\"width: 20px; height: 20px;background-color: rgb(122, 122, 255);\"></td><td title=\"Index: [1, 4]&#10;Color: (122, 122, 255)\" style=\"width: 20px; height: 20px;background-color: rgb(122, 122, 255);\"></td><td title=\"Index: [1, 5]&#10;Color: (122, 122, 255)\" style=\"width: 20px; height: 20px;background-color: rgb(122, 122, 255);\"></td><td title=\"Index: [1, 6]&#10;Color: (122, 122, 255)\" style=\"width: 20px; height: 20px;background-color: rgb(122, 122, 255);\"></td><td title=\"Index: [1, 7]&#10;Color: (122, 122, 255)\" style=\"width: 20px; height: 20px;background-color: rgb(122, 122, 255);\"></td></tr><tr><td title=\"Index: [2, 0]&#10;Color: (122, 122, 255)\" style=\"width: 20px; height: 20px;background-color: rgb(122, 122, 255);\"></td><td title=\"Index: [2, 1]&#10;Color: (122, 122, 255)\" style=\"width: 20px; height: 20px;background-color: rgb(122, 122, 255);\"></td><td title=\"Index: [2, 2]&#10;Color: (122, 122, 255)\" style=\"width: 20px; height: 20px;background-color: rgb(122, 122, 255);\"></td><td title=\"Index: [2, 3]&#10;Color: (122, 122, 255)\" style=\"width: 20px; height: 20px;background-color: rgb(122, 122, 255);\"></td><td title=\"Index: [2, 4]&#10;Color: (122, 122, 255)\" style=\"width: 20px; height: 20px;background-color: rgb(122, 122, 255);\"></td><td title=\"Index: [2, 5]&#10;Color: (122, 122, 255)\" style=\"width: 20px; height: 20px;background-color: rgb(122, 122, 255);\"></td><td title=\"Index: [2, 6]&#10;Color: (122, 122, 255)\" style=\"width: 20px; height: 20px;background-color: rgb(122, 122, 255);\"></td><td title=\"Index: [2, 7]&#10;Color: (122, 122, 255)\" style=\"width: 20px; height: 20px;background-color: rgb(122, 122, 255);\"></td></tr><tr><td title=\"Index: [3, 0]&#10;Color: (122, 122, 255)\" style=\"width: 20px; height: 20px;background-color: rgb(122, 122, 255);\"></td><td title=\"Index: [3, 1]&#10;Color: (122, 122, 255)\" style=\"width: 20px; height: 20px;background-color: rgb(122, 122, 255);\"></td><td title=\"Index: [3, 2]&#10;Color: (122, 122, 255)\" style=\"width: 20px; height: 20px;background-color: rgb(122, 122, 255);\"></td><td title=\"Index: [3, 3]&#10;Color: (122, 122, 255)\" style=\"width: 20px; height: 20px;background-color: rgb(122, 122, 255);\"></td><td title=\"Index: [3, 4]&#10;Color: (122, 122, 255)\" style=\"width: 20px; height: 20px;background-color: rgb(122, 122, 255);\"></td><td title=\"Index: [3, 5]&#10;Color: (122, 122, 255)\" style=\"width: 20px; height: 20px;background-color: rgb(122, 122, 255);\"></td><td title=\"Index: [3, 6]&#10;Color: (122, 122, 255)\" style=\"width: 20px; height: 20px;background-color: rgb(122, 122, 255);\"></td><td title=\"Index: [3, 7]&#10;Color: (122, 122, 255)\" style=\"width: 20px; height: 20px;background-color: rgb(122, 122, 255);\"></td></tr><tr><td title=\"Index: [4, 0]&#10;Color: (122, 122, 255)\" style=\"width: 20px; height: 20px;background-color: rgb(122, 122, 255);\"></td><td title=\"Index: [4, 1]&#10;Color: (122, 122, 255)\" style=\"width: 20px; height: 20px;background-color: rgb(122, 122, 255);\"></td><td title=\"Index: [4, 2]&#10;Color: (122, 122, 255)\" style=\"width: 20px; height: 20px;background-color: rgb(122, 122, 255);\"></td><td title=\"Index: [4, 3]&#10;Color: (122, 122, 255)\" style=\"width: 20px; height: 20px;background-color: rgb(122, 122, 255);\"></td><td title=\"Index: [4, 4]&#10;Color: (122, 122, 255)\" style=\"width: 20px; height: 20px;background-color: rgb(122, 122, 255);\"></td><td title=\"Index: [4, 5]&#10;Color: (122, 122, 255)\" style=\"width: 20px; height: 20px;background-color: rgb(122, 122, 255);\"></td><td title=\"Index: [4, 6]&#10;Color: (122, 122, 255)\" style=\"width: 20px; height: 20px;background-color: rgb(122, 122, 255);\"></td><td title=\"Index: [4, 7]&#10;Color: (122, 122, 255)\" style=\"width: 20px; height: 20px;background-color: rgb(122, 122, 255);\"></td></tr><tr><td title=\"Index: [5, 0]&#10;Color: (122, 122, 255)\" style=\"width: 20px; height: 20px;background-color: rgb(122, 122, 255);\"></td><td title=\"Index: [5, 1]&#10;Color: (122, 122, 255)\" style=\"width: 20px; height: 20px;background-color: rgb(122, 122, 255);\"></td><td title=\"Index: [5, 2]&#10;Color: (122, 122, 255)\" style=\"width: 20px; height: 20px;background-color: rgb(122, 122, 255);\"></td><td title=\"Index: [5, 3]&#10;Color: (122, 122, 255)\" style=\"width: 20px; height: 20px;background-color: rgb(122, 122, 255);\"></td><td title=\"Index: [5, 4]&#10;Color: (122, 122, 255)\" style=\"width: 20px; height: 20px;background-color: rgb(122, 122, 255);\"></td><td title=\"Index: [5, 5]&#10;Color: (122, 122, 255)\" style=\"width: 20px; height: 20px;background-color: rgb(122, 122, 255);\"></td><td title=\"Index: [5, 6]&#10;Color: (122, 122, 255)\" style=\"width: 20px; height: 20px;background-color: rgb(122, 122, 255);\"></td><td title=\"Index: [5, 7]&#10;Color: (122, 122, 255)\" style=\"width: 20px; height: 20px;background-color: rgb(122, 122, 255);\"></td></tr><tr><td title=\"Index: [6, 0]&#10;Color: (122, 122, 255)\" style=\"width: 20px; height: 20px;background-color: rgb(122, 122, 255);\"></td><td title=\"Index: [6, 1]&#10;Color: (122, 122, 255)\" style=\"width: 20px; height: 20px;background-color: rgb(122, 122, 255);\"></td><td title=\"Index: [6, 2]&#10;Color: (122, 122, 255)\" style=\"width: 20px; height: 20px;background-color: rgb(122, 122, 255);\"></td><td title=\"Index: [6, 3]&#10;Color: (122, 122, 255)\" style=\"width: 20px; height: 20px;background-color: rgb(122, 122, 255);\"></td><td title=\"Index: [6, 4]&#10;Color: (122, 122, 255)\" style=\"width: 20px; height: 20px;background-color: rgb(122, 122, 255);\"></td><td title=\"Index: [6, 5]&#10;Color: (122, 122, 255)\" style=\"width: 20px; height: 20px;background-color: rgb(122, 122, 255);\"></td><td title=\"Index: [6, 6]&#10;Color: (122, 122, 255)\" style=\"width: 20px; height: 20px;background-color: rgb(122, 122, 255);\"></td><td title=\"Index: [6, 7]&#10;Color: (122, 122, 255)\" style=\"width: 20px; height: 20px;background-color: rgb(122, 122, 255);\"></td></tr><tr><td title=\"Index: [7, 0]&#10;Color: (122, 122, 255)\" style=\"width: 20px; height: 20px;background-color: rgb(122, 122, 255);\"></td><td title=\"Index: [7, 1]&#10;Color: (122, 122, 255)\" style=\"width: 20px; height: 20px;background-color: rgb(122, 122, 255);\"></td><td title=\"Index: [7, 2]&#10;Color: (122, 122, 255)\" style=\"width: 20px; height: 20px;background-color: rgb(122, 122, 255);\"></td><td title=\"Index: [7, 3]&#10;Color: (122, 122, 255)\" style=\"width: 20px; height: 20px;background-color: rgb(122, 122, 255);\"></td><td title=\"Index: [7, 4]&#10;Color: (122, 122, 255)\" style=\"width: 20px; height: 20px;background-color: rgb(122, 122, 255);\"></td><td title=\"Index: [7, 5]&#10;Color: (122, 122, 255)\" style=\"width: 20px; height: 20px;background-color: rgb(122, 122, 255);\"></td><td title=\"Index: [7, 6]&#10;Color: (122, 122, 255)\" style=\"width: 20px; height: 20px;background-color: rgb(122, 122, 255);\"></td><td title=\"Index: [7, 7]&#10;Color: (122, 122, 255)\" style=\"width: 20px; height: 20px;background-color: rgb(122, 122, 255);\"></td></tr></tbody></table>"
       ],
       "metadata": {},
       "output_type": "display_data",
       "text": [
        "<IPython.core.display.HTML at 0x101e8a310>"
       ]
      },
      {
       "output_type": "stream",
       "stream": "stdout",
       "text": [
        "Start by making a guess. You have 15 tries. The rows and columns are numbered 0 through 7.\n"
       ]
      },
      {
       "ename": "KeyboardInterrupt",
       "evalue": "",
       "output_type": "pyerr",
       "traceback": [
        "\u001b[0;31m---------------------------------------------------------------------------\u001b[0m\n\u001b[0;31mKeyboardInterrupt\u001b[0m                         Traceback (most recent call last)",
        "\u001b[0;32m<ipython-input-2-c56868c6c93c>\u001b[0m in \u001b[0;36m<module>\u001b[0;34m()\u001b[0m\n\u001b[1;32m     29\u001b[0m \u001b[0mhits\u001b[0m \u001b[0;34m=\u001b[0m \u001b[0;36m0\u001b[0m\u001b[0;34m\u001b[0m\u001b[0m\n\u001b[1;32m     30\u001b[0m \u001b[0;32mfor\u001b[0m \u001b[0mturn\u001b[0m \u001b[0;32min\u001b[0m \u001b[0mrange\u001b[0m\u001b[0;34m(\u001b[0m\u001b[0;36m15\u001b[0m\u001b[0;34m)\u001b[0m\u001b[0;34m:\u001b[0m\u001b[0;34m\u001b[0m\u001b[0m\n\u001b[0;32m---> 31\u001b[0;31m     \u001b[0mguess_row\u001b[0m \u001b[0;34m=\u001b[0m \u001b[0mint\u001b[0m\u001b[0;34m(\u001b[0m\u001b[0mraw_input\u001b[0m\u001b[0;34m(\u001b[0m\u001b[0;34m\"Guess Row:\"\u001b[0m\u001b[0;34m)\u001b[0m\u001b[0;34m)\u001b[0m\u001b[0;34m\u001b[0m\u001b[0m\n\u001b[0m\u001b[1;32m     32\u001b[0m     \u001b[0mguess_col\u001b[0m \u001b[0;34m=\u001b[0m \u001b[0mint\u001b[0m\u001b[0;34m(\u001b[0m\u001b[0mraw_input\u001b[0m\u001b[0;34m(\u001b[0m\u001b[0;34m\"Guess Col:\"\u001b[0m\u001b[0;34m)\u001b[0m\u001b[0;34m)\u001b[0m\u001b[0;34m\u001b[0m\u001b[0m\n\u001b[1;32m     33\u001b[0m     \u001b[0;32mif\u001b[0m \u001b[0;34m(\u001b[0m\u001b[0mguess_row\u001b[0m \u001b[0;34m==\u001b[0m \u001b[0mship_row1\u001b[0m \u001b[0;32mor\u001b[0m \u001b[0mguess_row\u001b[0m \u001b[0;34m==\u001b[0m \u001b[0mship_row2\u001b[0m \u001b[0;32mor\u001b[0m \u001b[0mguess_row\u001b[0m \u001b[0;34m==\u001b[0m \u001b[0mship_row3\u001b[0m\u001b[0;34m)\u001b[0m \u001b[0;32mand\u001b[0m \u001b[0;34m(\u001b[0m\u001b[0mguess_col\u001b[0m \u001b[0;34m==\u001b[0m \u001b[0mship_col1\u001b[0m \u001b[0;32mor\u001b[0m \u001b[0mguess_col\u001b[0m \u001b[0;34m==\u001b[0m \u001b[0mship_col2\u001b[0m \u001b[0;32mor\u001b[0m \u001b[0mguess_col\u001b[0m \u001b[0;34m==\u001b[0m \u001b[0mship_col3\u001b[0m\u001b[0;34m)\u001b[0m\u001b[0;34m:\u001b[0m\u001b[0;34m\u001b[0m\u001b[0m\n",
        "\u001b[0;32m/Applications/anaconda/lib/python2.7/site-packages/IPython/kernel/zmq/ipkernel.pyc\u001b[0m in \u001b[0;36m<lambda>\u001b[0;34m(prompt)\u001b[0m\n\u001b[1;32m    361\u001b[0m         \u001b[0;31m# raw_input in the user namespace.\u001b[0m\u001b[0;34m\u001b[0m\u001b[0;34m\u001b[0m\u001b[0m\n\u001b[1;32m    362\u001b[0m         \u001b[0;32mif\u001b[0m \u001b[0mcontent\u001b[0m\u001b[0;34m.\u001b[0m\u001b[0mget\u001b[0m\u001b[0;34m(\u001b[0m\u001b[0;34m'allow_stdin'\u001b[0m\u001b[0;34m,\u001b[0m \u001b[0mFalse\u001b[0m\u001b[0;34m)\u001b[0m\u001b[0;34m:\u001b[0m\u001b[0;34m\u001b[0m\u001b[0m\n\u001b[0;32m--> 363\u001b[0;31m             \u001b[0mraw_input\u001b[0m \u001b[0;34m=\u001b[0m \u001b[0;32mlambda\u001b[0m \u001b[0mprompt\u001b[0m\u001b[0;34m=\u001b[0m\u001b[0;34m''\u001b[0m\u001b[0;34m:\u001b[0m \u001b[0mself\u001b[0m\u001b[0;34m.\u001b[0m\u001b[0m_raw_input\u001b[0m\u001b[0;34m(\u001b[0m\u001b[0mprompt\u001b[0m\u001b[0;34m,\u001b[0m \u001b[0mident\u001b[0m\u001b[0;34m,\u001b[0m \u001b[0mparent\u001b[0m\u001b[0;34m)\u001b[0m\u001b[0;34m\u001b[0m\u001b[0m\n\u001b[0m\u001b[1;32m    364\u001b[0m             \u001b[0minput\u001b[0m \u001b[0;34m=\u001b[0m \u001b[0;32mlambda\u001b[0m \u001b[0mprompt\u001b[0m\u001b[0;34m=\u001b[0m\u001b[0;34m''\u001b[0m\u001b[0;34m:\u001b[0m \u001b[0meval\u001b[0m\u001b[0;34m(\u001b[0m\u001b[0mraw_input\u001b[0m\u001b[0;34m(\u001b[0m\u001b[0mprompt\u001b[0m\u001b[0;34m)\u001b[0m\u001b[0;34m)\u001b[0m\u001b[0;34m\u001b[0m\u001b[0m\n\u001b[1;32m    365\u001b[0m         \u001b[0;32melse\u001b[0m\u001b[0;34m:\u001b[0m\u001b[0;34m\u001b[0m\u001b[0m\n",
        "\u001b[0;32m/Applications/anaconda/lib/python2.7/site-packages/IPython/kernel/zmq/ipkernel.pyc\u001b[0m in \u001b[0;36m_raw_input\u001b[0;34m(self, prompt, ident, parent)\u001b[0m\n\u001b[1;32m    763\u001b[0m             \u001b[0;32mexcept\u001b[0m \u001b[0mKeyboardInterrupt\u001b[0m\u001b[0;34m:\u001b[0m\u001b[0;34m\u001b[0m\u001b[0m\n\u001b[1;32m    764\u001b[0m                 \u001b[0;31m# re-raise KeyboardInterrupt, to truncate traceback\u001b[0m\u001b[0;34m\u001b[0m\u001b[0;34m\u001b[0m\u001b[0m\n\u001b[0;32m--> 765\u001b[0;31m                 \u001b[0;32mraise\u001b[0m \u001b[0mKeyboardInterrupt\u001b[0m\u001b[0;34m\u001b[0m\u001b[0m\n\u001b[0m\u001b[1;32m    766\u001b[0m             \u001b[0;32melse\u001b[0m\u001b[0;34m:\u001b[0m\u001b[0;34m\u001b[0m\u001b[0m\n\u001b[1;32m    767\u001b[0m                 \u001b[0;32mbreak\u001b[0m\u001b[0;34m\u001b[0m\u001b[0m\n",
        "\u001b[0;31mKeyboardInterrupt\u001b[0m: "
       ]
      }
     ],
     "prompt_number": 2
    },
    {
     "cell_type": "code",
     "collapsed": false,
     "input": [
      "board.show()"
     ],
     "language": "python",
     "metadata": {},
     "outputs": [
      {
       "html": [
        "<style type=\"text/css\">table.blockgrid {border: none;} .blockgrid tr {border: none;} .blockgrid td {padding: 0px;} #blocks715071df-9f19-485c-b856-02ee3a81b977 td {border: 1px solid white;}</style><table id=\"blocks715071df-9f19-485c-b856-02ee3a81b977\" class=\"blockgrid\"><tbody><tr><td title=\"Index: [0, 0]&#10;Color: (122, 122, 255)\" style=\"width: 20px; height: 20px;background-color: rgb(122, 122, 255);\"></td><td title=\"Index: [0, 1]&#10;Color: (122, 122, 255)\" style=\"width: 20px; height: 20px;background-color: rgb(122, 122, 255);\"></td><td title=\"Index: [0, 2]&#10;Color: (122, 122, 255)\" style=\"width: 20px; height: 20px;background-color: rgb(122, 122, 255);\"></td><td title=\"Index: [0, 3]&#10;Color: (122, 122, 255)\" style=\"width: 20px; height: 20px;background-color: rgb(122, 122, 255);\"></td><td title=\"Index: [0, 4]&#10;Color: (122, 122, 255)\" style=\"width: 20px; height: 20px;background-color: rgb(122, 122, 255);\"></td><td title=\"Index: [0, 5]&#10;Color: (122, 122, 255)\" style=\"width: 20px; height: 20px;background-color: rgb(122, 122, 255);\"></td><td title=\"Index: [0, 6]&#10;Color: (122, 122, 255)\" style=\"width: 20px; height: 20px;background-color: rgb(122, 122, 255);\"></td><td title=\"Index: [0, 7]&#10;Color: (122, 122, 255)\" style=\"width: 20px; height: 20px;background-color: rgb(122, 122, 255);\"></td></tr><tr><td title=\"Index: [1, 0]&#10;Color: (122, 122, 255)\" style=\"width: 20px; height: 20px;background-color: rgb(122, 122, 255);\"></td><td title=\"Index: [1, 1]&#10;Color: (122, 122, 255)\" style=\"width: 20px; height: 20px;background-color: rgb(122, 122, 255);\"></td><td title=\"Index: [1, 2]&#10;Color: (122, 122, 255)\" style=\"width: 20px; height: 20px;background-color: rgb(122, 122, 255);\"></td><td title=\"Index: [1, 3]&#10;Color: (122, 122, 255)\" style=\"width: 20px; height: 20px;background-color: rgb(122, 122, 255);\"></td><td title=\"Index: [1, 4]&#10;Color: (122, 122, 255)\" style=\"width: 20px; height: 20px;background-color: rgb(122, 122, 255);\"></td><td title=\"Index: [1, 5]&#10;Color: (122, 122, 255)\" style=\"width: 20px; height: 20px;background-color: rgb(122, 122, 255);\"></td><td title=\"Index: [1, 6]&#10;Color: (122, 122, 255)\" style=\"width: 20px; height: 20px;background-color: rgb(122, 122, 255);\"></td><td title=\"Index: [1, 7]&#10;Color: (122, 122, 255)\" style=\"width: 20px; height: 20px;background-color: rgb(122, 122, 255);\"></td></tr><tr><td title=\"Index: [2, 0]&#10;Color: (122, 122, 255)\" style=\"width: 20px; height: 20px;background-color: rgb(122, 122, 255);\"></td><td title=\"Index: [2, 1]&#10;Color: (122, 122, 255)\" style=\"width: 20px; height: 20px;background-color: rgb(122, 122, 255);\"></td><td title=\"Index: [2, 2]&#10;Color: (122, 122, 255)\" style=\"width: 20px; height: 20px;background-color: rgb(122, 122, 255);\"></td><td title=\"Index: [2, 3]&#10;Color: (122, 122, 255)\" style=\"width: 20px; height: 20px;background-color: rgb(122, 122, 255);\"></td><td title=\"Index: [2, 4]&#10;Color: (122, 122, 255)\" style=\"width: 20px; height: 20px;background-color: rgb(122, 122, 255);\"></td><td title=\"Index: [2, 5]&#10;Color: (122, 122, 255)\" style=\"width: 20px; height: 20px;background-color: rgb(122, 122, 255);\"></td><td title=\"Index: [2, 6]&#10;Color: (122, 122, 255)\" style=\"width: 20px; height: 20px;background-color: rgb(122, 122, 255);\"></td><td title=\"Index: [2, 7]&#10;Color: (122, 122, 255)\" style=\"width: 20px; height: 20px;background-color: rgb(122, 122, 255);\"></td></tr><tr><td title=\"Index: [3, 0]&#10;Color: (122, 122, 255)\" style=\"width: 20px; height: 20px;background-color: rgb(122, 122, 255);\"></td><td title=\"Index: [3, 1]&#10;Color: (122, 122, 255)\" style=\"width: 20px; height: 20px;background-color: rgb(122, 122, 255);\"></td><td title=\"Index: [3, 2]&#10;Color: (122, 122, 255)\" style=\"width: 20px; height: 20px;background-color: rgb(122, 122, 255);\"></td><td title=\"Index: [3, 3]&#10;Color: (122, 122, 255)\" style=\"width: 20px; height: 20px;background-color: rgb(122, 122, 255);\"></td><td title=\"Index: [3, 4]&#10;Color: (122, 122, 255)\" style=\"width: 20px; height: 20px;background-color: rgb(122, 122, 255);\"></td><td title=\"Index: [3, 5]&#10;Color: (122, 122, 255)\" style=\"width: 20px; height: 20px;background-color: rgb(122, 122, 255);\"></td><td title=\"Index: [3, 6]&#10;Color: (122, 122, 255)\" style=\"width: 20px; height: 20px;background-color: rgb(122, 122, 255);\"></td><td title=\"Index: [3, 7]&#10;Color: (122, 122, 255)\" style=\"width: 20px; height: 20px;background-color: rgb(122, 122, 255);\"></td></tr><tr><td title=\"Index: [4, 0]&#10;Color: (122, 122, 255)\" style=\"width: 20px; height: 20px;background-color: rgb(122, 122, 255);\"></td><td title=\"Index: [4, 1]&#10;Color: (122, 122, 255)\" style=\"width: 20px; height: 20px;background-color: rgb(122, 122, 255);\"></td><td title=\"Index: [4, 2]&#10;Color: (122, 122, 255)\" style=\"width: 20px; height: 20px;background-color: rgb(122, 122, 255);\"></td><td title=\"Index: [4, 3]&#10;Color: (122, 122, 255)\" style=\"width: 20px; height: 20px;background-color: rgb(122, 122, 255);\"></td><td title=\"Index: [4, 4]&#10;Color: (122, 122, 255)\" style=\"width: 20px; height: 20px;background-color: rgb(122, 122, 255);\"></td><td title=\"Index: [4, 5]&#10;Color: (122, 122, 255)\" style=\"width: 20px; height: 20px;background-color: rgb(122, 122, 255);\"></td><td title=\"Index: [4, 6]&#10;Color: (122, 122, 255)\" style=\"width: 20px; height: 20px;background-color: rgb(122, 122, 255);\"></td><td title=\"Index: [4, 7]&#10;Color: (122, 122, 255)\" style=\"width: 20px; height: 20px;background-color: rgb(122, 122, 255);\"></td></tr><tr><td title=\"Index: [5, 0]&#10;Color: (122, 122, 255)\" style=\"width: 20px; height: 20px;background-color: rgb(122, 122, 255);\"></td><td title=\"Index: [5, 1]&#10;Color: (122, 122, 255)\" style=\"width: 20px; height: 20px;background-color: rgb(122, 122, 255);\"></td><td title=\"Index: [5, 2]&#10;Color: (122, 122, 255)\" style=\"width: 20px; height: 20px;background-color: rgb(122, 122, 255);\"></td><td title=\"Index: [5, 3]&#10;Color: (122, 122, 255)\" style=\"width: 20px; height: 20px;background-color: rgb(122, 122, 255);\"></td><td title=\"Index: [5, 4]&#10;Color: (122, 122, 255)\" style=\"width: 20px; height: 20px;background-color: rgb(122, 122, 255);\"></td><td title=\"Index: [5, 5]&#10;Color: (122, 122, 255)\" style=\"width: 20px; height: 20px;background-color: rgb(122, 122, 255);\"></td><td title=\"Index: [5, 6]&#10;Color: (122, 122, 255)\" style=\"width: 20px; height: 20px;background-color: rgb(122, 122, 255);\"></td><td title=\"Index: [5, 7]&#10;Color: (122, 122, 255)\" style=\"width: 20px; height: 20px;background-color: rgb(122, 122, 255);\"></td></tr><tr><td title=\"Index: [6, 0]&#10;Color: (122, 122, 255)\" style=\"width: 20px; height: 20px;background-color: rgb(122, 122, 255);\"></td><td title=\"Index: [6, 1]&#10;Color: (122, 122, 255)\" style=\"width: 20px; height: 20px;background-color: rgb(122, 122, 255);\"></td><td title=\"Index: [6, 2]&#10;Color: (122, 122, 255)\" style=\"width: 20px; height: 20px;background-color: rgb(122, 122, 255);\"></td><td title=\"Index: [6, 3]&#10;Color: (122, 122, 255)\" style=\"width: 20px; height: 20px;background-color: rgb(122, 122, 255);\"></td><td title=\"Index: [6, 4]&#10;Color: (122, 122, 255)\" style=\"width: 20px; height: 20px;background-color: rgb(122, 122, 255);\"></td><td title=\"Index: [6, 5]&#10;Color: (122, 122, 255)\" style=\"width: 20px; height: 20px;background-color: rgb(122, 122, 255);\"></td><td title=\"Index: [6, 6]&#10;Color: (122, 122, 255)\" style=\"width: 20px; height: 20px;background-color: rgb(122, 122, 255);\"></td><td title=\"Index: [6, 7]&#10;Color: (122, 122, 255)\" style=\"width: 20px; height: 20px;background-color: rgb(122, 122, 255);\"></td></tr><tr><td title=\"Index: [7, 0]&#10;Color: (122, 122, 255)\" style=\"width: 20px; height: 20px;background-color: rgb(122, 122, 255);\"></td><td title=\"Index: [7, 1]&#10;Color: (122, 122, 255)\" style=\"width: 20px; height: 20px;background-color: rgb(122, 122, 255);\"></td><td title=\"Index: [7, 2]&#10;Color: (122, 122, 255)\" style=\"width: 20px; height: 20px;background-color: rgb(122, 122, 255);\"></td><td title=\"Index: [7, 3]&#10;Color: (122, 122, 255)\" style=\"width: 20px; height: 20px;background-color: rgb(122, 122, 255);\"></td><td title=\"Index: [7, 4]&#10;Color: (122, 122, 255)\" style=\"width: 20px; height: 20px;background-color: rgb(122, 122, 255);\"></td><td title=\"Index: [7, 5]&#10;Color: (122, 122, 255)\" style=\"width: 20px; height: 20px;background-color: rgb(122, 122, 255);\"></td><td title=\"Index: [7, 6]&#10;Color: (122, 122, 255)\" style=\"width: 20px; height: 20px;background-color: rgb(122, 122, 255);\"></td><td title=\"Index: [7, 7]&#10;Color: (122, 122, 255)\" style=\"width: 20px; height: 20px;background-color: rgb(122, 122, 255);\"></td></tr></tbody></table>"
       ],
       "metadata": {},
       "output_type": "display_data",
       "text": [
        "<IPython.core.display.HTML at 0x1023b87d0>"
       ]
      }
     ],
     "prompt_number": 5
    },
    {
     "cell_type": "code",
     "collapsed": false,
     "input": [],
     "language": "python",
     "metadata": {},
     "outputs": []
    }
   ],
   "metadata": {}
  }
 ]
}