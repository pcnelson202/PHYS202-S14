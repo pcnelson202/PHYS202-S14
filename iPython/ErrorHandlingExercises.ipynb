{
 "metadata": {
  "name": "",
  "signature": "sha256:708e0d70e01292d5c836b5f8e2ecbce7b7911b727b96044fb48a25483a8d1b6d"
 },
 "nbformat": 3,
 "nbformat_minor": 0,
 "worksheets": [
  {
   "cells": [
    {
     "cell_type": "heading",
     "level": 1,
     "metadata": {},
     "source": [
      "Error Handling Exercises"
     ]
    },
    {
     "cell_type": "markdown",
     "metadata": {},
     "source": [
      "**1.** Find a partner. Choose a driver and a navigator. The driver should copy their Battleship code to a cell in the driver's ErrorHandlingExercises notebook. The driver should explain to the navigator the basics of how their program works. Work together to add some error handling to the program. Include a markdown cell identifying the driver and navigator. When you are done, switch roles and let the navigator be the driver and vice versa. At the end you should both have a Battleship program that includes some error handling."
     ]
    },
    {
     "cell_type": "markdown",
     "metadata": {},
     "source": [
      "Driver: Peter Nelson\n",
      "\n",
      "Navigator: Philippe Nguyen"
     ]
    },
    {
     "cell_type": "code",
     "collapsed": false,
     "input": [
      "from ipythonblocks import BlockGrid\n",
      "from ipythonblocks import colors\n",
      "board = BlockGrid(8,8, fill=(122, 122, 255))\n",
      "print \"Let's play Battleship! Here is your board.\"\n",
      "board.show()\n",
      "print \"Start by making a guess. You have 15 tries. The rows and columns are numbered 0 through 7.\"\n",
      "board = BlockGrid(8,8, fill=(122,122,255))\n",
      "from random import randint\n",
      "def random_row(board):\n",
      "    return randint(1, board.width-2)\n",
      "\n",
      "def random_col(board):\n",
      "    return randint(1, board.height-2)\n",
      "ship_row1 = 27\n",
      "ship_col1 = 27\n",
      "ship_row1 = random_row(board)\n",
      "ship_col1 = random_col(board)\n",
      "orientation = randint(1,10)\n",
      "if orientation % 2 == 0:\n",
      "    ship_col2 = ship_col1+1\n",
      "    ship_col3 = ship_col1-1\n",
      "    ship_row2 = ship_row1\n",
      "    ship_row3 = ship_row1\n",
      "else:\n",
      "    ship_row2 = ship_row1+1\n",
      "    ship_row3 = ship_row1-1\n",
      "    ship_col2 = ship_col1\n",
      "    ship_col3 = ship_col1\n",
      "hits = 0\n",
      "for turn in range(15):\n",
      "    try:\n",
      "        guess_row = int(raw_input(\"Guess Row:\"))\n",
      "    except: \n",
      "        print \"Oops. That wasn't a valid row number. They must be integers. For this turn, we'll have your row guess be 3 (the fourth row).\"\n",
      "        guess_row = 3\n",
      "    try:\n",
      "        guess_col = int(raw_input(\"Guess Col:\"))\n",
      "    except:\n",
      "        print \"Wow. You're struggling with this. Integers are whole numbers, i.e. -1, 0, 1, 2, 3, 4, .... and valid rows and columns must be integers. Since you're bad, your column guess will be 23 this turn. Yeah, I know it isn't in the ocean.\"\n",
      "        guess_col = 23\n",
      "    if (guess_row == ship_row1 or guess_row == ship_row2 or guess_row == ship_row3) and (guess_col == ship_col1 or guess_col == ship_col2 or guess_col == ship_col3):\n",
      "        if board[guess_row,guess_col].red == 255:\n",
      "            print \"You already hit me there. Stop adding insult to injury.\"\n",
      "        else:\n",
      "            hits+=1\n",
      "        board[guess_row,guess_col] = colors['Red']\n",
      "        board.show()\n",
      "        if hits == 3:\n",
      "            print \"Oh no! My battleship is sinking! The good news is that I survived long enough to give you this message.\"\n",
      "            break\n",
      "    else:\n",
      "        if (guess_row < 0 or guess_row > 7) or (guess_col < 0 or guess_col > 7):\n",
      "            print \"Oops, that guess is not even in the ocean.\"\n",
      "            board.show()\n",
      "        elif board[guess_row,guess_col].blue == 0:\n",
      "            print \"You guessed that one already.\"\n",
      "            board.show()\n",
      "        else:\n",
      "            print \"You missed my battleship!\"\n",
      "            board[guess_row,guess_col] = colors['Black']\n",
      "            board.show()\n",
      "    print \"End of Turn\", turn + 1\n",
      "    if turn == 14:\n",
      "        print \"You didn't sink my battleship. Maybe you should play a different game.\"\n",
      "        board[ship_row1,ship_col1] = colors['Red']\n",
      "        board[ship_row1,ship_col2] = colors['Red']\n",
      "        board[ship_row1,ship_col3] = colors['Red']\n",
      "        board[ship_row2,ship_col1] = colors['Red']\n",
      "        board[ship_row2,ship_col2] = colors['Red']\n",
      "        board[ship_row2,ship_col3] = colors['Red']\n",
      "        board[ship_row3,ship_col1] = colors['Red']\n",
      "        board[ship_row3,ship_col2] = colors['Red']\n",
      "        board[ship_row3,ship_col3] = colors['Red']\n",
      "        board.show()\n",
      "        print \"Here's where I was hiding.\"\n",
      "        \n",
      "        \n",
      "        "
     ],
     "language": "python",
     "metadata": {},
     "outputs": [
      {
       "output_type": "stream",
       "stream": "stdout",
       "text": [
        "Let's play Battleship! Here is your board.\n"
       ]
      },
      {
       "html": [
        "<style type=\"text/css\">table.blockgrid {border: none;} .blockgrid tr {border: none;} .blockgrid td {padding: 0px;} #blockse30fd175-cf40-48fb-8c33-9f6a697cc31b td {border: 1px solid white;}</style><table id=\"blockse30fd175-cf40-48fb-8c33-9f6a697cc31b\" class=\"blockgrid\"><tbody><tr><td title=\"Index: [0, 0]&#10;Color: (122, 122, 255)\" style=\"width: 20px; height: 20px;background-color: rgb(122, 122, 255);\"></td><td title=\"Index: [0, 1]&#10;Color: (122, 122, 255)\" style=\"width: 20px; height: 20px;background-color: rgb(122, 122, 255);\"></td><td title=\"Index: [0, 2]&#10;Color: (122, 122, 255)\" style=\"width: 20px; height: 20px;background-color: rgb(122, 122, 255);\"></td><td title=\"Index: [0, 3]&#10;Color: (122, 122, 255)\" style=\"width: 20px; height: 20px;background-color: rgb(122, 122, 255);\"></td><td title=\"Index: [0, 4]&#10;Color: (122, 122, 255)\" style=\"width: 20px; height: 20px;background-color: rgb(122, 122, 255);\"></td><td title=\"Index: [0, 5]&#10;Color: (122, 122, 255)\" style=\"width: 20px; height: 20px;background-color: rgb(122, 122, 255);\"></td><td title=\"Index: [0, 6]&#10;Color: (122, 122, 255)\" style=\"width: 20px; height: 20px;background-color: rgb(122, 122, 255);\"></td><td title=\"Index: [0, 7]&#10;Color: (122, 122, 255)\" style=\"width: 20px; height: 20px;background-color: rgb(122, 122, 255);\"></td></tr><tr><td title=\"Index: [1, 0]&#10;Color: (122, 122, 255)\" style=\"width: 20px; height: 20px;background-color: rgb(122, 122, 255);\"></td><td title=\"Index: [1, 1]&#10;Color: (122, 122, 255)\" style=\"width: 20px; height: 20px;background-color: rgb(122, 122, 255);\"></td><td title=\"Index: [1, 2]&#10;Color: (122, 122, 255)\" style=\"width: 20px; height: 20px;background-color: rgb(122, 122, 255);\"></td><td title=\"Index: [1, 3]&#10;Color: (122, 122, 255)\" style=\"width: 20px; height: 20px;background-color: rgb(122, 122, 255);\"></td><td title=\"Index: [1, 4]&#10;Color: (122, 122, 255)\" style=\"width: 20px; height: 20px;background-color: rgb(122, 122, 255);\"></td><td title=\"Index: [1, 5]&#10;Color: (122, 122, 255)\" style=\"width: 20px; height: 20px;background-color: rgb(122, 122, 255);\"></td><td title=\"Index: [1, 6]&#10;Color: (122, 122, 255)\" style=\"width: 20px; height: 20px;background-color: rgb(122, 122, 255);\"></td><td title=\"Index: [1, 7]&#10;Color: (122, 122, 255)\" style=\"width: 20px; height: 20px;background-color: rgb(122, 122, 255);\"></td></tr><tr><td title=\"Index: [2, 0]&#10;Color: (122, 122, 255)\" style=\"width: 20px; height: 20px;background-color: rgb(122, 122, 255);\"></td><td title=\"Index: [2, 1]&#10;Color: (122, 122, 255)\" style=\"width: 20px; height: 20px;background-color: rgb(122, 122, 255);\"></td><td title=\"Index: [2, 2]&#10;Color: (122, 122, 255)\" style=\"width: 20px; height: 20px;background-color: rgb(122, 122, 255);\"></td><td title=\"Index: [2, 3]&#10;Color: (122, 122, 255)\" style=\"width: 20px; height: 20px;background-color: rgb(122, 122, 255);\"></td><td title=\"Index: [2, 4]&#10;Color: (122, 122, 255)\" style=\"width: 20px; height: 20px;background-color: rgb(122, 122, 255);\"></td><td title=\"Index: [2, 5]&#10;Color: (122, 122, 255)\" style=\"width: 20px; height: 20px;background-color: rgb(122, 122, 255);\"></td><td title=\"Index: [2, 6]&#10;Color: (122, 122, 255)\" style=\"width: 20px; height: 20px;background-color: rgb(122, 122, 255);\"></td><td title=\"Index: [2, 7]&#10;Color: (122, 122, 255)\" style=\"width: 20px; height: 20px;background-color: rgb(122, 122, 255);\"></td></tr><tr><td title=\"Index: [3, 0]&#10;Color: (122, 122, 255)\" style=\"width: 20px; height: 20px;background-color: rgb(122, 122, 255);\"></td><td title=\"Index: [3, 1]&#10;Color: (122, 122, 255)\" style=\"width: 20px; height: 20px;background-color: rgb(122, 122, 255);\"></td><td title=\"Index: [3, 2]&#10;Color: (122, 122, 255)\" style=\"width: 20px; height: 20px;background-color: rgb(122, 122, 255);\"></td><td title=\"Index: [3, 3]&#10;Color: (122, 122, 255)\" style=\"width: 20px; height: 20px;background-color: rgb(122, 122, 255);\"></td><td title=\"Index: [3, 4]&#10;Color: (122, 122, 255)\" style=\"width: 20px; height: 20px;background-color: rgb(122, 122, 255);\"></td><td title=\"Index: [3, 5]&#10;Color: (122, 122, 255)\" style=\"width: 20px; height: 20px;background-color: rgb(122, 122, 255);\"></td><td title=\"Index: [3, 6]&#10;Color: (122, 122, 255)\" style=\"width: 20px; height: 20px;background-color: rgb(122, 122, 255);\"></td><td title=\"Index: [3, 7]&#10;Color: (122, 122, 255)\" style=\"width: 20px; height: 20px;background-color: rgb(122, 122, 255);\"></td></tr><tr><td title=\"Index: [4, 0]&#10;Color: (122, 122, 255)\" style=\"width: 20px; height: 20px;background-color: rgb(122, 122, 255);\"></td><td title=\"Index: [4, 1]&#10;Color: (122, 122, 255)\" style=\"width: 20px; height: 20px;background-color: rgb(122, 122, 255);\"></td><td title=\"Index: [4, 2]&#10;Color: (122, 122, 255)\" style=\"width: 20px; height: 20px;background-color: rgb(122, 122, 255);\"></td><td title=\"Index: [4, 3]&#10;Color: (122, 122, 255)\" style=\"width: 20px; height: 20px;background-color: rgb(122, 122, 255);\"></td><td title=\"Index: [4, 4]&#10;Color: (122, 122, 255)\" style=\"width: 20px; height: 20px;background-color: rgb(122, 122, 255);\"></td><td title=\"Index: [4, 5]&#10;Color: (122, 122, 255)\" style=\"width: 20px; height: 20px;background-color: rgb(122, 122, 255);\"></td><td title=\"Index: [4, 6]&#10;Color: (122, 122, 255)\" style=\"width: 20px; height: 20px;background-color: rgb(122, 122, 255);\"></td><td title=\"Index: [4, 7]&#10;Color: (122, 122, 255)\" style=\"width: 20px; height: 20px;background-color: rgb(122, 122, 255);\"></td></tr><tr><td title=\"Index: [5, 0]&#10;Color: (122, 122, 255)\" style=\"width: 20px; height: 20px;background-color: rgb(122, 122, 255);\"></td><td title=\"Index: [5, 1]&#10;Color: (122, 122, 255)\" style=\"width: 20px; height: 20px;background-color: rgb(122, 122, 255);\"></td><td title=\"Index: [5, 2]&#10;Color: (122, 122, 255)\" style=\"width: 20px; height: 20px;background-color: rgb(122, 122, 255);\"></td><td title=\"Index: [5, 3]&#10;Color: (122, 122, 255)\" style=\"width: 20px; height: 20px;background-color: rgb(122, 122, 255);\"></td><td title=\"Index: [5, 4]&#10;Color: (122, 122, 255)\" style=\"width: 20px; height: 20px;background-color: rgb(122, 122, 255);\"></td><td title=\"Index: [5, 5]&#10;Color: (122, 122, 255)\" style=\"width: 20px; height: 20px;background-color: rgb(122, 122, 255);\"></td><td title=\"Index: [5, 6]&#10;Color: (122, 122, 255)\" style=\"width: 20px; height: 20px;background-color: rgb(122, 122, 255);\"></td><td title=\"Index: [5, 7]&#10;Color: (122, 122, 255)\" style=\"width: 20px; height: 20px;background-color: rgb(122, 122, 255);\"></td></tr><tr><td title=\"Index: [6, 0]&#10;Color: (122, 122, 255)\" style=\"width: 20px; height: 20px;background-color: rgb(122, 122, 255);\"></td><td title=\"Index: [6, 1]&#10;Color: (122, 122, 255)\" style=\"width: 20px; height: 20px;background-color: rgb(122, 122, 255);\"></td><td title=\"Index: [6, 2]&#10;Color: (122, 122, 255)\" style=\"width: 20px; height: 20px;background-color: rgb(122, 122, 255);\"></td><td title=\"Index: [6, 3]&#10;Color: (122, 122, 255)\" style=\"width: 20px; height: 20px;background-color: rgb(122, 122, 255);\"></td><td title=\"Index: [6, 4]&#10;Color: (122, 122, 255)\" style=\"width: 20px; height: 20px;background-color: rgb(122, 122, 255);\"></td><td title=\"Index: [6, 5]&#10;Color: (122, 122, 255)\" style=\"width: 20px; height: 20px;background-color: rgb(122, 122, 255);\"></td><td title=\"Index: [6, 6]&#10;Color: (122, 122, 255)\" style=\"width: 20px; height: 20px;background-color: rgb(122, 122, 255);\"></td><td title=\"Index: [6, 7]&#10;Color: (122, 122, 255)\" style=\"width: 20px; height: 20px;background-color: rgb(122, 122, 255);\"></td></tr><tr><td title=\"Index: [7, 0]&#10;Color: (122, 122, 255)\" style=\"width: 20px; height: 20px;background-color: rgb(122, 122, 255);\"></td><td title=\"Index: [7, 1]&#10;Color: (122, 122, 255)\" style=\"width: 20px; height: 20px;background-color: rgb(122, 122, 255);\"></td><td title=\"Index: [7, 2]&#10;Color: (122, 122, 255)\" style=\"width: 20px; height: 20px;background-color: rgb(122, 122, 255);\"></td><td title=\"Index: [7, 3]&#10;Color: (122, 122, 255)\" style=\"width: 20px; height: 20px;background-color: rgb(122, 122, 255);\"></td><td title=\"Index: [7, 4]&#10;Color: (122, 122, 255)\" style=\"width: 20px; height: 20px;background-color: rgb(122, 122, 255);\"></td><td title=\"Index: [7, 5]&#10;Color: (122, 122, 255)\" style=\"width: 20px; height: 20px;background-color: rgb(122, 122, 255);\"></td><td title=\"Index: [7, 6]&#10;Color: (122, 122, 255)\" style=\"width: 20px; height: 20px;background-color: rgb(122, 122, 255);\"></td><td title=\"Index: [7, 7]&#10;Color: (122, 122, 255)\" style=\"width: 20px; height: 20px;background-color: rgb(122, 122, 255);\"></td></tr></tbody></table>"
       ],
       "metadata": {},
       "output_type": "display_data",
       "text": [
        "<IPython.core.display.HTML at 0x178aed0>"
       ]
      },
      {
       "output_type": "stream",
       "stream": "stdout",
       "text": [
        "Start by making a guess. You have 15 tries. The rows and columns are numbered 0 through 7.\n"
       ]
      },
      {
       "name": "stdout",
       "output_type": "stream",
       "stream": "stdout",
       "text": [
        "Guess Row:cheese\n"
       ]
      },
      {
       "output_type": "stream",
       "stream": "stdout",
       "text": [
        "Oops. That wasn't a valid row number. They must be integers. For this turn, we'll have your row guess be 3 (the fourth row).\n"
       ]
      },
      {
       "name": "stdout",
       "output_type": "stream",
       "stream": "stdout",
       "text": [
        "Guess Col:lemons\n"
       ]
      },
      {
       "output_type": "stream",
       "stream": "stdout",
       "text": [
        "Wow. You're struggling with this. Integers are whole numbers, i.e. -1, 0, 1, 2, 3, 4, .... and valid rows and columns must be integers. Since you're bad, your column guess will be 23 this turn. Yeah, I know it isn't in the ocean.\n",
        "Oops, that guess is not even in the ocean.\n"
       ]
      },
      {
       "html": [
        "<style type=\"text/css\">table.blockgrid {border: none;} .blockgrid tr {border: none;} .blockgrid td {padding: 0px;} #blocksc3ee3136-644c-4619-81ad-7ab788c554f8 td {border: 1px solid white;}</style><table id=\"blocksc3ee3136-644c-4619-81ad-7ab788c554f8\" class=\"blockgrid\"><tbody><tr><td title=\"Index: [0, 0]&#10;Color: (122, 122, 255)\" style=\"width: 20px; height: 20px;background-color: rgb(122, 122, 255);\"></td><td title=\"Index: [0, 1]&#10;Color: (122, 122, 255)\" style=\"width: 20px; height: 20px;background-color: rgb(122, 122, 255);\"></td><td title=\"Index: [0, 2]&#10;Color: (122, 122, 255)\" style=\"width: 20px; height: 20px;background-color: rgb(122, 122, 255);\"></td><td title=\"Index: [0, 3]&#10;Color: (122, 122, 255)\" style=\"width: 20px; height: 20px;background-color: rgb(122, 122, 255);\"></td><td title=\"Index: [0, 4]&#10;Color: (122, 122, 255)\" style=\"width: 20px; height: 20px;background-color: rgb(122, 122, 255);\"></td><td title=\"Index: [0, 5]&#10;Color: (122, 122, 255)\" style=\"width: 20px; height: 20px;background-color: rgb(122, 122, 255);\"></td><td title=\"Index: [0, 6]&#10;Color: (122, 122, 255)\" style=\"width: 20px; height: 20px;background-color: rgb(122, 122, 255);\"></td><td title=\"Index: [0, 7]&#10;Color: (122, 122, 255)\" style=\"width: 20px; height: 20px;background-color: rgb(122, 122, 255);\"></td></tr><tr><td title=\"Index: [1, 0]&#10;Color: (122, 122, 255)\" style=\"width: 20px; height: 20px;background-color: rgb(122, 122, 255);\"></td><td title=\"Index: [1, 1]&#10;Color: (122, 122, 255)\" style=\"width: 20px; height: 20px;background-color: rgb(122, 122, 255);\"></td><td title=\"Index: [1, 2]&#10;Color: (122, 122, 255)\" style=\"width: 20px; height: 20px;background-color: rgb(122, 122, 255);\"></td><td title=\"Index: [1, 3]&#10;Color: (122, 122, 255)\" style=\"width: 20px; height: 20px;background-color: rgb(122, 122, 255);\"></td><td title=\"Index: [1, 4]&#10;Color: (122, 122, 255)\" style=\"width: 20px; height: 20px;background-color: rgb(122, 122, 255);\"></td><td title=\"Index: [1, 5]&#10;Color: (122, 122, 255)\" style=\"width: 20px; height: 20px;background-color: rgb(122, 122, 255);\"></td><td title=\"Index: [1, 6]&#10;Color: (122, 122, 255)\" style=\"width: 20px; height: 20px;background-color: rgb(122, 122, 255);\"></td><td title=\"Index: [1, 7]&#10;Color: (122, 122, 255)\" style=\"width: 20px; height: 20px;background-color: rgb(122, 122, 255);\"></td></tr><tr><td title=\"Index: [2, 0]&#10;Color: (122, 122, 255)\" style=\"width: 20px; height: 20px;background-color: rgb(122, 122, 255);\"></td><td title=\"Index: [2, 1]&#10;Color: (122, 122, 255)\" style=\"width: 20px; height: 20px;background-color: rgb(122, 122, 255);\"></td><td title=\"Index: [2, 2]&#10;Color: (122, 122, 255)\" style=\"width: 20px; height: 20px;background-color: rgb(122, 122, 255);\"></td><td title=\"Index: [2, 3]&#10;Color: (122, 122, 255)\" style=\"width: 20px; height: 20px;background-color: rgb(122, 122, 255);\"></td><td title=\"Index: [2, 4]&#10;Color: (122, 122, 255)\" style=\"width: 20px; height: 20px;background-color: rgb(122, 122, 255);\"></td><td title=\"Index: [2, 5]&#10;Color: (122, 122, 255)\" style=\"width: 20px; height: 20px;background-color: rgb(122, 122, 255);\"></td><td title=\"Index: [2, 6]&#10;Color: (122, 122, 255)\" style=\"width: 20px; height: 20px;background-color: rgb(122, 122, 255);\"></td><td title=\"Index: [2, 7]&#10;Color: (122, 122, 255)\" style=\"width: 20px; height: 20px;background-color: rgb(122, 122, 255);\"></td></tr><tr><td title=\"Index: [3, 0]&#10;Color: (122, 122, 255)\" style=\"width: 20px; height: 20px;background-color: rgb(122, 122, 255);\"></td><td title=\"Index: [3, 1]&#10;Color: (122, 122, 255)\" style=\"width: 20px; height: 20px;background-color: rgb(122, 122, 255);\"></td><td title=\"Index: [3, 2]&#10;Color: (122, 122, 255)\" style=\"width: 20px; height: 20px;background-color: rgb(122, 122, 255);\"></td><td title=\"Index: [3, 3]&#10;Color: (122, 122, 255)\" style=\"width: 20px; height: 20px;background-color: rgb(122, 122, 255);\"></td><td title=\"Index: [3, 4]&#10;Color: (122, 122, 255)\" style=\"width: 20px; height: 20px;background-color: rgb(122, 122, 255);\"></td><td title=\"Index: [3, 5]&#10;Color: (122, 122, 255)\" style=\"width: 20px; height: 20px;background-color: rgb(122, 122, 255);\"></td><td title=\"Index: [3, 6]&#10;Color: (122, 122, 255)\" style=\"width: 20px; height: 20px;background-color: rgb(122, 122, 255);\"></td><td title=\"Index: [3, 7]&#10;Color: (122, 122, 255)\" style=\"width: 20px; height: 20px;background-color: rgb(122, 122, 255);\"></td></tr><tr><td title=\"Index: [4, 0]&#10;Color: (122, 122, 255)\" style=\"width: 20px; height: 20px;background-color: rgb(122, 122, 255);\"></td><td title=\"Index: [4, 1]&#10;Color: (122, 122, 255)\" style=\"width: 20px; height: 20px;background-color: rgb(122, 122, 255);\"></td><td title=\"Index: [4, 2]&#10;Color: (122, 122, 255)\" style=\"width: 20px; height: 20px;background-color: rgb(122, 122, 255);\"></td><td title=\"Index: [4, 3]&#10;Color: (122, 122, 255)\" style=\"width: 20px; height: 20px;background-color: rgb(122, 122, 255);\"></td><td title=\"Index: [4, 4]&#10;Color: (122, 122, 255)\" style=\"width: 20px; height: 20px;background-color: rgb(122, 122, 255);\"></td><td title=\"Index: [4, 5]&#10;Color: (122, 122, 255)\" style=\"width: 20px; height: 20px;background-color: rgb(122, 122, 255);\"></td><td title=\"Index: [4, 6]&#10;Color: (122, 122, 255)\" style=\"width: 20px; height: 20px;background-color: rgb(122, 122, 255);\"></td><td title=\"Index: [4, 7]&#10;Color: (122, 122, 255)\" style=\"width: 20px; height: 20px;background-color: rgb(122, 122, 255);\"></td></tr><tr><td title=\"Index: [5, 0]&#10;Color: (122, 122, 255)\" style=\"width: 20px; height: 20px;background-color: rgb(122, 122, 255);\"></td><td title=\"Index: [5, 1]&#10;Color: (122, 122, 255)\" style=\"width: 20px; height: 20px;background-color: rgb(122, 122, 255);\"></td><td title=\"Index: [5, 2]&#10;Color: (122, 122, 255)\" style=\"width: 20px; height: 20px;background-color: rgb(122, 122, 255);\"></td><td title=\"Index: [5, 3]&#10;Color: (122, 122, 255)\" style=\"width: 20px; height: 20px;background-color: rgb(122, 122, 255);\"></td><td title=\"Index: [5, 4]&#10;Color: (122, 122, 255)\" style=\"width: 20px; height: 20px;background-color: rgb(122, 122, 255);\"></td><td title=\"Index: [5, 5]&#10;Color: (122, 122, 255)\" style=\"width: 20px; height: 20px;background-color: rgb(122, 122, 255);\"></td><td title=\"Index: [5, 6]&#10;Color: (122, 122, 255)\" style=\"width: 20px; height: 20px;background-color: rgb(122, 122, 255);\"></td><td title=\"Index: [5, 7]&#10;Color: (122, 122, 255)\" style=\"width: 20px; height: 20px;background-color: rgb(122, 122, 255);\"></td></tr><tr><td title=\"Index: [6, 0]&#10;Color: (122, 122, 255)\" style=\"width: 20px; height: 20px;background-color: rgb(122, 122, 255);\"></td><td title=\"Index: [6, 1]&#10;Color: (122, 122, 255)\" style=\"width: 20px; height: 20px;background-color: rgb(122, 122, 255);\"></td><td title=\"Index: [6, 2]&#10;Color: (122, 122, 255)\" style=\"width: 20px; height: 20px;background-color: rgb(122, 122, 255);\"></td><td title=\"Index: [6, 3]&#10;Color: (122, 122, 255)\" style=\"width: 20px; height: 20px;background-color: rgb(122, 122, 255);\"></td><td title=\"Index: [6, 4]&#10;Color: (122, 122, 255)\" style=\"width: 20px; height: 20px;background-color: rgb(122, 122, 255);\"></td><td title=\"Index: [6, 5]&#10;Color: (122, 122, 255)\" style=\"width: 20px; height: 20px;background-color: rgb(122, 122, 255);\"></td><td title=\"Index: [6, 6]&#10;Color: (122, 122, 255)\" style=\"width: 20px; height: 20px;background-color: rgb(122, 122, 255);\"></td><td title=\"Index: [6, 7]&#10;Color: (122, 122, 255)\" style=\"width: 20px; height: 20px;background-color: rgb(122, 122, 255);\"></td></tr><tr><td title=\"Index: [7, 0]&#10;Color: (122, 122, 255)\" style=\"width: 20px; height: 20px;background-color: rgb(122, 122, 255);\"></td><td title=\"Index: [7, 1]&#10;Color: (122, 122, 255)\" style=\"width: 20px; height: 20px;background-color: rgb(122, 122, 255);\"></td><td title=\"Index: [7, 2]&#10;Color: (122, 122, 255)\" style=\"width: 20px; height: 20px;background-color: rgb(122, 122, 255);\"></td><td title=\"Index: [7, 3]&#10;Color: (122, 122, 255)\" style=\"width: 20px; height: 20px;background-color: rgb(122, 122, 255);\"></td><td title=\"Index: [7, 4]&#10;Color: (122, 122, 255)\" style=\"width: 20px; height: 20px;background-color: rgb(122, 122, 255);\"></td><td title=\"Index: [7, 5]&#10;Color: (122, 122, 255)\" style=\"width: 20px; height: 20px;background-color: rgb(122, 122, 255);\"></td><td title=\"Index: [7, 6]&#10;Color: (122, 122, 255)\" style=\"width: 20px; height: 20px;background-color: rgb(122, 122, 255);\"></td><td title=\"Index: [7, 7]&#10;Color: (122, 122, 255)\" style=\"width: 20px; height: 20px;background-color: rgb(122, 122, 255);\"></td></tr></tbody></table>"
       ],
       "metadata": {},
       "output_type": "display_data",
       "text": [
        "<IPython.core.display.HTML at 0x1796030>"
       ]
      },
      {
       "output_type": "stream",
       "stream": "stdout",
       "text": [
        "End of Turn 1\n"
       ]
      },
      {
       "name": "stdout",
       "output_type": "stream",
       "stream": "stdout",
       "text": [
        "Guess Row:5.2\n"
       ]
      },
      {
       "output_type": "stream",
       "stream": "stdout",
       "text": [
        "Oops. That wasn't a valid row number. They must be integers. For this turn, we'll have your row guess be 3 (the fourth row).\n"
       ]
      },
      {
       "name": "stdout",
       "output_type": "stream",
       "stream": "stdout",
       "text": [
        "Guess Col:6.1\n"
       ]
      },
      {
       "output_type": "stream",
       "stream": "stdout",
       "text": [
        "Wow. You're struggling with this. Integers are whole numbers, i.e. -1, 0, 1, 2, 3, 4, .... and valid rows and columns must be integers. Since you're bad, your column guess will be 23 this turn. Yeah, I know it isn't in the ocean.\n",
        "Oops, that guess is not even in the ocean.\n"
       ]
      },
      {
       "html": [
        "<style type=\"text/css\">table.blockgrid {border: none;} .blockgrid tr {border: none;} .blockgrid td {padding: 0px;} #blocks03a046d5-d29d-4372-8445-568dd5c8086b td {border: 1px solid white;}</style><table id=\"blocks03a046d5-d29d-4372-8445-568dd5c8086b\" class=\"blockgrid\"><tbody><tr><td title=\"Index: [0, 0]&#10;Color: (122, 122, 255)\" style=\"width: 20px; height: 20px;background-color: rgb(122, 122, 255);\"></td><td title=\"Index: [0, 1]&#10;Color: (122, 122, 255)\" style=\"width: 20px; height: 20px;background-color: rgb(122, 122, 255);\"></td><td title=\"Index: [0, 2]&#10;Color: (122, 122, 255)\" style=\"width: 20px; height: 20px;background-color: rgb(122, 122, 255);\"></td><td title=\"Index: [0, 3]&#10;Color: (122, 122, 255)\" style=\"width: 20px; height: 20px;background-color: rgb(122, 122, 255);\"></td><td title=\"Index: [0, 4]&#10;Color: (122, 122, 255)\" style=\"width: 20px; height: 20px;background-color: rgb(122, 122, 255);\"></td><td title=\"Index: [0, 5]&#10;Color: (122, 122, 255)\" style=\"width: 20px; height: 20px;background-color: rgb(122, 122, 255);\"></td><td title=\"Index: [0, 6]&#10;Color: (122, 122, 255)\" style=\"width: 20px; height: 20px;background-color: rgb(122, 122, 255);\"></td><td title=\"Index: [0, 7]&#10;Color: (122, 122, 255)\" style=\"width: 20px; height: 20px;background-color: rgb(122, 122, 255);\"></td></tr><tr><td title=\"Index: [1, 0]&#10;Color: (122, 122, 255)\" style=\"width: 20px; height: 20px;background-color: rgb(122, 122, 255);\"></td><td title=\"Index: [1, 1]&#10;Color: (122, 122, 255)\" style=\"width: 20px; height: 20px;background-color: rgb(122, 122, 255);\"></td><td title=\"Index: [1, 2]&#10;Color: (122, 122, 255)\" style=\"width: 20px; height: 20px;background-color: rgb(122, 122, 255);\"></td><td title=\"Index: [1, 3]&#10;Color: (122, 122, 255)\" style=\"width: 20px; height: 20px;background-color: rgb(122, 122, 255);\"></td><td title=\"Index: [1, 4]&#10;Color: (122, 122, 255)\" style=\"width: 20px; height: 20px;background-color: rgb(122, 122, 255);\"></td><td title=\"Index: [1, 5]&#10;Color: (122, 122, 255)\" style=\"width: 20px; height: 20px;background-color: rgb(122, 122, 255);\"></td><td title=\"Index: [1, 6]&#10;Color: (122, 122, 255)\" style=\"width: 20px; height: 20px;background-color: rgb(122, 122, 255);\"></td><td title=\"Index: [1, 7]&#10;Color: (122, 122, 255)\" style=\"width: 20px; height: 20px;background-color: rgb(122, 122, 255);\"></td></tr><tr><td title=\"Index: [2, 0]&#10;Color: (122, 122, 255)\" style=\"width: 20px; height: 20px;background-color: rgb(122, 122, 255);\"></td><td title=\"Index: [2, 1]&#10;Color: (122, 122, 255)\" style=\"width: 20px; height: 20px;background-color: rgb(122, 122, 255);\"></td><td title=\"Index: [2, 2]&#10;Color: (122, 122, 255)\" style=\"width: 20px; height: 20px;background-color: rgb(122, 122, 255);\"></td><td title=\"Index: [2, 3]&#10;Color: (122, 122, 255)\" style=\"width: 20px; height: 20px;background-color: rgb(122, 122, 255);\"></td><td title=\"Index: [2, 4]&#10;Color: (122, 122, 255)\" style=\"width: 20px; height: 20px;background-color: rgb(122, 122, 255);\"></td><td title=\"Index: [2, 5]&#10;Color: (122, 122, 255)\" style=\"width: 20px; height: 20px;background-color: rgb(122, 122, 255);\"></td><td title=\"Index: [2, 6]&#10;Color: (122, 122, 255)\" style=\"width: 20px; height: 20px;background-color: rgb(122, 122, 255);\"></td><td title=\"Index: [2, 7]&#10;Color: (122, 122, 255)\" style=\"width: 20px; height: 20px;background-color: rgb(122, 122, 255);\"></td></tr><tr><td title=\"Index: [3, 0]&#10;Color: (122, 122, 255)\" style=\"width: 20px; height: 20px;background-color: rgb(122, 122, 255);\"></td><td title=\"Index: [3, 1]&#10;Color: (122, 122, 255)\" style=\"width: 20px; height: 20px;background-color: rgb(122, 122, 255);\"></td><td title=\"Index: [3, 2]&#10;Color: (122, 122, 255)\" style=\"width: 20px; height: 20px;background-color: rgb(122, 122, 255);\"></td><td title=\"Index: [3, 3]&#10;Color: (122, 122, 255)\" style=\"width: 20px; height: 20px;background-color: rgb(122, 122, 255);\"></td><td title=\"Index: [3, 4]&#10;Color: (122, 122, 255)\" style=\"width: 20px; height: 20px;background-color: rgb(122, 122, 255);\"></td><td title=\"Index: [3, 5]&#10;Color: (122, 122, 255)\" style=\"width: 20px; height: 20px;background-color: rgb(122, 122, 255);\"></td><td title=\"Index: [3, 6]&#10;Color: (122, 122, 255)\" style=\"width: 20px; height: 20px;background-color: rgb(122, 122, 255);\"></td><td title=\"Index: [3, 7]&#10;Color: (122, 122, 255)\" style=\"width: 20px; height: 20px;background-color: rgb(122, 122, 255);\"></td></tr><tr><td title=\"Index: [4, 0]&#10;Color: (122, 122, 255)\" style=\"width: 20px; height: 20px;background-color: rgb(122, 122, 255);\"></td><td title=\"Index: [4, 1]&#10;Color: (122, 122, 255)\" style=\"width: 20px; height: 20px;background-color: rgb(122, 122, 255);\"></td><td title=\"Index: [4, 2]&#10;Color: (122, 122, 255)\" style=\"width: 20px; height: 20px;background-color: rgb(122, 122, 255);\"></td><td title=\"Index: [4, 3]&#10;Color: (122, 122, 255)\" style=\"width: 20px; height: 20px;background-color: rgb(122, 122, 255);\"></td><td title=\"Index: [4, 4]&#10;Color: (122, 122, 255)\" style=\"width: 20px; height: 20px;background-color: rgb(122, 122, 255);\"></td><td title=\"Index: [4, 5]&#10;Color: (122, 122, 255)\" style=\"width: 20px; height: 20px;background-color: rgb(122, 122, 255);\"></td><td title=\"Index: [4, 6]&#10;Color: (122, 122, 255)\" style=\"width: 20px; height: 20px;background-color: rgb(122, 122, 255);\"></td><td title=\"Index: [4, 7]&#10;Color: (122, 122, 255)\" style=\"width: 20px; height: 20px;background-color: rgb(122, 122, 255);\"></td></tr><tr><td title=\"Index: [5, 0]&#10;Color: (122, 122, 255)\" style=\"width: 20px; height: 20px;background-color: rgb(122, 122, 255);\"></td><td title=\"Index: [5, 1]&#10;Color: (122, 122, 255)\" style=\"width: 20px; height: 20px;background-color: rgb(122, 122, 255);\"></td><td title=\"Index: [5, 2]&#10;Color: (122, 122, 255)\" style=\"width: 20px; height: 20px;background-color: rgb(122, 122, 255);\"></td><td title=\"Index: [5, 3]&#10;Color: (122, 122, 255)\" style=\"width: 20px; height: 20px;background-color: rgb(122, 122, 255);\"></td><td title=\"Index: [5, 4]&#10;Color: (122, 122, 255)\" style=\"width: 20px; height: 20px;background-color: rgb(122, 122, 255);\"></td><td title=\"Index: [5, 5]&#10;Color: (122, 122, 255)\" style=\"width: 20px; height: 20px;background-color: rgb(122, 122, 255);\"></td><td title=\"Index: [5, 6]&#10;Color: (122, 122, 255)\" style=\"width: 20px; height: 20px;background-color: rgb(122, 122, 255);\"></td><td title=\"Index: [5, 7]&#10;Color: (122, 122, 255)\" style=\"width: 20px; height: 20px;background-color: rgb(122, 122, 255);\"></td></tr><tr><td title=\"Index: [6, 0]&#10;Color: (122, 122, 255)\" style=\"width: 20px; height: 20px;background-color: rgb(122, 122, 255);\"></td><td title=\"Index: [6, 1]&#10;Color: (122, 122, 255)\" style=\"width: 20px; height: 20px;background-color: rgb(122, 122, 255);\"></td><td title=\"Index: [6, 2]&#10;Color: (122, 122, 255)\" style=\"width: 20px; height: 20px;background-color: rgb(122, 122, 255);\"></td><td title=\"Index: [6, 3]&#10;Color: (122, 122, 255)\" style=\"width: 20px; height: 20px;background-color: rgb(122, 122, 255);\"></td><td title=\"Index: [6, 4]&#10;Color: (122, 122, 255)\" style=\"width: 20px; height: 20px;background-color: rgb(122, 122, 255);\"></td><td title=\"Index: [6, 5]&#10;Color: (122, 122, 255)\" style=\"width: 20px; height: 20px;background-color: rgb(122, 122, 255);\"></td><td title=\"Index: [6, 6]&#10;Color: (122, 122, 255)\" style=\"width: 20px; height: 20px;background-color: rgb(122, 122, 255);\"></td><td title=\"Index: [6, 7]&#10;Color: (122, 122, 255)\" style=\"width: 20px; height: 20px;background-color: rgb(122, 122, 255);\"></td></tr><tr><td title=\"Index: [7, 0]&#10;Color: (122, 122, 255)\" style=\"width: 20px; height: 20px;background-color: rgb(122, 122, 255);\"></td><td title=\"Index: [7, 1]&#10;Color: (122, 122, 255)\" style=\"width: 20px; height: 20px;background-color: rgb(122, 122, 255);\"></td><td title=\"Index: [7, 2]&#10;Color: (122, 122, 255)\" style=\"width: 20px; height: 20px;background-color: rgb(122, 122, 255);\"></td><td title=\"Index: [7, 3]&#10;Color: (122, 122, 255)\" style=\"width: 20px; height: 20px;background-color: rgb(122, 122, 255);\"></td><td title=\"Index: [7, 4]&#10;Color: (122, 122, 255)\" style=\"width: 20px; height: 20px;background-color: rgb(122, 122, 255);\"></td><td title=\"Index: [7, 5]&#10;Color: (122, 122, 255)\" style=\"width: 20px; height: 20px;background-color: rgb(122, 122, 255);\"></td><td title=\"Index: [7, 6]&#10;Color: (122, 122, 255)\" style=\"width: 20px; height: 20px;background-color: rgb(122, 122, 255);\"></td><td title=\"Index: [7, 7]&#10;Color: (122, 122, 255)\" style=\"width: 20px; height: 20px;background-color: rgb(122, 122, 255);\"></td></tr></tbody></table>"
       ],
       "metadata": {},
       "output_type": "display_data",
       "text": [
        "<IPython.core.display.HTML at 0x179db10>"
       ]
      },
      {
       "output_type": "stream",
       "stream": "stdout",
       "text": [
        "End of Turn 2\n"
       ]
      },
      {
       "name": "stdout",
       "output_type": "stream",
       "stream": "stdout",
       "text": [
        "Guess Row:3\n"
       ]
      },
      {
       "name": "stdout",
       "output_type": "stream",
       "stream": "stdout",
       "text": [
        "Guess Col:33.11\n"
       ]
      },
      {
       "output_type": "stream",
       "stream": "stdout",
       "text": [
        "Wow. You're struggling with this. Integers are whole numbers, i.e. -1, 0, 1, 2, 3, 4, .... and valid rows and columns must be integers. Since you're bad, your column guess will be 23 this turn. Yeah, I know it isn't in the ocean.\n",
        "Oops, that guess is not even in the ocean.\n"
       ]
      },
      {
       "html": [
        "<style type=\"text/css\">table.blockgrid {border: none;} .blockgrid tr {border: none;} .blockgrid td {padding: 0px;} #blocks93648ac9-1ff1-4b19-b049-5cefa7e5b92c td {border: 1px solid white;}</style><table id=\"blocks93648ac9-1ff1-4b19-b049-5cefa7e5b92c\" class=\"blockgrid\"><tbody><tr><td title=\"Index: [0, 0]&#10;Color: (122, 122, 255)\" style=\"width: 20px; height: 20px;background-color: rgb(122, 122, 255);\"></td><td title=\"Index: [0, 1]&#10;Color: (122, 122, 255)\" style=\"width: 20px; height: 20px;background-color: rgb(122, 122, 255);\"></td><td title=\"Index: [0, 2]&#10;Color: (122, 122, 255)\" style=\"width: 20px; height: 20px;background-color: rgb(122, 122, 255);\"></td><td title=\"Index: [0, 3]&#10;Color: (122, 122, 255)\" style=\"width: 20px; height: 20px;background-color: rgb(122, 122, 255);\"></td><td title=\"Index: [0, 4]&#10;Color: (122, 122, 255)\" style=\"width: 20px; height: 20px;background-color: rgb(122, 122, 255);\"></td><td title=\"Index: [0, 5]&#10;Color: (122, 122, 255)\" style=\"width: 20px; height: 20px;background-color: rgb(122, 122, 255);\"></td><td title=\"Index: [0, 6]&#10;Color: (122, 122, 255)\" style=\"width: 20px; height: 20px;background-color: rgb(122, 122, 255);\"></td><td title=\"Index: [0, 7]&#10;Color: (122, 122, 255)\" style=\"width: 20px; height: 20px;background-color: rgb(122, 122, 255);\"></td></tr><tr><td title=\"Index: [1, 0]&#10;Color: (122, 122, 255)\" style=\"width: 20px; height: 20px;background-color: rgb(122, 122, 255);\"></td><td title=\"Index: [1, 1]&#10;Color: (122, 122, 255)\" style=\"width: 20px; height: 20px;background-color: rgb(122, 122, 255);\"></td><td title=\"Index: [1, 2]&#10;Color: (122, 122, 255)\" style=\"width: 20px; height: 20px;background-color: rgb(122, 122, 255);\"></td><td title=\"Index: [1, 3]&#10;Color: (122, 122, 255)\" style=\"width: 20px; height: 20px;background-color: rgb(122, 122, 255);\"></td><td title=\"Index: [1, 4]&#10;Color: (122, 122, 255)\" style=\"width: 20px; height: 20px;background-color: rgb(122, 122, 255);\"></td><td title=\"Index: [1, 5]&#10;Color: (122, 122, 255)\" style=\"width: 20px; height: 20px;background-color: rgb(122, 122, 255);\"></td><td title=\"Index: [1, 6]&#10;Color: (122, 122, 255)\" style=\"width: 20px; height: 20px;background-color: rgb(122, 122, 255);\"></td><td title=\"Index: [1, 7]&#10;Color: (122, 122, 255)\" style=\"width: 20px; height: 20px;background-color: rgb(122, 122, 255);\"></td></tr><tr><td title=\"Index: [2, 0]&#10;Color: (122, 122, 255)\" style=\"width: 20px; height: 20px;background-color: rgb(122, 122, 255);\"></td><td title=\"Index: [2, 1]&#10;Color: (122, 122, 255)\" style=\"width: 20px; height: 20px;background-color: rgb(122, 122, 255);\"></td><td title=\"Index: [2, 2]&#10;Color: (122, 122, 255)\" style=\"width: 20px; height: 20px;background-color: rgb(122, 122, 255);\"></td><td title=\"Index: [2, 3]&#10;Color: (122, 122, 255)\" style=\"width: 20px; height: 20px;background-color: rgb(122, 122, 255);\"></td><td title=\"Index: [2, 4]&#10;Color: (122, 122, 255)\" style=\"width: 20px; height: 20px;background-color: rgb(122, 122, 255);\"></td><td title=\"Index: [2, 5]&#10;Color: (122, 122, 255)\" style=\"width: 20px; height: 20px;background-color: rgb(122, 122, 255);\"></td><td title=\"Index: [2, 6]&#10;Color: (122, 122, 255)\" style=\"width: 20px; height: 20px;background-color: rgb(122, 122, 255);\"></td><td title=\"Index: [2, 7]&#10;Color: (122, 122, 255)\" style=\"width: 20px; height: 20px;background-color: rgb(122, 122, 255);\"></td></tr><tr><td title=\"Index: [3, 0]&#10;Color: (122, 122, 255)\" style=\"width: 20px; height: 20px;background-color: rgb(122, 122, 255);\"></td><td title=\"Index: [3, 1]&#10;Color: (122, 122, 255)\" style=\"width: 20px; height: 20px;background-color: rgb(122, 122, 255);\"></td><td title=\"Index: [3, 2]&#10;Color: (122, 122, 255)\" style=\"width: 20px; height: 20px;background-color: rgb(122, 122, 255);\"></td><td title=\"Index: [3, 3]&#10;Color: (122, 122, 255)\" style=\"width: 20px; height: 20px;background-color: rgb(122, 122, 255);\"></td><td title=\"Index: [3, 4]&#10;Color: (122, 122, 255)\" style=\"width: 20px; height: 20px;background-color: rgb(122, 122, 255);\"></td><td title=\"Index: [3, 5]&#10;Color: (122, 122, 255)\" style=\"width: 20px; height: 20px;background-color: rgb(122, 122, 255);\"></td><td title=\"Index: [3, 6]&#10;Color: (122, 122, 255)\" style=\"width: 20px; height: 20px;background-color: rgb(122, 122, 255);\"></td><td title=\"Index: [3, 7]&#10;Color: (122, 122, 255)\" style=\"width: 20px; height: 20px;background-color: rgb(122, 122, 255);\"></td></tr><tr><td title=\"Index: [4, 0]&#10;Color: (122, 122, 255)\" style=\"width: 20px; height: 20px;background-color: rgb(122, 122, 255);\"></td><td title=\"Index: [4, 1]&#10;Color: (122, 122, 255)\" style=\"width: 20px; height: 20px;background-color: rgb(122, 122, 255);\"></td><td title=\"Index: [4, 2]&#10;Color: (122, 122, 255)\" style=\"width: 20px; height: 20px;background-color: rgb(122, 122, 255);\"></td><td title=\"Index: [4, 3]&#10;Color: (122, 122, 255)\" style=\"width: 20px; height: 20px;background-color: rgb(122, 122, 255);\"></td><td title=\"Index: [4, 4]&#10;Color: (122, 122, 255)\" style=\"width: 20px; height: 20px;background-color: rgb(122, 122, 255);\"></td><td title=\"Index: [4, 5]&#10;Color: (122, 122, 255)\" style=\"width: 20px; height: 20px;background-color: rgb(122, 122, 255);\"></td><td title=\"Index: [4, 6]&#10;Color: (122, 122, 255)\" style=\"width: 20px; height: 20px;background-color: rgb(122, 122, 255);\"></td><td title=\"Index: [4, 7]&#10;Color: (122, 122, 255)\" style=\"width: 20px; height: 20px;background-color: rgb(122, 122, 255);\"></td></tr><tr><td title=\"Index: [5, 0]&#10;Color: (122, 122, 255)\" style=\"width: 20px; height: 20px;background-color: rgb(122, 122, 255);\"></td><td title=\"Index: [5, 1]&#10;Color: (122, 122, 255)\" style=\"width: 20px; height: 20px;background-color: rgb(122, 122, 255);\"></td><td title=\"Index: [5, 2]&#10;Color: (122, 122, 255)\" style=\"width: 20px; height: 20px;background-color: rgb(122, 122, 255);\"></td><td title=\"Index: [5, 3]&#10;Color: (122, 122, 255)\" style=\"width: 20px; height: 20px;background-color: rgb(122, 122, 255);\"></td><td title=\"Index: [5, 4]&#10;Color: (122, 122, 255)\" style=\"width: 20px; height: 20px;background-color: rgb(122, 122, 255);\"></td><td title=\"Index: [5, 5]&#10;Color: (122, 122, 255)\" style=\"width: 20px; height: 20px;background-color: rgb(122, 122, 255);\"></td><td title=\"Index: [5, 6]&#10;Color: (122, 122, 255)\" style=\"width: 20px; height: 20px;background-color: rgb(122, 122, 255);\"></td><td title=\"Index: [5, 7]&#10;Color: (122, 122, 255)\" style=\"width: 20px; height: 20px;background-color: rgb(122, 122, 255);\"></td></tr><tr><td title=\"Index: [6, 0]&#10;Color: (122, 122, 255)\" style=\"width: 20px; height: 20px;background-color: rgb(122, 122, 255);\"></td><td title=\"Index: [6, 1]&#10;Color: (122, 122, 255)\" style=\"width: 20px; height: 20px;background-color: rgb(122, 122, 255);\"></td><td title=\"Index: [6, 2]&#10;Color: (122, 122, 255)\" style=\"width: 20px; height: 20px;background-color: rgb(122, 122, 255);\"></td><td title=\"Index: [6, 3]&#10;Color: (122, 122, 255)\" style=\"width: 20px; height: 20px;background-color: rgb(122, 122, 255);\"></td><td title=\"Index: [6, 4]&#10;Color: (122, 122, 255)\" style=\"width: 20px; height: 20px;background-color: rgb(122, 122, 255);\"></td><td title=\"Index: [6, 5]&#10;Color: (122, 122, 255)\" style=\"width: 20px; height: 20px;background-color: rgb(122, 122, 255);\"></td><td title=\"Index: [6, 6]&#10;Color: (122, 122, 255)\" style=\"width: 20px; height: 20px;background-color: rgb(122, 122, 255);\"></td><td title=\"Index: [6, 7]&#10;Color: (122, 122, 255)\" style=\"width: 20px; height: 20px;background-color: rgb(122, 122, 255);\"></td></tr><tr><td title=\"Index: [7, 0]&#10;Color: (122, 122, 255)\" style=\"width: 20px; height: 20px;background-color: rgb(122, 122, 255);\"></td><td title=\"Index: [7, 1]&#10;Color: (122, 122, 255)\" style=\"width: 20px; height: 20px;background-color: rgb(122, 122, 255);\"></td><td title=\"Index: [7, 2]&#10;Color: (122, 122, 255)\" style=\"width: 20px; height: 20px;background-color: rgb(122, 122, 255);\"></td><td title=\"Index: [7, 3]&#10;Color: (122, 122, 255)\" style=\"width: 20px; height: 20px;background-color: rgb(122, 122, 255);\"></td><td title=\"Index: [7, 4]&#10;Color: (122, 122, 255)\" style=\"width: 20px; height: 20px;background-color: rgb(122, 122, 255);\"></td><td title=\"Index: [7, 5]&#10;Color: (122, 122, 255)\" style=\"width: 20px; height: 20px;background-color: rgb(122, 122, 255);\"></td><td title=\"Index: [7, 6]&#10;Color: (122, 122, 255)\" style=\"width: 20px; height: 20px;background-color: rgb(122, 122, 255);\"></td><td title=\"Index: [7, 7]&#10;Color: (122, 122, 255)\" style=\"width: 20px; height: 20px;background-color: rgb(122, 122, 255);\"></td></tr></tbody></table>"
       ],
       "metadata": {},
       "output_type": "display_data",
       "text": [
        "<IPython.core.display.HTML at 0x17880f0>"
       ]
      },
      {
       "output_type": "stream",
       "stream": "stdout",
       "text": [
        "End of Turn 3\n"
       ]
      },
      {
       "name": "stdout",
       "output_type": "stream",
       "stream": "stdout",
       "text": [
        "Guess Row:1\n"
       ]
      },
      {
       "name": "stdout",
       "output_type": "stream",
       "stream": "stdout",
       "text": [
        "Guess Col:1\n"
       ]
      },
      {
       "output_type": "stream",
       "stream": "stdout",
       "text": [
        "You missed my battleship!\n"
       ]
      },
      {
       "html": [
        "<style type=\"text/css\">table.blockgrid {border: none;} .blockgrid tr {border: none;} .blockgrid td {padding: 0px;} #blocks40e82ad0-10c2-45de-9215-64a600fec85e td {border: 1px solid white;}</style><table id=\"blocks40e82ad0-10c2-45de-9215-64a600fec85e\" class=\"blockgrid\"><tbody><tr><td title=\"Index: [0, 0]&#10;Color: (122, 122, 255)\" style=\"width: 20px; height: 20px;background-color: rgb(122, 122, 255);\"></td><td title=\"Index: [0, 1]&#10;Color: (122, 122, 255)\" style=\"width: 20px; height: 20px;background-color: rgb(122, 122, 255);\"></td><td title=\"Index: [0, 2]&#10;Color: (122, 122, 255)\" style=\"width: 20px; height: 20px;background-color: rgb(122, 122, 255);\"></td><td title=\"Index: [0, 3]&#10;Color: (122, 122, 255)\" style=\"width: 20px; height: 20px;background-color: rgb(122, 122, 255);\"></td><td title=\"Index: [0, 4]&#10;Color: (122, 122, 255)\" style=\"width: 20px; height: 20px;background-color: rgb(122, 122, 255);\"></td><td title=\"Index: [0, 5]&#10;Color: (122, 122, 255)\" style=\"width: 20px; height: 20px;background-color: rgb(122, 122, 255);\"></td><td title=\"Index: [0, 6]&#10;Color: (122, 122, 255)\" style=\"width: 20px; height: 20px;background-color: rgb(122, 122, 255);\"></td><td title=\"Index: [0, 7]&#10;Color: (122, 122, 255)\" style=\"width: 20px; height: 20px;background-color: rgb(122, 122, 255);\"></td></tr><tr><td title=\"Index: [1, 0]&#10;Color: (122, 122, 255)\" style=\"width: 20px; height: 20px;background-color: rgb(122, 122, 255);\"></td><td title=\"Index: [1, 1]&#10;Color: (0, 0, 0)\" style=\"width: 20px; height: 20px;background-color: rgb(0, 0, 0);\"></td><td title=\"Index: [1, 2]&#10;Color: (122, 122, 255)\" style=\"width: 20px; height: 20px;background-color: rgb(122, 122, 255);\"></td><td title=\"Index: [1, 3]&#10;Color: (122, 122, 255)\" style=\"width: 20px; height: 20px;background-color: rgb(122, 122, 255);\"></td><td title=\"Index: [1, 4]&#10;Color: (122, 122, 255)\" style=\"width: 20px; height: 20px;background-color: rgb(122, 122, 255);\"></td><td title=\"Index: [1, 5]&#10;Color: (122, 122, 255)\" style=\"width: 20px; height: 20px;background-color: rgb(122, 122, 255);\"></td><td title=\"Index: [1, 6]&#10;Color: (122, 122, 255)\" style=\"width: 20px; height: 20px;background-color: rgb(122, 122, 255);\"></td><td title=\"Index: [1, 7]&#10;Color: (122, 122, 255)\" style=\"width: 20px; height: 20px;background-color: rgb(122, 122, 255);\"></td></tr><tr><td title=\"Index: [2, 0]&#10;Color: (122, 122, 255)\" style=\"width: 20px; height: 20px;background-color: rgb(122, 122, 255);\"></td><td title=\"Index: [2, 1]&#10;Color: (122, 122, 255)\" style=\"width: 20px; height: 20px;background-color: rgb(122, 122, 255);\"></td><td title=\"Index: [2, 2]&#10;Color: (122, 122, 255)\" style=\"width: 20px; height: 20px;background-color: rgb(122, 122, 255);\"></td><td title=\"Index: [2, 3]&#10;Color: (122, 122, 255)\" style=\"width: 20px; height: 20px;background-color: rgb(122, 122, 255);\"></td><td title=\"Index: [2, 4]&#10;Color: (122, 122, 255)\" style=\"width: 20px; height: 20px;background-color: rgb(122, 122, 255);\"></td><td title=\"Index: [2, 5]&#10;Color: (122, 122, 255)\" style=\"width: 20px; height: 20px;background-color: rgb(122, 122, 255);\"></td><td title=\"Index: [2, 6]&#10;Color: (122, 122, 255)\" style=\"width: 20px; height: 20px;background-color: rgb(122, 122, 255);\"></td><td title=\"Index: [2, 7]&#10;Color: (122, 122, 255)\" style=\"width: 20px; height: 20px;background-color: rgb(122, 122, 255);\"></td></tr><tr><td title=\"Index: [3, 0]&#10;Color: (122, 122, 255)\" style=\"width: 20px; height: 20px;background-color: rgb(122, 122, 255);\"></td><td title=\"Index: [3, 1]&#10;Color: (122, 122, 255)\" style=\"width: 20px; height: 20px;background-color: rgb(122, 122, 255);\"></td><td title=\"Index: [3, 2]&#10;Color: (122, 122, 255)\" style=\"width: 20px; height: 20px;background-color: rgb(122, 122, 255);\"></td><td title=\"Index: [3, 3]&#10;Color: (122, 122, 255)\" style=\"width: 20px; height: 20px;background-color: rgb(122, 122, 255);\"></td><td title=\"Index: [3, 4]&#10;Color: (122, 122, 255)\" style=\"width: 20px; height: 20px;background-color: rgb(122, 122, 255);\"></td><td title=\"Index: [3, 5]&#10;Color: (122, 122, 255)\" style=\"width: 20px; height: 20px;background-color: rgb(122, 122, 255);\"></td><td title=\"Index: [3, 6]&#10;Color: (122, 122, 255)\" style=\"width: 20px; height: 20px;background-color: rgb(122, 122, 255);\"></td><td title=\"Index: [3, 7]&#10;Color: (122, 122, 255)\" style=\"width: 20px; height: 20px;background-color: rgb(122, 122, 255);\"></td></tr><tr><td title=\"Index: [4, 0]&#10;Color: (122, 122, 255)\" style=\"width: 20px; height: 20px;background-color: rgb(122, 122, 255);\"></td><td title=\"Index: [4, 1]&#10;Color: (122, 122, 255)\" style=\"width: 20px; height: 20px;background-color: rgb(122, 122, 255);\"></td><td title=\"Index: [4, 2]&#10;Color: (122, 122, 255)\" style=\"width: 20px; height: 20px;background-color: rgb(122, 122, 255);\"></td><td title=\"Index: [4, 3]&#10;Color: (122, 122, 255)\" style=\"width: 20px; height: 20px;background-color: rgb(122, 122, 255);\"></td><td title=\"Index: [4, 4]&#10;Color: (122, 122, 255)\" style=\"width: 20px; height: 20px;background-color: rgb(122, 122, 255);\"></td><td title=\"Index: [4, 5]&#10;Color: (122, 122, 255)\" style=\"width: 20px; height: 20px;background-color: rgb(122, 122, 255);\"></td><td title=\"Index: [4, 6]&#10;Color: (122, 122, 255)\" style=\"width: 20px; height: 20px;background-color: rgb(122, 122, 255);\"></td><td title=\"Index: [4, 7]&#10;Color: (122, 122, 255)\" style=\"width: 20px; height: 20px;background-color: rgb(122, 122, 255);\"></td></tr><tr><td title=\"Index: [5, 0]&#10;Color: (122, 122, 255)\" style=\"width: 20px; height: 20px;background-color: rgb(122, 122, 255);\"></td><td title=\"Index: [5, 1]&#10;Color: (122, 122, 255)\" style=\"width: 20px; height: 20px;background-color: rgb(122, 122, 255);\"></td><td title=\"Index: [5, 2]&#10;Color: (122, 122, 255)\" style=\"width: 20px; height: 20px;background-color: rgb(122, 122, 255);\"></td><td title=\"Index: [5, 3]&#10;Color: (122, 122, 255)\" style=\"width: 20px; height: 20px;background-color: rgb(122, 122, 255);\"></td><td title=\"Index: [5, 4]&#10;Color: (122, 122, 255)\" style=\"width: 20px; height: 20px;background-color: rgb(122, 122, 255);\"></td><td title=\"Index: [5, 5]&#10;Color: (122, 122, 255)\" style=\"width: 20px; height: 20px;background-color: rgb(122, 122, 255);\"></td><td title=\"Index: [5, 6]&#10;Color: (122, 122, 255)\" style=\"width: 20px; height: 20px;background-color: rgb(122, 122, 255);\"></td><td title=\"Index: [5, 7]&#10;Color: (122, 122, 255)\" style=\"width: 20px; height: 20px;background-color: rgb(122, 122, 255);\"></td></tr><tr><td title=\"Index: [6, 0]&#10;Color: (122, 122, 255)\" style=\"width: 20px; height: 20px;background-color: rgb(122, 122, 255);\"></td><td title=\"Index: [6, 1]&#10;Color: (122, 122, 255)\" style=\"width: 20px; height: 20px;background-color: rgb(122, 122, 255);\"></td><td title=\"Index: [6, 2]&#10;Color: (122, 122, 255)\" style=\"width: 20px; height: 20px;background-color: rgb(122, 122, 255);\"></td><td title=\"Index: [6, 3]&#10;Color: (122, 122, 255)\" style=\"width: 20px; height: 20px;background-color: rgb(122, 122, 255);\"></td><td title=\"Index: [6, 4]&#10;Color: (122, 122, 255)\" style=\"width: 20px; height: 20px;background-color: rgb(122, 122, 255);\"></td><td title=\"Index: [6, 5]&#10;Color: (122, 122, 255)\" style=\"width: 20px; height: 20px;background-color: rgb(122, 122, 255);\"></td><td title=\"Index: [6, 6]&#10;Color: (122, 122, 255)\" style=\"width: 20px; height: 20px;background-color: rgb(122, 122, 255);\"></td><td title=\"Index: [6, 7]&#10;Color: (122, 122, 255)\" style=\"width: 20px; height: 20px;background-color: rgb(122, 122, 255);\"></td></tr><tr><td title=\"Index: [7, 0]&#10;Color: (122, 122, 255)\" style=\"width: 20px; height: 20px;background-color: rgb(122, 122, 255);\"></td><td title=\"Index: [7, 1]&#10;Color: (122, 122, 255)\" style=\"width: 20px; height: 20px;background-color: rgb(122, 122, 255);\"></td><td title=\"Index: [7, 2]&#10;Color: (122, 122, 255)\" style=\"width: 20px; height: 20px;background-color: rgb(122, 122, 255);\"></td><td title=\"Index: [7, 3]&#10;Color: (122, 122, 255)\" style=\"width: 20px; height: 20px;background-color: rgb(122, 122, 255);\"></td><td title=\"Index: [7, 4]&#10;Color: (122, 122, 255)\" style=\"width: 20px; height: 20px;background-color: rgb(122, 122, 255);\"></td><td title=\"Index: [7, 5]&#10;Color: (122, 122, 255)\" style=\"width: 20px; height: 20px;background-color: rgb(122, 122, 255);\"></td><td title=\"Index: [7, 6]&#10;Color: (122, 122, 255)\" style=\"width: 20px; height: 20px;background-color: rgb(122, 122, 255);\"></td><td title=\"Index: [7, 7]&#10;Color: (122, 122, 255)\" style=\"width: 20px; height: 20px;background-color: rgb(122, 122, 255);\"></td></tr></tbody></table>"
       ],
       "metadata": {},
       "output_type": "display_data",
       "text": [
        "<IPython.core.display.HTML at 0x179db90>"
       ]
      },
      {
       "output_type": "stream",
       "stream": "stdout",
       "text": [
        "End of Turn 4\n"
       ]
      },
      {
       "name": "stdout",
       "output_type": "stream",
       "stream": "stdout",
       "text": [
        "Guess Row:2\n"
       ]
      },
      {
       "name": "stdout",
       "output_type": "stream",
       "stream": "stdout",
       "text": [
        "Guess Col:2\n"
       ]
      },
      {
       "output_type": "stream",
       "stream": "stdout",
       "text": [
        "You missed my battleship!\n"
       ]
      },
      {
       "html": [
        "<style type=\"text/css\">table.blockgrid {border: none;} .blockgrid tr {border: none;} .blockgrid td {padding: 0px;} #blocksea7b1e20-80f7-4887-a882-1d8f929262f3 td {border: 1px solid white;}</style><table id=\"blocksea7b1e20-80f7-4887-a882-1d8f929262f3\" class=\"blockgrid\"><tbody><tr><td title=\"Index: [0, 0]&#10;Color: (122, 122, 255)\" style=\"width: 20px; height: 20px;background-color: rgb(122, 122, 255);\"></td><td title=\"Index: [0, 1]&#10;Color: (122, 122, 255)\" style=\"width: 20px; height: 20px;background-color: rgb(122, 122, 255);\"></td><td title=\"Index: [0, 2]&#10;Color: (122, 122, 255)\" style=\"width: 20px; height: 20px;background-color: rgb(122, 122, 255);\"></td><td title=\"Index: [0, 3]&#10;Color: (122, 122, 255)\" style=\"width: 20px; height: 20px;background-color: rgb(122, 122, 255);\"></td><td title=\"Index: [0, 4]&#10;Color: (122, 122, 255)\" style=\"width: 20px; height: 20px;background-color: rgb(122, 122, 255);\"></td><td title=\"Index: [0, 5]&#10;Color: (122, 122, 255)\" style=\"width: 20px; height: 20px;background-color: rgb(122, 122, 255);\"></td><td title=\"Index: [0, 6]&#10;Color: (122, 122, 255)\" style=\"width: 20px; height: 20px;background-color: rgb(122, 122, 255);\"></td><td title=\"Index: [0, 7]&#10;Color: (122, 122, 255)\" style=\"width: 20px; height: 20px;background-color: rgb(122, 122, 255);\"></td></tr><tr><td title=\"Index: [1, 0]&#10;Color: (122, 122, 255)\" style=\"width: 20px; height: 20px;background-color: rgb(122, 122, 255);\"></td><td title=\"Index: [1, 1]&#10;Color: (0, 0, 0)\" style=\"width: 20px; height: 20px;background-color: rgb(0, 0, 0);\"></td><td title=\"Index: [1, 2]&#10;Color: (122, 122, 255)\" style=\"width: 20px; height: 20px;background-color: rgb(122, 122, 255);\"></td><td title=\"Index: [1, 3]&#10;Color: (122, 122, 255)\" style=\"width: 20px; height: 20px;background-color: rgb(122, 122, 255);\"></td><td title=\"Index: [1, 4]&#10;Color: (122, 122, 255)\" style=\"width: 20px; height: 20px;background-color: rgb(122, 122, 255);\"></td><td title=\"Index: [1, 5]&#10;Color: (122, 122, 255)\" style=\"width: 20px; height: 20px;background-color: rgb(122, 122, 255);\"></td><td title=\"Index: [1, 6]&#10;Color: (122, 122, 255)\" style=\"width: 20px; height: 20px;background-color: rgb(122, 122, 255);\"></td><td title=\"Index: [1, 7]&#10;Color: (122, 122, 255)\" style=\"width: 20px; height: 20px;background-color: rgb(122, 122, 255);\"></td></tr><tr><td title=\"Index: [2, 0]&#10;Color: (122, 122, 255)\" style=\"width: 20px; height: 20px;background-color: rgb(122, 122, 255);\"></td><td title=\"Index: [2, 1]&#10;Color: (122, 122, 255)\" style=\"width: 20px; height: 20px;background-color: rgb(122, 122, 255);\"></td><td title=\"Index: [2, 2]&#10;Color: (0, 0, 0)\" style=\"width: 20px; height: 20px;background-color: rgb(0, 0, 0);\"></td><td title=\"Index: [2, 3]&#10;Color: (122, 122, 255)\" style=\"width: 20px; height: 20px;background-color: rgb(122, 122, 255);\"></td><td title=\"Index: [2, 4]&#10;Color: (122, 122, 255)\" style=\"width: 20px; height: 20px;background-color: rgb(122, 122, 255);\"></td><td title=\"Index: [2, 5]&#10;Color: (122, 122, 255)\" style=\"width: 20px; height: 20px;background-color: rgb(122, 122, 255);\"></td><td title=\"Index: [2, 6]&#10;Color: (122, 122, 255)\" style=\"width: 20px; height: 20px;background-color: rgb(122, 122, 255);\"></td><td title=\"Index: [2, 7]&#10;Color: (122, 122, 255)\" style=\"width: 20px; height: 20px;background-color: rgb(122, 122, 255);\"></td></tr><tr><td title=\"Index: [3, 0]&#10;Color: (122, 122, 255)\" style=\"width: 20px; height: 20px;background-color: rgb(122, 122, 255);\"></td><td title=\"Index: [3, 1]&#10;Color: (122, 122, 255)\" style=\"width: 20px; height: 20px;background-color: rgb(122, 122, 255);\"></td><td title=\"Index: [3, 2]&#10;Color: (122, 122, 255)\" style=\"width: 20px; height: 20px;background-color: rgb(122, 122, 255);\"></td><td title=\"Index: [3, 3]&#10;Color: (122, 122, 255)\" style=\"width: 20px; height: 20px;background-color: rgb(122, 122, 255);\"></td><td title=\"Index: [3, 4]&#10;Color: (122, 122, 255)\" style=\"width: 20px; height: 20px;background-color: rgb(122, 122, 255);\"></td><td title=\"Index: [3, 5]&#10;Color: (122, 122, 255)\" style=\"width: 20px; height: 20px;background-color: rgb(122, 122, 255);\"></td><td title=\"Index: [3, 6]&#10;Color: (122, 122, 255)\" style=\"width: 20px; height: 20px;background-color: rgb(122, 122, 255);\"></td><td title=\"Index: [3, 7]&#10;Color: (122, 122, 255)\" style=\"width: 20px; height: 20px;background-color: rgb(122, 122, 255);\"></td></tr><tr><td title=\"Index: [4, 0]&#10;Color: (122, 122, 255)\" style=\"width: 20px; height: 20px;background-color: rgb(122, 122, 255);\"></td><td title=\"Index: [4, 1]&#10;Color: (122, 122, 255)\" style=\"width: 20px; height: 20px;background-color: rgb(122, 122, 255);\"></td><td title=\"Index: [4, 2]&#10;Color: (122, 122, 255)\" style=\"width: 20px; height: 20px;background-color: rgb(122, 122, 255);\"></td><td title=\"Index: [4, 3]&#10;Color: (122, 122, 255)\" style=\"width: 20px; height: 20px;background-color: rgb(122, 122, 255);\"></td><td title=\"Index: [4, 4]&#10;Color: (122, 122, 255)\" style=\"width: 20px; height: 20px;background-color: rgb(122, 122, 255);\"></td><td title=\"Index: [4, 5]&#10;Color: (122, 122, 255)\" style=\"width: 20px; height: 20px;background-color: rgb(122, 122, 255);\"></td><td title=\"Index: [4, 6]&#10;Color: (122, 122, 255)\" style=\"width: 20px; height: 20px;background-color: rgb(122, 122, 255);\"></td><td title=\"Index: [4, 7]&#10;Color: (122, 122, 255)\" style=\"width: 20px; height: 20px;background-color: rgb(122, 122, 255);\"></td></tr><tr><td title=\"Index: [5, 0]&#10;Color: (122, 122, 255)\" style=\"width: 20px; height: 20px;background-color: rgb(122, 122, 255);\"></td><td title=\"Index: [5, 1]&#10;Color: (122, 122, 255)\" style=\"width: 20px; height: 20px;background-color: rgb(122, 122, 255);\"></td><td title=\"Index: [5, 2]&#10;Color: (122, 122, 255)\" style=\"width: 20px; height: 20px;background-color: rgb(122, 122, 255);\"></td><td title=\"Index: [5, 3]&#10;Color: (122, 122, 255)\" style=\"width: 20px; height: 20px;background-color: rgb(122, 122, 255);\"></td><td title=\"Index: [5, 4]&#10;Color: (122, 122, 255)\" style=\"width: 20px; height: 20px;background-color: rgb(122, 122, 255);\"></td><td title=\"Index: [5, 5]&#10;Color: (122, 122, 255)\" style=\"width: 20px; height: 20px;background-color: rgb(122, 122, 255);\"></td><td title=\"Index: [5, 6]&#10;Color: (122, 122, 255)\" style=\"width: 20px; height: 20px;background-color: rgb(122, 122, 255);\"></td><td title=\"Index: [5, 7]&#10;Color: (122, 122, 255)\" style=\"width: 20px; height: 20px;background-color: rgb(122, 122, 255);\"></td></tr><tr><td title=\"Index: [6, 0]&#10;Color: (122, 122, 255)\" style=\"width: 20px; height: 20px;background-color: rgb(122, 122, 255);\"></td><td title=\"Index: [6, 1]&#10;Color: (122, 122, 255)\" style=\"width: 20px; height: 20px;background-color: rgb(122, 122, 255);\"></td><td title=\"Index: [6, 2]&#10;Color: (122, 122, 255)\" style=\"width: 20px; height: 20px;background-color: rgb(122, 122, 255);\"></td><td title=\"Index: [6, 3]&#10;Color: (122, 122, 255)\" style=\"width: 20px; height: 20px;background-color: rgb(122, 122, 255);\"></td><td title=\"Index: [6, 4]&#10;Color: (122, 122, 255)\" style=\"width: 20px; height: 20px;background-color: rgb(122, 122, 255);\"></td><td title=\"Index: [6, 5]&#10;Color: (122, 122, 255)\" style=\"width: 20px; height: 20px;background-color: rgb(122, 122, 255);\"></td><td title=\"Index: [6, 6]&#10;Color: (122, 122, 255)\" style=\"width: 20px; height: 20px;background-color: rgb(122, 122, 255);\"></td><td title=\"Index: [6, 7]&#10;Color: (122, 122, 255)\" style=\"width: 20px; height: 20px;background-color: rgb(122, 122, 255);\"></td></tr><tr><td title=\"Index: [7, 0]&#10;Color: (122, 122, 255)\" style=\"width: 20px; height: 20px;background-color: rgb(122, 122, 255);\"></td><td title=\"Index: [7, 1]&#10;Color: (122, 122, 255)\" style=\"width: 20px; height: 20px;background-color: rgb(122, 122, 255);\"></td><td title=\"Index: [7, 2]&#10;Color: (122, 122, 255)\" style=\"width: 20px; height: 20px;background-color: rgb(122, 122, 255);\"></td><td title=\"Index: [7, 3]&#10;Color: (122, 122, 255)\" style=\"width: 20px; height: 20px;background-color: rgb(122, 122, 255);\"></td><td title=\"Index: [7, 4]&#10;Color: (122, 122, 255)\" style=\"width: 20px; height: 20px;background-color: rgb(122, 122, 255);\"></td><td title=\"Index: [7, 5]&#10;Color: (122, 122, 255)\" style=\"width: 20px; height: 20px;background-color: rgb(122, 122, 255);\"></td><td title=\"Index: [7, 6]&#10;Color: (122, 122, 255)\" style=\"width: 20px; height: 20px;background-color: rgb(122, 122, 255);\"></td><td title=\"Index: [7, 7]&#10;Color: (122, 122, 255)\" style=\"width: 20px; height: 20px;background-color: rgb(122, 122, 255);\"></td></tr></tbody></table>"
       ],
       "metadata": {},
       "output_type": "display_data",
       "text": [
        "<IPython.core.display.HTML at 0x179dc10>"
       ]
      },
      {
       "output_type": "stream",
       "stream": "stdout",
       "text": [
        "End of Turn 5\n"
       ]
      },
      {
       "name": "stdout",
       "output_type": "stream",
       "stream": "stdout",
       "text": [
        "Guess Row:3\n"
       ]
      },
      {
       "name": "stdout",
       "output_type": "stream",
       "stream": "stdout",
       "text": [
        "Guess Col:3\n"
       ]
      },
      {
       "output_type": "stream",
       "stream": "stdout",
       "text": [
        "You missed my battleship!\n"
       ]
      },
      {
       "html": [
        "<style type=\"text/css\">table.blockgrid {border: none;} .blockgrid tr {border: none;} .blockgrid td {padding: 0px;} #blocksb0c7d76b-5ea8-4ed4-97cd-28a25fb1615d td {border: 1px solid white;}</style><table id=\"blocksb0c7d76b-5ea8-4ed4-97cd-28a25fb1615d\" class=\"blockgrid\"><tbody><tr><td title=\"Index: [0, 0]&#10;Color: (122, 122, 255)\" style=\"width: 20px; height: 20px;background-color: rgb(122, 122, 255);\"></td><td title=\"Index: [0, 1]&#10;Color: (122, 122, 255)\" style=\"width: 20px; height: 20px;background-color: rgb(122, 122, 255);\"></td><td title=\"Index: [0, 2]&#10;Color: (122, 122, 255)\" style=\"width: 20px; height: 20px;background-color: rgb(122, 122, 255);\"></td><td title=\"Index: [0, 3]&#10;Color: (122, 122, 255)\" style=\"width: 20px; height: 20px;background-color: rgb(122, 122, 255);\"></td><td title=\"Index: [0, 4]&#10;Color: (122, 122, 255)\" style=\"width: 20px; height: 20px;background-color: rgb(122, 122, 255);\"></td><td title=\"Index: [0, 5]&#10;Color: (122, 122, 255)\" style=\"width: 20px; height: 20px;background-color: rgb(122, 122, 255);\"></td><td title=\"Index: [0, 6]&#10;Color: (122, 122, 255)\" style=\"width: 20px; height: 20px;background-color: rgb(122, 122, 255);\"></td><td title=\"Index: [0, 7]&#10;Color: (122, 122, 255)\" style=\"width: 20px; height: 20px;background-color: rgb(122, 122, 255);\"></td></tr><tr><td title=\"Index: [1, 0]&#10;Color: (122, 122, 255)\" style=\"width: 20px; height: 20px;background-color: rgb(122, 122, 255);\"></td><td title=\"Index: [1, 1]&#10;Color: (0, 0, 0)\" style=\"width: 20px; height: 20px;background-color: rgb(0, 0, 0);\"></td><td title=\"Index: [1, 2]&#10;Color: (122, 122, 255)\" style=\"width: 20px; height: 20px;background-color: rgb(122, 122, 255);\"></td><td title=\"Index: [1, 3]&#10;Color: (122, 122, 255)\" style=\"width: 20px; height: 20px;background-color: rgb(122, 122, 255);\"></td><td title=\"Index: [1, 4]&#10;Color: (122, 122, 255)\" style=\"width: 20px; height: 20px;background-color: rgb(122, 122, 255);\"></td><td title=\"Index: [1, 5]&#10;Color: (122, 122, 255)\" style=\"width: 20px; height: 20px;background-color: rgb(122, 122, 255);\"></td><td title=\"Index: [1, 6]&#10;Color: (122, 122, 255)\" style=\"width: 20px; height: 20px;background-color: rgb(122, 122, 255);\"></td><td title=\"Index: [1, 7]&#10;Color: (122, 122, 255)\" style=\"width: 20px; height: 20px;background-color: rgb(122, 122, 255);\"></td></tr><tr><td title=\"Index: [2, 0]&#10;Color: (122, 122, 255)\" style=\"width: 20px; height: 20px;background-color: rgb(122, 122, 255);\"></td><td title=\"Index: [2, 1]&#10;Color: (122, 122, 255)\" style=\"width: 20px; height: 20px;background-color: rgb(122, 122, 255);\"></td><td title=\"Index: [2, 2]&#10;Color: (0, 0, 0)\" style=\"width: 20px; height: 20px;background-color: rgb(0, 0, 0);\"></td><td title=\"Index: [2, 3]&#10;Color: (122, 122, 255)\" style=\"width: 20px; height: 20px;background-color: rgb(122, 122, 255);\"></td><td title=\"Index: [2, 4]&#10;Color: (122, 122, 255)\" style=\"width: 20px; height: 20px;background-color: rgb(122, 122, 255);\"></td><td title=\"Index: [2, 5]&#10;Color: (122, 122, 255)\" style=\"width: 20px; height: 20px;background-color: rgb(122, 122, 255);\"></td><td title=\"Index: [2, 6]&#10;Color: (122, 122, 255)\" style=\"width: 20px; height: 20px;background-color: rgb(122, 122, 255);\"></td><td title=\"Index: [2, 7]&#10;Color: (122, 122, 255)\" style=\"width: 20px; height: 20px;background-color: rgb(122, 122, 255);\"></td></tr><tr><td title=\"Index: [3, 0]&#10;Color: (122, 122, 255)\" style=\"width: 20px; height: 20px;background-color: rgb(122, 122, 255);\"></td><td title=\"Index: [3, 1]&#10;Color: (122, 122, 255)\" style=\"width: 20px; height: 20px;background-color: rgb(122, 122, 255);\"></td><td title=\"Index: [3, 2]&#10;Color: (122, 122, 255)\" style=\"width: 20px; height: 20px;background-color: rgb(122, 122, 255);\"></td><td title=\"Index: [3, 3]&#10;Color: (0, 0, 0)\" style=\"width: 20px; height: 20px;background-color: rgb(0, 0, 0);\"></td><td title=\"Index: [3, 4]&#10;Color: (122, 122, 255)\" style=\"width: 20px; height: 20px;background-color: rgb(122, 122, 255);\"></td><td title=\"Index: [3, 5]&#10;Color: (122, 122, 255)\" style=\"width: 20px; height: 20px;background-color: rgb(122, 122, 255);\"></td><td title=\"Index: [3, 6]&#10;Color: (122, 122, 255)\" style=\"width: 20px; height: 20px;background-color: rgb(122, 122, 255);\"></td><td title=\"Index: [3, 7]&#10;Color: (122, 122, 255)\" style=\"width: 20px; height: 20px;background-color: rgb(122, 122, 255);\"></td></tr><tr><td title=\"Index: [4, 0]&#10;Color: (122, 122, 255)\" style=\"width: 20px; height: 20px;background-color: rgb(122, 122, 255);\"></td><td title=\"Index: [4, 1]&#10;Color: (122, 122, 255)\" style=\"width: 20px; height: 20px;background-color: rgb(122, 122, 255);\"></td><td title=\"Index: [4, 2]&#10;Color: (122, 122, 255)\" style=\"width: 20px; height: 20px;background-color: rgb(122, 122, 255);\"></td><td title=\"Index: [4, 3]&#10;Color: (122, 122, 255)\" style=\"width: 20px; height: 20px;background-color: rgb(122, 122, 255);\"></td><td title=\"Index: [4, 4]&#10;Color: (122, 122, 255)\" style=\"width: 20px; height: 20px;background-color: rgb(122, 122, 255);\"></td><td title=\"Index: [4, 5]&#10;Color: (122, 122, 255)\" style=\"width: 20px; height: 20px;background-color: rgb(122, 122, 255);\"></td><td title=\"Index: [4, 6]&#10;Color: (122, 122, 255)\" style=\"width: 20px; height: 20px;background-color: rgb(122, 122, 255);\"></td><td title=\"Index: [4, 7]&#10;Color: (122, 122, 255)\" style=\"width: 20px; height: 20px;background-color: rgb(122, 122, 255);\"></td></tr><tr><td title=\"Index: [5, 0]&#10;Color: (122, 122, 255)\" style=\"width: 20px; height: 20px;background-color: rgb(122, 122, 255);\"></td><td title=\"Index: [5, 1]&#10;Color: (122, 122, 255)\" style=\"width: 20px; height: 20px;background-color: rgb(122, 122, 255);\"></td><td title=\"Index: [5, 2]&#10;Color: (122, 122, 255)\" style=\"width: 20px; height: 20px;background-color: rgb(122, 122, 255);\"></td><td title=\"Index: [5, 3]&#10;Color: (122, 122, 255)\" style=\"width: 20px; height: 20px;background-color: rgb(122, 122, 255);\"></td><td title=\"Index: [5, 4]&#10;Color: (122, 122, 255)\" style=\"width: 20px; height: 20px;background-color: rgb(122, 122, 255);\"></td><td title=\"Index: [5, 5]&#10;Color: (122, 122, 255)\" style=\"width: 20px; height: 20px;background-color: rgb(122, 122, 255);\"></td><td title=\"Index: [5, 6]&#10;Color: (122, 122, 255)\" style=\"width: 20px; height: 20px;background-color: rgb(122, 122, 255);\"></td><td title=\"Index: [5, 7]&#10;Color: (122, 122, 255)\" style=\"width: 20px; height: 20px;background-color: rgb(122, 122, 255);\"></td></tr><tr><td title=\"Index: [6, 0]&#10;Color: (122, 122, 255)\" style=\"width: 20px; height: 20px;background-color: rgb(122, 122, 255);\"></td><td title=\"Index: [6, 1]&#10;Color: (122, 122, 255)\" style=\"width: 20px; height: 20px;background-color: rgb(122, 122, 255);\"></td><td title=\"Index: [6, 2]&#10;Color: (122, 122, 255)\" style=\"width: 20px; height: 20px;background-color: rgb(122, 122, 255);\"></td><td title=\"Index: [6, 3]&#10;Color: (122, 122, 255)\" style=\"width: 20px; height: 20px;background-color: rgb(122, 122, 255);\"></td><td title=\"Index: [6, 4]&#10;Color: (122, 122, 255)\" style=\"width: 20px; height: 20px;background-color: rgb(122, 122, 255);\"></td><td title=\"Index: [6, 5]&#10;Color: (122, 122, 255)\" style=\"width: 20px; height: 20px;background-color: rgb(122, 122, 255);\"></td><td title=\"Index: [6, 6]&#10;Color: (122, 122, 255)\" style=\"width: 20px; height: 20px;background-color: rgb(122, 122, 255);\"></td><td title=\"Index: [6, 7]&#10;Color: (122, 122, 255)\" style=\"width: 20px; height: 20px;background-color: rgb(122, 122, 255);\"></td></tr><tr><td title=\"Index: [7, 0]&#10;Color: (122, 122, 255)\" style=\"width: 20px; height: 20px;background-color: rgb(122, 122, 255);\"></td><td title=\"Index: [7, 1]&#10;Color: (122, 122, 255)\" style=\"width: 20px; height: 20px;background-color: rgb(122, 122, 255);\"></td><td title=\"Index: [7, 2]&#10;Color: (122, 122, 255)\" style=\"width: 20px; height: 20px;background-color: rgb(122, 122, 255);\"></td><td title=\"Index: [7, 3]&#10;Color: (122, 122, 255)\" style=\"width: 20px; height: 20px;background-color: rgb(122, 122, 255);\"></td><td title=\"Index: [7, 4]&#10;Color: (122, 122, 255)\" style=\"width: 20px; height: 20px;background-color: rgb(122, 122, 255);\"></td><td title=\"Index: [7, 5]&#10;Color: (122, 122, 255)\" style=\"width: 20px; height: 20px;background-color: rgb(122, 122, 255);\"></td><td title=\"Index: [7, 6]&#10;Color: (122, 122, 255)\" style=\"width: 20px; height: 20px;background-color: rgb(122, 122, 255);\"></td><td title=\"Index: [7, 7]&#10;Color: (122, 122, 255)\" style=\"width: 20px; height: 20px;background-color: rgb(122, 122, 255);\"></td></tr></tbody></table>"
       ],
       "metadata": {},
       "output_type": "display_data",
       "text": [
        "<IPython.core.display.HTML at 0x179dc90>"
       ]
      },
      {
       "output_type": "stream",
       "stream": "stdout",
       "text": [
        "End of Turn 6\n"
       ]
      },
      {
       "name": "stdout",
       "output_type": "stream",
       "stream": "stdout",
       "text": [
        "Guess Row:4\n"
       ]
      },
      {
       "name": "stdout",
       "output_type": "stream",
       "stream": "stdout",
       "text": [
        "Guess Col:4\n"
       ]
      },
      {
       "output_type": "stream",
       "stream": "stdout",
       "text": [
        "You missed my battleship!\n"
       ]
      },
      {
       "html": [
        "<style type=\"text/css\">table.blockgrid {border: none;} .blockgrid tr {border: none;} .blockgrid td {padding: 0px;} #blocks89346cce-d813-4d03-8da6-86acc540fd9f td {border: 1px solid white;}</style><table id=\"blocks89346cce-d813-4d03-8da6-86acc540fd9f\" class=\"blockgrid\"><tbody><tr><td title=\"Index: [0, 0]&#10;Color: (122, 122, 255)\" style=\"width: 20px; height: 20px;background-color: rgb(122, 122, 255);\"></td><td title=\"Index: [0, 1]&#10;Color: (122, 122, 255)\" style=\"width: 20px; height: 20px;background-color: rgb(122, 122, 255);\"></td><td title=\"Index: [0, 2]&#10;Color: (122, 122, 255)\" style=\"width: 20px; height: 20px;background-color: rgb(122, 122, 255);\"></td><td title=\"Index: [0, 3]&#10;Color: (122, 122, 255)\" style=\"width: 20px; height: 20px;background-color: rgb(122, 122, 255);\"></td><td title=\"Index: [0, 4]&#10;Color: (122, 122, 255)\" style=\"width: 20px; height: 20px;background-color: rgb(122, 122, 255);\"></td><td title=\"Index: [0, 5]&#10;Color: (122, 122, 255)\" style=\"width: 20px; height: 20px;background-color: rgb(122, 122, 255);\"></td><td title=\"Index: [0, 6]&#10;Color: (122, 122, 255)\" style=\"width: 20px; height: 20px;background-color: rgb(122, 122, 255);\"></td><td title=\"Index: [0, 7]&#10;Color: (122, 122, 255)\" style=\"width: 20px; height: 20px;background-color: rgb(122, 122, 255);\"></td></tr><tr><td title=\"Index: [1, 0]&#10;Color: (122, 122, 255)\" style=\"width: 20px; height: 20px;background-color: rgb(122, 122, 255);\"></td><td title=\"Index: [1, 1]&#10;Color: (0, 0, 0)\" style=\"width: 20px; height: 20px;background-color: rgb(0, 0, 0);\"></td><td title=\"Index: [1, 2]&#10;Color: (122, 122, 255)\" style=\"width: 20px; height: 20px;background-color: rgb(122, 122, 255);\"></td><td title=\"Index: [1, 3]&#10;Color: (122, 122, 255)\" style=\"width: 20px; height: 20px;background-color: rgb(122, 122, 255);\"></td><td title=\"Index: [1, 4]&#10;Color: (122, 122, 255)\" style=\"width: 20px; height: 20px;background-color: rgb(122, 122, 255);\"></td><td title=\"Index: [1, 5]&#10;Color: (122, 122, 255)\" style=\"width: 20px; height: 20px;background-color: rgb(122, 122, 255);\"></td><td title=\"Index: [1, 6]&#10;Color: (122, 122, 255)\" style=\"width: 20px; height: 20px;background-color: rgb(122, 122, 255);\"></td><td title=\"Index: [1, 7]&#10;Color: (122, 122, 255)\" style=\"width: 20px; height: 20px;background-color: rgb(122, 122, 255);\"></td></tr><tr><td title=\"Index: [2, 0]&#10;Color: (122, 122, 255)\" style=\"width: 20px; height: 20px;background-color: rgb(122, 122, 255);\"></td><td title=\"Index: [2, 1]&#10;Color: (122, 122, 255)\" style=\"width: 20px; height: 20px;background-color: rgb(122, 122, 255);\"></td><td title=\"Index: [2, 2]&#10;Color: (0, 0, 0)\" style=\"width: 20px; height: 20px;background-color: rgb(0, 0, 0);\"></td><td title=\"Index: [2, 3]&#10;Color: (122, 122, 255)\" style=\"width: 20px; height: 20px;background-color: rgb(122, 122, 255);\"></td><td title=\"Index: [2, 4]&#10;Color: (122, 122, 255)\" style=\"width: 20px; height: 20px;background-color: rgb(122, 122, 255);\"></td><td title=\"Index: [2, 5]&#10;Color: (122, 122, 255)\" style=\"width: 20px; height: 20px;background-color: rgb(122, 122, 255);\"></td><td title=\"Index: [2, 6]&#10;Color: (122, 122, 255)\" style=\"width: 20px; height: 20px;background-color: rgb(122, 122, 255);\"></td><td title=\"Index: [2, 7]&#10;Color: (122, 122, 255)\" style=\"width: 20px; height: 20px;background-color: rgb(122, 122, 255);\"></td></tr><tr><td title=\"Index: [3, 0]&#10;Color: (122, 122, 255)\" style=\"width: 20px; height: 20px;background-color: rgb(122, 122, 255);\"></td><td title=\"Index: [3, 1]&#10;Color: (122, 122, 255)\" style=\"width: 20px; height: 20px;background-color: rgb(122, 122, 255);\"></td><td title=\"Index: [3, 2]&#10;Color: (122, 122, 255)\" style=\"width: 20px; height: 20px;background-color: rgb(122, 122, 255);\"></td><td title=\"Index: [3, 3]&#10;Color: (0, 0, 0)\" style=\"width: 20px; height: 20px;background-color: rgb(0, 0, 0);\"></td><td title=\"Index: [3, 4]&#10;Color: (122, 122, 255)\" style=\"width: 20px; height: 20px;background-color: rgb(122, 122, 255);\"></td><td title=\"Index: [3, 5]&#10;Color: (122, 122, 255)\" style=\"width: 20px; height: 20px;background-color: rgb(122, 122, 255);\"></td><td title=\"Index: [3, 6]&#10;Color: (122, 122, 255)\" style=\"width: 20px; height: 20px;background-color: rgb(122, 122, 255);\"></td><td title=\"Index: [3, 7]&#10;Color: (122, 122, 255)\" style=\"width: 20px; height: 20px;background-color: rgb(122, 122, 255);\"></td></tr><tr><td title=\"Index: [4, 0]&#10;Color: (122, 122, 255)\" style=\"width: 20px; height: 20px;background-color: rgb(122, 122, 255);\"></td><td title=\"Index: [4, 1]&#10;Color: (122, 122, 255)\" style=\"width: 20px; height: 20px;background-color: rgb(122, 122, 255);\"></td><td title=\"Index: [4, 2]&#10;Color: (122, 122, 255)\" style=\"width: 20px; height: 20px;background-color: rgb(122, 122, 255);\"></td><td title=\"Index: [4, 3]&#10;Color: (122, 122, 255)\" style=\"width: 20px; height: 20px;background-color: rgb(122, 122, 255);\"></td><td title=\"Index: [4, 4]&#10;Color: (0, 0, 0)\" style=\"width: 20px; height: 20px;background-color: rgb(0, 0, 0);\"></td><td title=\"Index: [4, 5]&#10;Color: (122, 122, 255)\" style=\"width: 20px; height: 20px;background-color: rgb(122, 122, 255);\"></td><td title=\"Index: [4, 6]&#10;Color: (122, 122, 255)\" style=\"width: 20px; height: 20px;background-color: rgb(122, 122, 255);\"></td><td title=\"Index: [4, 7]&#10;Color: (122, 122, 255)\" style=\"width: 20px; height: 20px;background-color: rgb(122, 122, 255);\"></td></tr><tr><td title=\"Index: [5, 0]&#10;Color: (122, 122, 255)\" style=\"width: 20px; height: 20px;background-color: rgb(122, 122, 255);\"></td><td title=\"Index: [5, 1]&#10;Color: (122, 122, 255)\" style=\"width: 20px; height: 20px;background-color: rgb(122, 122, 255);\"></td><td title=\"Index: [5, 2]&#10;Color: (122, 122, 255)\" style=\"width: 20px; height: 20px;background-color: rgb(122, 122, 255);\"></td><td title=\"Index: [5, 3]&#10;Color: (122, 122, 255)\" style=\"width: 20px; height: 20px;background-color: rgb(122, 122, 255);\"></td><td title=\"Index: [5, 4]&#10;Color: (122, 122, 255)\" style=\"width: 20px; height: 20px;background-color: rgb(122, 122, 255);\"></td><td title=\"Index: [5, 5]&#10;Color: (122, 122, 255)\" style=\"width: 20px; height: 20px;background-color: rgb(122, 122, 255);\"></td><td title=\"Index: [5, 6]&#10;Color: (122, 122, 255)\" style=\"width: 20px; height: 20px;background-color: rgb(122, 122, 255);\"></td><td title=\"Index: [5, 7]&#10;Color: (122, 122, 255)\" style=\"width: 20px; height: 20px;background-color: rgb(122, 122, 255);\"></td></tr><tr><td title=\"Index: [6, 0]&#10;Color: (122, 122, 255)\" style=\"width: 20px; height: 20px;background-color: rgb(122, 122, 255);\"></td><td title=\"Index: [6, 1]&#10;Color: (122, 122, 255)\" style=\"width: 20px; height: 20px;background-color: rgb(122, 122, 255);\"></td><td title=\"Index: [6, 2]&#10;Color: (122, 122, 255)\" style=\"width: 20px; height: 20px;background-color: rgb(122, 122, 255);\"></td><td title=\"Index: [6, 3]&#10;Color: (122, 122, 255)\" style=\"width: 20px; height: 20px;background-color: rgb(122, 122, 255);\"></td><td title=\"Index: [6, 4]&#10;Color: (122, 122, 255)\" style=\"width: 20px; height: 20px;background-color: rgb(122, 122, 255);\"></td><td title=\"Index: [6, 5]&#10;Color: (122, 122, 255)\" style=\"width: 20px; height: 20px;background-color: rgb(122, 122, 255);\"></td><td title=\"Index: [6, 6]&#10;Color: (122, 122, 255)\" style=\"width: 20px; height: 20px;background-color: rgb(122, 122, 255);\"></td><td title=\"Index: [6, 7]&#10;Color: (122, 122, 255)\" style=\"width: 20px; height: 20px;background-color: rgb(122, 122, 255);\"></td></tr><tr><td title=\"Index: [7, 0]&#10;Color: (122, 122, 255)\" style=\"width: 20px; height: 20px;background-color: rgb(122, 122, 255);\"></td><td title=\"Index: [7, 1]&#10;Color: (122, 122, 255)\" style=\"width: 20px; height: 20px;background-color: rgb(122, 122, 255);\"></td><td title=\"Index: [7, 2]&#10;Color: (122, 122, 255)\" style=\"width: 20px; height: 20px;background-color: rgb(122, 122, 255);\"></td><td title=\"Index: [7, 3]&#10;Color: (122, 122, 255)\" style=\"width: 20px; height: 20px;background-color: rgb(122, 122, 255);\"></td><td title=\"Index: [7, 4]&#10;Color: (122, 122, 255)\" style=\"width: 20px; height: 20px;background-color: rgb(122, 122, 255);\"></td><td title=\"Index: [7, 5]&#10;Color: (122, 122, 255)\" style=\"width: 20px; height: 20px;background-color: rgb(122, 122, 255);\"></td><td title=\"Index: [7, 6]&#10;Color: (122, 122, 255)\" style=\"width: 20px; height: 20px;background-color: rgb(122, 122, 255);\"></td><td title=\"Index: [7, 7]&#10;Color: (122, 122, 255)\" style=\"width: 20px; height: 20px;background-color: rgb(122, 122, 255);\"></td></tr></tbody></table>"
       ],
       "metadata": {},
       "output_type": "display_data",
       "text": [
        "<IPython.core.display.HTML at 0x179dd10>"
       ]
      },
      {
       "output_type": "stream",
       "stream": "stdout",
       "text": [
        "End of Turn 7\n"
       ]
      },
      {
       "name": "stdout",
       "output_type": "stream",
       "stream": "stdout",
       "text": [
        "Guess Row:5\n"
       ]
      },
      {
       "name": "stdout",
       "output_type": "stream",
       "stream": "stdout",
       "text": [
        "Guess Col:5\n"
       ]
      },
      {
       "output_type": "stream",
       "stream": "stdout",
       "text": [
        "You missed my battleship!\n"
       ]
      },
      {
       "html": [
        "<style type=\"text/css\">table.blockgrid {border: none;} .blockgrid tr {border: none;} .blockgrid td {padding: 0px;} #blocksb2591f4b-3591-4f61-9a06-9466b6e6762b td {border: 1px solid white;}</style><table id=\"blocksb2591f4b-3591-4f61-9a06-9466b6e6762b\" class=\"blockgrid\"><tbody><tr><td title=\"Index: [0, 0]&#10;Color: (122, 122, 255)\" style=\"width: 20px; height: 20px;background-color: rgb(122, 122, 255);\"></td><td title=\"Index: [0, 1]&#10;Color: (122, 122, 255)\" style=\"width: 20px; height: 20px;background-color: rgb(122, 122, 255);\"></td><td title=\"Index: [0, 2]&#10;Color: (122, 122, 255)\" style=\"width: 20px; height: 20px;background-color: rgb(122, 122, 255);\"></td><td title=\"Index: [0, 3]&#10;Color: (122, 122, 255)\" style=\"width: 20px; height: 20px;background-color: rgb(122, 122, 255);\"></td><td title=\"Index: [0, 4]&#10;Color: (122, 122, 255)\" style=\"width: 20px; height: 20px;background-color: rgb(122, 122, 255);\"></td><td title=\"Index: [0, 5]&#10;Color: (122, 122, 255)\" style=\"width: 20px; height: 20px;background-color: rgb(122, 122, 255);\"></td><td title=\"Index: [0, 6]&#10;Color: (122, 122, 255)\" style=\"width: 20px; height: 20px;background-color: rgb(122, 122, 255);\"></td><td title=\"Index: [0, 7]&#10;Color: (122, 122, 255)\" style=\"width: 20px; height: 20px;background-color: rgb(122, 122, 255);\"></td></tr><tr><td title=\"Index: [1, 0]&#10;Color: (122, 122, 255)\" style=\"width: 20px; height: 20px;background-color: rgb(122, 122, 255);\"></td><td title=\"Index: [1, 1]&#10;Color: (0, 0, 0)\" style=\"width: 20px; height: 20px;background-color: rgb(0, 0, 0);\"></td><td title=\"Index: [1, 2]&#10;Color: (122, 122, 255)\" style=\"width: 20px; height: 20px;background-color: rgb(122, 122, 255);\"></td><td title=\"Index: [1, 3]&#10;Color: (122, 122, 255)\" style=\"width: 20px; height: 20px;background-color: rgb(122, 122, 255);\"></td><td title=\"Index: [1, 4]&#10;Color: (122, 122, 255)\" style=\"width: 20px; height: 20px;background-color: rgb(122, 122, 255);\"></td><td title=\"Index: [1, 5]&#10;Color: (122, 122, 255)\" style=\"width: 20px; height: 20px;background-color: rgb(122, 122, 255);\"></td><td title=\"Index: [1, 6]&#10;Color: (122, 122, 255)\" style=\"width: 20px; height: 20px;background-color: rgb(122, 122, 255);\"></td><td title=\"Index: [1, 7]&#10;Color: (122, 122, 255)\" style=\"width: 20px; height: 20px;background-color: rgb(122, 122, 255);\"></td></tr><tr><td title=\"Index: [2, 0]&#10;Color: (122, 122, 255)\" style=\"width: 20px; height: 20px;background-color: rgb(122, 122, 255);\"></td><td title=\"Index: [2, 1]&#10;Color: (122, 122, 255)\" style=\"width: 20px; height: 20px;background-color: rgb(122, 122, 255);\"></td><td title=\"Index: [2, 2]&#10;Color: (0, 0, 0)\" style=\"width: 20px; height: 20px;background-color: rgb(0, 0, 0);\"></td><td title=\"Index: [2, 3]&#10;Color: (122, 122, 255)\" style=\"width: 20px; height: 20px;background-color: rgb(122, 122, 255);\"></td><td title=\"Index: [2, 4]&#10;Color: (122, 122, 255)\" style=\"width: 20px; height: 20px;background-color: rgb(122, 122, 255);\"></td><td title=\"Index: [2, 5]&#10;Color: (122, 122, 255)\" style=\"width: 20px; height: 20px;background-color: rgb(122, 122, 255);\"></td><td title=\"Index: [2, 6]&#10;Color: (122, 122, 255)\" style=\"width: 20px; height: 20px;background-color: rgb(122, 122, 255);\"></td><td title=\"Index: [2, 7]&#10;Color: (122, 122, 255)\" style=\"width: 20px; height: 20px;background-color: rgb(122, 122, 255);\"></td></tr><tr><td title=\"Index: [3, 0]&#10;Color: (122, 122, 255)\" style=\"width: 20px; height: 20px;background-color: rgb(122, 122, 255);\"></td><td title=\"Index: [3, 1]&#10;Color: (122, 122, 255)\" style=\"width: 20px; height: 20px;background-color: rgb(122, 122, 255);\"></td><td title=\"Index: [3, 2]&#10;Color: (122, 122, 255)\" style=\"width: 20px; height: 20px;background-color: rgb(122, 122, 255);\"></td><td title=\"Index: [3, 3]&#10;Color: (0, 0, 0)\" style=\"width: 20px; height: 20px;background-color: rgb(0, 0, 0);\"></td><td title=\"Index: [3, 4]&#10;Color: (122, 122, 255)\" style=\"width: 20px; height: 20px;background-color: rgb(122, 122, 255);\"></td><td title=\"Index: [3, 5]&#10;Color: (122, 122, 255)\" style=\"width: 20px; height: 20px;background-color: rgb(122, 122, 255);\"></td><td title=\"Index: [3, 6]&#10;Color: (122, 122, 255)\" style=\"width: 20px; height: 20px;background-color: rgb(122, 122, 255);\"></td><td title=\"Index: [3, 7]&#10;Color: (122, 122, 255)\" style=\"width: 20px; height: 20px;background-color: rgb(122, 122, 255);\"></td></tr><tr><td title=\"Index: [4, 0]&#10;Color: (122, 122, 255)\" style=\"width: 20px; height: 20px;background-color: rgb(122, 122, 255);\"></td><td title=\"Index: [4, 1]&#10;Color: (122, 122, 255)\" style=\"width: 20px; height: 20px;background-color: rgb(122, 122, 255);\"></td><td title=\"Index: [4, 2]&#10;Color: (122, 122, 255)\" style=\"width: 20px; height: 20px;background-color: rgb(122, 122, 255);\"></td><td title=\"Index: [4, 3]&#10;Color: (122, 122, 255)\" style=\"width: 20px; height: 20px;background-color: rgb(122, 122, 255);\"></td><td title=\"Index: [4, 4]&#10;Color: (0, 0, 0)\" style=\"width: 20px; height: 20px;background-color: rgb(0, 0, 0);\"></td><td title=\"Index: [4, 5]&#10;Color: (122, 122, 255)\" style=\"width: 20px; height: 20px;background-color: rgb(122, 122, 255);\"></td><td title=\"Index: [4, 6]&#10;Color: (122, 122, 255)\" style=\"width: 20px; height: 20px;background-color: rgb(122, 122, 255);\"></td><td title=\"Index: [4, 7]&#10;Color: (122, 122, 255)\" style=\"width: 20px; height: 20px;background-color: rgb(122, 122, 255);\"></td></tr><tr><td title=\"Index: [5, 0]&#10;Color: (122, 122, 255)\" style=\"width: 20px; height: 20px;background-color: rgb(122, 122, 255);\"></td><td title=\"Index: [5, 1]&#10;Color: (122, 122, 255)\" style=\"width: 20px; height: 20px;background-color: rgb(122, 122, 255);\"></td><td title=\"Index: [5, 2]&#10;Color: (122, 122, 255)\" style=\"width: 20px; height: 20px;background-color: rgb(122, 122, 255);\"></td><td title=\"Index: [5, 3]&#10;Color: (122, 122, 255)\" style=\"width: 20px; height: 20px;background-color: rgb(122, 122, 255);\"></td><td title=\"Index: [5, 4]&#10;Color: (122, 122, 255)\" style=\"width: 20px; height: 20px;background-color: rgb(122, 122, 255);\"></td><td title=\"Index: [5, 5]&#10;Color: (0, 0, 0)\" style=\"width: 20px; height: 20px;background-color: rgb(0, 0, 0);\"></td><td title=\"Index: [5, 6]&#10;Color: (122, 122, 255)\" style=\"width: 20px; height: 20px;background-color: rgb(122, 122, 255);\"></td><td title=\"Index: [5, 7]&#10;Color: (122, 122, 255)\" style=\"width: 20px; height: 20px;background-color: rgb(122, 122, 255);\"></td></tr><tr><td title=\"Index: [6, 0]&#10;Color: (122, 122, 255)\" style=\"width: 20px; height: 20px;background-color: rgb(122, 122, 255);\"></td><td title=\"Index: [6, 1]&#10;Color: (122, 122, 255)\" style=\"width: 20px; height: 20px;background-color: rgb(122, 122, 255);\"></td><td title=\"Index: [6, 2]&#10;Color: (122, 122, 255)\" style=\"width: 20px; height: 20px;background-color: rgb(122, 122, 255);\"></td><td title=\"Index: [6, 3]&#10;Color: (122, 122, 255)\" style=\"width: 20px; height: 20px;background-color: rgb(122, 122, 255);\"></td><td title=\"Index: [6, 4]&#10;Color: (122, 122, 255)\" style=\"width: 20px; height: 20px;background-color: rgb(122, 122, 255);\"></td><td title=\"Index: [6, 5]&#10;Color: (122, 122, 255)\" style=\"width: 20px; height: 20px;background-color: rgb(122, 122, 255);\"></td><td title=\"Index: [6, 6]&#10;Color: (122, 122, 255)\" style=\"width: 20px; height: 20px;background-color: rgb(122, 122, 255);\"></td><td title=\"Index: [6, 7]&#10;Color: (122, 122, 255)\" style=\"width: 20px; height: 20px;background-color: rgb(122, 122, 255);\"></td></tr><tr><td title=\"Index: [7, 0]&#10;Color: (122, 122, 255)\" style=\"width: 20px; height: 20px;background-color: rgb(122, 122, 255);\"></td><td title=\"Index: [7, 1]&#10;Color: (122, 122, 255)\" style=\"width: 20px; height: 20px;background-color: rgb(122, 122, 255);\"></td><td title=\"Index: [7, 2]&#10;Color: (122, 122, 255)\" style=\"width: 20px; height: 20px;background-color: rgb(122, 122, 255);\"></td><td title=\"Index: [7, 3]&#10;Color: (122, 122, 255)\" style=\"width: 20px; height: 20px;background-color: rgb(122, 122, 255);\"></td><td title=\"Index: [7, 4]&#10;Color: (122, 122, 255)\" style=\"width: 20px; height: 20px;background-color: rgb(122, 122, 255);\"></td><td title=\"Index: [7, 5]&#10;Color: (122, 122, 255)\" style=\"width: 20px; height: 20px;background-color: rgb(122, 122, 255);\"></td><td title=\"Index: [7, 6]&#10;Color: (122, 122, 255)\" style=\"width: 20px; height: 20px;background-color: rgb(122, 122, 255);\"></td><td title=\"Index: [7, 7]&#10;Color: (122, 122, 255)\" style=\"width: 20px; height: 20px;background-color: rgb(122, 122, 255);\"></td></tr></tbody></table>"
       ],
       "metadata": {},
       "output_type": "display_data",
       "text": [
        "<IPython.core.display.HTML at 0x179dd90>"
       ]
      },
      {
       "output_type": "stream",
       "stream": "stdout",
       "text": [
        "End of Turn 8\n"
       ]
      },
      {
       "name": "stdout",
       "output_type": "stream",
       "stream": "stdout",
       "text": [
        "Guess Row:6\n"
       ]
      },
      {
       "name": "stdout",
       "output_type": "stream",
       "stream": "stdout",
       "text": [
        "Guess Col:6\n"
       ]
      },
      {
       "output_type": "stream",
       "stream": "stdout",
       "text": [
        "You missed my battleship!\n"
       ]
      },
      {
       "html": [
        "<style type=\"text/css\">table.blockgrid {border: none;} .blockgrid tr {border: none;} .blockgrid td {padding: 0px;} #blocks2b09a8ef-ca4c-4ddc-a525-e8c549f30496 td {border: 1px solid white;}</style><table id=\"blocks2b09a8ef-ca4c-4ddc-a525-e8c549f30496\" class=\"blockgrid\"><tbody><tr><td title=\"Index: [0, 0]&#10;Color: (122, 122, 255)\" style=\"width: 20px; height: 20px;background-color: rgb(122, 122, 255);\"></td><td title=\"Index: [0, 1]&#10;Color: (122, 122, 255)\" style=\"width: 20px; height: 20px;background-color: rgb(122, 122, 255);\"></td><td title=\"Index: [0, 2]&#10;Color: (122, 122, 255)\" style=\"width: 20px; height: 20px;background-color: rgb(122, 122, 255);\"></td><td title=\"Index: [0, 3]&#10;Color: (122, 122, 255)\" style=\"width: 20px; height: 20px;background-color: rgb(122, 122, 255);\"></td><td title=\"Index: [0, 4]&#10;Color: (122, 122, 255)\" style=\"width: 20px; height: 20px;background-color: rgb(122, 122, 255);\"></td><td title=\"Index: [0, 5]&#10;Color: (122, 122, 255)\" style=\"width: 20px; height: 20px;background-color: rgb(122, 122, 255);\"></td><td title=\"Index: [0, 6]&#10;Color: (122, 122, 255)\" style=\"width: 20px; height: 20px;background-color: rgb(122, 122, 255);\"></td><td title=\"Index: [0, 7]&#10;Color: (122, 122, 255)\" style=\"width: 20px; height: 20px;background-color: rgb(122, 122, 255);\"></td></tr><tr><td title=\"Index: [1, 0]&#10;Color: (122, 122, 255)\" style=\"width: 20px; height: 20px;background-color: rgb(122, 122, 255);\"></td><td title=\"Index: [1, 1]&#10;Color: (0, 0, 0)\" style=\"width: 20px; height: 20px;background-color: rgb(0, 0, 0);\"></td><td title=\"Index: [1, 2]&#10;Color: (122, 122, 255)\" style=\"width: 20px; height: 20px;background-color: rgb(122, 122, 255);\"></td><td title=\"Index: [1, 3]&#10;Color: (122, 122, 255)\" style=\"width: 20px; height: 20px;background-color: rgb(122, 122, 255);\"></td><td title=\"Index: [1, 4]&#10;Color: (122, 122, 255)\" style=\"width: 20px; height: 20px;background-color: rgb(122, 122, 255);\"></td><td title=\"Index: [1, 5]&#10;Color: (122, 122, 255)\" style=\"width: 20px; height: 20px;background-color: rgb(122, 122, 255);\"></td><td title=\"Index: [1, 6]&#10;Color: (122, 122, 255)\" style=\"width: 20px; height: 20px;background-color: rgb(122, 122, 255);\"></td><td title=\"Index: [1, 7]&#10;Color: (122, 122, 255)\" style=\"width: 20px; height: 20px;background-color: rgb(122, 122, 255);\"></td></tr><tr><td title=\"Index: [2, 0]&#10;Color: (122, 122, 255)\" style=\"width: 20px; height: 20px;background-color: rgb(122, 122, 255);\"></td><td title=\"Index: [2, 1]&#10;Color: (122, 122, 255)\" style=\"width: 20px; height: 20px;background-color: rgb(122, 122, 255);\"></td><td title=\"Index: [2, 2]&#10;Color: (0, 0, 0)\" style=\"width: 20px; height: 20px;background-color: rgb(0, 0, 0);\"></td><td title=\"Index: [2, 3]&#10;Color: (122, 122, 255)\" style=\"width: 20px; height: 20px;background-color: rgb(122, 122, 255);\"></td><td title=\"Index: [2, 4]&#10;Color: (122, 122, 255)\" style=\"width: 20px; height: 20px;background-color: rgb(122, 122, 255);\"></td><td title=\"Index: [2, 5]&#10;Color: (122, 122, 255)\" style=\"width: 20px; height: 20px;background-color: rgb(122, 122, 255);\"></td><td title=\"Index: [2, 6]&#10;Color: (122, 122, 255)\" style=\"width: 20px; height: 20px;background-color: rgb(122, 122, 255);\"></td><td title=\"Index: [2, 7]&#10;Color: (122, 122, 255)\" style=\"width: 20px; height: 20px;background-color: rgb(122, 122, 255);\"></td></tr><tr><td title=\"Index: [3, 0]&#10;Color: (122, 122, 255)\" style=\"width: 20px; height: 20px;background-color: rgb(122, 122, 255);\"></td><td title=\"Index: [3, 1]&#10;Color: (122, 122, 255)\" style=\"width: 20px; height: 20px;background-color: rgb(122, 122, 255);\"></td><td title=\"Index: [3, 2]&#10;Color: (122, 122, 255)\" style=\"width: 20px; height: 20px;background-color: rgb(122, 122, 255);\"></td><td title=\"Index: [3, 3]&#10;Color: (0, 0, 0)\" style=\"width: 20px; height: 20px;background-color: rgb(0, 0, 0);\"></td><td title=\"Index: [3, 4]&#10;Color: (122, 122, 255)\" style=\"width: 20px; height: 20px;background-color: rgb(122, 122, 255);\"></td><td title=\"Index: [3, 5]&#10;Color: (122, 122, 255)\" style=\"width: 20px; height: 20px;background-color: rgb(122, 122, 255);\"></td><td title=\"Index: [3, 6]&#10;Color: (122, 122, 255)\" style=\"width: 20px; height: 20px;background-color: rgb(122, 122, 255);\"></td><td title=\"Index: [3, 7]&#10;Color: (122, 122, 255)\" style=\"width: 20px; height: 20px;background-color: rgb(122, 122, 255);\"></td></tr><tr><td title=\"Index: [4, 0]&#10;Color: (122, 122, 255)\" style=\"width: 20px; height: 20px;background-color: rgb(122, 122, 255);\"></td><td title=\"Index: [4, 1]&#10;Color: (122, 122, 255)\" style=\"width: 20px; height: 20px;background-color: rgb(122, 122, 255);\"></td><td title=\"Index: [4, 2]&#10;Color: (122, 122, 255)\" style=\"width: 20px; height: 20px;background-color: rgb(122, 122, 255);\"></td><td title=\"Index: [4, 3]&#10;Color: (122, 122, 255)\" style=\"width: 20px; height: 20px;background-color: rgb(122, 122, 255);\"></td><td title=\"Index: [4, 4]&#10;Color: (0, 0, 0)\" style=\"width: 20px; height: 20px;background-color: rgb(0, 0, 0);\"></td><td title=\"Index: [4, 5]&#10;Color: (122, 122, 255)\" style=\"width: 20px; height: 20px;background-color: rgb(122, 122, 255);\"></td><td title=\"Index: [4, 6]&#10;Color: (122, 122, 255)\" style=\"width: 20px; height: 20px;background-color: rgb(122, 122, 255);\"></td><td title=\"Index: [4, 7]&#10;Color: (122, 122, 255)\" style=\"width: 20px; height: 20px;background-color: rgb(122, 122, 255);\"></td></tr><tr><td title=\"Index: [5, 0]&#10;Color: (122, 122, 255)\" style=\"width: 20px; height: 20px;background-color: rgb(122, 122, 255);\"></td><td title=\"Index: [5, 1]&#10;Color: (122, 122, 255)\" style=\"width: 20px; height: 20px;background-color: rgb(122, 122, 255);\"></td><td title=\"Index: [5, 2]&#10;Color: (122, 122, 255)\" style=\"width: 20px; height: 20px;background-color: rgb(122, 122, 255);\"></td><td title=\"Index: [5, 3]&#10;Color: (122, 122, 255)\" style=\"width: 20px; height: 20px;background-color: rgb(122, 122, 255);\"></td><td title=\"Index: [5, 4]&#10;Color: (122, 122, 255)\" style=\"width: 20px; height: 20px;background-color: rgb(122, 122, 255);\"></td><td title=\"Index: [5, 5]&#10;Color: (0, 0, 0)\" style=\"width: 20px; height: 20px;background-color: rgb(0, 0, 0);\"></td><td title=\"Index: [5, 6]&#10;Color: (122, 122, 255)\" style=\"width: 20px; height: 20px;background-color: rgb(122, 122, 255);\"></td><td title=\"Index: [5, 7]&#10;Color: (122, 122, 255)\" style=\"width: 20px; height: 20px;background-color: rgb(122, 122, 255);\"></td></tr><tr><td title=\"Index: [6, 0]&#10;Color: (122, 122, 255)\" style=\"width: 20px; height: 20px;background-color: rgb(122, 122, 255);\"></td><td title=\"Index: [6, 1]&#10;Color: (122, 122, 255)\" style=\"width: 20px; height: 20px;background-color: rgb(122, 122, 255);\"></td><td title=\"Index: [6, 2]&#10;Color: (122, 122, 255)\" style=\"width: 20px; height: 20px;background-color: rgb(122, 122, 255);\"></td><td title=\"Index: [6, 3]&#10;Color: (122, 122, 255)\" style=\"width: 20px; height: 20px;background-color: rgb(122, 122, 255);\"></td><td title=\"Index: [6, 4]&#10;Color: (122, 122, 255)\" style=\"width: 20px; height: 20px;background-color: rgb(122, 122, 255);\"></td><td title=\"Index: [6, 5]&#10;Color: (122, 122, 255)\" style=\"width: 20px; height: 20px;background-color: rgb(122, 122, 255);\"></td><td title=\"Index: [6, 6]&#10;Color: (0, 0, 0)\" style=\"width: 20px; height: 20px;background-color: rgb(0, 0, 0);\"></td><td title=\"Index: [6, 7]&#10;Color: (122, 122, 255)\" style=\"width: 20px; height: 20px;background-color: rgb(122, 122, 255);\"></td></tr><tr><td title=\"Index: [7, 0]&#10;Color: (122, 122, 255)\" style=\"width: 20px; height: 20px;background-color: rgb(122, 122, 255);\"></td><td title=\"Index: [7, 1]&#10;Color: (122, 122, 255)\" style=\"width: 20px; height: 20px;background-color: rgb(122, 122, 255);\"></td><td title=\"Index: [7, 2]&#10;Color: (122, 122, 255)\" style=\"width: 20px; height: 20px;background-color: rgb(122, 122, 255);\"></td><td title=\"Index: [7, 3]&#10;Color: (122, 122, 255)\" style=\"width: 20px; height: 20px;background-color: rgb(122, 122, 255);\"></td><td title=\"Index: [7, 4]&#10;Color: (122, 122, 255)\" style=\"width: 20px; height: 20px;background-color: rgb(122, 122, 255);\"></td><td title=\"Index: [7, 5]&#10;Color: (122, 122, 255)\" style=\"width: 20px; height: 20px;background-color: rgb(122, 122, 255);\"></td><td title=\"Index: [7, 6]&#10;Color: (122, 122, 255)\" style=\"width: 20px; height: 20px;background-color: rgb(122, 122, 255);\"></td><td title=\"Index: [7, 7]&#10;Color: (122, 122, 255)\" style=\"width: 20px; height: 20px;background-color: rgb(122, 122, 255);\"></td></tr></tbody></table>"
       ],
       "metadata": {},
       "output_type": "display_data",
       "text": [
        "<IPython.core.display.HTML at 0x179de10>"
       ]
      },
      {
       "output_type": "stream",
       "stream": "stdout",
       "text": [
        "End of Turn 9\n"
       ]
      },
      {
       "name": "stdout",
       "output_type": "stream",
       "stream": "stdout",
       "text": [
        "Guess Row:7\n"
       ]
      },
      {
       "name": "stdout",
       "output_type": "stream",
       "stream": "stdout",
       "text": [
        "Guess Col:7\n"
       ]
      },
      {
       "output_type": "stream",
       "stream": "stdout",
       "text": [
        "You missed my battleship!\n"
       ]
      },
      {
       "html": [
        "<style type=\"text/css\">table.blockgrid {border: none;} .blockgrid tr {border: none;} .blockgrid td {padding: 0px;} #blocksee2f51a5-7dc6-4081-b8ec-905d7b3cf7ff td {border: 1px solid white;}</style><table id=\"blocksee2f51a5-7dc6-4081-b8ec-905d7b3cf7ff\" class=\"blockgrid\"><tbody><tr><td title=\"Index: [0, 0]&#10;Color: (122, 122, 255)\" style=\"width: 20px; height: 20px;background-color: rgb(122, 122, 255);\"></td><td title=\"Index: [0, 1]&#10;Color: (122, 122, 255)\" style=\"width: 20px; height: 20px;background-color: rgb(122, 122, 255);\"></td><td title=\"Index: [0, 2]&#10;Color: (122, 122, 255)\" style=\"width: 20px; height: 20px;background-color: rgb(122, 122, 255);\"></td><td title=\"Index: [0, 3]&#10;Color: (122, 122, 255)\" style=\"width: 20px; height: 20px;background-color: rgb(122, 122, 255);\"></td><td title=\"Index: [0, 4]&#10;Color: (122, 122, 255)\" style=\"width: 20px; height: 20px;background-color: rgb(122, 122, 255);\"></td><td title=\"Index: [0, 5]&#10;Color: (122, 122, 255)\" style=\"width: 20px; height: 20px;background-color: rgb(122, 122, 255);\"></td><td title=\"Index: [0, 6]&#10;Color: (122, 122, 255)\" style=\"width: 20px; height: 20px;background-color: rgb(122, 122, 255);\"></td><td title=\"Index: [0, 7]&#10;Color: (122, 122, 255)\" style=\"width: 20px; height: 20px;background-color: rgb(122, 122, 255);\"></td></tr><tr><td title=\"Index: [1, 0]&#10;Color: (122, 122, 255)\" style=\"width: 20px; height: 20px;background-color: rgb(122, 122, 255);\"></td><td title=\"Index: [1, 1]&#10;Color: (0, 0, 0)\" style=\"width: 20px; height: 20px;background-color: rgb(0, 0, 0);\"></td><td title=\"Index: [1, 2]&#10;Color: (122, 122, 255)\" style=\"width: 20px; height: 20px;background-color: rgb(122, 122, 255);\"></td><td title=\"Index: [1, 3]&#10;Color: (122, 122, 255)\" style=\"width: 20px; height: 20px;background-color: rgb(122, 122, 255);\"></td><td title=\"Index: [1, 4]&#10;Color: (122, 122, 255)\" style=\"width: 20px; height: 20px;background-color: rgb(122, 122, 255);\"></td><td title=\"Index: [1, 5]&#10;Color: (122, 122, 255)\" style=\"width: 20px; height: 20px;background-color: rgb(122, 122, 255);\"></td><td title=\"Index: [1, 6]&#10;Color: (122, 122, 255)\" style=\"width: 20px; height: 20px;background-color: rgb(122, 122, 255);\"></td><td title=\"Index: [1, 7]&#10;Color: (122, 122, 255)\" style=\"width: 20px; height: 20px;background-color: rgb(122, 122, 255);\"></td></tr><tr><td title=\"Index: [2, 0]&#10;Color: (122, 122, 255)\" style=\"width: 20px; height: 20px;background-color: rgb(122, 122, 255);\"></td><td title=\"Index: [2, 1]&#10;Color: (122, 122, 255)\" style=\"width: 20px; height: 20px;background-color: rgb(122, 122, 255);\"></td><td title=\"Index: [2, 2]&#10;Color: (0, 0, 0)\" style=\"width: 20px; height: 20px;background-color: rgb(0, 0, 0);\"></td><td title=\"Index: [2, 3]&#10;Color: (122, 122, 255)\" style=\"width: 20px; height: 20px;background-color: rgb(122, 122, 255);\"></td><td title=\"Index: [2, 4]&#10;Color: (122, 122, 255)\" style=\"width: 20px; height: 20px;background-color: rgb(122, 122, 255);\"></td><td title=\"Index: [2, 5]&#10;Color: (122, 122, 255)\" style=\"width: 20px; height: 20px;background-color: rgb(122, 122, 255);\"></td><td title=\"Index: [2, 6]&#10;Color: (122, 122, 255)\" style=\"width: 20px; height: 20px;background-color: rgb(122, 122, 255);\"></td><td title=\"Index: [2, 7]&#10;Color: (122, 122, 255)\" style=\"width: 20px; height: 20px;background-color: rgb(122, 122, 255);\"></td></tr><tr><td title=\"Index: [3, 0]&#10;Color: (122, 122, 255)\" style=\"width: 20px; height: 20px;background-color: rgb(122, 122, 255);\"></td><td title=\"Index: [3, 1]&#10;Color: (122, 122, 255)\" style=\"width: 20px; height: 20px;background-color: rgb(122, 122, 255);\"></td><td title=\"Index: [3, 2]&#10;Color: (122, 122, 255)\" style=\"width: 20px; height: 20px;background-color: rgb(122, 122, 255);\"></td><td title=\"Index: [3, 3]&#10;Color: (0, 0, 0)\" style=\"width: 20px; height: 20px;background-color: rgb(0, 0, 0);\"></td><td title=\"Index: [3, 4]&#10;Color: (122, 122, 255)\" style=\"width: 20px; height: 20px;background-color: rgb(122, 122, 255);\"></td><td title=\"Index: [3, 5]&#10;Color: (122, 122, 255)\" style=\"width: 20px; height: 20px;background-color: rgb(122, 122, 255);\"></td><td title=\"Index: [3, 6]&#10;Color: (122, 122, 255)\" style=\"width: 20px; height: 20px;background-color: rgb(122, 122, 255);\"></td><td title=\"Index: [3, 7]&#10;Color: (122, 122, 255)\" style=\"width: 20px; height: 20px;background-color: rgb(122, 122, 255);\"></td></tr><tr><td title=\"Index: [4, 0]&#10;Color: (122, 122, 255)\" style=\"width: 20px; height: 20px;background-color: rgb(122, 122, 255);\"></td><td title=\"Index: [4, 1]&#10;Color: (122, 122, 255)\" style=\"width: 20px; height: 20px;background-color: rgb(122, 122, 255);\"></td><td title=\"Index: [4, 2]&#10;Color: (122, 122, 255)\" style=\"width: 20px; height: 20px;background-color: rgb(122, 122, 255);\"></td><td title=\"Index: [4, 3]&#10;Color: (122, 122, 255)\" style=\"width: 20px; height: 20px;background-color: rgb(122, 122, 255);\"></td><td title=\"Index: [4, 4]&#10;Color: (0, 0, 0)\" style=\"width: 20px; height: 20px;background-color: rgb(0, 0, 0);\"></td><td title=\"Index: [4, 5]&#10;Color: (122, 122, 255)\" style=\"width: 20px; height: 20px;background-color: rgb(122, 122, 255);\"></td><td title=\"Index: [4, 6]&#10;Color: (122, 122, 255)\" style=\"width: 20px; height: 20px;background-color: rgb(122, 122, 255);\"></td><td title=\"Index: [4, 7]&#10;Color: (122, 122, 255)\" style=\"width: 20px; height: 20px;background-color: rgb(122, 122, 255);\"></td></tr><tr><td title=\"Index: [5, 0]&#10;Color: (122, 122, 255)\" style=\"width: 20px; height: 20px;background-color: rgb(122, 122, 255);\"></td><td title=\"Index: [5, 1]&#10;Color: (122, 122, 255)\" style=\"width: 20px; height: 20px;background-color: rgb(122, 122, 255);\"></td><td title=\"Index: [5, 2]&#10;Color: (122, 122, 255)\" style=\"width: 20px; height: 20px;background-color: rgb(122, 122, 255);\"></td><td title=\"Index: [5, 3]&#10;Color: (122, 122, 255)\" style=\"width: 20px; height: 20px;background-color: rgb(122, 122, 255);\"></td><td title=\"Index: [5, 4]&#10;Color: (122, 122, 255)\" style=\"width: 20px; height: 20px;background-color: rgb(122, 122, 255);\"></td><td title=\"Index: [5, 5]&#10;Color: (0, 0, 0)\" style=\"width: 20px; height: 20px;background-color: rgb(0, 0, 0);\"></td><td title=\"Index: [5, 6]&#10;Color: (122, 122, 255)\" style=\"width: 20px; height: 20px;background-color: rgb(122, 122, 255);\"></td><td title=\"Index: [5, 7]&#10;Color: (122, 122, 255)\" style=\"width: 20px; height: 20px;background-color: rgb(122, 122, 255);\"></td></tr><tr><td title=\"Index: [6, 0]&#10;Color: (122, 122, 255)\" style=\"width: 20px; height: 20px;background-color: rgb(122, 122, 255);\"></td><td title=\"Index: [6, 1]&#10;Color: (122, 122, 255)\" style=\"width: 20px; height: 20px;background-color: rgb(122, 122, 255);\"></td><td title=\"Index: [6, 2]&#10;Color: (122, 122, 255)\" style=\"width: 20px; height: 20px;background-color: rgb(122, 122, 255);\"></td><td title=\"Index: [6, 3]&#10;Color: (122, 122, 255)\" style=\"width: 20px; height: 20px;background-color: rgb(122, 122, 255);\"></td><td title=\"Index: [6, 4]&#10;Color: (122, 122, 255)\" style=\"width: 20px; height: 20px;background-color: rgb(122, 122, 255);\"></td><td title=\"Index: [6, 5]&#10;Color: (122, 122, 255)\" style=\"width: 20px; height: 20px;background-color: rgb(122, 122, 255);\"></td><td title=\"Index: [6, 6]&#10;Color: (0, 0, 0)\" style=\"width: 20px; height: 20px;background-color: rgb(0, 0, 0);\"></td><td title=\"Index: [6, 7]&#10;Color: (122, 122, 255)\" style=\"width: 20px; height: 20px;background-color: rgb(122, 122, 255);\"></td></tr><tr><td title=\"Index: [7, 0]&#10;Color: (122, 122, 255)\" style=\"width: 20px; height: 20px;background-color: rgb(122, 122, 255);\"></td><td title=\"Index: [7, 1]&#10;Color: (122, 122, 255)\" style=\"width: 20px; height: 20px;background-color: rgb(122, 122, 255);\"></td><td title=\"Index: [7, 2]&#10;Color: (122, 122, 255)\" style=\"width: 20px; height: 20px;background-color: rgb(122, 122, 255);\"></td><td title=\"Index: [7, 3]&#10;Color: (122, 122, 255)\" style=\"width: 20px; height: 20px;background-color: rgb(122, 122, 255);\"></td><td title=\"Index: [7, 4]&#10;Color: (122, 122, 255)\" style=\"width: 20px; height: 20px;background-color: rgb(122, 122, 255);\"></td><td title=\"Index: [7, 5]&#10;Color: (122, 122, 255)\" style=\"width: 20px; height: 20px;background-color: rgb(122, 122, 255);\"></td><td title=\"Index: [7, 6]&#10;Color: (122, 122, 255)\" style=\"width: 20px; height: 20px;background-color: rgb(122, 122, 255);\"></td><td title=\"Index: [7, 7]&#10;Color: (0, 0, 0)\" style=\"width: 20px; height: 20px;background-color: rgb(0, 0, 0);\"></td></tr></tbody></table>"
       ],
       "metadata": {},
       "output_type": "display_data",
       "text": [
        "<IPython.core.display.HTML at 0x179de90>"
       ]
      },
      {
       "output_type": "stream",
       "stream": "stdout",
       "text": [
        "End of Turn 10\n"
       ]
      },
      {
       "name": "stdout",
       "output_type": "stream",
       "stream": "stdout",
       "text": [
        "Guess Row:1\n"
       ]
      },
      {
       "name": "stdout",
       "output_type": "stream",
       "stream": "stdout",
       "text": [
        "Guess Col:1\n"
       ]
      },
      {
       "output_type": "stream",
       "stream": "stdout",
       "text": [
        "You guessed that one already.\n"
       ]
      },
      {
       "html": [
        "<style type=\"text/css\">table.blockgrid {border: none;} .blockgrid tr {border: none;} .blockgrid td {padding: 0px;} #blocksb5c4e73c-d990-46a9-bda3-82aceb5eee3d td {border: 1px solid white;}</style><table id=\"blocksb5c4e73c-d990-46a9-bda3-82aceb5eee3d\" class=\"blockgrid\"><tbody><tr><td title=\"Index: [0, 0]&#10;Color: (122, 122, 255)\" style=\"width: 20px; height: 20px;background-color: rgb(122, 122, 255);\"></td><td title=\"Index: [0, 1]&#10;Color: (122, 122, 255)\" style=\"width: 20px; height: 20px;background-color: rgb(122, 122, 255);\"></td><td title=\"Index: [0, 2]&#10;Color: (122, 122, 255)\" style=\"width: 20px; height: 20px;background-color: rgb(122, 122, 255);\"></td><td title=\"Index: [0, 3]&#10;Color: (122, 122, 255)\" style=\"width: 20px; height: 20px;background-color: rgb(122, 122, 255);\"></td><td title=\"Index: [0, 4]&#10;Color: (122, 122, 255)\" style=\"width: 20px; height: 20px;background-color: rgb(122, 122, 255);\"></td><td title=\"Index: [0, 5]&#10;Color: (122, 122, 255)\" style=\"width: 20px; height: 20px;background-color: rgb(122, 122, 255);\"></td><td title=\"Index: [0, 6]&#10;Color: (122, 122, 255)\" style=\"width: 20px; height: 20px;background-color: rgb(122, 122, 255);\"></td><td title=\"Index: [0, 7]&#10;Color: (122, 122, 255)\" style=\"width: 20px; height: 20px;background-color: rgb(122, 122, 255);\"></td></tr><tr><td title=\"Index: [1, 0]&#10;Color: (122, 122, 255)\" style=\"width: 20px; height: 20px;background-color: rgb(122, 122, 255);\"></td><td title=\"Index: [1, 1]&#10;Color: (0, 0, 0)\" style=\"width: 20px; height: 20px;background-color: rgb(0, 0, 0);\"></td><td title=\"Index: [1, 2]&#10;Color: (122, 122, 255)\" style=\"width: 20px; height: 20px;background-color: rgb(122, 122, 255);\"></td><td title=\"Index: [1, 3]&#10;Color: (122, 122, 255)\" style=\"width: 20px; height: 20px;background-color: rgb(122, 122, 255);\"></td><td title=\"Index: [1, 4]&#10;Color: (122, 122, 255)\" style=\"width: 20px; height: 20px;background-color: rgb(122, 122, 255);\"></td><td title=\"Index: [1, 5]&#10;Color: (122, 122, 255)\" style=\"width: 20px; height: 20px;background-color: rgb(122, 122, 255);\"></td><td title=\"Index: [1, 6]&#10;Color: (122, 122, 255)\" style=\"width: 20px; height: 20px;background-color: rgb(122, 122, 255);\"></td><td title=\"Index: [1, 7]&#10;Color: (122, 122, 255)\" style=\"width: 20px; height: 20px;background-color: rgb(122, 122, 255);\"></td></tr><tr><td title=\"Index: [2, 0]&#10;Color: (122, 122, 255)\" style=\"width: 20px; height: 20px;background-color: rgb(122, 122, 255);\"></td><td title=\"Index: [2, 1]&#10;Color: (122, 122, 255)\" style=\"width: 20px; height: 20px;background-color: rgb(122, 122, 255);\"></td><td title=\"Index: [2, 2]&#10;Color: (0, 0, 0)\" style=\"width: 20px; height: 20px;background-color: rgb(0, 0, 0);\"></td><td title=\"Index: [2, 3]&#10;Color: (122, 122, 255)\" style=\"width: 20px; height: 20px;background-color: rgb(122, 122, 255);\"></td><td title=\"Index: [2, 4]&#10;Color: (122, 122, 255)\" style=\"width: 20px; height: 20px;background-color: rgb(122, 122, 255);\"></td><td title=\"Index: [2, 5]&#10;Color: (122, 122, 255)\" style=\"width: 20px; height: 20px;background-color: rgb(122, 122, 255);\"></td><td title=\"Index: [2, 6]&#10;Color: (122, 122, 255)\" style=\"width: 20px; height: 20px;background-color: rgb(122, 122, 255);\"></td><td title=\"Index: [2, 7]&#10;Color: (122, 122, 255)\" style=\"width: 20px; height: 20px;background-color: rgb(122, 122, 255);\"></td></tr><tr><td title=\"Index: [3, 0]&#10;Color: (122, 122, 255)\" style=\"width: 20px; height: 20px;background-color: rgb(122, 122, 255);\"></td><td title=\"Index: [3, 1]&#10;Color: (122, 122, 255)\" style=\"width: 20px; height: 20px;background-color: rgb(122, 122, 255);\"></td><td title=\"Index: [3, 2]&#10;Color: (122, 122, 255)\" style=\"width: 20px; height: 20px;background-color: rgb(122, 122, 255);\"></td><td title=\"Index: [3, 3]&#10;Color: (0, 0, 0)\" style=\"width: 20px; height: 20px;background-color: rgb(0, 0, 0);\"></td><td title=\"Index: [3, 4]&#10;Color: (122, 122, 255)\" style=\"width: 20px; height: 20px;background-color: rgb(122, 122, 255);\"></td><td title=\"Index: [3, 5]&#10;Color: (122, 122, 255)\" style=\"width: 20px; height: 20px;background-color: rgb(122, 122, 255);\"></td><td title=\"Index: [3, 6]&#10;Color: (122, 122, 255)\" style=\"width: 20px; height: 20px;background-color: rgb(122, 122, 255);\"></td><td title=\"Index: [3, 7]&#10;Color: (122, 122, 255)\" style=\"width: 20px; height: 20px;background-color: rgb(122, 122, 255);\"></td></tr><tr><td title=\"Index: [4, 0]&#10;Color: (122, 122, 255)\" style=\"width: 20px; height: 20px;background-color: rgb(122, 122, 255);\"></td><td title=\"Index: [4, 1]&#10;Color: (122, 122, 255)\" style=\"width: 20px; height: 20px;background-color: rgb(122, 122, 255);\"></td><td title=\"Index: [4, 2]&#10;Color: (122, 122, 255)\" style=\"width: 20px; height: 20px;background-color: rgb(122, 122, 255);\"></td><td title=\"Index: [4, 3]&#10;Color: (122, 122, 255)\" style=\"width: 20px; height: 20px;background-color: rgb(122, 122, 255);\"></td><td title=\"Index: [4, 4]&#10;Color: (0, 0, 0)\" style=\"width: 20px; height: 20px;background-color: rgb(0, 0, 0);\"></td><td title=\"Index: [4, 5]&#10;Color: (122, 122, 255)\" style=\"width: 20px; height: 20px;background-color: rgb(122, 122, 255);\"></td><td title=\"Index: [4, 6]&#10;Color: (122, 122, 255)\" style=\"width: 20px; height: 20px;background-color: rgb(122, 122, 255);\"></td><td title=\"Index: [4, 7]&#10;Color: (122, 122, 255)\" style=\"width: 20px; height: 20px;background-color: rgb(122, 122, 255);\"></td></tr><tr><td title=\"Index: [5, 0]&#10;Color: (122, 122, 255)\" style=\"width: 20px; height: 20px;background-color: rgb(122, 122, 255);\"></td><td title=\"Index: [5, 1]&#10;Color: (122, 122, 255)\" style=\"width: 20px; height: 20px;background-color: rgb(122, 122, 255);\"></td><td title=\"Index: [5, 2]&#10;Color: (122, 122, 255)\" style=\"width: 20px; height: 20px;background-color: rgb(122, 122, 255);\"></td><td title=\"Index: [5, 3]&#10;Color: (122, 122, 255)\" style=\"width: 20px; height: 20px;background-color: rgb(122, 122, 255);\"></td><td title=\"Index: [5, 4]&#10;Color: (122, 122, 255)\" style=\"width: 20px; height: 20px;background-color: rgb(122, 122, 255);\"></td><td title=\"Index: [5, 5]&#10;Color: (0, 0, 0)\" style=\"width: 20px; height: 20px;background-color: rgb(0, 0, 0);\"></td><td title=\"Index: [5, 6]&#10;Color: (122, 122, 255)\" style=\"width: 20px; height: 20px;background-color: rgb(122, 122, 255);\"></td><td title=\"Index: [5, 7]&#10;Color: (122, 122, 255)\" style=\"width: 20px; height: 20px;background-color: rgb(122, 122, 255);\"></td></tr><tr><td title=\"Index: [6, 0]&#10;Color: (122, 122, 255)\" style=\"width: 20px; height: 20px;background-color: rgb(122, 122, 255);\"></td><td title=\"Index: [6, 1]&#10;Color: (122, 122, 255)\" style=\"width: 20px; height: 20px;background-color: rgb(122, 122, 255);\"></td><td title=\"Index: [6, 2]&#10;Color: (122, 122, 255)\" style=\"width: 20px; height: 20px;background-color: rgb(122, 122, 255);\"></td><td title=\"Index: [6, 3]&#10;Color: (122, 122, 255)\" style=\"width: 20px; height: 20px;background-color: rgb(122, 122, 255);\"></td><td title=\"Index: [6, 4]&#10;Color: (122, 122, 255)\" style=\"width: 20px; height: 20px;background-color: rgb(122, 122, 255);\"></td><td title=\"Index: [6, 5]&#10;Color: (122, 122, 255)\" style=\"width: 20px; height: 20px;background-color: rgb(122, 122, 255);\"></td><td title=\"Index: [6, 6]&#10;Color: (0, 0, 0)\" style=\"width: 20px; height: 20px;background-color: rgb(0, 0, 0);\"></td><td title=\"Index: [6, 7]&#10;Color: (122, 122, 255)\" style=\"width: 20px; height: 20px;background-color: rgb(122, 122, 255);\"></td></tr><tr><td title=\"Index: [7, 0]&#10;Color: (122, 122, 255)\" style=\"width: 20px; height: 20px;background-color: rgb(122, 122, 255);\"></td><td title=\"Index: [7, 1]&#10;Color: (122, 122, 255)\" style=\"width: 20px; height: 20px;background-color: rgb(122, 122, 255);\"></td><td title=\"Index: [7, 2]&#10;Color: (122, 122, 255)\" style=\"width: 20px; height: 20px;background-color: rgb(122, 122, 255);\"></td><td title=\"Index: [7, 3]&#10;Color: (122, 122, 255)\" style=\"width: 20px; height: 20px;background-color: rgb(122, 122, 255);\"></td><td title=\"Index: [7, 4]&#10;Color: (122, 122, 255)\" style=\"width: 20px; height: 20px;background-color: rgb(122, 122, 255);\"></td><td title=\"Index: [7, 5]&#10;Color: (122, 122, 255)\" style=\"width: 20px; height: 20px;background-color: rgb(122, 122, 255);\"></td><td title=\"Index: [7, 6]&#10;Color: (122, 122, 255)\" style=\"width: 20px; height: 20px;background-color: rgb(122, 122, 255);\"></td><td title=\"Index: [7, 7]&#10;Color: (0, 0, 0)\" style=\"width: 20px; height: 20px;background-color: rgb(0, 0, 0);\"></td></tr></tbody></table>"
       ],
       "metadata": {},
       "output_type": "display_data",
       "text": [
        "<IPython.core.display.HTML at 0x179df10>"
       ]
      },
      {
       "output_type": "stream",
       "stream": "stdout",
       "text": [
        "End of Turn 11\n"
       ]
      },
      {
       "name": "stdout",
       "output_type": "stream",
       "stream": "stdout",
       "text": [
        "Guess Row:1\n"
       ]
      },
      {
       "name": "stdout",
       "output_type": "stream",
       "stream": "stdout",
       "text": [
        "Guess Col:1\n"
       ]
      },
      {
       "output_type": "stream",
       "stream": "stdout",
       "text": [
        "You guessed that one already.\n"
       ]
      },
      {
       "html": [
        "<style type=\"text/css\">table.blockgrid {border: none;} .blockgrid tr {border: none;} .blockgrid td {padding: 0px;} #blocks78bf6a2c-8732-4d23-91c3-e8efb78c2b45 td {border: 1px solid white;}</style><table id=\"blocks78bf6a2c-8732-4d23-91c3-e8efb78c2b45\" class=\"blockgrid\"><tbody><tr><td title=\"Index: [0, 0]&#10;Color: (122, 122, 255)\" style=\"width: 20px; height: 20px;background-color: rgb(122, 122, 255);\"></td><td title=\"Index: [0, 1]&#10;Color: (122, 122, 255)\" style=\"width: 20px; height: 20px;background-color: rgb(122, 122, 255);\"></td><td title=\"Index: [0, 2]&#10;Color: (122, 122, 255)\" style=\"width: 20px; height: 20px;background-color: rgb(122, 122, 255);\"></td><td title=\"Index: [0, 3]&#10;Color: (122, 122, 255)\" style=\"width: 20px; height: 20px;background-color: rgb(122, 122, 255);\"></td><td title=\"Index: [0, 4]&#10;Color: (122, 122, 255)\" style=\"width: 20px; height: 20px;background-color: rgb(122, 122, 255);\"></td><td title=\"Index: [0, 5]&#10;Color: (122, 122, 255)\" style=\"width: 20px; height: 20px;background-color: rgb(122, 122, 255);\"></td><td title=\"Index: [0, 6]&#10;Color: (122, 122, 255)\" style=\"width: 20px; height: 20px;background-color: rgb(122, 122, 255);\"></td><td title=\"Index: [0, 7]&#10;Color: (122, 122, 255)\" style=\"width: 20px; height: 20px;background-color: rgb(122, 122, 255);\"></td></tr><tr><td title=\"Index: [1, 0]&#10;Color: (122, 122, 255)\" style=\"width: 20px; height: 20px;background-color: rgb(122, 122, 255);\"></td><td title=\"Index: [1, 1]&#10;Color: (0, 0, 0)\" style=\"width: 20px; height: 20px;background-color: rgb(0, 0, 0);\"></td><td title=\"Index: [1, 2]&#10;Color: (122, 122, 255)\" style=\"width: 20px; height: 20px;background-color: rgb(122, 122, 255);\"></td><td title=\"Index: [1, 3]&#10;Color: (122, 122, 255)\" style=\"width: 20px; height: 20px;background-color: rgb(122, 122, 255);\"></td><td title=\"Index: [1, 4]&#10;Color: (122, 122, 255)\" style=\"width: 20px; height: 20px;background-color: rgb(122, 122, 255);\"></td><td title=\"Index: [1, 5]&#10;Color: (122, 122, 255)\" style=\"width: 20px; height: 20px;background-color: rgb(122, 122, 255);\"></td><td title=\"Index: [1, 6]&#10;Color: (122, 122, 255)\" style=\"width: 20px; height: 20px;background-color: rgb(122, 122, 255);\"></td><td title=\"Index: [1, 7]&#10;Color: (122, 122, 255)\" style=\"width: 20px; height: 20px;background-color: rgb(122, 122, 255);\"></td></tr><tr><td title=\"Index: [2, 0]&#10;Color: (122, 122, 255)\" style=\"width: 20px; height: 20px;background-color: rgb(122, 122, 255);\"></td><td title=\"Index: [2, 1]&#10;Color: (122, 122, 255)\" style=\"width: 20px; height: 20px;background-color: rgb(122, 122, 255);\"></td><td title=\"Index: [2, 2]&#10;Color: (0, 0, 0)\" style=\"width: 20px; height: 20px;background-color: rgb(0, 0, 0);\"></td><td title=\"Index: [2, 3]&#10;Color: (122, 122, 255)\" style=\"width: 20px; height: 20px;background-color: rgb(122, 122, 255);\"></td><td title=\"Index: [2, 4]&#10;Color: (122, 122, 255)\" style=\"width: 20px; height: 20px;background-color: rgb(122, 122, 255);\"></td><td title=\"Index: [2, 5]&#10;Color: (122, 122, 255)\" style=\"width: 20px; height: 20px;background-color: rgb(122, 122, 255);\"></td><td title=\"Index: [2, 6]&#10;Color: (122, 122, 255)\" style=\"width: 20px; height: 20px;background-color: rgb(122, 122, 255);\"></td><td title=\"Index: [2, 7]&#10;Color: (122, 122, 255)\" style=\"width: 20px; height: 20px;background-color: rgb(122, 122, 255);\"></td></tr><tr><td title=\"Index: [3, 0]&#10;Color: (122, 122, 255)\" style=\"width: 20px; height: 20px;background-color: rgb(122, 122, 255);\"></td><td title=\"Index: [3, 1]&#10;Color: (122, 122, 255)\" style=\"width: 20px; height: 20px;background-color: rgb(122, 122, 255);\"></td><td title=\"Index: [3, 2]&#10;Color: (122, 122, 255)\" style=\"width: 20px; height: 20px;background-color: rgb(122, 122, 255);\"></td><td title=\"Index: [3, 3]&#10;Color: (0, 0, 0)\" style=\"width: 20px; height: 20px;background-color: rgb(0, 0, 0);\"></td><td title=\"Index: [3, 4]&#10;Color: (122, 122, 255)\" style=\"width: 20px; height: 20px;background-color: rgb(122, 122, 255);\"></td><td title=\"Index: [3, 5]&#10;Color: (122, 122, 255)\" style=\"width: 20px; height: 20px;background-color: rgb(122, 122, 255);\"></td><td title=\"Index: [3, 6]&#10;Color: (122, 122, 255)\" style=\"width: 20px; height: 20px;background-color: rgb(122, 122, 255);\"></td><td title=\"Index: [3, 7]&#10;Color: (122, 122, 255)\" style=\"width: 20px; height: 20px;background-color: rgb(122, 122, 255);\"></td></tr><tr><td title=\"Index: [4, 0]&#10;Color: (122, 122, 255)\" style=\"width: 20px; height: 20px;background-color: rgb(122, 122, 255);\"></td><td title=\"Index: [4, 1]&#10;Color: (122, 122, 255)\" style=\"width: 20px; height: 20px;background-color: rgb(122, 122, 255);\"></td><td title=\"Index: [4, 2]&#10;Color: (122, 122, 255)\" style=\"width: 20px; height: 20px;background-color: rgb(122, 122, 255);\"></td><td title=\"Index: [4, 3]&#10;Color: (122, 122, 255)\" style=\"width: 20px; height: 20px;background-color: rgb(122, 122, 255);\"></td><td title=\"Index: [4, 4]&#10;Color: (0, 0, 0)\" style=\"width: 20px; height: 20px;background-color: rgb(0, 0, 0);\"></td><td title=\"Index: [4, 5]&#10;Color: (122, 122, 255)\" style=\"width: 20px; height: 20px;background-color: rgb(122, 122, 255);\"></td><td title=\"Index: [4, 6]&#10;Color: (122, 122, 255)\" style=\"width: 20px; height: 20px;background-color: rgb(122, 122, 255);\"></td><td title=\"Index: [4, 7]&#10;Color: (122, 122, 255)\" style=\"width: 20px; height: 20px;background-color: rgb(122, 122, 255);\"></td></tr><tr><td title=\"Index: [5, 0]&#10;Color: (122, 122, 255)\" style=\"width: 20px; height: 20px;background-color: rgb(122, 122, 255);\"></td><td title=\"Index: [5, 1]&#10;Color: (122, 122, 255)\" style=\"width: 20px; height: 20px;background-color: rgb(122, 122, 255);\"></td><td title=\"Index: [5, 2]&#10;Color: (122, 122, 255)\" style=\"width: 20px; height: 20px;background-color: rgb(122, 122, 255);\"></td><td title=\"Index: [5, 3]&#10;Color: (122, 122, 255)\" style=\"width: 20px; height: 20px;background-color: rgb(122, 122, 255);\"></td><td title=\"Index: [5, 4]&#10;Color: (122, 122, 255)\" style=\"width: 20px; height: 20px;background-color: rgb(122, 122, 255);\"></td><td title=\"Index: [5, 5]&#10;Color: (0, 0, 0)\" style=\"width: 20px; height: 20px;background-color: rgb(0, 0, 0);\"></td><td title=\"Index: [5, 6]&#10;Color: (122, 122, 255)\" style=\"width: 20px; height: 20px;background-color: rgb(122, 122, 255);\"></td><td title=\"Index: [5, 7]&#10;Color: (122, 122, 255)\" style=\"width: 20px; height: 20px;background-color: rgb(122, 122, 255);\"></td></tr><tr><td title=\"Index: [6, 0]&#10;Color: (122, 122, 255)\" style=\"width: 20px; height: 20px;background-color: rgb(122, 122, 255);\"></td><td title=\"Index: [6, 1]&#10;Color: (122, 122, 255)\" style=\"width: 20px; height: 20px;background-color: rgb(122, 122, 255);\"></td><td title=\"Index: [6, 2]&#10;Color: (122, 122, 255)\" style=\"width: 20px; height: 20px;background-color: rgb(122, 122, 255);\"></td><td title=\"Index: [6, 3]&#10;Color: (122, 122, 255)\" style=\"width: 20px; height: 20px;background-color: rgb(122, 122, 255);\"></td><td title=\"Index: [6, 4]&#10;Color: (122, 122, 255)\" style=\"width: 20px; height: 20px;background-color: rgb(122, 122, 255);\"></td><td title=\"Index: [6, 5]&#10;Color: (122, 122, 255)\" style=\"width: 20px; height: 20px;background-color: rgb(122, 122, 255);\"></td><td title=\"Index: [6, 6]&#10;Color: (0, 0, 0)\" style=\"width: 20px; height: 20px;background-color: rgb(0, 0, 0);\"></td><td title=\"Index: [6, 7]&#10;Color: (122, 122, 255)\" style=\"width: 20px; height: 20px;background-color: rgb(122, 122, 255);\"></td></tr><tr><td title=\"Index: [7, 0]&#10;Color: (122, 122, 255)\" style=\"width: 20px; height: 20px;background-color: rgb(122, 122, 255);\"></td><td title=\"Index: [7, 1]&#10;Color: (122, 122, 255)\" style=\"width: 20px; height: 20px;background-color: rgb(122, 122, 255);\"></td><td title=\"Index: [7, 2]&#10;Color: (122, 122, 255)\" style=\"width: 20px; height: 20px;background-color: rgb(122, 122, 255);\"></td><td title=\"Index: [7, 3]&#10;Color: (122, 122, 255)\" style=\"width: 20px; height: 20px;background-color: rgb(122, 122, 255);\"></td><td title=\"Index: [7, 4]&#10;Color: (122, 122, 255)\" style=\"width: 20px; height: 20px;background-color: rgb(122, 122, 255);\"></td><td title=\"Index: [7, 5]&#10;Color: (122, 122, 255)\" style=\"width: 20px; height: 20px;background-color: rgb(122, 122, 255);\"></td><td title=\"Index: [7, 6]&#10;Color: (122, 122, 255)\" style=\"width: 20px; height: 20px;background-color: rgb(122, 122, 255);\"></td><td title=\"Index: [7, 7]&#10;Color: (0, 0, 0)\" style=\"width: 20px; height: 20px;background-color: rgb(0, 0, 0);\"></td></tr></tbody></table>"
       ],
       "metadata": {},
       "output_type": "display_data",
       "text": [
        "<IPython.core.display.HTML at 0x179df90>"
       ]
      },
      {
       "output_type": "stream",
       "stream": "stdout",
       "text": [
        "End of Turn 12\n"
       ]
      },
      {
       "name": "stdout",
       "output_type": "stream",
       "stream": "stdout",
       "text": [
        "Guess Row:1\n"
       ]
      },
      {
       "name": "stdout",
       "output_type": "stream",
       "stream": "stdout",
       "text": [
        "Guess Col:1\n"
       ]
      },
      {
       "output_type": "stream",
       "stream": "stdout",
       "text": [
        "You guessed that one already.\n"
       ]
      },
      {
       "html": [
        "<style type=\"text/css\">table.blockgrid {border: none;} .blockgrid tr {border: none;} .blockgrid td {padding: 0px;} #blocks2f947472-4920-4729-b837-1cc18e57f4bf td {border: 1px solid white;}</style><table id=\"blocks2f947472-4920-4729-b837-1cc18e57f4bf\" class=\"blockgrid\"><tbody><tr><td title=\"Index: [0, 0]&#10;Color: (122, 122, 255)\" style=\"width: 20px; height: 20px;background-color: rgb(122, 122, 255);\"></td><td title=\"Index: [0, 1]&#10;Color: (122, 122, 255)\" style=\"width: 20px; height: 20px;background-color: rgb(122, 122, 255);\"></td><td title=\"Index: [0, 2]&#10;Color: (122, 122, 255)\" style=\"width: 20px; height: 20px;background-color: rgb(122, 122, 255);\"></td><td title=\"Index: [0, 3]&#10;Color: (122, 122, 255)\" style=\"width: 20px; height: 20px;background-color: rgb(122, 122, 255);\"></td><td title=\"Index: [0, 4]&#10;Color: (122, 122, 255)\" style=\"width: 20px; height: 20px;background-color: rgb(122, 122, 255);\"></td><td title=\"Index: [0, 5]&#10;Color: (122, 122, 255)\" style=\"width: 20px; height: 20px;background-color: rgb(122, 122, 255);\"></td><td title=\"Index: [0, 6]&#10;Color: (122, 122, 255)\" style=\"width: 20px; height: 20px;background-color: rgb(122, 122, 255);\"></td><td title=\"Index: [0, 7]&#10;Color: (122, 122, 255)\" style=\"width: 20px; height: 20px;background-color: rgb(122, 122, 255);\"></td></tr><tr><td title=\"Index: [1, 0]&#10;Color: (122, 122, 255)\" style=\"width: 20px; height: 20px;background-color: rgb(122, 122, 255);\"></td><td title=\"Index: [1, 1]&#10;Color: (0, 0, 0)\" style=\"width: 20px; height: 20px;background-color: rgb(0, 0, 0);\"></td><td title=\"Index: [1, 2]&#10;Color: (122, 122, 255)\" style=\"width: 20px; height: 20px;background-color: rgb(122, 122, 255);\"></td><td title=\"Index: [1, 3]&#10;Color: (122, 122, 255)\" style=\"width: 20px; height: 20px;background-color: rgb(122, 122, 255);\"></td><td title=\"Index: [1, 4]&#10;Color: (122, 122, 255)\" style=\"width: 20px; height: 20px;background-color: rgb(122, 122, 255);\"></td><td title=\"Index: [1, 5]&#10;Color: (122, 122, 255)\" style=\"width: 20px; height: 20px;background-color: rgb(122, 122, 255);\"></td><td title=\"Index: [1, 6]&#10;Color: (122, 122, 255)\" style=\"width: 20px; height: 20px;background-color: rgb(122, 122, 255);\"></td><td title=\"Index: [1, 7]&#10;Color: (122, 122, 255)\" style=\"width: 20px; height: 20px;background-color: rgb(122, 122, 255);\"></td></tr><tr><td title=\"Index: [2, 0]&#10;Color: (122, 122, 255)\" style=\"width: 20px; height: 20px;background-color: rgb(122, 122, 255);\"></td><td title=\"Index: [2, 1]&#10;Color: (122, 122, 255)\" style=\"width: 20px; height: 20px;background-color: rgb(122, 122, 255);\"></td><td title=\"Index: [2, 2]&#10;Color: (0, 0, 0)\" style=\"width: 20px; height: 20px;background-color: rgb(0, 0, 0);\"></td><td title=\"Index: [2, 3]&#10;Color: (122, 122, 255)\" style=\"width: 20px; height: 20px;background-color: rgb(122, 122, 255);\"></td><td title=\"Index: [2, 4]&#10;Color: (122, 122, 255)\" style=\"width: 20px; height: 20px;background-color: rgb(122, 122, 255);\"></td><td title=\"Index: [2, 5]&#10;Color: (122, 122, 255)\" style=\"width: 20px; height: 20px;background-color: rgb(122, 122, 255);\"></td><td title=\"Index: [2, 6]&#10;Color: (122, 122, 255)\" style=\"width: 20px; height: 20px;background-color: rgb(122, 122, 255);\"></td><td title=\"Index: [2, 7]&#10;Color: (122, 122, 255)\" style=\"width: 20px; height: 20px;background-color: rgb(122, 122, 255);\"></td></tr><tr><td title=\"Index: [3, 0]&#10;Color: (122, 122, 255)\" style=\"width: 20px; height: 20px;background-color: rgb(122, 122, 255);\"></td><td title=\"Index: [3, 1]&#10;Color: (122, 122, 255)\" style=\"width: 20px; height: 20px;background-color: rgb(122, 122, 255);\"></td><td title=\"Index: [3, 2]&#10;Color: (122, 122, 255)\" style=\"width: 20px; height: 20px;background-color: rgb(122, 122, 255);\"></td><td title=\"Index: [3, 3]&#10;Color: (0, 0, 0)\" style=\"width: 20px; height: 20px;background-color: rgb(0, 0, 0);\"></td><td title=\"Index: [3, 4]&#10;Color: (122, 122, 255)\" style=\"width: 20px; height: 20px;background-color: rgb(122, 122, 255);\"></td><td title=\"Index: [3, 5]&#10;Color: (122, 122, 255)\" style=\"width: 20px; height: 20px;background-color: rgb(122, 122, 255);\"></td><td title=\"Index: [3, 6]&#10;Color: (122, 122, 255)\" style=\"width: 20px; height: 20px;background-color: rgb(122, 122, 255);\"></td><td title=\"Index: [3, 7]&#10;Color: (122, 122, 255)\" style=\"width: 20px; height: 20px;background-color: rgb(122, 122, 255);\"></td></tr><tr><td title=\"Index: [4, 0]&#10;Color: (122, 122, 255)\" style=\"width: 20px; height: 20px;background-color: rgb(122, 122, 255);\"></td><td title=\"Index: [4, 1]&#10;Color: (122, 122, 255)\" style=\"width: 20px; height: 20px;background-color: rgb(122, 122, 255);\"></td><td title=\"Index: [4, 2]&#10;Color: (122, 122, 255)\" style=\"width: 20px; height: 20px;background-color: rgb(122, 122, 255);\"></td><td title=\"Index: [4, 3]&#10;Color: (122, 122, 255)\" style=\"width: 20px; height: 20px;background-color: rgb(122, 122, 255);\"></td><td title=\"Index: [4, 4]&#10;Color: (0, 0, 0)\" style=\"width: 20px; height: 20px;background-color: rgb(0, 0, 0);\"></td><td title=\"Index: [4, 5]&#10;Color: (122, 122, 255)\" style=\"width: 20px; height: 20px;background-color: rgb(122, 122, 255);\"></td><td title=\"Index: [4, 6]&#10;Color: (122, 122, 255)\" style=\"width: 20px; height: 20px;background-color: rgb(122, 122, 255);\"></td><td title=\"Index: [4, 7]&#10;Color: (122, 122, 255)\" style=\"width: 20px; height: 20px;background-color: rgb(122, 122, 255);\"></td></tr><tr><td title=\"Index: [5, 0]&#10;Color: (122, 122, 255)\" style=\"width: 20px; height: 20px;background-color: rgb(122, 122, 255);\"></td><td title=\"Index: [5, 1]&#10;Color: (122, 122, 255)\" style=\"width: 20px; height: 20px;background-color: rgb(122, 122, 255);\"></td><td title=\"Index: [5, 2]&#10;Color: (122, 122, 255)\" style=\"width: 20px; height: 20px;background-color: rgb(122, 122, 255);\"></td><td title=\"Index: [5, 3]&#10;Color: (122, 122, 255)\" style=\"width: 20px; height: 20px;background-color: rgb(122, 122, 255);\"></td><td title=\"Index: [5, 4]&#10;Color: (122, 122, 255)\" style=\"width: 20px; height: 20px;background-color: rgb(122, 122, 255);\"></td><td title=\"Index: [5, 5]&#10;Color: (0, 0, 0)\" style=\"width: 20px; height: 20px;background-color: rgb(0, 0, 0);\"></td><td title=\"Index: [5, 6]&#10;Color: (122, 122, 255)\" style=\"width: 20px; height: 20px;background-color: rgb(122, 122, 255);\"></td><td title=\"Index: [5, 7]&#10;Color: (122, 122, 255)\" style=\"width: 20px; height: 20px;background-color: rgb(122, 122, 255);\"></td></tr><tr><td title=\"Index: [6, 0]&#10;Color: (122, 122, 255)\" style=\"width: 20px; height: 20px;background-color: rgb(122, 122, 255);\"></td><td title=\"Index: [6, 1]&#10;Color: (122, 122, 255)\" style=\"width: 20px; height: 20px;background-color: rgb(122, 122, 255);\"></td><td title=\"Index: [6, 2]&#10;Color: (122, 122, 255)\" style=\"width: 20px; height: 20px;background-color: rgb(122, 122, 255);\"></td><td title=\"Index: [6, 3]&#10;Color: (122, 122, 255)\" style=\"width: 20px; height: 20px;background-color: rgb(122, 122, 255);\"></td><td title=\"Index: [6, 4]&#10;Color: (122, 122, 255)\" style=\"width: 20px; height: 20px;background-color: rgb(122, 122, 255);\"></td><td title=\"Index: [6, 5]&#10;Color: (122, 122, 255)\" style=\"width: 20px; height: 20px;background-color: rgb(122, 122, 255);\"></td><td title=\"Index: [6, 6]&#10;Color: (0, 0, 0)\" style=\"width: 20px; height: 20px;background-color: rgb(0, 0, 0);\"></td><td title=\"Index: [6, 7]&#10;Color: (122, 122, 255)\" style=\"width: 20px; height: 20px;background-color: rgb(122, 122, 255);\"></td></tr><tr><td title=\"Index: [7, 0]&#10;Color: (122, 122, 255)\" style=\"width: 20px; height: 20px;background-color: rgb(122, 122, 255);\"></td><td title=\"Index: [7, 1]&#10;Color: (122, 122, 255)\" style=\"width: 20px; height: 20px;background-color: rgb(122, 122, 255);\"></td><td title=\"Index: [7, 2]&#10;Color: (122, 122, 255)\" style=\"width: 20px; height: 20px;background-color: rgb(122, 122, 255);\"></td><td title=\"Index: [7, 3]&#10;Color: (122, 122, 255)\" style=\"width: 20px; height: 20px;background-color: rgb(122, 122, 255);\"></td><td title=\"Index: [7, 4]&#10;Color: (122, 122, 255)\" style=\"width: 20px; height: 20px;background-color: rgb(122, 122, 255);\"></td><td title=\"Index: [7, 5]&#10;Color: (122, 122, 255)\" style=\"width: 20px; height: 20px;background-color: rgb(122, 122, 255);\"></td><td title=\"Index: [7, 6]&#10;Color: (122, 122, 255)\" style=\"width: 20px; height: 20px;background-color: rgb(122, 122, 255);\"></td><td title=\"Index: [7, 7]&#10;Color: (0, 0, 0)\" style=\"width: 20px; height: 20px;background-color: rgb(0, 0, 0);\"></td></tr></tbody></table>"
       ],
       "metadata": {},
       "output_type": "display_data",
       "text": [
        "<IPython.core.display.HTML at 0x179def0>"
       ]
      },
      {
       "output_type": "stream",
       "stream": "stdout",
       "text": [
        "End of Turn 13\n"
       ]
      },
      {
       "name": "stdout",
       "output_type": "stream",
       "stream": "stdout",
       "text": [
        "Guess Row:1\n"
       ]
      },
      {
       "name": "stdout",
       "output_type": "stream",
       "stream": "stdout",
       "text": [
        "Guess Col:1\n"
       ]
      },
      {
       "output_type": "stream",
       "stream": "stdout",
       "text": [
        "You guessed that one already.\n"
       ]
      },
      {
       "html": [
        "<style type=\"text/css\">table.blockgrid {border: none;} .blockgrid tr {border: none;} .blockgrid td {padding: 0px;} #blocks9047075e-eb9d-4728-99e4-1b5d97d77fe3 td {border: 1px solid white;}</style><table id=\"blocks9047075e-eb9d-4728-99e4-1b5d97d77fe3\" class=\"blockgrid\"><tbody><tr><td title=\"Index: [0, 0]&#10;Color: (122, 122, 255)\" style=\"width: 20px; height: 20px;background-color: rgb(122, 122, 255);\"></td><td title=\"Index: [0, 1]&#10;Color: (122, 122, 255)\" style=\"width: 20px; height: 20px;background-color: rgb(122, 122, 255);\"></td><td title=\"Index: [0, 2]&#10;Color: (122, 122, 255)\" style=\"width: 20px; height: 20px;background-color: rgb(122, 122, 255);\"></td><td title=\"Index: [0, 3]&#10;Color: (122, 122, 255)\" style=\"width: 20px; height: 20px;background-color: rgb(122, 122, 255);\"></td><td title=\"Index: [0, 4]&#10;Color: (122, 122, 255)\" style=\"width: 20px; height: 20px;background-color: rgb(122, 122, 255);\"></td><td title=\"Index: [0, 5]&#10;Color: (122, 122, 255)\" style=\"width: 20px; height: 20px;background-color: rgb(122, 122, 255);\"></td><td title=\"Index: [0, 6]&#10;Color: (122, 122, 255)\" style=\"width: 20px; height: 20px;background-color: rgb(122, 122, 255);\"></td><td title=\"Index: [0, 7]&#10;Color: (122, 122, 255)\" style=\"width: 20px; height: 20px;background-color: rgb(122, 122, 255);\"></td></tr><tr><td title=\"Index: [1, 0]&#10;Color: (122, 122, 255)\" style=\"width: 20px; height: 20px;background-color: rgb(122, 122, 255);\"></td><td title=\"Index: [1, 1]&#10;Color: (0, 0, 0)\" style=\"width: 20px; height: 20px;background-color: rgb(0, 0, 0);\"></td><td title=\"Index: [1, 2]&#10;Color: (122, 122, 255)\" style=\"width: 20px; height: 20px;background-color: rgb(122, 122, 255);\"></td><td title=\"Index: [1, 3]&#10;Color: (122, 122, 255)\" style=\"width: 20px; height: 20px;background-color: rgb(122, 122, 255);\"></td><td title=\"Index: [1, 4]&#10;Color: (122, 122, 255)\" style=\"width: 20px; height: 20px;background-color: rgb(122, 122, 255);\"></td><td title=\"Index: [1, 5]&#10;Color: (122, 122, 255)\" style=\"width: 20px; height: 20px;background-color: rgb(122, 122, 255);\"></td><td title=\"Index: [1, 6]&#10;Color: (122, 122, 255)\" style=\"width: 20px; height: 20px;background-color: rgb(122, 122, 255);\"></td><td title=\"Index: [1, 7]&#10;Color: (122, 122, 255)\" style=\"width: 20px; height: 20px;background-color: rgb(122, 122, 255);\"></td></tr><tr><td title=\"Index: [2, 0]&#10;Color: (122, 122, 255)\" style=\"width: 20px; height: 20px;background-color: rgb(122, 122, 255);\"></td><td title=\"Index: [2, 1]&#10;Color: (122, 122, 255)\" style=\"width: 20px; height: 20px;background-color: rgb(122, 122, 255);\"></td><td title=\"Index: [2, 2]&#10;Color: (0, 0, 0)\" style=\"width: 20px; height: 20px;background-color: rgb(0, 0, 0);\"></td><td title=\"Index: [2, 3]&#10;Color: (122, 122, 255)\" style=\"width: 20px; height: 20px;background-color: rgb(122, 122, 255);\"></td><td title=\"Index: [2, 4]&#10;Color: (122, 122, 255)\" style=\"width: 20px; height: 20px;background-color: rgb(122, 122, 255);\"></td><td title=\"Index: [2, 5]&#10;Color: (122, 122, 255)\" style=\"width: 20px; height: 20px;background-color: rgb(122, 122, 255);\"></td><td title=\"Index: [2, 6]&#10;Color: (122, 122, 255)\" style=\"width: 20px; height: 20px;background-color: rgb(122, 122, 255);\"></td><td title=\"Index: [2, 7]&#10;Color: (122, 122, 255)\" style=\"width: 20px; height: 20px;background-color: rgb(122, 122, 255);\"></td></tr><tr><td title=\"Index: [3, 0]&#10;Color: (122, 122, 255)\" style=\"width: 20px; height: 20px;background-color: rgb(122, 122, 255);\"></td><td title=\"Index: [3, 1]&#10;Color: (122, 122, 255)\" style=\"width: 20px; height: 20px;background-color: rgb(122, 122, 255);\"></td><td title=\"Index: [3, 2]&#10;Color: (122, 122, 255)\" style=\"width: 20px; height: 20px;background-color: rgb(122, 122, 255);\"></td><td title=\"Index: [3, 3]&#10;Color: (0, 0, 0)\" style=\"width: 20px; height: 20px;background-color: rgb(0, 0, 0);\"></td><td title=\"Index: [3, 4]&#10;Color: (122, 122, 255)\" style=\"width: 20px; height: 20px;background-color: rgb(122, 122, 255);\"></td><td title=\"Index: [3, 5]&#10;Color: (122, 122, 255)\" style=\"width: 20px; height: 20px;background-color: rgb(122, 122, 255);\"></td><td title=\"Index: [3, 6]&#10;Color: (122, 122, 255)\" style=\"width: 20px; height: 20px;background-color: rgb(122, 122, 255);\"></td><td title=\"Index: [3, 7]&#10;Color: (122, 122, 255)\" style=\"width: 20px; height: 20px;background-color: rgb(122, 122, 255);\"></td></tr><tr><td title=\"Index: [4, 0]&#10;Color: (122, 122, 255)\" style=\"width: 20px; height: 20px;background-color: rgb(122, 122, 255);\"></td><td title=\"Index: [4, 1]&#10;Color: (122, 122, 255)\" style=\"width: 20px; height: 20px;background-color: rgb(122, 122, 255);\"></td><td title=\"Index: [4, 2]&#10;Color: (122, 122, 255)\" style=\"width: 20px; height: 20px;background-color: rgb(122, 122, 255);\"></td><td title=\"Index: [4, 3]&#10;Color: (122, 122, 255)\" style=\"width: 20px; height: 20px;background-color: rgb(122, 122, 255);\"></td><td title=\"Index: [4, 4]&#10;Color: (0, 0, 0)\" style=\"width: 20px; height: 20px;background-color: rgb(0, 0, 0);\"></td><td title=\"Index: [4, 5]&#10;Color: (122, 122, 255)\" style=\"width: 20px; height: 20px;background-color: rgb(122, 122, 255);\"></td><td title=\"Index: [4, 6]&#10;Color: (122, 122, 255)\" style=\"width: 20px; height: 20px;background-color: rgb(122, 122, 255);\"></td><td title=\"Index: [4, 7]&#10;Color: (122, 122, 255)\" style=\"width: 20px; height: 20px;background-color: rgb(122, 122, 255);\"></td></tr><tr><td title=\"Index: [5, 0]&#10;Color: (122, 122, 255)\" style=\"width: 20px; height: 20px;background-color: rgb(122, 122, 255);\"></td><td title=\"Index: [5, 1]&#10;Color: (122, 122, 255)\" style=\"width: 20px; height: 20px;background-color: rgb(122, 122, 255);\"></td><td title=\"Index: [5, 2]&#10;Color: (122, 122, 255)\" style=\"width: 20px; height: 20px;background-color: rgb(122, 122, 255);\"></td><td title=\"Index: [5, 3]&#10;Color: (122, 122, 255)\" style=\"width: 20px; height: 20px;background-color: rgb(122, 122, 255);\"></td><td title=\"Index: [5, 4]&#10;Color: (122, 122, 255)\" style=\"width: 20px; height: 20px;background-color: rgb(122, 122, 255);\"></td><td title=\"Index: [5, 5]&#10;Color: (0, 0, 0)\" style=\"width: 20px; height: 20px;background-color: rgb(0, 0, 0);\"></td><td title=\"Index: [5, 6]&#10;Color: (122, 122, 255)\" style=\"width: 20px; height: 20px;background-color: rgb(122, 122, 255);\"></td><td title=\"Index: [5, 7]&#10;Color: (122, 122, 255)\" style=\"width: 20px; height: 20px;background-color: rgb(122, 122, 255);\"></td></tr><tr><td title=\"Index: [6, 0]&#10;Color: (122, 122, 255)\" style=\"width: 20px; height: 20px;background-color: rgb(122, 122, 255);\"></td><td title=\"Index: [6, 1]&#10;Color: (122, 122, 255)\" style=\"width: 20px; height: 20px;background-color: rgb(122, 122, 255);\"></td><td title=\"Index: [6, 2]&#10;Color: (122, 122, 255)\" style=\"width: 20px; height: 20px;background-color: rgb(122, 122, 255);\"></td><td title=\"Index: [6, 3]&#10;Color: (122, 122, 255)\" style=\"width: 20px; height: 20px;background-color: rgb(122, 122, 255);\"></td><td title=\"Index: [6, 4]&#10;Color: (122, 122, 255)\" style=\"width: 20px; height: 20px;background-color: rgb(122, 122, 255);\"></td><td title=\"Index: [6, 5]&#10;Color: (122, 122, 255)\" style=\"width: 20px; height: 20px;background-color: rgb(122, 122, 255);\"></td><td title=\"Index: [6, 6]&#10;Color: (0, 0, 0)\" style=\"width: 20px; height: 20px;background-color: rgb(0, 0, 0);\"></td><td title=\"Index: [6, 7]&#10;Color: (122, 122, 255)\" style=\"width: 20px; height: 20px;background-color: rgb(122, 122, 255);\"></td></tr><tr><td title=\"Index: [7, 0]&#10;Color: (122, 122, 255)\" style=\"width: 20px; height: 20px;background-color: rgb(122, 122, 255);\"></td><td title=\"Index: [7, 1]&#10;Color: (122, 122, 255)\" style=\"width: 20px; height: 20px;background-color: rgb(122, 122, 255);\"></td><td title=\"Index: [7, 2]&#10;Color: (122, 122, 255)\" style=\"width: 20px; height: 20px;background-color: rgb(122, 122, 255);\"></td><td title=\"Index: [7, 3]&#10;Color: (122, 122, 255)\" style=\"width: 20px; height: 20px;background-color: rgb(122, 122, 255);\"></td><td title=\"Index: [7, 4]&#10;Color: (122, 122, 255)\" style=\"width: 20px; height: 20px;background-color: rgb(122, 122, 255);\"></td><td title=\"Index: [7, 5]&#10;Color: (122, 122, 255)\" style=\"width: 20px; height: 20px;background-color: rgb(122, 122, 255);\"></td><td title=\"Index: [7, 6]&#10;Color: (122, 122, 255)\" style=\"width: 20px; height: 20px;background-color: rgb(122, 122, 255);\"></td><td title=\"Index: [7, 7]&#10;Color: (0, 0, 0)\" style=\"width: 20px; height: 20px;background-color: rgb(0, 0, 0);\"></td></tr></tbody></table>"
       ],
       "metadata": {},
       "output_type": "display_data",
       "text": [
        "<IPython.core.display.HTML at 0x180f6b0>"
       ]
      },
      {
       "output_type": "stream",
       "stream": "stdout",
       "text": [
        "End of Turn 14\n"
       ]
      },
      {
       "name": "stdout",
       "output_type": "stream",
       "stream": "stdout",
       "text": [
        "Guess Row:1\n"
       ]
      },
      {
       "name": "stdout",
       "output_type": "stream",
       "stream": "stdout",
       "text": [
        "Guess Col:1\n"
       ]
      },
      {
       "output_type": "stream",
       "stream": "stdout",
       "text": [
        "You guessed that one already.\n"
       ]
      },
      {
       "html": [
        "<style type=\"text/css\">table.blockgrid {border: none;} .blockgrid tr {border: none;} .blockgrid td {padding: 0px;} #blocks2d9fd121-3bbd-4485-8346-6532f7d9f70a td {border: 1px solid white;}</style><table id=\"blocks2d9fd121-3bbd-4485-8346-6532f7d9f70a\" class=\"blockgrid\"><tbody><tr><td title=\"Index: [0, 0]&#10;Color: (122, 122, 255)\" style=\"width: 20px; height: 20px;background-color: rgb(122, 122, 255);\"></td><td title=\"Index: [0, 1]&#10;Color: (122, 122, 255)\" style=\"width: 20px; height: 20px;background-color: rgb(122, 122, 255);\"></td><td title=\"Index: [0, 2]&#10;Color: (122, 122, 255)\" style=\"width: 20px; height: 20px;background-color: rgb(122, 122, 255);\"></td><td title=\"Index: [0, 3]&#10;Color: (122, 122, 255)\" style=\"width: 20px; height: 20px;background-color: rgb(122, 122, 255);\"></td><td title=\"Index: [0, 4]&#10;Color: (122, 122, 255)\" style=\"width: 20px; height: 20px;background-color: rgb(122, 122, 255);\"></td><td title=\"Index: [0, 5]&#10;Color: (122, 122, 255)\" style=\"width: 20px; height: 20px;background-color: rgb(122, 122, 255);\"></td><td title=\"Index: [0, 6]&#10;Color: (122, 122, 255)\" style=\"width: 20px; height: 20px;background-color: rgb(122, 122, 255);\"></td><td title=\"Index: [0, 7]&#10;Color: (122, 122, 255)\" style=\"width: 20px; height: 20px;background-color: rgb(122, 122, 255);\"></td></tr><tr><td title=\"Index: [1, 0]&#10;Color: (122, 122, 255)\" style=\"width: 20px; height: 20px;background-color: rgb(122, 122, 255);\"></td><td title=\"Index: [1, 1]&#10;Color: (0, 0, 0)\" style=\"width: 20px; height: 20px;background-color: rgb(0, 0, 0);\"></td><td title=\"Index: [1, 2]&#10;Color: (122, 122, 255)\" style=\"width: 20px; height: 20px;background-color: rgb(122, 122, 255);\"></td><td title=\"Index: [1, 3]&#10;Color: (122, 122, 255)\" style=\"width: 20px; height: 20px;background-color: rgb(122, 122, 255);\"></td><td title=\"Index: [1, 4]&#10;Color: (122, 122, 255)\" style=\"width: 20px; height: 20px;background-color: rgb(122, 122, 255);\"></td><td title=\"Index: [1, 5]&#10;Color: (122, 122, 255)\" style=\"width: 20px; height: 20px;background-color: rgb(122, 122, 255);\"></td><td title=\"Index: [1, 6]&#10;Color: (122, 122, 255)\" style=\"width: 20px; height: 20px;background-color: rgb(122, 122, 255);\"></td><td title=\"Index: [1, 7]&#10;Color: (122, 122, 255)\" style=\"width: 20px; height: 20px;background-color: rgb(122, 122, 255);\"></td></tr><tr><td title=\"Index: [2, 0]&#10;Color: (122, 122, 255)\" style=\"width: 20px; height: 20px;background-color: rgb(122, 122, 255);\"></td><td title=\"Index: [2, 1]&#10;Color: (122, 122, 255)\" style=\"width: 20px; height: 20px;background-color: rgb(122, 122, 255);\"></td><td title=\"Index: [2, 2]&#10;Color: (0, 0, 0)\" style=\"width: 20px; height: 20px;background-color: rgb(0, 0, 0);\"></td><td title=\"Index: [2, 3]&#10;Color: (122, 122, 255)\" style=\"width: 20px; height: 20px;background-color: rgb(122, 122, 255);\"></td><td title=\"Index: [2, 4]&#10;Color: (122, 122, 255)\" style=\"width: 20px; height: 20px;background-color: rgb(122, 122, 255);\"></td><td title=\"Index: [2, 5]&#10;Color: (122, 122, 255)\" style=\"width: 20px; height: 20px;background-color: rgb(122, 122, 255);\"></td><td title=\"Index: [2, 6]&#10;Color: (122, 122, 255)\" style=\"width: 20px; height: 20px;background-color: rgb(122, 122, 255);\"></td><td title=\"Index: [2, 7]&#10;Color: (122, 122, 255)\" style=\"width: 20px; height: 20px;background-color: rgb(122, 122, 255);\"></td></tr><tr><td title=\"Index: [3, 0]&#10;Color: (122, 122, 255)\" style=\"width: 20px; height: 20px;background-color: rgb(122, 122, 255);\"></td><td title=\"Index: [3, 1]&#10;Color: (122, 122, 255)\" style=\"width: 20px; height: 20px;background-color: rgb(122, 122, 255);\"></td><td title=\"Index: [3, 2]&#10;Color: (122, 122, 255)\" style=\"width: 20px; height: 20px;background-color: rgb(122, 122, 255);\"></td><td title=\"Index: [3, 3]&#10;Color: (0, 0, 0)\" style=\"width: 20px; height: 20px;background-color: rgb(0, 0, 0);\"></td><td title=\"Index: [3, 4]&#10;Color: (122, 122, 255)\" style=\"width: 20px; height: 20px;background-color: rgb(122, 122, 255);\"></td><td title=\"Index: [3, 5]&#10;Color: (122, 122, 255)\" style=\"width: 20px; height: 20px;background-color: rgb(122, 122, 255);\"></td><td title=\"Index: [3, 6]&#10;Color: (122, 122, 255)\" style=\"width: 20px; height: 20px;background-color: rgb(122, 122, 255);\"></td><td title=\"Index: [3, 7]&#10;Color: (122, 122, 255)\" style=\"width: 20px; height: 20px;background-color: rgb(122, 122, 255);\"></td></tr><tr><td title=\"Index: [4, 0]&#10;Color: (122, 122, 255)\" style=\"width: 20px; height: 20px;background-color: rgb(122, 122, 255);\"></td><td title=\"Index: [4, 1]&#10;Color: (122, 122, 255)\" style=\"width: 20px; height: 20px;background-color: rgb(122, 122, 255);\"></td><td title=\"Index: [4, 2]&#10;Color: (122, 122, 255)\" style=\"width: 20px; height: 20px;background-color: rgb(122, 122, 255);\"></td><td title=\"Index: [4, 3]&#10;Color: (122, 122, 255)\" style=\"width: 20px; height: 20px;background-color: rgb(122, 122, 255);\"></td><td title=\"Index: [4, 4]&#10;Color: (0, 0, 0)\" style=\"width: 20px; height: 20px;background-color: rgb(0, 0, 0);\"></td><td title=\"Index: [4, 5]&#10;Color: (122, 122, 255)\" style=\"width: 20px; height: 20px;background-color: rgb(122, 122, 255);\"></td><td title=\"Index: [4, 6]&#10;Color: (122, 122, 255)\" style=\"width: 20px; height: 20px;background-color: rgb(122, 122, 255);\"></td><td title=\"Index: [4, 7]&#10;Color: (122, 122, 255)\" style=\"width: 20px; height: 20px;background-color: rgb(122, 122, 255);\"></td></tr><tr><td title=\"Index: [5, 0]&#10;Color: (122, 122, 255)\" style=\"width: 20px; height: 20px;background-color: rgb(122, 122, 255);\"></td><td title=\"Index: [5, 1]&#10;Color: (122, 122, 255)\" style=\"width: 20px; height: 20px;background-color: rgb(122, 122, 255);\"></td><td title=\"Index: [5, 2]&#10;Color: (122, 122, 255)\" style=\"width: 20px; height: 20px;background-color: rgb(122, 122, 255);\"></td><td title=\"Index: [5, 3]&#10;Color: (122, 122, 255)\" style=\"width: 20px; height: 20px;background-color: rgb(122, 122, 255);\"></td><td title=\"Index: [5, 4]&#10;Color: (122, 122, 255)\" style=\"width: 20px; height: 20px;background-color: rgb(122, 122, 255);\"></td><td title=\"Index: [5, 5]&#10;Color: (0, 0, 0)\" style=\"width: 20px; height: 20px;background-color: rgb(0, 0, 0);\"></td><td title=\"Index: [5, 6]&#10;Color: (122, 122, 255)\" style=\"width: 20px; height: 20px;background-color: rgb(122, 122, 255);\"></td><td title=\"Index: [5, 7]&#10;Color: (122, 122, 255)\" style=\"width: 20px; height: 20px;background-color: rgb(122, 122, 255);\"></td></tr><tr><td title=\"Index: [6, 0]&#10;Color: (122, 122, 255)\" style=\"width: 20px; height: 20px;background-color: rgb(122, 122, 255);\"></td><td title=\"Index: [6, 1]&#10;Color: (122, 122, 255)\" style=\"width: 20px; height: 20px;background-color: rgb(122, 122, 255);\"></td><td title=\"Index: [6, 2]&#10;Color: (122, 122, 255)\" style=\"width: 20px; height: 20px;background-color: rgb(122, 122, 255);\"></td><td title=\"Index: [6, 3]&#10;Color: (122, 122, 255)\" style=\"width: 20px; height: 20px;background-color: rgb(122, 122, 255);\"></td><td title=\"Index: [6, 4]&#10;Color: (122, 122, 255)\" style=\"width: 20px; height: 20px;background-color: rgb(122, 122, 255);\"></td><td title=\"Index: [6, 5]&#10;Color: (122, 122, 255)\" style=\"width: 20px; height: 20px;background-color: rgb(122, 122, 255);\"></td><td title=\"Index: [6, 6]&#10;Color: (0, 0, 0)\" style=\"width: 20px; height: 20px;background-color: rgb(0, 0, 0);\"></td><td title=\"Index: [6, 7]&#10;Color: (122, 122, 255)\" style=\"width: 20px; height: 20px;background-color: rgb(122, 122, 255);\"></td></tr><tr><td title=\"Index: [7, 0]&#10;Color: (122, 122, 255)\" style=\"width: 20px; height: 20px;background-color: rgb(122, 122, 255);\"></td><td title=\"Index: [7, 1]&#10;Color: (122, 122, 255)\" style=\"width: 20px; height: 20px;background-color: rgb(122, 122, 255);\"></td><td title=\"Index: [7, 2]&#10;Color: (122, 122, 255)\" style=\"width: 20px; height: 20px;background-color: rgb(122, 122, 255);\"></td><td title=\"Index: [7, 3]&#10;Color: (122, 122, 255)\" style=\"width: 20px; height: 20px;background-color: rgb(122, 122, 255);\"></td><td title=\"Index: [7, 4]&#10;Color: (122, 122, 255)\" style=\"width: 20px; height: 20px;background-color: rgb(122, 122, 255);\"></td><td title=\"Index: [7, 5]&#10;Color: (122, 122, 255)\" style=\"width: 20px; height: 20px;background-color: rgb(122, 122, 255);\"></td><td title=\"Index: [7, 6]&#10;Color: (122, 122, 255)\" style=\"width: 20px; height: 20px;background-color: rgb(122, 122, 255);\"></td><td title=\"Index: [7, 7]&#10;Color: (0, 0, 0)\" style=\"width: 20px; height: 20px;background-color: rgb(0, 0, 0);\"></td></tr></tbody></table>"
       ],
       "metadata": {},
       "output_type": "display_data",
       "text": [
        "<IPython.core.display.HTML at 0x179dff0>"
       ]
      },
      {
       "output_type": "stream",
       "stream": "stdout",
       "text": [
        "End of Turn 15\n",
        "You didn't sink my battleship. Maybe you should play a different game.\n"
       ]
      },
      {
       "html": [
        "<style type=\"text/css\">table.blockgrid {border: none;} .blockgrid tr {border: none;} .blockgrid td {padding: 0px;} #blocks640c2d5e-fa38-4ce4-9fed-4fa33075f218 td {border: 1px solid white;}</style><table id=\"blocks640c2d5e-fa38-4ce4-9fed-4fa33075f218\" class=\"blockgrid\"><tbody><tr><td title=\"Index: [0, 0]&#10;Color: (122, 122, 255)\" style=\"width: 20px; height: 20px;background-color: rgb(122, 122, 255);\"></td><td title=\"Index: [0, 1]&#10;Color: (122, 122, 255)\" style=\"width: 20px; height: 20px;background-color: rgb(122, 122, 255);\"></td><td title=\"Index: [0, 2]&#10;Color: (122, 122, 255)\" style=\"width: 20px; height: 20px;background-color: rgb(122, 122, 255);\"></td><td title=\"Index: [0, 3]&#10;Color: (122, 122, 255)\" style=\"width: 20px; height: 20px;background-color: rgb(122, 122, 255);\"></td><td title=\"Index: [0, 4]&#10;Color: (122, 122, 255)\" style=\"width: 20px; height: 20px;background-color: rgb(122, 122, 255);\"></td><td title=\"Index: [0, 5]&#10;Color: (122, 122, 255)\" style=\"width: 20px; height: 20px;background-color: rgb(122, 122, 255);\"></td><td title=\"Index: [0, 6]&#10;Color: (122, 122, 255)\" style=\"width: 20px; height: 20px;background-color: rgb(122, 122, 255);\"></td><td title=\"Index: [0, 7]&#10;Color: (122, 122, 255)\" style=\"width: 20px; height: 20px;background-color: rgb(122, 122, 255);\"></td></tr><tr><td title=\"Index: [1, 0]&#10;Color: (122, 122, 255)\" style=\"width: 20px; height: 20px;background-color: rgb(122, 122, 255);\"></td><td title=\"Index: [1, 1]&#10;Color: (0, 0, 0)\" style=\"width: 20px; height: 20px;background-color: rgb(0, 0, 0);\"></td><td title=\"Index: [1, 2]&#10;Color: (122, 122, 255)\" style=\"width: 20px; height: 20px;background-color: rgb(122, 122, 255);\"></td><td title=\"Index: [1, 3]&#10;Color: (122, 122, 255)\" style=\"width: 20px; height: 20px;background-color: rgb(122, 122, 255);\"></td><td title=\"Index: [1, 4]&#10;Color: (122, 122, 255)\" style=\"width: 20px; height: 20px;background-color: rgb(122, 122, 255);\"></td><td title=\"Index: [1, 5]&#10;Color: (122, 122, 255)\" style=\"width: 20px; height: 20px;background-color: rgb(122, 122, 255);\"></td><td title=\"Index: [1, 6]&#10;Color: (122, 122, 255)\" style=\"width: 20px; height: 20px;background-color: rgb(122, 122, 255);\"></td><td title=\"Index: [1, 7]&#10;Color: (122, 122, 255)\" style=\"width: 20px; height: 20px;background-color: rgb(122, 122, 255);\"></td></tr><tr><td title=\"Index: [2, 0]&#10;Color: (122, 122, 255)\" style=\"width: 20px; height: 20px;background-color: rgb(122, 122, 255);\"></td><td title=\"Index: [2, 1]&#10;Color: (122, 122, 255)\" style=\"width: 20px; height: 20px;background-color: rgb(122, 122, 255);\"></td><td title=\"Index: [2, 2]&#10;Color: (0, 0, 0)\" style=\"width: 20px; height: 20px;background-color: rgb(0, 0, 0);\"></td><td title=\"Index: [2, 3]&#10;Color: (122, 122, 255)\" style=\"width: 20px; height: 20px;background-color: rgb(122, 122, 255);\"></td><td title=\"Index: [2, 4]&#10;Color: (122, 122, 255)\" style=\"width: 20px; height: 20px;background-color: rgb(122, 122, 255);\"></td><td title=\"Index: [2, 5]&#10;Color: (255, 0, 0)\" style=\"width: 20px; height: 20px;background-color: rgb(255, 0, 0);\"></td><td title=\"Index: [2, 6]&#10;Color: (122, 122, 255)\" style=\"width: 20px; height: 20px;background-color: rgb(122, 122, 255);\"></td><td title=\"Index: [2, 7]&#10;Color: (122, 122, 255)\" style=\"width: 20px; height: 20px;background-color: rgb(122, 122, 255);\"></td></tr><tr><td title=\"Index: [3, 0]&#10;Color: (122, 122, 255)\" style=\"width: 20px; height: 20px;background-color: rgb(122, 122, 255);\"></td><td title=\"Index: [3, 1]&#10;Color: (122, 122, 255)\" style=\"width: 20px; height: 20px;background-color: rgb(122, 122, 255);\"></td><td title=\"Index: [3, 2]&#10;Color: (122, 122, 255)\" style=\"width: 20px; height: 20px;background-color: rgb(122, 122, 255);\"></td><td title=\"Index: [3, 3]&#10;Color: (0, 0, 0)\" style=\"width: 20px; height: 20px;background-color: rgb(0, 0, 0);\"></td><td title=\"Index: [3, 4]&#10;Color: (122, 122, 255)\" style=\"width: 20px; height: 20px;background-color: rgb(122, 122, 255);\"></td><td title=\"Index: [3, 5]&#10;Color: (255, 0, 0)\" style=\"width: 20px; height: 20px;background-color: rgb(255, 0, 0);\"></td><td title=\"Index: [3, 6]&#10;Color: (122, 122, 255)\" style=\"width: 20px; height: 20px;background-color: rgb(122, 122, 255);\"></td><td title=\"Index: [3, 7]&#10;Color: (122, 122, 255)\" style=\"width: 20px; height: 20px;background-color: rgb(122, 122, 255);\"></td></tr><tr><td title=\"Index: [4, 0]&#10;Color: (122, 122, 255)\" style=\"width: 20px; height: 20px;background-color: rgb(122, 122, 255);\"></td><td title=\"Index: [4, 1]&#10;Color: (122, 122, 255)\" style=\"width: 20px; height: 20px;background-color: rgb(122, 122, 255);\"></td><td title=\"Index: [4, 2]&#10;Color: (122, 122, 255)\" style=\"width: 20px; height: 20px;background-color: rgb(122, 122, 255);\"></td><td title=\"Index: [4, 3]&#10;Color: (122, 122, 255)\" style=\"width: 20px; height: 20px;background-color: rgb(122, 122, 255);\"></td><td title=\"Index: [4, 4]&#10;Color: (0, 0, 0)\" style=\"width: 20px; height: 20px;background-color: rgb(0, 0, 0);\"></td><td title=\"Index: [4, 5]&#10;Color: (255, 0, 0)\" style=\"width: 20px; height: 20px;background-color: rgb(255, 0, 0);\"></td><td title=\"Index: [4, 6]&#10;Color: (122, 122, 255)\" style=\"width: 20px; height: 20px;background-color: rgb(122, 122, 255);\"></td><td title=\"Index: [4, 7]&#10;Color: (122, 122, 255)\" style=\"width: 20px; height: 20px;background-color: rgb(122, 122, 255);\"></td></tr><tr><td title=\"Index: [5, 0]&#10;Color: (122, 122, 255)\" style=\"width: 20px; height: 20px;background-color: rgb(122, 122, 255);\"></td><td title=\"Index: [5, 1]&#10;Color: (122, 122, 255)\" style=\"width: 20px; height: 20px;background-color: rgb(122, 122, 255);\"></td><td title=\"Index: [5, 2]&#10;Color: (122, 122, 255)\" style=\"width: 20px; height: 20px;background-color: rgb(122, 122, 255);\"></td><td title=\"Index: [5, 3]&#10;Color: (122, 122, 255)\" style=\"width: 20px; height: 20px;background-color: rgb(122, 122, 255);\"></td><td title=\"Index: [5, 4]&#10;Color: (122, 122, 255)\" style=\"width: 20px; height: 20px;background-color: rgb(122, 122, 255);\"></td><td title=\"Index: [5, 5]&#10;Color: (0, 0, 0)\" style=\"width: 20px; height: 20px;background-color: rgb(0, 0, 0);\"></td><td title=\"Index: [5, 6]&#10;Color: (122, 122, 255)\" style=\"width: 20px; height: 20px;background-color: rgb(122, 122, 255);\"></td><td title=\"Index: [5, 7]&#10;Color: (122, 122, 255)\" style=\"width: 20px; height: 20px;background-color: rgb(122, 122, 255);\"></td></tr><tr><td title=\"Index: [6, 0]&#10;Color: (122, 122, 255)\" style=\"width: 20px; height: 20px;background-color: rgb(122, 122, 255);\"></td><td title=\"Index: [6, 1]&#10;Color: (122, 122, 255)\" style=\"width: 20px; height: 20px;background-color: rgb(122, 122, 255);\"></td><td title=\"Index: [6, 2]&#10;Color: (122, 122, 255)\" style=\"width: 20px; height: 20px;background-color: rgb(122, 122, 255);\"></td><td title=\"Index: [6, 3]&#10;Color: (122, 122, 255)\" style=\"width: 20px; height: 20px;background-color: rgb(122, 122, 255);\"></td><td title=\"Index: [6, 4]&#10;Color: (122, 122, 255)\" style=\"width: 20px; height: 20px;background-color: rgb(122, 122, 255);\"></td><td title=\"Index: [6, 5]&#10;Color: (122, 122, 255)\" style=\"width: 20px; height: 20px;background-color: rgb(122, 122, 255);\"></td><td title=\"Index: [6, 6]&#10;Color: (0, 0, 0)\" style=\"width: 20px; height: 20px;background-color: rgb(0, 0, 0);\"></td><td title=\"Index: [6, 7]&#10;Color: (122, 122, 255)\" style=\"width: 20px; height: 20px;background-color: rgb(122, 122, 255);\"></td></tr><tr><td title=\"Index: [7, 0]&#10;Color: (122, 122, 255)\" style=\"width: 20px; height: 20px;background-color: rgb(122, 122, 255);\"></td><td title=\"Index: [7, 1]&#10;Color: (122, 122, 255)\" style=\"width: 20px; height: 20px;background-color: rgb(122, 122, 255);\"></td><td title=\"Index: [7, 2]&#10;Color: (122, 122, 255)\" style=\"width: 20px; height: 20px;background-color: rgb(122, 122, 255);\"></td><td title=\"Index: [7, 3]&#10;Color: (122, 122, 255)\" style=\"width: 20px; height: 20px;background-color: rgb(122, 122, 255);\"></td><td title=\"Index: [7, 4]&#10;Color: (122, 122, 255)\" style=\"width: 20px; height: 20px;background-color: rgb(122, 122, 255);\"></td><td title=\"Index: [7, 5]&#10;Color: (122, 122, 255)\" style=\"width: 20px; height: 20px;background-color: rgb(122, 122, 255);\"></td><td title=\"Index: [7, 6]&#10;Color: (122, 122, 255)\" style=\"width: 20px; height: 20px;background-color: rgb(122, 122, 255);\"></td><td title=\"Index: [7, 7]&#10;Color: (0, 0, 0)\" style=\"width: 20px; height: 20px;background-color: rgb(0, 0, 0);\"></td></tr></tbody></table>"
       ],
       "metadata": {},
       "output_type": "display_data",
       "text": [
        "<IPython.core.display.HTML at 0x179da30>"
       ]
      },
      {
       "output_type": "stream",
       "stream": "stdout",
       "text": [
        "Here's where I was hiding.\n"
       ]
      }
     ],
     "prompt_number": 2
    },
    {
     "cell_type": "markdown",
     "metadata": {},
     "source": [
      "**2.** Here is a function which takes a filename, opens the file, reads the result, closes the file, and returns the contents. It should look something like this:"
     ]
    },
    {
     "cell_type": "code",
     "collapsed": false,
     "input": [
      "def read_all_from_file(filename):\n",
      "    f= open(filename)\n",
      "    contents = f.read()\n",
      "    f.close()\n",
      "    return contents"
     ],
     "language": "python",
     "metadata": {},
     "outputs": [],
     "prompt_number": 3
    },
    {
     "cell_type": "markdown",
     "metadata": {},
     "source": [
      "Use runtime error handling concepts to improve this function, so that it does the following:\n",
      "\n",
      "* raises an informative custom error if the file doesn't exist\n",
      "* uses try, except, else, and/or finally to safely return the file's contents and close the file if necessary\n",
      "* add a keyword safe which defaults to False. If the function is called with safe = True, then return an empty string if the file doesn't exist."
     ]
    },
    {
     "cell_type": "code",
     "collapsed": false,
     "input": [
      "import os\n",
      "def read_all_from_file(filename, safe=False):\n",
      "        if not os.path.exists(filename):\n",
      "            if safe == True:\n",
      "                return \"\"\n",
      "            else:\n",
      "                print \"The file ain't there bro. Try anotha one.\"\n",
      "                raise ValueError(\"'%s' does not exist\"%format(filename))\n",
      "            f = open(filename)\n",
      "            contents = f.read()\n",
      "            try:\n",
      "                return contents\n",
      "            except:\n",
      "                print \"I wasn't able to return that file to you. Try a different one.\"\n",
      "            finally:\n",
      "                f.close()"
     ],
     "language": "python",
     "metadata": {},
     "outputs": [],
     "prompt_number": 21
    },
    {
     "cell_type": "code",
     "collapsed": false,
     "input": [
      "read_all_from_file('tmp.txt')"
     ],
     "language": "python",
     "metadata": {},
     "outputs": [],
     "prompt_number": 24
    },
    {
     "cell_type": "code",
     "collapsed": false,
     "input": [
      "read_all_from_file('file.which.does.not.exist')"
     ],
     "language": "python",
     "metadata": {},
     "outputs": [
      {
       "output_type": "stream",
       "stream": "stdout",
       "text": [
        "The file ain't there bro. Try anotha one.\n"
       ]
      },
      {
       "ename": "ValueError",
       "evalue": "'file.which.does.not.exist' does not exist",
       "output_type": "pyerr",
       "traceback": [
        "\u001b[1;31m---------------------------------------------------------------------------\u001b[0m\n\u001b[1;31mValueError\u001b[0m                                Traceback (most recent call last)",
        "\u001b[1;32m<ipython-input-25-3bfc12c9d16d>\u001b[0m in \u001b[0;36m<module>\u001b[1;34m()\u001b[0m\n\u001b[1;32m----> 1\u001b[1;33m \u001b[0mread_all_from_file\u001b[0m\u001b[1;33m(\u001b[0m\u001b[1;34m'file.which.does.not.exist'\u001b[0m\u001b[1;33m)\u001b[0m\u001b[1;33m\u001b[0m\u001b[0m\n\u001b[0m",
        "\u001b[1;32m<ipython-input-21-21b772efa41d>\u001b[0m in \u001b[0;36mread_all_from_file\u001b[1;34m(filename, safe)\u001b[0m\n\u001b[0;32m      6\u001b[0m             \u001b[1;32melse\u001b[0m\u001b[1;33m:\u001b[0m\u001b[1;33m\u001b[0m\u001b[0m\n\u001b[0;32m      7\u001b[0m                 \u001b[1;32mprint\u001b[0m \u001b[1;34m\"The file ain't there bro. Try anotha one.\"\u001b[0m\u001b[1;33m\u001b[0m\u001b[0m\n\u001b[1;32m----> 8\u001b[1;33m                 \u001b[1;32mraise\u001b[0m \u001b[0mValueError\u001b[0m\u001b[1;33m(\u001b[0m\u001b[1;34m\"'%s' does not exist\"\u001b[0m\u001b[1;33m%\u001b[0m\u001b[0mformat\u001b[0m\u001b[1;33m(\u001b[0m\u001b[0mfilename\u001b[0m\u001b[1;33m)\u001b[0m\u001b[1;33m)\u001b[0m\u001b[1;33m\u001b[0m\u001b[0m\n\u001b[0m\u001b[0;32m      9\u001b[0m             \u001b[0mf\u001b[0m\u001b[1;33m=\u001b[0m\u001b[0mopen\u001b[0m\u001b[1;33m(\u001b[0m\u001b[0mfilename\u001b[0m\u001b[1;33m)\u001b[0m\u001b[1;33m\u001b[0m\u001b[0m\n\u001b[0;32m     10\u001b[0m             \u001b[0mcontents\u001b[0m \u001b[1;33m=\u001b[0m \u001b[0mf\u001b[0m\u001b[1;33m.\u001b[0m\u001b[0mread\u001b[0m\u001b[1;33m(\u001b[0m\u001b[1;33m)\u001b[0m\u001b[1;33m\u001b[0m\u001b[0m\n",
        "\u001b[1;31mValueError\u001b[0m: 'file.which.does.not.exist' does not exist"
       ]
      }
     ],
     "prompt_number": 25
    },
    {
     "cell_type": "code",
     "collapsed": false,
     "input": [
      "read_all_from_file('file.which.does.not.exist', safe=True)"
     ],
     "language": "python",
     "metadata": {},
     "outputs": [
      {
       "metadata": {},
       "output_type": "pyout",
       "prompt_number": 26,
       "text": [
        "''"
       ]
      }
     ],
     "prompt_number": 26
    },
    {
     "cell_type": "code",
     "collapsed": false,
     "input": [],
     "language": "python",
     "metadata": {},
     "outputs": []
    }
   ],
   "metadata": {}
  }
 ]
}