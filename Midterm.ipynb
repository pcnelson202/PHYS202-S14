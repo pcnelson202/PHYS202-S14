{
 "metadata": {
  "name": "",
  "signature": "sha256:be4e059f34ece94206175e09fb56b04358b9f7d4cd7d2fbe31fee12900a1d1b1"
 },
 "nbformat": 3,
 "nbformat_minor": 0,
 "worksheets": [
  {
   "cells": [
    {
     "cell_type": "heading",
     "level": 3,
     "metadata": {},
     "source": [
      "Question 1"
     ]
    },
    {
     "cell_type": "markdown",
     "metadata": {},
     "source": [
      "In Robert McCloskey\u2019s book Make Way for Ducklings, the names of the ducklings are Jack, Kack, Lack, Mack, Nack, Ouack, Pack, and Quack. This loop outputs these names in order:"
     ]
    },
    {
     "cell_type": "code",
     "collapsed": false,
     "input": [
      "prefixes = 'JKLMNOPQ'\n",
      "suffix = 'ack'\n",
      "for letter in prefixes:\n",
      "    if letter == 'O' or letter == 'Q':\n",
      "        print letter + 'u' + suffix\n",
      "    else:\n",
      "        print letter + suffix"
     ],
     "language": "python",
     "metadata": {},
     "outputs": [
      {
       "output_type": "stream",
       "stream": "stdout",
       "text": [
        "Jack\n",
        "Kack\n",
        "Lack\n",
        "Mack\n",
        "Nack\n",
        "Ouack\n",
        "Pack\n",
        "Quack\n"
       ]
      }
     ],
     "prompt_number": 189
    },
    {
     "cell_type": "heading",
     "level": 3,
     "metadata": {},
     "source": [
      "Question 2"
     ]
    },
    {
     "cell_type": "markdown",
     "metadata": {},
     "source": [
      "Use ipythonblocks to create an 8x8 grid with the first initial of your last name embedded in it in a different color. Use slices and/or loops to set the values rather than setting each block by hand. Here is an example:"
     ]
    },
    {
     "cell_type": "code",
     "collapsed": false,
     "input": [
      "from ipythonblocks import BlockGrid\n",
      "grid = BlockGrid(8,8, fill=(0,0,0))\n",
      "grid[:,0] = (200,70,150)\n",
      "grid[:,1] = (200,70,150)\n",
      "grid[:,6] = (200,70,150)\n",
      "grid[:,7] = (200,70,150)\n",
      "for row in range(grid.height):\n",
      "    for col in range(grid.width):\n",
      "        square = grid[row,col]\n",
      "        if row == col or row+1 == col or row-1 == col:\n",
      "            square.red = 200\n",
      "            square.green = 70\n",
      "            square.blue = 150           \n",
      "grid.show()"
     ],
     "language": "python",
     "metadata": {},
     "outputs": [
      {
       "html": [
        "<style type=\"text/css\">table.blockgrid {border: none;} .blockgrid tr {border: none;} .blockgrid td {padding: 0px;} #blocksd5a2fdfb-ac4e-4fde-aabe-4390d90cdf94 td {border: 1px solid white;}</style><table id=\"blocksd5a2fdfb-ac4e-4fde-aabe-4390d90cdf94\" class=\"blockgrid\"><tbody><tr><td title=\"Index: [0, 0]&#10;Color: (200, 70, 150)\" style=\"width: 20px; height: 20px;background-color: rgb(200, 70, 150);\"></td><td title=\"Index: [0, 1]&#10;Color: (200, 70, 150)\" style=\"width: 20px; height: 20px;background-color: rgb(200, 70, 150);\"></td><td title=\"Index: [0, 2]&#10;Color: (0, 0, 0)\" style=\"width: 20px; height: 20px;background-color: rgb(0, 0, 0);\"></td><td title=\"Index: [0, 3]&#10;Color: (0, 0, 0)\" style=\"width: 20px; height: 20px;background-color: rgb(0, 0, 0);\"></td><td title=\"Index: [0, 4]&#10;Color: (0, 0, 0)\" style=\"width: 20px; height: 20px;background-color: rgb(0, 0, 0);\"></td><td title=\"Index: [0, 5]&#10;Color: (0, 0, 0)\" style=\"width: 20px; height: 20px;background-color: rgb(0, 0, 0);\"></td><td title=\"Index: [0, 6]&#10;Color: (200, 70, 150)\" style=\"width: 20px; height: 20px;background-color: rgb(200, 70, 150);\"></td><td title=\"Index: [0, 7]&#10;Color: (200, 70, 150)\" style=\"width: 20px; height: 20px;background-color: rgb(200, 70, 150);\"></td></tr><tr><td title=\"Index: [1, 0]&#10;Color: (200, 70, 150)\" style=\"width: 20px; height: 20px;background-color: rgb(200, 70, 150);\"></td><td title=\"Index: [1, 1]&#10;Color: (200, 70, 150)\" style=\"width: 20px; height: 20px;background-color: rgb(200, 70, 150);\"></td><td title=\"Index: [1, 2]&#10;Color: (200, 70, 150)\" style=\"width: 20px; height: 20px;background-color: rgb(200, 70, 150);\"></td><td title=\"Index: [1, 3]&#10;Color: (0, 0, 0)\" style=\"width: 20px; height: 20px;background-color: rgb(0, 0, 0);\"></td><td title=\"Index: [1, 4]&#10;Color: (0, 0, 0)\" style=\"width: 20px; height: 20px;background-color: rgb(0, 0, 0);\"></td><td title=\"Index: [1, 5]&#10;Color: (0, 0, 0)\" style=\"width: 20px; height: 20px;background-color: rgb(0, 0, 0);\"></td><td title=\"Index: [1, 6]&#10;Color: (200, 70, 150)\" style=\"width: 20px; height: 20px;background-color: rgb(200, 70, 150);\"></td><td title=\"Index: [1, 7]&#10;Color: (200, 70, 150)\" style=\"width: 20px; height: 20px;background-color: rgb(200, 70, 150);\"></td></tr><tr><td title=\"Index: [2, 0]&#10;Color: (200, 70, 150)\" style=\"width: 20px; height: 20px;background-color: rgb(200, 70, 150);\"></td><td title=\"Index: [2, 1]&#10;Color: (200, 70, 150)\" style=\"width: 20px; height: 20px;background-color: rgb(200, 70, 150);\"></td><td title=\"Index: [2, 2]&#10;Color: (200, 70, 150)\" style=\"width: 20px; height: 20px;background-color: rgb(200, 70, 150);\"></td><td title=\"Index: [2, 3]&#10;Color: (200, 70, 150)\" style=\"width: 20px; height: 20px;background-color: rgb(200, 70, 150);\"></td><td title=\"Index: [2, 4]&#10;Color: (0, 0, 0)\" style=\"width: 20px; height: 20px;background-color: rgb(0, 0, 0);\"></td><td title=\"Index: [2, 5]&#10;Color: (0, 0, 0)\" style=\"width: 20px; height: 20px;background-color: rgb(0, 0, 0);\"></td><td title=\"Index: [2, 6]&#10;Color: (200, 70, 150)\" style=\"width: 20px; height: 20px;background-color: rgb(200, 70, 150);\"></td><td title=\"Index: [2, 7]&#10;Color: (200, 70, 150)\" style=\"width: 20px; height: 20px;background-color: rgb(200, 70, 150);\"></td></tr><tr><td title=\"Index: [3, 0]&#10;Color: (200, 70, 150)\" style=\"width: 20px; height: 20px;background-color: rgb(200, 70, 150);\"></td><td title=\"Index: [3, 1]&#10;Color: (200, 70, 150)\" style=\"width: 20px; height: 20px;background-color: rgb(200, 70, 150);\"></td><td title=\"Index: [3, 2]&#10;Color: (200, 70, 150)\" style=\"width: 20px; height: 20px;background-color: rgb(200, 70, 150);\"></td><td title=\"Index: [3, 3]&#10;Color: (200, 70, 150)\" style=\"width: 20px; height: 20px;background-color: rgb(200, 70, 150);\"></td><td title=\"Index: [3, 4]&#10;Color: (200, 70, 150)\" style=\"width: 20px; height: 20px;background-color: rgb(200, 70, 150);\"></td><td title=\"Index: [3, 5]&#10;Color: (0, 0, 0)\" style=\"width: 20px; height: 20px;background-color: rgb(0, 0, 0);\"></td><td title=\"Index: [3, 6]&#10;Color: (200, 70, 150)\" style=\"width: 20px; height: 20px;background-color: rgb(200, 70, 150);\"></td><td title=\"Index: [3, 7]&#10;Color: (200, 70, 150)\" style=\"width: 20px; height: 20px;background-color: rgb(200, 70, 150);\"></td></tr><tr><td title=\"Index: [4, 0]&#10;Color: (200, 70, 150)\" style=\"width: 20px; height: 20px;background-color: rgb(200, 70, 150);\"></td><td title=\"Index: [4, 1]&#10;Color: (200, 70, 150)\" style=\"width: 20px; height: 20px;background-color: rgb(200, 70, 150);\"></td><td title=\"Index: [4, 2]&#10;Color: (0, 0, 0)\" style=\"width: 20px; height: 20px;background-color: rgb(0, 0, 0);\"></td><td title=\"Index: [4, 3]&#10;Color: (200, 70, 150)\" style=\"width: 20px; height: 20px;background-color: rgb(200, 70, 150);\"></td><td title=\"Index: [4, 4]&#10;Color: (200, 70, 150)\" style=\"width: 20px; height: 20px;background-color: rgb(200, 70, 150);\"></td><td title=\"Index: [4, 5]&#10;Color: (200, 70, 150)\" style=\"width: 20px; height: 20px;background-color: rgb(200, 70, 150);\"></td><td title=\"Index: [4, 6]&#10;Color: (200, 70, 150)\" style=\"width: 20px; height: 20px;background-color: rgb(200, 70, 150);\"></td><td title=\"Index: [4, 7]&#10;Color: (200, 70, 150)\" style=\"width: 20px; height: 20px;background-color: rgb(200, 70, 150);\"></td></tr><tr><td title=\"Index: [5, 0]&#10;Color: (200, 70, 150)\" style=\"width: 20px; height: 20px;background-color: rgb(200, 70, 150);\"></td><td title=\"Index: [5, 1]&#10;Color: (200, 70, 150)\" style=\"width: 20px; height: 20px;background-color: rgb(200, 70, 150);\"></td><td title=\"Index: [5, 2]&#10;Color: (0, 0, 0)\" style=\"width: 20px; height: 20px;background-color: rgb(0, 0, 0);\"></td><td title=\"Index: [5, 3]&#10;Color: (0, 0, 0)\" style=\"width: 20px; height: 20px;background-color: rgb(0, 0, 0);\"></td><td title=\"Index: [5, 4]&#10;Color: (200, 70, 150)\" style=\"width: 20px; height: 20px;background-color: rgb(200, 70, 150);\"></td><td title=\"Index: [5, 5]&#10;Color: (200, 70, 150)\" style=\"width: 20px; height: 20px;background-color: rgb(200, 70, 150);\"></td><td title=\"Index: [5, 6]&#10;Color: (200, 70, 150)\" style=\"width: 20px; height: 20px;background-color: rgb(200, 70, 150);\"></td><td title=\"Index: [5, 7]&#10;Color: (200, 70, 150)\" style=\"width: 20px; height: 20px;background-color: rgb(200, 70, 150);\"></td></tr><tr><td title=\"Index: [6, 0]&#10;Color: (200, 70, 150)\" style=\"width: 20px; height: 20px;background-color: rgb(200, 70, 150);\"></td><td title=\"Index: [6, 1]&#10;Color: (200, 70, 150)\" style=\"width: 20px; height: 20px;background-color: rgb(200, 70, 150);\"></td><td title=\"Index: [6, 2]&#10;Color: (0, 0, 0)\" style=\"width: 20px; height: 20px;background-color: rgb(0, 0, 0);\"></td><td title=\"Index: [6, 3]&#10;Color: (0, 0, 0)\" style=\"width: 20px; height: 20px;background-color: rgb(0, 0, 0);\"></td><td title=\"Index: [6, 4]&#10;Color: (0, 0, 0)\" style=\"width: 20px; height: 20px;background-color: rgb(0, 0, 0);\"></td><td title=\"Index: [6, 5]&#10;Color: (200, 70, 150)\" style=\"width: 20px; height: 20px;background-color: rgb(200, 70, 150);\"></td><td title=\"Index: [6, 6]&#10;Color: (200, 70, 150)\" style=\"width: 20px; height: 20px;background-color: rgb(200, 70, 150);\"></td><td title=\"Index: [6, 7]&#10;Color: (200, 70, 150)\" style=\"width: 20px; height: 20px;background-color: rgb(200, 70, 150);\"></td></tr><tr><td title=\"Index: [7, 0]&#10;Color: (200, 70, 150)\" style=\"width: 20px; height: 20px;background-color: rgb(200, 70, 150);\"></td><td title=\"Index: [7, 1]&#10;Color: (200, 70, 150)\" style=\"width: 20px; height: 20px;background-color: rgb(200, 70, 150);\"></td><td title=\"Index: [7, 2]&#10;Color: (0, 0, 0)\" style=\"width: 20px; height: 20px;background-color: rgb(0, 0, 0);\"></td><td title=\"Index: [7, 3]&#10;Color: (0, 0, 0)\" style=\"width: 20px; height: 20px;background-color: rgb(0, 0, 0);\"></td><td title=\"Index: [7, 4]&#10;Color: (0, 0, 0)\" style=\"width: 20px; height: 20px;background-color: rgb(0, 0, 0);\"></td><td title=\"Index: [7, 5]&#10;Color: (0, 0, 0)\" style=\"width: 20px; height: 20px;background-color: rgb(0, 0, 0);\"></td><td title=\"Index: [7, 6]&#10;Color: (200, 70, 150)\" style=\"width: 20px; height: 20px;background-color: rgb(200, 70, 150);\"></td><td title=\"Index: [7, 7]&#10;Color: (200, 70, 150)\" style=\"width: 20px; height: 20px;background-color: rgb(200, 70, 150);\"></td></tr></tbody></table>"
       ],
       "metadata": {},
       "output_type": "display_data",
       "text": [
        "<IPython.core.display.HTML at 0x17738f0>"
       ]
      }
     ],
     "prompt_number": 1
    },
    {
     "cell_type": "markdown",
     "metadata": {},
     "source": [
      "As a side note, this is a rough sketch of the graphic in the middle of my superhero uniform."
     ]
    },
    {
     "cell_type": "heading",
     "level": 3,
     "metadata": {},
     "source": [
      "Question 3"
     ]
    },
    {
     "cell_type": "markdown",
     "metadata": {},
     "source": [
      "\"99 Bottles of Beer\" is a traditional song in the United States and Canada. It is popular to sing on long trips, as it has a very repetitive format which is easy to memorize, and can take a long time to sing. The song's simple lyrics are as follows:\n",
      "\n",
      "        99 bottles of beer on the wall, 99 bottles of beer.  \n",
      "        Take one down, pass it around, 98 bottles of beer on the wall.\n",
      "\n",
      "The same verse is repeated, each time with one fewer bottle. The song is completed when the singer or singers reach zero.\n",
      "\n",
      "Your task here is to write a program capable of generating all the verses of the song."
     ]
    },
    {
     "cell_type": "code",
     "collapsed": false,
     "input": [
      "for i in range(99):\n",
      "    if i < 97:\n",
      "        print \"%s bottles of beer on the wall, %d bottles of beer.\"%(99-i,99-i)\n",
      "        print \"Take one down, pass it around, %s bottles of beer on the wall.\"%(98-i)\n",
      "    elif i == 97:\n",
      "        print \"2 bottles of beer on the wall, 2 bottles of beer.\"\n",
      "        print \"Take one down, pass it around, 1 bottle of beer on the wall.\"\n",
      "    elif i == 98:\n",
      "        print \"1 bottle of beer on the wall, 1 bottle of beer.\"\n",
      "        print \"Take one down, pass it around, no more bottles of beer on the wall.\""
     ],
     "language": "python",
     "metadata": {},
     "outputs": [
      {
       "output_type": "stream",
       "stream": "stdout",
       "text": [
        "99 bottles of beer on the wall, 99 bottles of beer.\n",
        "Take one down, pass it around, 98 bottles of beer on the wall.\n",
        "98 bottles of beer on the wall, 98 bottles of beer.\n",
        "Take one down, pass it around, 97 bottles of beer on the wall.\n",
        "97 bottles of beer on the wall, 97 bottles of beer.\n",
        "Take one down, pass it around, 96 bottles of beer on the wall.\n",
        "96 bottles of beer on the wall, 96 bottles of beer.\n",
        "Take one down, pass it around, 95 bottles of beer on the wall.\n",
        "95 bottles of beer on the wall, 95 bottles of beer.\n",
        "Take one down, pass it around, 94 bottles of beer on the wall.\n",
        "94 bottles of beer on the wall, 94 bottles of beer.\n",
        "Take one down, pass it around, 93 bottles of beer on the wall.\n",
        "93 bottles of beer on the wall, 93 bottles of beer.\n",
        "Take one down, pass it around, 92 bottles of beer on the wall.\n",
        "92 bottles of beer on the wall, 92 bottles of beer.\n",
        "Take one down, pass it around, 91 bottles of beer on the wall.\n",
        "91 bottles of beer on the wall, 91 bottles of beer.\n",
        "Take one down, pass it around, 90 bottles of beer on the wall.\n",
        "90 bottles of beer on the wall, 90 bottles of beer.\n",
        "Take one down, pass it around, 89 bottles of beer on the wall.\n",
        "89 bottles of beer on the wall, 89 bottles of beer.\n",
        "Take one down, pass it around, 88 bottles of beer on the wall.\n",
        "88 bottles of beer on the wall, 88 bottles of beer.\n",
        "Take one down, pass it around, 87 bottles of beer on the wall.\n",
        "87 bottles of beer on the wall, 87 bottles of beer.\n",
        "Take one down, pass it around, 86 bottles of beer on the wall.\n",
        "86 bottles of beer on the wall, 86 bottles of beer.\n",
        "Take one down, pass it around, 85 bottles of beer on the wall.\n",
        "85 bottles of beer on the wall, 85 bottles of beer.\n",
        "Take one down, pass it around, 84 bottles of beer on the wall.\n",
        "84 bottles of beer on the wall, 84 bottles of beer.\n",
        "Take one down, pass it around, 83 bottles of beer on the wall.\n",
        "83 bottles of beer on the wall, 83 bottles of beer.\n",
        "Take one down, pass it around, 82 bottles of beer on the wall.\n",
        "82 bottles of beer on the wall, 82 bottles of beer.\n",
        "Take one down, pass it around, 81 bottles of beer on the wall.\n",
        "81 bottles of beer on the wall, 81 bottles of beer.\n",
        "Take one down, pass it around, 80 bottles of beer on the wall.\n",
        "80 bottles of beer on the wall, 80 bottles of beer.\n",
        "Take one down, pass it around, 79 bottles of beer on the wall.\n",
        "79 bottles of beer on the wall, 79 bottles of beer.\n",
        "Take one down, pass it around, 78 bottles of beer on the wall.\n",
        "78 bottles of beer on the wall, 78 bottles of beer.\n",
        "Take one down, pass it around, 77 bottles of beer on the wall.\n",
        "77 bottles of beer on the wall, 77 bottles of beer.\n",
        "Take one down, pass it around, 76 bottles of beer on the wall.\n",
        "76 bottles of beer on the wall, 76 bottles of beer.\n",
        "Take one down, pass it around, 75 bottles of beer on the wall.\n",
        "75 bottles of beer on the wall, 75 bottles of beer.\n",
        "Take one down, pass it around, 74 bottles of beer on the wall.\n",
        "74 bottles of beer on the wall, 74 bottles of beer.\n",
        "Take one down, pass it around, 73 bottles of beer on the wall.\n",
        "73 bottles of beer on the wall, 73 bottles of beer.\n",
        "Take one down, pass it around, 72 bottles of beer on the wall.\n",
        "72 bottles of beer on the wall, 72 bottles of beer.\n",
        "Take one down, pass it around, 71 bottles of beer on the wall.\n",
        "71 bottles of beer on the wall, 71 bottles of beer.\n",
        "Take one down, pass it around, 70 bottles of beer on the wall.\n",
        "70 bottles of beer on the wall, 70 bottles of beer.\n",
        "Take one down, pass it around, 69 bottles of beer on the wall.\n",
        "69 bottles of beer on the wall, 69 bottles of beer.\n",
        "Take one down, pass it around, 68 bottles of beer on the wall.\n",
        "68 bottles of beer on the wall, 68 bottles of beer.\n",
        "Take one down, pass it around, 67 bottles of beer on the wall.\n",
        "67 bottles of beer on the wall, 67 bottles of beer.\n",
        "Take one down, pass it around, 66 bottles of beer on the wall.\n",
        "66 bottles of beer on the wall, 66 bottles of beer.\n",
        "Take one down, pass it around, 65 bottles of beer on the wall.\n",
        "65 bottles of beer on the wall, 65 bottles of beer.\n",
        "Take one down, pass it around, 64 bottles of beer on the wall.\n",
        "64 bottles of beer on the wall, 64 bottles of beer.\n",
        "Take one down, pass it around, 63 bottles of beer on the wall.\n",
        "63 bottles of beer on the wall, 63 bottles of beer.\n",
        "Take one down, pass it around, 62 bottles of beer on the wall.\n",
        "62 bottles of beer on the wall, 62 bottles of beer.\n",
        "Take one down, pass it around, 61 bottles of beer on the wall.\n",
        "61 bottles of beer on the wall, 61 bottles of beer.\n",
        "Take one down, pass it around, 60 bottles of beer on the wall.\n",
        "60 bottles of beer on the wall, 60 bottles of beer.\n",
        "Take one down, pass it around, 59 bottles of beer on the wall.\n",
        "59 bottles of beer on the wall, 59 bottles of beer.\n",
        "Take one down, pass it around, 58 bottles of beer on the wall.\n",
        "58 bottles of beer on the wall, 58 bottles of beer.\n",
        "Take one down, pass it around, 57 bottles of beer on the wall.\n",
        "57 bottles of beer on the wall, 57 bottles of beer.\n",
        "Take one down, pass it around, 56 bottles of beer on the wall.\n",
        "56 bottles of beer on the wall, 56 bottles of beer.\n",
        "Take one down, pass it around, 55 bottles of beer on the wall.\n",
        "55 bottles of beer on the wall, 55 bottles of beer.\n",
        "Take one down, pass it around, 54 bottles of beer on the wall.\n",
        "54 bottles of beer on the wall, 54 bottles of beer.\n",
        "Take one down, pass it around, 53 bottles of beer on the wall.\n",
        "53 bottles of beer on the wall, 53 bottles of beer.\n",
        "Take one down, pass it around, 52 bottles of beer on the wall.\n",
        "52 bottles of beer on the wall, 52 bottles of beer.\n",
        "Take one down, pass it around, 51 bottles of beer on the wall.\n",
        "51 bottles of beer on the wall, 51 bottles of beer.\n",
        "Take one down, pass it around, 50 bottles of beer on the wall.\n",
        "50 bottles of beer on the wall, 50 bottles of beer.\n",
        "Take one down, pass it around, 49 bottles of beer on the wall.\n",
        "49 bottles of beer on the wall, 49 bottles of beer.\n",
        "Take one down, pass it around, 48 bottles of beer on the wall.\n",
        "48 bottles of beer on the wall, 48 bottles of beer.\n",
        "Take one down, pass it around, 47 bottles of beer on the wall.\n",
        "47 bottles of beer on the wall, 47 bottles of beer.\n",
        "Take one down, pass it around, 46 bottles of beer on the wall.\n",
        "46 bottles of beer on the wall, 46 bottles of beer.\n",
        "Take one down, pass it around, 45 bottles of beer on the wall.\n",
        "45 bottles of beer on the wall, 45 bottles of beer.\n",
        "Take one down, pass it around, 44 bottles of beer on the wall.\n",
        "44 bottles of beer on the wall, 44 bottles of beer.\n",
        "Take one down, pass it around, 43 bottles of beer on the wall.\n",
        "43 bottles of beer on the wall, 43 bottles of beer.\n",
        "Take one down, pass it around, 42 bottles of beer on the wall.\n",
        "42 bottles of beer on the wall, 42 bottles of beer.\n",
        "Take one down, pass it around, 41 bottles of beer on the wall.\n",
        "41 bottles of beer on the wall, 41 bottles of beer.\n",
        "Take one down, pass it around, 40 bottles of beer on the wall.\n",
        "40 bottles of beer on the wall, 40 bottles of beer.\n",
        "Take one down, pass it around, 39 bottles of beer on the wall.\n",
        "39 bottles of beer on the wall, 39 bottles of beer.\n",
        "Take one down, pass it around, 38 bottles of beer on the wall.\n",
        "38 bottles of beer on the wall, 38 bottles of beer.\n",
        "Take one down, pass it around, 37 bottles of beer on the wall.\n",
        "37 bottles of beer on the wall, 37 bottles of beer.\n",
        "Take one down, pass it around, 36 bottles of beer on the wall.\n",
        "36 bottles of beer on the wall, 36 bottles of beer.\n",
        "Take one down, pass it around, 35 bottles of beer on the wall.\n",
        "35 bottles of beer on the wall, 35 bottles of beer.\n",
        "Take one down, pass it around, 34 bottles of beer on the wall.\n",
        "34 bottles of beer on the wall, 34 bottles of beer.\n",
        "Take one down, pass it around, 33 bottles of beer on the wall.\n",
        "33 bottles of beer on the wall, 33 bottles of beer.\n",
        "Take one down, pass it around, 32 bottles of beer on the wall.\n",
        "32 bottles of beer on the wall, 32 bottles of beer.\n",
        "Take one down, pass it around, 31 bottles of beer on the wall.\n",
        "31 bottles of beer on the wall, 31 bottles of beer.\n",
        "Take one down, pass it around, 30 bottles of beer on the wall.\n",
        "30 bottles of beer on the wall, 30 bottles of beer.\n",
        "Take one down, pass it around, 29 bottles of beer on the wall.\n",
        "29 bottles of beer on the wall, 29 bottles of beer.\n",
        "Take one down, pass it around, 28 bottles of beer on the wall.\n",
        "28 bottles of beer on the wall, 28 bottles of beer.\n",
        "Take one down, pass it around, 27 bottles of beer on the wall.\n",
        "27 bottles of beer on the wall, 27 bottles of beer.\n",
        "Take one down, pass it around, 26 bottles of beer on the wall.\n",
        "26 bottles of beer on the wall, 26 bottles of beer.\n",
        "Take one down, pass it around, 25 bottles of beer on the wall.\n",
        "25 bottles of beer on the wall, 25 bottles of beer.\n",
        "Take one down, pass it around, 24 bottles of beer on the wall.\n",
        "24 bottles of beer on the wall, 24 bottles of beer.\n",
        "Take one down, pass it around, 23 bottles of beer on the wall.\n",
        "23 bottles of beer on the wall, 23 bottles of beer.\n",
        "Take one down, pass it around, 22 bottles of beer on the wall.\n",
        "22 bottles of beer on the wall, 22 bottles of beer.\n",
        "Take one down, pass it around, 21 bottles of beer on the wall.\n",
        "21 bottles of beer on the wall, 21 bottles of beer.\n",
        "Take one down, pass it around, 20 bottles of beer on the wall.\n",
        "20 bottles of beer on the wall, 20 bottles of beer.\n",
        "Take one down, pass it around, 19 bottles of beer on the wall.\n",
        "19 bottles of beer on the wall, 19 bottles of beer.\n",
        "Take one down, pass it around, 18 bottles of beer on the wall.\n",
        "18 bottles of beer on the wall, 18 bottles of beer.\n",
        "Take one down, pass it around, 17 bottles of beer on the wall.\n",
        "17 bottles of beer on the wall, 17 bottles of beer.\n",
        "Take one down, pass it around, 16 bottles of beer on the wall.\n",
        "16 bottles of beer on the wall, 16 bottles of beer.\n",
        "Take one down, pass it around, 15 bottles of beer on the wall.\n",
        "15 bottles of beer on the wall, 15 bottles of beer.\n",
        "Take one down, pass it around, 14 bottles of beer on the wall.\n",
        "14 bottles of beer on the wall, 14 bottles of beer.\n",
        "Take one down, pass it around, 13 bottles of beer on the wall.\n",
        "13 bottles of beer on the wall, 13 bottles of beer.\n",
        "Take one down, pass it around, 12 bottles of beer on the wall.\n",
        "12 bottles of beer on the wall, 12 bottles of beer.\n",
        "Take one down, pass it around, 11 bottles of beer on the wall.\n",
        "11 bottles of beer on the wall, 11 bottles of beer.\n",
        "Take one down, pass it around, 10 bottles of beer on the wall.\n",
        "10 bottles of beer on the wall, 10 bottles of beer.\n",
        "Take one down, pass it around, 9 bottles of beer on the wall.\n",
        "9 bottles of beer on the wall, 9 bottles of beer.\n",
        "Take one down, pass it around, 8 bottles of beer on the wall.\n",
        "8 bottles of beer on the wall, 8 bottles of beer.\n",
        "Take one down, pass it around, 7 bottles of beer on the wall.\n",
        "7 bottles of beer on the wall, 7 bottles of beer.\n",
        "Take one down, pass it around, 6 bottles of beer on the wall.\n",
        "6 bottles of beer on the wall, 6 bottles of beer.\n",
        "Take one down, pass it around, 5 bottles of beer on the wall.\n",
        "5 bottles of beer on the wall, 5 bottles of beer.\n",
        "Take one down, pass it around, 4 bottles of beer on the wall.\n",
        "4 bottles of beer on the wall, 4 bottles of beer.\n",
        "Take one down, pass it around, 3 bottles of beer on the wall.\n",
        "3 bottles of beer on the wall, 3 bottles of beer.\n",
        "Take one down, pass it around, 2 bottles of beer on the wall.\n",
        "2 bottles of beer on the wall, 2 bottles of beer.\n",
        "Take one down, pass it around, 1 bottle of beer on the wall.\n",
        "1 bottle of beer on the wall, 1 bottle of beer.\n",
        "Take one down, pass it around, no more bottles of beer on the wall.\n"
       ]
      }
     ],
     "prompt_number": 192
    },
    {
     "cell_type": "heading",
     "level": 3,
     "metadata": {},
     "source": [
      "Question 4"
     ]
    },
    {
     "cell_type": "markdown",
     "metadata": {},
     "source": [
      "Plot a simple graph of a sine function in the range 0 to 3 with a step size of 0.1.\n",
      "\n",
      "* Make the line red.\n",
      "* Add green diamond-shaped markers with size of 7.\n",
      "* Include legible axis labels.\n",
      "* Add a legend and a grid to the plot."
     ]
    },
    {
     "cell_type": "code",
     "collapsed": false,
     "input": [
      "%pylab inline"
     ],
     "language": "python",
     "metadata": {},
     "outputs": [
      {
       "output_type": "stream",
       "stream": "stdout",
       "text": [
        "Populating the interactive namespace from numpy and matplotlib\n"
       ]
      }
     ],
     "prompt_number": 188
    },
    {
     "cell_type": "code",
     "collapsed": false,
     "input": [
      "x = np.linspace(0,3,(3/0.1))\n",
      "y = np.sin(x)"
     ],
     "language": "python",
     "metadata": {},
     "outputs": [],
     "prompt_number": 182
    },
    {
     "cell_type": "code",
     "collapsed": false,
     "input": [
      "plt.plot(x,y,linewidth=2,color='r',linestyle=\"-\",label=\"y = sin(x)\")\n",
      "plt.plot(x,y,'D',markersize=7,color='g')\n",
      "plt.xlabel('x-axis', fontsize=15)\n",
      "plt.ylabel('y-axis', fontsize=15)\n",
      "plt.title('Question 4', fontsize=25)\n",
      "plt.legend(loc='lower center')\n",
      "plt.grid()"
     ],
     "language": "python",
     "metadata": {},
     "outputs": [
      {
       "metadata": {},
       "output_type": "display_data",
       "png": "[encoded data removed]",
       "text": [
        "<matplotlib.figure.Figure at 0x100482850>"
       ]
      }
     ],
     "prompt_number": 183
    },
    {
     "cell_type": "heading",
     "level": 3,
     "metadata": {},
     "source": [
      "Question 5"
     ]
    },
    {
     "cell_type": "markdown",
     "metadata": {},
     "source": [
      "Create a 100x5 NumPy array called arr of random floating point numbers between 10.7 and 36.2\n",
      "\n",
      "* Write the array to a file called numbers.txt as 5 columns separated by 2 spaces and formatted with 3 places after the decimal.\n",
      "* Include a 3-line header that lists the date and time on line 2 (use !date)\n",
      "* Show the first 10 lines of the file using the !head command.\n",
      "* Read the data back in from the file to a new floating point NumPy array called arr2 and use a slice to print the first ten lines of the array."
     ]
    },
    {
     "cell_type": "code",
     "collapsed": false,
     "input": [
      "%pylab inline\n",
      "import numpy as np\n",
      "import matplotlib.pyplot as plt"
     ],
     "language": "python",
     "metadata": {},
     "outputs": [
      {
       "output_type": "stream",
       "stream": "stdout",
       "text": [
        "Populating the interactive namespace from numpy and matplotlib\n"
       ]
      }
     ],
     "prompt_number": 193
    },
    {
     "cell_type": "code",
     "collapsed": false,
     "input": [
      "date = !date\n",
      "myheader = \"\\n%s\\n\"%(date)\n",
      "arr1 = np.random.uniform(10.7,36.2,[100,5])\n",
      "savetxt('numbers.txt', arr1, fmt=('%4.3f'), header=myheader)\n",
      "contents = open('numbers.txt').read()\n",
      "out = open('numbers.txt', 'w')\n",
      "out.write(contents.replace(' ', '  '))\n",
      "out.close()"
     ],
     "language": "python",
     "metadata": {},
     "outputs": [],
     "prompt_number": 194
    },
    {
     "cell_type": "code",
     "collapsed": false,
     "input": [
      "print \"Here are the first ten lines of the file numbers.txt:\"\n",
      "!head -10 numbers.txt"
     ],
     "language": "python",
     "metadata": {},
     "outputs": [
      {
       "output_type": "stream",
       "stream": "stdout",
       "text": [
        "Here are the first ten lines of the file numbers.txt:\n",
        "#  \r\n",
        "#  ['Tue  Apr  29  15:55:25  PDT  2014']\r\n",
        "#  \r\n",
        "35.051  29.749  26.992  24.287  15.435\r\n",
        "17.336  12.416  30.988  29.196  23.244\r\n",
        "19.492  18.474  19.853  14.893  11.994\r\n",
        "12.300  11.585  32.287  14.826  18.668\r\n",
        "35.627  30.075  32.770  23.757  26.555\r\n",
        "28.345  20.614  20.129  12.866  26.750\r\n",
        "18.327  19.030  22.724  16.327  20.394\r\n"
       ]
      }
     ],
     "prompt_number": 195
    },
    {
     "cell_type": "code",
     "collapsed": false,
     "input": [
      "arr2 = np.loadtxt('numbers.txt')\n",
      "print \"Here are the first 10 rows of arr2:\"\n",
      "print arr2[0:10,:]"
     ],
     "language": "python",
     "metadata": {},
     "outputs": [
      {
       "output_type": "stream",
       "stream": "stdout",
       "text": [
        "Here are the first 10 rows of arr2:\n",
        "[[ 35.051  29.749  26.992  24.287  15.435]\n",
        " [ 17.336  12.416  30.988  29.196  23.244]\n",
        " [ 19.492  18.474  19.853  14.893  11.994]\n",
        " [ 12.3    11.585  32.287  14.826  18.668]\n",
        " [ 35.627  30.075  32.77   23.757  26.555]\n",
        " [ 28.345  20.614  20.129  12.866  26.75 ]\n",
        " [ 18.327  19.03   22.724  16.327  20.394]\n",
        " [ 25.645  10.884  34.4    27.289  35.899]\n",
        " [ 12.495  15.22   31.463  12.485  23.178]\n",
        " [ 24.646  31.958  17.776  28.127  34.414]]\n"
       ]
      }
     ],
     "prompt_number": 196
    },
    {
     "cell_type": "code",
     "collapsed": false,
     "input": [],
     "language": "python",
     "metadata": {},
     "outputs": [],
     "prompt_number": 187
    }
   ],
   "metadata": {}
  }
 ]
}