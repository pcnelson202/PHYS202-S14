{
 "metadata": {
  "name": "",
  "signature": "sha256:8a6c71372b277d6a1032892134a27e327114bc0d2e52959597b602ecddea9fcf"
 },
 "nbformat": 3,
 "nbformat_minor": 0,
 "worksheets": [
  {
   "cells": [
    {
     "cell_type": "heading",
     "level": 1,
     "metadata": {},
     "source": [
      "Interpolation Exercises"
     ]
    },
    {
     "cell_type": "code",
     "collapsed": false,
     "input": [
      "%pylab inline\n",
      "import numpy as np\n",
      "import matplotlib.pyplot as plt\n",
      "from scipy.interpolate import interp1d\n",
      "import numpy as np\n",
      "from mpl_toolkits.mplot3d import Axes3D\n",
      "from scipy.interpolate import interp2d"
     ],
     "language": "python",
     "metadata": {},
     "outputs": [
      {
       "output_type": "stream",
       "stream": "stdout",
       "text": [
        "Populating the interactive namespace from numpy and matplotlib\n"
       ]
      }
     ],
     "prompt_number": 2
    },
    {
     "cell_type": "heading",
     "level": 4,
     "metadata": {},
     "source": [
      "Question 1"
     ]
    },
    {
     "cell_type": "markdown",
     "metadata": {},
     "source": [
      "It is common to test functions where you know the answer they should give. Let's test the dipolePotential() function that we previously saved in Electrostatics.py to see that the function is zero along the bisector between the charges.\n",
      "\n",
      "First, set up a grid and evaluate the function."
     ]
    },
    {
     "cell_type": "code",
     "collapsed": false,
     "input": [
      "from Electrostatics import *\n",
      "x,y = np.meshgrid(np.arange(-5,5.01,0.5),np.arange(-5,5.01,0.5))\n",
      "Vdipole = dipolePotential(x,y,1e-9,2.)\n",
      "plt.contour(x,y,Vdipole,cmap=cm.coolwarm)\n",
      "plt.show()"
     ],
     "language": "python",
     "metadata": {},
     "outputs": [
      {
       "output_type": "stream",
       "stream": "stderr",
       "text": [
        "Electrostatics.py:6: RuntimeWarning: divide by zero encountered in divide\n",
        "  Vxy = k*q/np.sqrt(((x-Xc)**2 + (y-Yc)**2))\n"
       ]
      },
      {
       "metadata": {},
       "output_type": "display_data",
       "png": "[encoded data removed]",
       "text": [
        "<matplotlib.figure.Figure at 0x107175990>"
       ]
      }
     ],
     "prompt_number": 3
    },
    {
     "cell_type": "markdown",
     "metadata": {},
     "source": [
      "**(a)** Use a boolean mask to locate the positions where x = 0."
     ]
    },
    {
     "cell_type": "code",
     "collapsed": false,
     "input": [
      "ii = x == 0\n",
      "\n",
      "plt.plot(x[ii],y[ii])\n",
      "plt.show()"
     ],
     "language": "python",
     "metadata": {},
     "outputs": [
      {
       "metadata": {},
       "output_type": "display_data",
       "png": "[encoded data removed]",
       "text": [
        "<matplotlib.figure.Figure at 0x10708e510>"
       ]
      }
     ],
     "prompt_number": 14
    },
    {
     "cell_type": "markdown",
     "metadata": {},
     "source": [
      "**(b)** Check that Vdipole for these locations is zero. i.e. print the value of Vdipole for these locations using your mask from part(a)."
     ]
    },
    {
     "cell_type": "code",
     "collapsed": false,
     "input": [
      "print Vdipole[ii]"
     ],
     "language": "python",
     "metadata": {},
     "outputs": [
      {
       "output_type": "stream",
       "stream": "stdout",
       "text": [
        "[ 0.  0.  0.  0.  0.  0.  0.  0.  0.  0.  0.  0.  0.  0.  0.  0.  0.  0.\n",
        "  0.  0.  0.]\n"
       ]
      }
     ],
     "prompt_number": 15
    },
    {
     "cell_type": "heading",
     "level": 4,
     "metadata": {},
     "source": [
      "Question 2"
     ]
    },
    {
     "cell_type": "markdown",
     "metadata": {},
     "source": [
      "Thermistors are electrical devices that measure temperature. They are made out of a material whose resistance changes very predictably with temperature. In the lab we measure the resistance of the thermistor and then compute the temperature from the engineering data that the manufacturer sends with the devices. The table below is data for a set of thermistors used in PHYS 340. The temperature values are in \u2218C and the resistances in mega-Ohms, M\u03a9."
     ]
    },
    {
     "cell_type": "markdown",
     "metadata": {},
     "source": [
      "**(a)** Let's turn this look-up table into a continuous function. Write a reusable function Temp(Resistance) that takes any value of Resistance and returns the interpolated temperature. Be sure to include a docstring in your function."
     ]
    },
    {
     "cell_type": "code",
     "collapsed": false,
     "input": [
      "x = np.arange(10,40)\n",
      "y = [3.239,3.118,3.004,2.897,2.795,2.700,2.610,2.526,2.446,2.371,2.300,2.233,2.169,2.110,2.053,\n",
      "     2.000,1.950,1.902,1.857,1.815,1.774,1.736,1.700,1.666,1.634,1.603,1.574,1.547,1.521,1.496]\n",
      "x2 = x[::-1]\n",
      "y2 = y[::-1]\n",
      "plt.plot(x,y)\n",
      "plt.show()"
     ],
     "language": "python",
     "metadata": {},
     "outputs": [
      {
       "metadata": {},
       "output_type": "display_data",
       "png": "[encoded data removed]",
       "text": [
        "<matplotlib.figure.Figure at 0x1071a2810>"
       ]
      }
     ],
     "prompt_number": 52
    },
    {
     "cell_type": "code",
     "collapsed": false,
     "input": [
      "Temperature = interp1d(y2,x2,kind='cubic')\n",
      "\n",
      "def Temp(Resistance):\n",
      "    return \"The temperature that makes resistance equal to %s mega-Ohms is %s degrees Celsius.\" \\\n",
      "%(Resistance,Temperature(Resistance))"
     ],
     "language": "python",
     "metadata": {},
     "outputs": [],
     "prompt_number": 79
    },
    {
     "cell_type": "markdown",
     "metadata": {},
     "source": [
      "**(b)** Show that the function returns the expected values, including some from the table for a few specific input resistances."
     ]
    },
    {
     "cell_type": "code",
     "collapsed": false,
     "input": [
      "print Temp(3.239)\n",
      "print Temp(2.700)\n",
      "print Temp(2.500)\n",
      "print Temp(2.110)\n",
      "print Temp(2.100)\n",
      "print Temp(1.600)\n",
      "print Temp(1.496)"
     ],
     "language": "python",
     "metadata": {},
     "outputs": [
      {
       "output_type": "stream",
       "stream": "stdout",
       "text": [
        "The temperature that makes resistance equal to 3.239 mega-Ohms is 10.0 degrees Celsius.\n",
        "The temperature that makes resistance equal to 2.7 mega-Ohms is 15.0 degrees Celsius.\n",
        "The temperature that makes resistance equal to 2.5 mega-Ohms is 17.3191257637 degrees Celsius.\n",
        "The temperature that makes resistance equal to 2.11 mega-Ohms is 23.0 degrees Celsius.\n",
        "The temperature that makes resistance equal to 2.1 mega-Ohms is 23.1726147372 degrees Celsius.\n",
        "The temperature that makes resistance equal to 1.6 mega-Ohms is 35.0998821958 degrees Celsius.\n",
        "The temperature that makes resistance equal to 1.496 mega-Ohms is 39.0 degrees Celsius.\n"
       ]
      }
     ],
     "prompt_number": 80
    },
    {
     "cell_type": "markdown",
     "metadata": {},
     "source": [
      "Note that the temperatures ending in .0 were for resistances taken directly from the table."
     ]
    },
    {
     "cell_type": "markdown",
     "metadata": {},
     "source": [
      "**(c)** Plot Temp(Resistance) vs. Resistance for a reasonable range of Resistance with reasonably fine sampling. Include as an annotation on the plot the value of the temperature for a resistance of 1.75 M\u03a9. (It's up to you to decide what \"reasonable\" means in both cases.)"
     ]
    },
    {
     "cell_type": "code",
     "collapsed": false,
     "input": [
      "x = np.arange(1.5,3.2,0.02)\n",
      "y = Temperature(x)\n",
      "plt.plot(x,y)\n",
      "plt.show()"
     ],
     "language": "python",
     "metadata": {},
     "outputs": [
      {
       "metadata": {},
       "output_type": "display_data",
       "png": "[encoded data removed]",
       "text": [
        "<matplotlib.figure.Figure at 0x1070f56d0>"
       ]
      }
     ],
     "prompt_number": 90
    }
   ],
   "metadata": {}
  }
 ]
}