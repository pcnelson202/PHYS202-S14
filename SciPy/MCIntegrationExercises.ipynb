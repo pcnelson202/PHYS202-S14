{
 "metadata": {
  "name": "",
  "signature": "sha256:6807c5785c5ff58be9b3a35891e554839b6afa64c5bdcff93f415cae53fac68f"
 },
 "nbformat": 3,
 "nbformat_minor": 0,
 "worksheets": [
  {
   "cells": [
    {
     "cell_type": "heading",
     "level": 1,
     "metadata": {},
     "source": [
      "Monte Carlo Integration Exercises"
     ]
    },
    {
     "cell_type": "code",
     "collapsed": false,
     "input": [
      "%pylab inline\n",
      "import numpy as np\n",
      "import matplotlib.pyplot as plt\n",
      "from IPython.html.widgets import interact,interactive"
     ],
     "language": "python",
     "metadata": {},
     "outputs": [
      {
       "output_type": "stream",
       "stream": "stdout",
       "text": [
        "Populating the interactive namespace from numpy and matplotlib\n"
       ]
      }
     ],
     "prompt_number": 1
    },
    {
     "cell_type": "heading",
     "level": 3,
     "metadata": {},
     "source": [
      "Question 1"
     ]
    },
    {
     "cell_type": "markdown",
     "metadata": {},
     "source": [
      "Let\u2019s compute the electric potential from a plane of charge using Monte Carlo integration.\n",
      "\n"
     ]
    },
    {
     "cell_type": "markdown",
     "metadata": {},
     "source": [
      "The integral comes from summing all the potentials from the chunks of \u201cpoint\u201d charges. Just as we summed two charges for a dipole, now we\u2019ll sum many charges. The important part is to understand how $dQ$, modeled as a point charge, is related to $\\sigma dA$, where $\\sigma$is the surface charge density = charge/area ($\\sigma = Q/A$ ) Review your notes from PHYS 133 if you need a refresher.\n",
      "\n",
      "We want to use our previously defined pointPotential() function from Electrostatics.py, so we have to import it."
     ]
    },
    {
     "cell_type": "code",
     "collapsed": false,
     "input": [
      "from Electrostatics import *"
     ],
     "language": "python",
     "metadata": {},
     "outputs": [],
     "prompt_number": 2
    },
    {
     "cell_type": "markdown",
     "metadata": {},
     "source": [
      "**(a)** Use the sample mean method to compute the potential at point $P(2,3)$ due to the disk of charge for different numbers of samples $N=(10^{1},10^{2},10^{3},10^{4},10^{5},10^{6})$. Report the value and its statistical uncertainty for each sample size. How does the result depend on N?"
     ]
    },
    {
     "cell_type": "code",
     "collapsed": false,
     "input": [
      "def Pointpotentialboxint(N):\n",
      "    xmin = -1\n",
      "    xmax = 1\n",
      "    ymin = 0\n",
      "    ymax = 2\n",
      "    dx = 2\n",
      "    dy = 2\n",
      "    x = np.arange(-1,1,1000)\n",
      "    samples_x = xmin + (xmax-xmin)*np.random.random_sample(N);\n",
      "    y = np.arange(0,2,1000)\n",
      "    samples_y = ymin + (ymax-ymin)*np.random.random_sample(N);\n",
      "    approx = pointPotential(samples_x,samples_y,4e-6,2,3)\n",
      "    I = dx*dy*approx.mean()/((xmax-xmin)*(ymax-ymin))\n",
      "    err = (xmax-xmin)*(ymax-ymin)*np.sqrt(((approx**2).mean() - (approx.mean())**2)/N)\n",
      "    print \"With N =\", N,\",\" \" I =\",I, \"+/-\", err\n",
      "Pointpotentialboxint(10)\n",
      "Pointpotentialboxint(100)\n",
      "Pointpotentialboxint(1000)\n",
      "Pointpotentialboxint(10000)\n",
      "Pointpotentialboxint(100000)\n",
      "Pointpotentialboxint(1000000)\n",
      "\n",
      "print \"The value of N does not change the value of the integral, but it does change the uncertainty, and the greater the value of N, the more likely that the answer is closer to the analytical answer.\"\n"
     ],
     "language": "python",
     "metadata": {},
     "outputs": [
      {
       "output_type": "stream",
       "stream": "stdout",
       "text": [
        "With N = 10 , I = 12609.7352746 +/- 1429.02784358\n",
        "With N = 100 , I = 13500.0359881 +/- 1211.45274714\n",
        "With N = 1000 , I = 13048.3585258 +/- 369.888454385\n",
        "With N = 10000 , I = 13030.8762287 +/- 119.659331882\n",
        "With N = 100000 , I = 13034.4569111 +/- 37.5910579753\n",
        "With N ="
       ]
      },
      {
       "output_type": "stream",
       "stream": "stdout",
       "text": [
        " 1000000 , I = 13025.5079204 +/- 11.9026311092\n",
        "The value of N does not change the value of the integral, but it does change the uncertainty, and the greater the value of N, the more likely that the answer is closer to the analytical answer.\n"
       ]
      }
     ],
     "prompt_number": 3
    },
    {
     "cell_type": "markdown",
     "metadata": {},
     "source": [
      "**(b)** Now use the same method to compute the electric potential, $V$, at point $P$(2,3), from a disk centered on the origin with radius, $R$=1.2 m, and charge density, $\\sigma = 2 nC/m^{2}$."
     ]
    },
    {
     "cell_type": "code",
     "collapsed": false,
     "input": [
      "def PointpotentialCircint(N):\n",
      "    rmin = 0\n",
      "    rmax = 1.2\n",
      "    thmin = 0\n",
      "    thmax = 2*np.pi\n",
      "    dr = 1.2\n",
      "    dth = 2*np.pi\n",
      "    r = np.arange(0,1,1000)\n",
      "    samples_r = rmin + (rmax-rmin)*np.random.random_sample(N);\n",
      "    th = np.arange(0,2*np.pi,1000)\n",
      "    samples_th = thmin + (thmax-thmin)*np.random.random_sample(N);\n",
      "    approx = pointPotential(samples_r*np.cos(samples_th),\n",
      "                            samples_r*np.sin(samples_th),(np.pi*1.44)*2e-9,2,3)\n",
      "    I = approx.mean()/(np.pi*1.44)\n",
      "    err = (rmax-rmin)*(thmax-thmin)*np.sqrt(((approx**2).mean()\n",
      "                                           - (approx.mean())**2)/N)\n",
      "    print \"With N =\", N,\",\" \" I =\",I, \"+/-\", err\n",
      "PointpotentialCircint(10)\n",
      "PointpotentialCircint(100)\n",
      "PointpotentialCircint(1000)\n",
      "PointpotentialCircint(10000)\n",
      "PointpotentialCircint(100000)\n",
      "PointpotentialCircint(1000000)"
     ],
     "language": "python",
     "metadata": {},
     "outputs": [
      {
       "output_type": "stream",
       "stream": "stdout",
       "text": [
        "With N = 10 , I = 4.99762593194 +/- 8.48031428963\n",
        "With N = 100 , I = 5.00498487602 +/- 2.32930237331\n",
        "With N = 1000 , I = 5.02083486094 +/- 0.764495592767\n",
        "With N = 10000 , I = 5.039925589 +/- 0.243362020886\n",
        "With N ="
       ]
      },
      {
       "output_type": "stream",
       "stream": "stdout",
       "text": [
        " 100000 , I = 5.03530970837 +/- 0.076634804892\n",
        "With N ="
       ]
      },
      {
       "output_type": "stream",
       "stream": "stdout",
       "text": [
        " 1000000 , I = 5.03368867406 +/- 0.0242225051256\n"
       ]
      }
     ],
     "prompt_number": 4
    },
    {
     "cell_type": "heading",
     "level": 3,
     "metadata": {},
     "source": [
      "Question 2"
     ]
    },
    {
     "cell_type": "markdown",
     "metadata": {},
     "source": [
      "Use the sample mean method to compute the volume of a sphere with radius 1 using spherical coordinates:\n",
      "\n",
      "\\begin{equation}\n",
      "V = \\int_{0}^{2\\pi} \\int_{0}^{\\pi} \\int_{0}^{1} r^{2}sin(\\phi)drd\\phi d\\theta\n",
      "\\end{equation}"
     ]
    },
    {
     "cell_type": "markdown",
     "metadata": {},
     "source": [
      "for $N=(10^{1},10^{2},10^{3},10^{4},10^{5},10^{6})$. Report the value and statistical uncertainty for each sample size. How does the result depend on $N$?"
     ]
    },
    {
     "cell_type": "code",
     "collapsed": false,
     "input": [
      "def PointpotentialSphereint(N):\n",
      "    rmin = 0\n",
      "    rmax = 1\n",
      "    thmin = 0\n",
      "    thmax = 2*np.pi\n",
      "    phimin = 0\n",
      "    phimax = np.pi\n",
      "    dr = 1\n",
      "    dth = 2*np.pi\n",
      "    dphi = pi\n",
      "    r = np.arange(0,1,1000)\n",
      "    samples_r = rmin + (rmax-rmin)*np.random.random_sample(N);\n",
      "    th = np.arange(0,2*np.pi,1000)\n",
      "    samples_th = thmin + (thmax-thmin)*np.random.random_sample(N);\n",
      "    phi = np.arange(0,np.pi,1000)\n",
      "    samples_phi = phimin + (phimax - phimin)*np.random.random_sample(N);\n",
      "    approx = ((samples_r**2)*sin(samples_phi))\n",
      "    I = (rmax-rmin)*(thmax-thmin)*(phimax-phimin)*approx.mean()\n",
      "    err = (rmax-rmin)*(thmax-thmin)*(phimax-phimin)*np.sqrt(((approx**2).mean()\n",
      "              - (approx.mean())**2)/N)\n",
      "    print \"With N =\", N,\",\" \" I =\",I, \"+/-\", err\n",
      "    \n",
      "PointpotentialSphereint(10)\n",
      "PointpotentialSphereint(100)\n",
      "PointpotentialSphereint(1000)\n",
      "PointpotentialSphereint(10000)\n",
      "PointpotentialSphereint(100000)\n",
      "PointpotentialSphereint(1000000)"
     ],
     "language": "python",
     "metadata": {},
     "outputs": [
      {
       "output_type": "stream",
       "stream": "stdout",
       "text": [
        "With N = 10 , I = 5.05858260423 +/- 1.91496050732\n",
        "With N = 100 , I = 4.44050910829 +/- 0.47848736421\n",
        "With N = 1000 , I = 4.1509773777 +/- 0.147147192332\n",
        "With N = 10000 , I = 4.20077556848 +/- 0.0461820317998\n",
        "With N ="
       ]
      },
      {
       "output_type": "stream",
       "stream": "stdout",
       "text": [
        " 100000 , I = 4.20300608288 +/- 0.0146468468257\n",
        "With N ="
       ]
      },
      {
       "output_type": "stream",
       "stream": "stdout",
       "text": [
        " 1000000 , I = 4.18490236289 +/- 0.00462464056862\n"
       ]
      }
     ],
     "prompt_number": 11
    },
    {
     "cell_type": "markdown",
     "metadata": {},
     "source": [
      "The greater N is, the lower the uncertainty. "
     ]
    },
    {
     "cell_type": "heading",
     "level": 3,
     "metadata": {},
     "source": [
      "Question 3"
     ]
    },
    {
     "cell_type": "markdown",
     "metadata": {},
     "source": [
      "**(a)** Use the hit or miss Monte Carlo method to estimate the integral of $f(x) = 4\\sqrt{1 - x^{2}}$ in the interval $0\u2264x\u22641$ as a function of $N$, the number of samples. Let $N$ range from $10^{1}$ to $10^{6}$ and use at least 100 different values for $N$."
     ]
    },
    {
     "cell_type": "code",
     "collapsed": false,
     "input": [],
     "language": "python",
     "metadata": {},
     "outputs": []
    }
   ],
   "metadata": {}
  }
 ]
}