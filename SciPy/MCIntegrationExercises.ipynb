{
 "metadata": {
  "name": "",
  "signature": "sha256:dacdc896cdd96a0580729d31b4bc57e4723d5b1ce4f72bec3838f3f8babe1a43"
 },
 "nbformat": 3,
 "nbformat_minor": 0,
 "worksheets": [
  {
   "cells": [
    {
     "cell_type": "heading",
     "level": 1,
     "metadata": {},
     "source": [
      "Monte Carlo Integration Exercises"
     ]
    },
    {
     "cell_type": "code",
     "collapsed": false,
     "input": [
      "%pylab inline\n",
      "import numpy as np\n",
      "import matplotlib.pyplot as plt\n",
      "from IPython.html.widgets import interact,interactive"
     ],
     "language": "python",
     "metadata": {},
     "outputs": [
      {
       "output_type": "stream",
       "stream": "stdout",
       "text": [
        "Populating the interactive namespace from numpy and matplotlib\n"
       ]
      }
     ],
     "prompt_number": 1
    },
    {
     "cell_type": "heading",
     "level": 3,
     "metadata": {},
     "source": [
      "Question 1"
     ]
    },
    {
     "cell_type": "markdown",
     "metadata": {},
     "source": [
      "Let\u2019s compute the electric potential from a plane of charge using Monte Carlo integration.\n",
      "\n"
     ]
    },
    {
     "cell_type": "markdown",
     "metadata": {},
     "source": [
      "The integral comes from summing all the potentials from the chunks of \u201cpoint\u201d charges. Just as we summed two charges for a dipole, now we\u2019ll sum many charges. The important part is to understand how $dQ$, modeled as a point charge, is related to $\\sigma dA$, where $\\sigma$is the surface charge density = charge/area ($\\sigma = Q/A$ ) Review your notes from PHYS 133 if you need a refresher.\n",
      "\n",
      "We want to use our previously defined pointPotential() function from Electrostatics.py, so we have to import it."
     ]
    },
    {
     "cell_type": "code",
     "collapsed": false,
     "input": [
      "from Electrostatics import *"
     ],
     "language": "python",
     "metadata": {},
     "outputs": [],
     "prompt_number": 2
    },
    {
     "cell_type": "markdown",
     "metadata": {},
     "source": [
      "**(a)** Use the sample mean method to compute the potential at point $P(2,3)$ due to the disk of charge for different numbers of samples $N=(10^{1},10^{2},10^{3},10^{4},10^{5},10^{6})$. Report the value and its statistical uncertainty for each sample size. How does the result depend on N?"
     ]
    },
    {
     "cell_type": "code",
     "collapsed": false,
     "input": [
      "def Pointpotentialboxint(N):\n",
      "    xmin = -1\n",
      "    xmax = 1\n",
      "    ymin = 0\n",
      "    ymax = 2\n",
      "    dx = 2\n",
      "    dy = 2\n",
      "    x = np.arange(-1,1,1000)\n",
      "    samples_x = xmin + (xmax-xmin)*np.random.random_sample(N);\n",
      "    y = np.arange(0,2,1000)\n",
      "    samples_y = ymin + (ymax-ymin)*np.random.random_sample(N);\n",
      "    approx = pointPotential(samples_x,samples_y,4e-6,2,3)\n",
      "    I = dx*dy*approx.mean()/((xmax-xmin)*(ymax-ymin))\n",
      "    err = (xmax-xmin)*(ymax-ymin)*np.sqrt(((approx**2).mean() - (approx.mean())**2)/N)\n",
      "    print \"With N =\", N,\",\" \" I =\",I, \"+/-\", err\n",
      "Pointpotentialboxint(10)\n",
      "Pointpotentialboxint(100)\n",
      "Pointpotentialboxint(1000)\n",
      "Pointpotentialboxint(10000)\n",
      "Pointpotentialboxint(100000)\n",
      "Pointpotentialboxint(1000000)\n",
      "\n",
      "print \"The value of N does not change the value of the integral, but it does change the uncertainty, and the greater the value of N, the more likely that the answer is closer to the analytical answer.\"\n"
     ],
     "language": "python",
     "metadata": {},
     "outputs": [
      {
       "output_type": "stream",
       "stream": "stdout",
       "text": [
        "With N = 10 , I = 13373.5518829 +/- 6077.50890393\n",
        "With N = 100 , I = 12751.2163074 +/- 1210.59615301\n",
        "With N = 1000 , I = 13128.2449855 +/- 389.057477089\n",
        "With N = 10000 , I = 13038.4353739 +/- 119.948159462\n",
        "With N = 100000 , I = 13038.7850718 +/- 37.7321670184\n",
        "With N ="
       ]
      },
      {
       "output_type": "stream",
       "stream": "stdout",
       "text": [
        " 1000000 , I = 13029.7561855 +/- 11.8861738912\n",
        "The value of N does not change the value of the integral, but it does change the uncertainty, and the greater the value of N, the more likely that the answer is closer to the analytical answer.\n"
       ]
      }
     ],
     "prompt_number": 3
    },
    {
     "cell_type": "markdown",
     "metadata": {},
     "source": [
      "**(b)** Now use the same method to compute the electric potential, $V$, at point $P$(2,3), from a disk centered on the origin with radius, $R$=1.2 m, and charge density, $\\sigma = 2 nC/m^{2}$."
     ]
    },
    {
     "cell_type": "code",
     "collapsed": false,
     "input": [
      "def PointpotentialCircint(N):\n",
      "    rmin = 0\n",
      "    rmax = 1.2\n",
      "    thmin = 0\n",
      "    thmax = 2*np.pi\n",
      "    dr = 1.2\n",
      "    dth = 2*np.pi\n",
      "    r = np.arange(0,1,1000)\n",
      "    samples_r = rmin + (rmax-rmin)*np.random.random_sample(N);\n",
      "    th = np.arange(0,2*np.pi,1000)\n",
      "    samples_th = thmin + (thmax-thmin)*np.random.random_sample(N);\n",
      "    approx = pointPotential(samples_r*np.cos(samples_th),\n",
      "                            samples_r*np.sin(samples_th),(np.pi*1.44)*2e-9,2,3)\n",
      "    I = approx.mean()/(np.pi*1.44)\n",
      "    err = (rmax-rmin)*(thmax-thmin)*np.sqrt(((approx**2).mean()\n",
      "                                           - (approx.mean())**2)/N)\n",
      "    print \"With N =\", N,\",\" \" I =\",I, \"+/-\", err\n",
      "PointpotentialCircint(10)\n",
      "PointpotentialCircint(100)\n",
      "PointpotentialCircint(1000)\n",
      "PointpotentialCircint(10000)\n",
      "PointpotentialCircint(100000)\n",
      "PointpotentialCircint(1000000)"
     ],
     "language": "python",
     "metadata": {},
     "outputs": [
      {
       "output_type": "stream",
       "stream": "stdout",
       "text": [
        "With N = 10 , I = 4.97421535031 +/- 5.28573650588\n",
        "With N = 100 , I = 4.98043378154 +/- 2.36285869226\n",
        "With N = 1000 , I = 5.03463023478 +/- 0.771974477743\n",
        "With N = 10000 , I = 5.02275287799 +/- 0.239069137162\n",
        "With N = 100000 , I = 5.03230791993 +/- 0.0765319360447\n",
        "With N ="
       ]
      },
      {
       "output_type": "stream",
       "stream": "stdout",
       "text": [
        " 1000000 , I = 5.03249137699 +/- 0.0242035275954\n"
       ]
      }
     ],
     "prompt_number": 4
    },
    {
     "cell_type": "heading",
     "level": 3,
     "metadata": {},
     "source": [
      "Question 2"
     ]
    },
    {
     "cell_type": "markdown",
     "metadata": {},
     "source": [
      "Use the sample mean method to compute the volume of a sphere with radius 1 using spherical coordinates:\n",
      "\n",
      "\\begin{equation}\n",
      "V = \\int_{0}^{2\\pi} \\int_{0}^{\\pi} \\int_{0}^{1} r^{2}sin(\\phi)drd\\phi d\\theta\n",
      "\\end{equation}"
     ]
    },
    {
     "cell_type": "markdown",
     "metadata": {},
     "source": [
      "for $N=(10^{1},10^{2},10^{3},10^{4},10^{5},10^{6})$. Report the value and statistical uncertainty for each sample size. How does the result depend on $N$?"
     ]
    },
    {
     "cell_type": "code",
     "collapsed": false,
     "input": [
      "def PointpotentialSphereint(N):\n",
      "    rmin = 0\n",
      "    rmax = 1\n",
      "    thmin = 0\n",
      "    thmax = 2*np.pi\n",
      "    phimin = 0\n",
      "    phimax = np.pi\n",
      "    dr = 1\n",
      "    dth = 2*np.pi\n",
      "    dphi = pi\n",
      "    r = np.arange(0,1,1000)\n",
      "    samples_r = rmin + (rmax-rmin)*np.random.random_sample(N);\n",
      "    th = np.arange(0,2*np.pi,1000)\n",
      "    samples_th = thmin + (thmax-thmin)*np.random.random_sample(N);\n",
      "    phi = np.arange(0,np.pi,1000)\n",
      "    samples_phi = phimin + (phimax - phimin)*np.random.random_sample(N);\n",
      "    approx = ((samples_r**2)*sin(samples_phi))\n",
      "    I = (rmax-rmin)*(thmax-thmin)*(phimax-phimin)*approx.mean()\n",
      "    err = (rmax-rmin)*(thmax-thmin)*(phimax-phimin)*np.sqrt(((approx**2).mean()\n",
      "              - (approx.mean())**2)/N)\n",
      "    print \"With N =\", N,\",\" \" I =\",I, \"+/-\", err\n",
      "    \n",
      "PointpotentialSphereint(10)\n",
      "PointpotentialSphereint(100)\n",
      "PointpotentialSphereint(1000)\n",
      "PointpotentialSphereint(10000)\n",
      "PointpotentialSphereint(100000)\n",
      "PointpotentialSphereint(1000000)"
     ],
     "language": "python",
     "metadata": {},
     "outputs": [
      {
       "output_type": "stream",
       "stream": "stdout",
       "text": [
        "With N = 10 , I = 4.40759201431 +/- 1.46468650792\n",
        "With N = 100 , I = 4.23403434597 +/- 0.460285517446\n",
        "With N = 1000 , I = 4.08794370097 +/- 0.142803602232\n",
        "With N = 10000 , I = 4.17599615715 +/- 0.0461512328429\n",
        "With N = 100000 , I = 4.18645132905 +/- 0.014669191695\n",
        "With N ="
       ]
      },
      {
       "output_type": "stream",
       "stream": "stdout",
       "text": [
        " 1000000 , I = 4.19088835619 +/- 0.00462596078201\n"
       ]
      }
     ],
     "prompt_number": 5
    },
    {
     "cell_type": "markdown",
     "metadata": {},
     "source": [
      "The greater N is, the lower the uncertainty. "
     ]
    },
    {
     "cell_type": "heading",
     "level": 3,
     "metadata": {},
     "source": [
      "Question 3"
     ]
    },
    {
     "cell_type": "markdown",
     "metadata": {},
     "source": [
      "**(a)** Use the hit or miss Monte Carlo method to estimate the integral of $f(x) = 4\\sqrt{1 - x^{2}}$ in the interval $0\u2264x\u22641$ as a function of $N$, the number of samples. Let $N$ range from $10^{1}$ to $10^{6}$ and use at least 100 different values for $N$."
     ]
    },
    {
     "cell_type": "code",
     "collapsed": false,
     "input": [
      "def functionofN(N):\n",
      "    f = lambda x: 4*np.sqrt(1-(x**2))\n",
      "    x = np.arange(0.,1.,0.001)\n",
      "    subx = x[logical_and((x>0),(x<1))]\n",
      "    ymax = f(subx).max()*1.05\n",
      "    ymin = 0.\n",
      "    samples_x = 0 + np.random.random_sample(N)\n",
      "    samples_y = 0 + (ymax)*np.random.random_sample(N)\n",
      "    newmask = (samples_y < f(samples_x))\n",
      "    I = (ymax*newmask.sum())/newmask.size\n",
      "    return I"
     ],
     "language": "python",
     "metadata": {},
     "outputs": [],
     "prompt_number": 6
    },
    {
     "cell_type": "code",
     "collapsed": false,
     "input": [
      "N = logspace(1,6,100)\n",
      "for i in N:\n",
      "    functionofN(i)\n",
      "    \n",
      "print \"The values are taken with this for loop, but I'll run it again in the next question and have it look much neater.\"\n"
     ],
     "language": "python",
     "metadata": {},
     "outputs": [
      {
       "output_type": "stream",
       "stream": "stdout",
       "text": [
        "The values are taken with this for loop, but I'll run it again in the next question and have it look much neater.\n"
       ]
      }
     ],
     "prompt_number": 7
    },
    {
     "cell_type": "markdown",
     "metadata": {},
     "source": [
      "**(b)** Calculate the percent error for the $N$ values from part (a) using the exact result $\\pi$. Make a log-log plot of the error as a function of $N$.\n",
      "\n",
      "What is the approximate functional dependence of the error on $N$ for large $N$, for example $N\u226510^{4}$?\n"
     ]
    },
    {
     "cell_type": "code",
     "collapsed": false,
     "input": [
      "N = logspace(1,6,100)\n",
      "lst = []\n",
      "for i in N:\n",
      "    lst.append(abs(100*(functionofN(i)-np.pi)/np.pi))\n",
      "    print \"N = %.2f,\"%i, \"I = %.4f,\"%functionofN(i), \"Error = %.2f\"%(abs(100*(functionofN(i)-np.pi)/np.pi)),\"%\"\n",
      "    \n",
      "plt.figure(figsize=[12,9])\n",
      "plt.title('Hit or Miss Method',fontsize=25)\n",
      "plt.xlabel('N',fontsize=20)\n",
      "plt.ylabel('Error from analytical integral',fontsize=20)\n",
      "plt.xscale('log')\n",
      "plt.ylim(0,50)\n",
      "plt.xlim(10,1000000)\n",
      "plt.scatter(N, lst, marker='o')\n",
      "plt.show()\n",
      "    "
     ],
     "language": "python",
     "metadata": {},
     "outputs": [
      {
       "output_type": "stream",
       "stream": "stdout",
       "text": [
        "N = 10.00, I = 3.3600, Error = 6.95 %\n",
        "N = 11.23, I = 2.2909, Error = 9.38 %\n",
        "N = 12.62, I = 3.1500, Error = 0.27 %\n",
        "N = 14.17, I = 3.6000, Error = 23.61 %\n",
        "N = 15.92, I = 3.3600, Error = 37.61 %\n",
        "N = 17.89, I = 2.7176, Error = 13.49 %\n",
        "N = 20.09, I = 3.3600, Error = 6.95 %\n",
        "N = 22.57, I = 3.4364, Error = 3.31 %\n",
        "N = 25.35, I = 3.6960, Error = 1.60 %\n",
        "N = 28.48, I = 3.0000, Error = 9.28 %\n",
        "N = 31.99, I = 2.8452, Error = 3.50 %\n",
        "N = 35.94, I = 3.0000, Error = 18.41 %\n",
        "N = 40.37, I = 3.3600, Error = 9.76 %\n",
        "N = 45.35, I = 3.1733, Error = 12.89 %\n",
        "N = 50.94, I = 3.6120, Error = 4.28 %\n",
        "N = 57.22, I = 3.2421, Error = 0.85 %\n",
        "N = 64.28, I = 3.2156, Error = 1.82 %\n",
        "N = 72.21, I = 3.2667, Error = 5.84 %\n",
        "N = 81.11, I = 2.8519, Error = 0.97 %\n",
        "N = 91.12, I = 3.1385, Error = 4.51 %\n",
        "N = 102.35, I = 2.9647, Error = 6.17 %\n",
        "N = 114.98, I = 3.0211, Error = 1.49 %\n",
        "N = 129.15, I = 3.0930, Error = 2.58 %\n",
        "N = 145.08, I = 3.0414, Error = 3.26 %\n",
        "N = 162.98, I = 2.9037, Error = 4.81 %\n",
        "N = 183.07, I = 3.1443, Error = 10.31 %\n",
        "N = 205.65, I = 3.1961, Error = 1.53 %\n",
        "N = 231.01, I = 3.0727, Error = 3.93 %\n",
        "N = 259.50, I = 3.2432, Error = 6.06 %\n",
        "N = 291.51, I = 3.0598, Error = 1.53 %\n",
        "N = 327.45, I = 3.1982, Error = 3.11 %\n",
        "N = 367.84, I = 3.1242, Error = 0.19 %\n",
        "N = 413.20, I = 3.1017, Error = 5.85 %\n",
        "N = 464.16, I = 3.1500, Error = 5.49 %\n",
        "N = 521.40, I = 3.0956, Error = 3.26 %\n",
        "N = 585.70, I = 3.2308, Error = 1.47 %\n",
        "N = 657.93, I = 3.2027, Error = 0.93 %\n",
        "N = 739.07, I = 3.1486, Error = 4.30 %\n",
        "N = 830.22, I = 3.2082, Error = 0.78 %\n",
        "N = 932.60, I = 3.1860, Error = 1.13 %\n",
        "N = 1047.62, I = 3.1771, Error = 2.96 %\n",
        "N = 1176.81, I = 3.2036, Error = 2.12 %\n",
        "N = 1321.94, I = 3.2112, Error = 0.31 %\n",
        "N = 1484.97, I = 3.1500, Error = 2.44 %\n",
        "N = 1668.10, I = 3.1424, Error = 0.69 %\n",
        "N = 1873.82, "
       ]
      },
      {
       "output_type": "stream",
       "stream": "stdout",
       "text": [
        "I = 3.0766, Error = 0.43 %\n",
        "N = 2104.90, I = 3.1300, Error = 2.02 %\n",
        "N = 2364.49, I = 3.1464, Error = 0.44 %\n",
        "N = 2656.09, I = 3.0852, Error = 1.29 %\n",
        "N = 2983.65, I = 3.1032, Error = 1.00 %\n",
        "N = 3351.60, I = 3.1309, Error = 2.17 %\n",
        "N = 3764.94, I = 3.1132, Error = 0.13 %\n",
        "N = 4229.24, I = 3.1880, Error = 1.32 %\n",
        "N = 4750.81, I = 3.1611, Error = 0.93 %\n",
        "N = 5336.70, I = 3.1579, Error = 0.58 %\n",
        "N = 5994.84, I = 3.1370, Error = 0.68 %\n",
        "N = 6734.15, I = 3.1197, Error = 0.66 %\n",
        "N = 7564.63, I = 3.1533, Error = 0.18 %\n",
        "N = 8497.53, I = 3.1294, Error = 0.61 %\n",
        "N = 9545.48, I = 3.1466, Error = 0.43 %\n",
        "N = 10722.67, "
       ]
      },
      {
       "output_type": "stream",
       "stream": "stdout",
       "text": [
        "I = 3.1279, Error = 1.36 %\n",
        "N = 12045.04, I = 3.1215, Error = 0.04 %\n",
        "N = 13530.48, I = 3.1396, Error = 0.02 %\n",
        "N = 15199.11, I = 3.1444, Error = 0.54 %\n",
        "N = 17073.53, I = 3.1592, Error = 0.01 %\n",
        "N = 19179.10, "
       ]
      },
      {
       "output_type": "stream",
       "stream": "stdout",
       "text": [
        "I = 3.1344, Error = 0.40 %\n",
        "N = 21544.35, I = 3.1387, Error = 0.43 %\n",
        "N = 24201.28, I = 3.1526, Error = 0.49 %\n",
        "N = 27185.88, I = 3.1411, "
       ]
      },
      {
       "output_type": "stream",
       "stream": "stdout",
       "text": [
        "Error = 0.09 %\n",
        "N = 30538.56, I = 3.1600, Error = 1.14 %\n",
        "N = 34304.69, I = 3.1494, Error = 0.40 %\n",
        "N = 38535.29, "
       ]
      },
      {
       "output_type": "stream",
       "stream": "stdout",
       "text": [
        "I = 3.1413, Error = 0.05 %\n",
        "N = 43287.61, I = 3.1375, Error = 0.25 %\n",
        "N = 48626.02, I = 3.1402, "
       ]
      },
      {
       "output_type": "stream",
       "stream": "stdout",
       "text": [
        "Error = 0.20 %\n",
        "N = 54622.77, I = 3.1385, Error = 0.16 %\n",
        "N = 61359.07, I = 3.1668, "
       ]
      },
      {
       "output_type": "stream",
       "stream": "stdout",
       "text": [
        "Error = 0.43 %\n",
        "N = 68926.12, I = 3.1377, "
       ]
      },
      {
       "output_type": "stream",
       "stream": "stdout",
       "text": [
        "Error = 0.49 %\n",
        "N = 77426.37, I = 3.1410, Error = 0.10 %\n",
        "N = 86974.90,"
       ]
      },
      {
       "output_type": "stream",
       "stream": "stdout",
       "text": [
        " I = 3.1514, Error = 0.07 %\n",
        "N = 97701.00, I = 3.1346, "
       ]
      },
      {
       "output_type": "stream",
       "stream": "stdout",
       "text": [
        "Error = 0.05 %\n",
        "N = 109749.88, I = 3.1468, "
       ]
      },
      {
       "output_type": "stream",
       "stream": "stdout",
       "text": [
        "Error = 0.16 %\n",
        "N = 123284.67, I = 3.1428, "
       ]
      },
      {
       "output_type": "stream",
       "stream": "stdout",
       "text": [
        "Error = 0.03 %\n",
        "N = 138488.64, I = 3.1324, "
       ]
      },
      {
       "output_type": "stream",
       "stream": "stdout",
       "text": [
        "Error = 0.05 %\n",
        "N = 155567.61, "
       ]
      },
      {
       "output_type": "stream",
       "stream": "stdout",
       "text": [
        "I = 3.1484, Error = 0.01 %\n",
        "N = 174752.84,"
       ]
      },
      {
       "output_type": "stream",
       "stream": "stdout",
       "text": [
        " I = 3.1395, Error = 0.14 %\n",
        "N = 196304.07,"
       ]
      },
      {
       "output_type": "stream",
       "stream": "stdout",
       "text": [
        " I = 3.1380, Error = 0.09 %\n",
        "N = 220513.07,"
       ]
      },
      {
       "output_type": "stream",
       "stream": "stdout",
       "text": [
        " I = 3.1408, Error = 0.13 %\n",
        "N = 247707.64,"
       ]
      },
      {
       "output_type": "stream",
       "stream": "stdout",
       "text": [
        " I = 3.1451, Error = 0.01 %\n",
        "N = 278255.94,"
       ]
      },
      {
       "output_type": "stream",
       "stream": "stdout",
       "text": [
        " I = 3.1469, "
       ]
      },
      {
       "output_type": "stream",
       "stream": "stdout",
       "text": [
        "Error = 0.02 %\n",
        "N = 312571.58, "
       ]
      },
      {
       "output_type": "stream",
       "stream": "stdout",
       "text": [
        "I = 3.1414, "
       ]
      },
      {
       "output_type": "stream",
       "stream": "stdout",
       "text": [
        "Error = 0.02 %\n",
        "N = 351119.17,"
       ]
      },
      {
       "output_type": "stream",
       "stream": "stdout",
       "text": [
        " I = 3.1387, "
       ]
      },
      {
       "output_type": "stream",
       "stream": "stdout",
       "text": [
        "Error = 0.03 %\n",
        "N = 394420.61,"
       ]
      },
      {
       "output_type": "stream",
       "stream": "stdout",
       "text": [
        " I = 3.1437, "
       ]
      },
      {
       "output_type": "stream",
       "stream": "stdout",
       "text": [
        "Error = 0.02 %\n",
        "N = 443062.15,"
       ]
      },
      {
       "output_type": "stream",
       "stream": "stdout",
       "text": [
        " I = 3.1385, "
       ]
      },
      {
       "output_type": "stream",
       "stream": "stdout",
       "text": [
        "Error = 0.04 %\n",
        "N = 497702.36,"
       ]
      },
      {
       "output_type": "stream",
       "stream": "stdout",
       "text": [
        " I = 3.1443, "
       ]
      },
      {
       "output_type": "stream",
       "stream": "stdout",
       "text": [
        "Error = 0.01 %\n",
        "N = 559081.02,"
       ]
      },
      {
       "output_type": "stream",
       "stream": "stdout",
       "text": [
        " I = 3.1396, "
       ]
      },
      {
       "output_type": "stream",
       "stream": "stdout",
       "text": [
        "Error = 0.09 %\n",
        "N = 628029.14,"
       ]
      },
      {
       "output_type": "stream",
       "stream": "stdout",
       "text": [
        " I = 3.1397, "
       ]
      },
      {
       "output_type": "stream",
       "stream": "stdout",
       "text": [
        "Error = 0.03 %\n",
        "N = 705480.23,"
       ]
      },
      {
       "output_type": "stream",
       "stream": "stdout",
       "text": [
        " I = 3.1390, "
       ]
      },
      {
       "output_type": "stream",
       "stream": "stdout",
       "text": [
        "Error = 0.03 %\n",
        "N = 792482.90,"
       ]
      },
      {
       "output_type": "stream",
       "stream": "stdout",
       "text": [
        " I = 3.1434, "
       ]
      },
      {
       "output_type": "stream",
       "stream": "stdout",
       "text": [
        "Error = 0.02 %\n",
        "N = 890215.09,"
       ]
      },
      {
       "output_type": "stream",
       "stream": "stdout",
       "text": [
        " I = 3.1415, "
       ]
      },
      {
       "output_type": "stream",
       "stream": "stdout",
       "text": [
        "Error = 0.18 %\n",
        "N = 1000000.00,"
       ]
      },
      {
       "output_type": "stream",
       "stream": "stdout",
       "text": [
        " I = 3.1405, "
       ]
      },
      {
       "output_type": "stream",
       "stream": "stdout",
       "text": [
        "Error = 0.01 %\n"
       ]
      },
      {
       "metadata": {},
       "output_type": "display_data",
       "png": "[encoded data removed]",
       "text": [
        "<matplotlib.figure.Figure at 0x51fad30>"
       ]
      }
     ],
     "prompt_number": 8
    },
    {
     "cell_type": "markdown",
     "metadata": {},
     "source": [
      "The average percent error goes down as $N$ increases, by a factor of $1/\\sqrt{N}$."
     ]
    },
    {
     "cell_type": "markdown",
     "metadata": {},
     "source": [
      "**(c)** Estimate the same integral using the sample mean method and compute the statistical uncertainty and error as a function of the number of samples $N$ for $N\u226510^{4}$. Use at least 100 different values for $N$.\n",
      "\n",
      "Make a log-log plot of both the statistical uncertainty and the error as a function of $N$.\n",
      "\n",
      "How many samples are needed to determine the result to two decimal places? What is the approximate functional dependence of the error on $N$ for large $N$?\n"
     ]
    },
    {
     "cell_type": "code",
     "collapsed": false,
     "input": [
      "def LastUncertainty(N):\n",
      "    xmin = 0\n",
      "    xmax = 1\n",
      "    ymin = 0\n",
      "    ymax = 4\n",
      "    dx = 1\n",
      "    dy = 4\n",
      "    x = np.arange(0,1,1000)\n",
      "    samples_x = xmin + (xmax-xmin)*np.random.random_sample(N);\n",
      "    samples_y = 4*(np.sqrt(1-(samples_x**2)));\n",
      "    approx = samples_y\n",
      "    I = dx*dy*approx.mean()/((xmax-xmin)*(ymax-ymin))\n",
      "    err = (xmax-xmin)*(ymax-ymin)*np.sqrt(((approx**2).mean() - (approx.mean())**2)/N)\n",
      "    return err\n",
      "\n",
      "def LastIntegral(N):\n",
      "    xmin = 0\n",
      "    xmax = 1\n",
      "    ymin = 0\n",
      "    ymax = 4\n",
      "    dx = 1\n",
      "    dy = 4\n",
      "    x = np.arange(0,1,1000)\n",
      "    samples_x = xmin + (xmax-xmin)*np.random.random_sample(N);\n",
      "    samples_y = 4*(np.sqrt(1-(samples_x**2)));\n",
      "    approx = samples_y\n",
      "    I = dx*dy*approx.mean()/((xmax-xmin)*(ymax-ymin))\n",
      "    err = (xmax-xmin)*(ymax-ymin)*np.sqrt(((approx**2).mean() - (approx.mean())**2)/N)\n",
      "    return I\n",
      "    "
     ],
     "language": "python",
     "metadata": {},
     "outputs": [],
     "prompt_number": 9
    },
    {
     "cell_type": "code",
     "collapsed": false,
     "input": [
      "Q = logspace(1,6,100)    \n",
      "lst = []\n",
      "lst2= []\n",
      "for i in Q:\n",
      "    lst2.append(abs(100*(LastIntegral(i)-np.pi)/np.pi))\n",
      "    lst.append(float(LastUncertainty(i)))\n",
      "\n",
      "plt.figure(figsize=[12,9])\n",
      "plt.xscale('log')\n",
      "plt.title('Sample Mean Method',fontsize=25)\n",
      "plt.xlabel('N',fontsize=20)\n",
      "plt.ylabel('Error',fontsize=20)\n",
      "plt.xlim(10,1000000)\n",
      "plt.ylim(0,20)\n",
      "plt.plot(Q,lst,label='Uncertainty from exact solution')\n",
      "plt.scatter(Q,lst2,label='Percent Error')\n",
      "plt.legend(loc='upper right')\n",
      "plt.show()\n",
      "    "
     ],
     "language": "python",
     "metadata": {},
     "outputs": [
      {
       "metadata": {},
       "output_type": "display_data",
       "png": "[encoded data removed]",
       "text": [
        "<matplotlib.figure.Figure at 0x52b77b0>"
       ]
      }
     ],
     "prompt_number": 10
    },
    {
     "cell_type": "markdown",
     "metadata": {},
     "source": [
      "At around 200,000 samples, the uncertainty is lower that one thousandth.\n",
      "\n",
      "For large $N$, the functional dependence of the error is roughly $1/\\sqrt{N}$."
     ]
    },
    {
     "cell_type": "code",
     "collapsed": false,
     "input": [],
     "language": "python",
     "metadata": {},
     "outputs": [],
     "prompt_number": 10
    }
   ],
   "metadata": {}
  }
 ]
}