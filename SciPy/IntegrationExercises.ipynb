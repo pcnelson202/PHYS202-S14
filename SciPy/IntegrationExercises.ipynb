{
 "metadata": {
  "name": "",
  "signature": "sha256:c29f1ce8790fdd7b0fba52fbbc30bce92858a528e95888f249326860d2b087a8"
 },
 "nbformat": 3,
 "nbformat_minor": 0,
 "worksheets": [
  {
   "cells": [
    {
     "cell_type": "heading",
     "level": 1,
     "metadata": {},
     "source": [
      "Integration Exercises"
     ]
    },
    {
     "cell_type": "code",
     "collapsed": false,
     "input": [
      "%pylab inline\n",
      "import numpy as np\n",
      "import matplotlib.pyplot as plt\n",
      "import scipy.integrate as integrate"
     ],
     "language": "python",
     "metadata": {},
     "outputs": [
      {
       "output_type": "stream",
       "stream": "stdout",
       "text": [
        "Populating the interactive namespace from numpy and matplotlib\n"
       ]
      }
     ],
     "prompt_number": 13
    },
    {
     "cell_type": "heading",
     "level": 3,
     "metadata": {},
     "source": [
      "Question 1"
     ]
    },
    {
     "cell_type": "markdown",
     "metadata": {},
     "source": [
      "**(a)** Write two functions trapz(func,a,b,N) and simps(func,a,b,N) to compute the integral of the function func over the variable x using the trapezoidal rule and Simpson's rule to a file called Integrators.py. Do not use the scipy.integrate built-in functions. Include docstrings with each function that describe what they do. Then import the module and use the functions to answer the following questions. To avoid namespace conflicts, import your module as myint and then call the functions from that namespace. i.e.\n",
      "\n",
      "    import integrators as myint\n",
      "    #...your code...here\n",
      "    I = myint.trapz(func,a,b,N)\n",
      "\n",
      "Also, be sure that you import any needed modules inside your Integrators.py file."
     ]
    },
    {
     "cell_type": "code",
     "collapsed": false,
     "input": [
      "%%file Integrators.py\n",
      "import numpy as np\n",
      "def trapz(func,a,b,N):\n",
      "    h = (b-a)/N\n",
      "    k = np.arange(1,N)\n",
      "    I = h*(0.5*func(a) +0.5*func(b) + func(a+k*h).sum())\n",
      "    return I\n",
      "\n",
      "def simps(func,a,b,N):\n",
      "    h = (b-a)/N\n",
      "    k1 = np.arange(1,N/2+1)\n",
      "    k2 = np.arange(1,N/2)\n",
      "    I = (1./3.)*h*(func(a) + func(b) + 4.*func(a+(2*k1-1)*h).sum() + 2.*func(a+2*k2*h).sum())\n",
      "    return I"
     ],
     "language": "python",
     "metadata": {},
     "outputs": [
      {
       "output_type": "stream",
       "stream": "stdout",
       "text": [
        "Overwriting Integrators.py\n"
       ]
      }
     ],
     "prompt_number": 2
    },
    {
     "cell_type": "code",
     "collapsed": false,
     "input": [
      "import Integrators as myint"
     ],
     "language": "python",
     "metadata": {},
     "outputs": [],
     "prompt_number": 3
    },
    {
     "cell_type": "markdown",
     "metadata": {},
     "source": [
      "**(b)** Use your trapz and simps functions from part (a) to calculate the integral of $x^{4}\u22122x+1$ from $x = 0$ to $x = 2$ with $N = 10$, $N = 100,$ and $N = 1000$. Then compare your result to the known correct value of 4.4. What is the percent error in each case?"
     ]
    },
    {
     "cell_type": "code",
     "collapsed": false,
     "input": [
      "print \"Trapezoidal integrals:\"\n",
      "print \"N = 10,\",myint.trapz(lambda x: x**4 - 2*x + 1,0.,2.,10)\n",
      "print \"error =\",(100*(myint.trapz(lambda x: x**4 - 2*x + 1,0.,2.,10)-4.4)/4.4),\"%\"\n",
      "print \"N = 100,\",myint.trapz(lambda x: x**4 - 2*x + 1,0.,2.,100)\n",
      "print \"error =\",(100*(myint.trapz(lambda x: x**4 - 2*x + 1,0.,2.,100)-4.4)/4.4),\"%\"\n",
      "print \"N = 1000,\",myint.trapz(lambda x: x**4 - 2*x + 1,0.,2.,1000)\n",
      "print \"error =\",(100*(myint.trapz(lambda x: x**4 - 2*x + 1,0.,2.,1000)-4.4)/4.4),\"%\"\n",
      "print \"\"\n",
      "print \"Simpson's Rule integrals:\"\n",
      "print \"N = 10,\",myint.simps(lambda x: x**4 - 2*x + 1,0.,2.,10)\n",
      "print \"error =\",(100*(myint.simps(lambda x: x**4 - 2*x + 1,0.,2.,10)-4.4)/4.4),\"%\"\n",
      "print \"N = 100,\",myint.simps(lambda x: x**4 - 2*x + 1,0.,2.,100)\n",
      "print \"error =\",(100*(myint.simps(lambda x: x**4 - 2*x + 1,0.,2.,100)-4.4)/4.4),\"%\"\n",
      "print \"N = 1000,\",myint.simps(lambda x: x**4 - 2*x + 1,0.,2.,1000)\n",
      "print \"error =\",(100*(myint.simps(lambda x: x**4 - 2*x + 1,0.,2.,1000)-4.4)/4.4),\"%\""
     ],
     "language": "python",
     "metadata": {},
     "outputs": [
      {
       "output_type": "stream",
       "stream": "stdout",
       "text": [
        "Trapezoidal integrals:\n",
        "N = 10, 4.50656\n",
        "error = 2.42181818182 %\n",
        "N = 100, 4.401066656\n",
        "error = 0.0242421818182 %\n",
        "N = 1000, 4.40001066667\n",
        "error = 0.000242424218175 %\n",
        "\n",
        "Simpson's Rule integrals:\n",
        "N = 10, 4.40042666667\n",
        "error = 0.00969696969697 %\n",
        "N = 100, 4.40000004267\n",
        "error = 9.69696969187e-07 %\n",
        "N = 1000, 4.4\n",
        "error = 9.69729347327e-11 %\n"
       ]
      }
     ],
     "prompt_number": 12
    },
    {
     "cell_type": "heading",
     "level": 3,
     "metadata": {},
     "source": [
      "Question 2"
     ]
    },
    {
     "cell_type": "markdown",
     "metadata": {},
     "source": [
      "Consider the integral:\n",
      "\n",
      "\\begin{equation}\n",
      "E(x) = \\int_{0}^{x} e^{-t^{2}}dt\n",
      "\\end{equation}\n",
      "\n",
      "This is the error function, commonly seen in probability and statistics. There is no known way to perform this particular integral analytically, although the integrand can be exapnded in a Taylor series and terms computed to arbitrary order. For most applications, numerical approaches are the only way forward."
     ]
    },
    {
     "cell_type": "markdown",
     "metadata": {},
     "source": [
      "**(a)** Use scipy.integrate.cumtrapz to calculate $E(x)$ for values of $x$ from 0 to 3 in steps of 0.1."
     ]
    },
    {
     "cell_type": "code",
     "collapsed": false,
     "input": [
      "t = np.arange(0,3,0.1)\n",
      "print integrate.cumtrapz(e**(-(t**2)),dx=0.1)"
     ],
     "language": "python",
     "metadata": {},
     "outputs": [
      {
       "output_type": "stream",
       "stream": "stdout",
       "text": [
        "[ 0.09950249  0.19704446  0.29078049  0.37908424  0.46063146  0.53445532\n",
        "  0.59997046  0.6569664   0.70557392  0.7462108   0.77951463  0.80627088\n",
        "  0.82734325  0.84361215  0.85592503  0.86506023  0.87170427  0.87644128\n",
        "  0.87975207  0.88202044  0.88354398  0.88454709  0.88519453  0.88560418\n",
        "  0.88585826  0.88601274  0.88610482  0.88615862  0.88618943]\n"
       ]
      }
     ],
     "prompt_number": 47
    },
    {
     "cell_type": "markdown",
     "metadata": {},
     "source": [
      "**(b)** Plot the integrand as a function of t and E(x) as a function of x (both ranging from 0 to 3) on the same graph."
     ]
    },
    {
     "cell_type": "code",
     "collapsed": false,
     "input": [
      "t = np.arange(0,3,0.1)\n",
      "plt.plot(t,e**(-(t**2)),label='$f(x) = e^{-t^{2}}$')\n",
      "plt.plot(t[1:],integrate.cumtrapz(e**(-(t**2)),dx=0.1),label='$\\int_{0}^{x} f(x)$')\n",
      "plt.legend(loc='right')\n",
      "\n",
      "plt.show()"
     ],
     "language": "python",
     "metadata": {},
     "outputs": [
      {
       "metadata": {},
       "output_type": "display_data",
       "png": "[encoded data removed]",
       "text": [
        "<matplotlib.figure.Figure at 0x10698da10>"
       ]
      }
     ],
     "prompt_number": 52
    },
    {
     "cell_type": "code",
     "collapsed": false,
     "input": [],
     "language": "python",
     "metadata": {},
     "outputs": []
    }
   ],
   "metadata": {}
  }
 ]
}