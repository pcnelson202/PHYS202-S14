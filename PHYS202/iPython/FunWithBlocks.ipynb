{
 "metadata": {
  "name": "",
  "signature": "sha256:dcd571c4df294c54f9204ee886cfbab8c5c83146a6ed79d40c4f4fbb25109e57"
 },
 "nbformat": 3,
 "nbformat_minor": 0,
 "worksheets": [
  {
   "cells": [
    {
     "cell_type": "heading",
     "level": 1,
     "metadata": {},
     "source": [
      "Fun With Blocks"
     ]
    },
    {
     "cell_type": "code",
     "collapsed": false,
     "input": [
      "from ipythonblocks import BlockGrid"
     ],
     "language": "python",
     "metadata": {},
     "outputs": [],
     "prompt_number": 1
    },
    {
     "cell_type": "code",
     "collapsed": false,
     "input": [
      "grid = BlockGrid(8,8, fill=(123, 234, 123))\n",
      "grid"
     ],
     "language": "python",
     "metadata": {},
     "outputs": [
      {
       "html": [
        "<style type=\"text/css\">table.blockgrid {border: none;} .blockgrid tr {border: none;} .blockgrid td {padding: 0px;} #blocks6ffed940-0e83-4cd4-a64e-595db1b4360e td {border: 1px solid white;}</style><table id=\"blocks6ffed940-0e83-4cd4-a64e-595db1b4360e\" class=\"blockgrid\"><tbody><tr><td title=\"Index: [0, 0]&#10;Color: (123, 234, 123)\" style=\"width: 20px; height: 20px;background-color: rgb(123, 234, 123);\"></td><td title=\"Index: [0, 1]&#10;Color: (123, 234, 123)\" style=\"width: 20px; height: 20px;background-color: rgb(123, 234, 123);\"></td><td title=\"Index: [0, 2]&#10;Color: (123, 234, 123)\" style=\"width: 20px; height: 20px;background-color: rgb(123, 234, 123);\"></td><td title=\"Index: [0, 3]&#10;Color: (123, 234, 123)\" style=\"width: 20px; height: 20px;background-color: rgb(123, 234, 123);\"></td><td title=\"Index: [0, 4]&#10;Color: (123, 234, 123)\" style=\"width: 20px; height: 20px;background-color: rgb(123, 234, 123);\"></td><td title=\"Index: [0, 5]&#10;Color: (123, 234, 123)\" style=\"width: 20px; height: 20px;background-color: rgb(123, 234, 123);\"></td><td title=\"Index: [0, 6]&#10;Color: (123, 234, 123)\" style=\"width: 20px; height: 20px;background-color: rgb(123, 234, 123);\"></td><td title=\"Index: [0, 7]&#10;Color: (123, 234, 123)\" style=\"width: 20px; height: 20px;background-color: rgb(123, 234, 123);\"></td></tr><tr><td title=\"Index: [1, 0]&#10;Color: (123, 234, 123)\" style=\"width: 20px; height: 20px;background-color: rgb(123, 234, 123);\"></td><td title=\"Index: [1, 1]&#10;Color: (123, 234, 123)\" style=\"width: 20px; height: 20px;background-color: rgb(123, 234, 123);\"></td><td title=\"Index: [1, 2]&#10;Color: (123, 234, 123)\" style=\"width: 20px; height: 20px;background-color: rgb(123, 234, 123);\"></td><td title=\"Index: [1, 3]&#10;Color: (123, 234, 123)\" style=\"width: 20px; height: 20px;background-color: rgb(123, 234, 123);\"></td><td title=\"Index: [1, 4]&#10;Color: (123, 234, 123)\" style=\"width: 20px; height: 20px;background-color: rgb(123, 234, 123);\"></td><td title=\"Index: [1, 5]&#10;Color: (123, 234, 123)\" style=\"width: 20px; height: 20px;background-color: rgb(123, 234, 123);\"></td><td title=\"Index: [1, 6]&#10;Color: (123, 234, 123)\" style=\"width: 20px; height: 20px;background-color: rgb(123, 234, 123);\"></td><td title=\"Index: [1, 7]&#10;Color: (123, 234, 123)\" style=\"width: 20px; height: 20px;background-color: rgb(123, 234, 123);\"></td></tr><tr><td title=\"Index: [2, 0]&#10;Color: (123, 234, 123)\" style=\"width: 20px; height: 20px;background-color: rgb(123, 234, 123);\"></td><td title=\"Index: [2, 1]&#10;Color: (123, 234, 123)\" style=\"width: 20px; height: 20px;background-color: rgb(123, 234, 123);\"></td><td title=\"Index: [2, 2]&#10;Color: (123, 234, 123)\" style=\"width: 20px; height: 20px;background-color: rgb(123, 234, 123);\"></td><td title=\"Index: [2, 3]&#10;Color: (123, 234, 123)\" style=\"width: 20px; height: 20px;background-color: rgb(123, 234, 123);\"></td><td title=\"Index: [2, 4]&#10;Color: (123, 234, 123)\" style=\"width: 20px; height: 20px;background-color: rgb(123, 234, 123);\"></td><td title=\"Index: [2, 5]&#10;Color: (123, 234, 123)\" style=\"width: 20px; height: 20px;background-color: rgb(123, 234, 123);\"></td><td title=\"Index: [2, 6]&#10;Color: (123, 234, 123)\" style=\"width: 20px; height: 20px;background-color: rgb(123, 234, 123);\"></td><td title=\"Index: [2, 7]&#10;Color: (123, 234, 123)\" style=\"width: 20px; height: 20px;background-color: rgb(123, 234, 123);\"></td></tr><tr><td title=\"Index: [3, 0]&#10;Color: (123, 234, 123)\" style=\"width: 20px; height: 20px;background-color: rgb(123, 234, 123);\"></td><td title=\"Index: [3, 1]&#10;Color: (123, 234, 123)\" style=\"width: 20px; height: 20px;background-color: rgb(123, 234, 123);\"></td><td title=\"Index: [3, 2]&#10;Color: (123, 234, 123)\" style=\"width: 20px; height: 20px;background-color: rgb(123, 234, 123);\"></td><td title=\"Index: [3, 3]&#10;Color: (123, 234, 123)\" style=\"width: 20px; height: 20px;background-color: rgb(123, 234, 123);\"></td><td title=\"Index: [3, 4]&#10;Color: (123, 234, 123)\" style=\"width: 20px; height: 20px;background-color: rgb(123, 234, 123);\"></td><td title=\"Index: [3, 5]&#10;Color: (123, 234, 123)\" style=\"width: 20px; height: 20px;background-color: rgb(123, 234, 123);\"></td><td title=\"Index: [3, 6]&#10;Color: (123, 234, 123)\" style=\"width: 20px; height: 20px;background-color: rgb(123, 234, 123);\"></td><td title=\"Index: [3, 7]&#10;Color: (123, 234, 123)\" style=\"width: 20px; height: 20px;background-color: rgb(123, 234, 123);\"></td></tr><tr><td title=\"Index: [4, 0]&#10;Color: (123, 234, 123)\" style=\"width: 20px; height: 20px;background-color: rgb(123, 234, 123);\"></td><td title=\"Index: [4, 1]&#10;Color: (123, 234, 123)\" style=\"width: 20px; height: 20px;background-color: rgb(123, 234, 123);\"></td><td title=\"Index: [4, 2]&#10;Color: (123, 234, 123)\" style=\"width: 20px; height: 20px;background-color: rgb(123, 234, 123);\"></td><td title=\"Index: [4, 3]&#10;Color: (123, 234, 123)\" style=\"width: 20px; height: 20px;background-color: rgb(123, 234, 123);\"></td><td title=\"Index: [4, 4]&#10;Color: (123, 234, 123)\" style=\"width: 20px; height: 20px;background-color: rgb(123, 234, 123);\"></td><td title=\"Index: [4, 5]&#10;Color: (123, 234, 123)\" style=\"width: 20px; height: 20px;background-color: rgb(123, 234, 123);\"></td><td title=\"Index: [4, 6]&#10;Color: (123, 234, 123)\" style=\"width: 20px; height: 20px;background-color: rgb(123, 234, 123);\"></td><td title=\"Index: [4, 7]&#10;Color: (123, 234, 123)\" style=\"width: 20px; height: 20px;background-color: rgb(123, 234, 123);\"></td></tr><tr><td title=\"Index: [5, 0]&#10;Color: (123, 234, 123)\" style=\"width: 20px; height: 20px;background-color: rgb(123, 234, 123);\"></td><td title=\"Index: [5, 1]&#10;Color: (123, 234, 123)\" style=\"width: 20px; height: 20px;background-color: rgb(123, 234, 123);\"></td><td title=\"Index: [5, 2]&#10;Color: (123, 234, 123)\" style=\"width: 20px; height: 20px;background-color: rgb(123, 234, 123);\"></td><td title=\"Index: [5, 3]&#10;Color: (123, 234, 123)\" style=\"width: 20px; height: 20px;background-color: rgb(123, 234, 123);\"></td><td title=\"Index: [5, 4]&#10;Color: (123, 234, 123)\" style=\"width: 20px; height: 20px;background-color: rgb(123, 234, 123);\"></td><td title=\"Index: [5, 5]&#10;Color: (123, 234, 123)\" style=\"width: 20px; height: 20px;background-color: rgb(123, 234, 123);\"></td><td title=\"Index: [5, 6]&#10;Color: (123, 234, 123)\" style=\"width: 20px; height: 20px;background-color: rgb(123, 234, 123);\"></td><td title=\"Index: [5, 7]&#10;Color: (123, 234, 123)\" style=\"width: 20px; height: 20px;background-color: rgb(123, 234, 123);\"></td></tr><tr><td title=\"Index: [6, 0]&#10;Color: (123, 234, 123)\" style=\"width: 20px; height: 20px;background-color: rgb(123, 234, 123);\"></td><td title=\"Index: [6, 1]&#10;Color: (123, 234, 123)\" style=\"width: 20px; height: 20px;background-color: rgb(123, 234, 123);\"></td><td title=\"Index: [6, 2]&#10;Color: (123, 234, 123)\" style=\"width: 20px; height: 20px;background-color: rgb(123, 234, 123);\"></td><td title=\"Index: [6, 3]&#10;Color: (123, 234, 123)\" style=\"width: 20px; height: 20px;background-color: rgb(123, 234, 123);\"></td><td title=\"Index: [6, 4]&#10;Color: (123, 234, 123)\" style=\"width: 20px; height: 20px;background-color: rgb(123, 234, 123);\"></td><td title=\"Index: [6, 5]&#10;Color: (123, 234, 123)\" style=\"width: 20px; height: 20px;background-color: rgb(123, 234, 123);\"></td><td title=\"Index: [6, 6]&#10;Color: (123, 234, 123)\" style=\"width: 20px; height: 20px;background-color: rgb(123, 234, 123);\"></td><td title=\"Index: [6, 7]&#10;Color: (123, 234, 123)\" style=\"width: 20px; height: 20px;background-color: rgb(123, 234, 123);\"></td></tr><tr><td title=\"Index: [7, 0]&#10;Color: (123, 234, 123)\" style=\"width: 20px; height: 20px;background-color: rgb(123, 234, 123);\"></td><td title=\"Index: [7, 1]&#10;Color: (123, 234, 123)\" style=\"width: 20px; height: 20px;background-color: rgb(123, 234, 123);\"></td><td title=\"Index: [7, 2]&#10;Color: (123, 234, 123)\" style=\"width: 20px; height: 20px;background-color: rgb(123, 234, 123);\"></td><td title=\"Index: [7, 3]&#10;Color: (123, 234, 123)\" style=\"width: 20px; height: 20px;background-color: rgb(123, 234, 123);\"></td><td title=\"Index: [7, 4]&#10;Color: (123, 234, 123)\" style=\"width: 20px; height: 20px;background-color: rgb(123, 234, 123);\"></td><td title=\"Index: [7, 5]&#10;Color: (123, 234, 123)\" style=\"width: 20px; height: 20px;background-color: rgb(123, 234, 123);\"></td><td title=\"Index: [7, 6]&#10;Color: (123, 234, 123)\" style=\"width: 20px; height: 20px;background-color: rgb(123, 234, 123);\"></td><td title=\"Index: [7, 7]&#10;Color: (123, 234, 123)\" style=\"width: 20px; height: 20px;background-color: rgb(123, 234, 123);\"></td></tr></tbody></table>"
       ],
       "metadata": {},
       "output_type": "pyout",
       "prompt_number": 2,
       "text": [
        "<ipythonblocks.ipythonblocks.BlockGrid at 0x101e99c10>"
       ]
      }
     ],
     "prompt_number": 2
    },
    {
     "cell_type": "code",
     "collapsed": false,
     "input": [
      "grid[0,0]"
     ],
     "language": "python",
     "metadata": {},
     "outputs": [
      {
       "html": [
        "<style type=\"text/css\">table.blockgrid {border: none;} .blockgrid tr {border: none;} .blockgrid td {padding: 0px;} #blocks15559d2a-e715-47cc-ab7a-68d0591c4e50 td {border: 0px solid white;}</style><table id=\"blocks15559d2a-e715-47cc-ab7a-68d0591c4e50\" class=\"blockgrid\"><tbody><tr><td title=\"Index: [0, 0]&#10;Color: (123, 234, 123)\" style=\"width: 20px; height: 20px;background-color: rgb(123, 234, 123);\"></td></tr></tbody></table>"
       ],
       "metadata": {},
       "output_type": "pyout",
       "prompt_number": 3,
       "text": [
        "Block(123, 234, 123, size=20)"
       ]
      }
     ],
     "prompt_number": 3
    },
    {
     "cell_type": "code",
     "collapsed": false,
     "input": [
      "grid[0,0] = (0,0,0)\n",
      "grid[0,2] = (255,0,0)\n",
      "grid[0,4] = (255,255,255)\n",
      "grid[0,6] = (0, 150, 150)\n",
      "grid"
     ],
     "language": "python",
     "metadata": {},
     "outputs": [
      {
       "html": [
        "<style type=\"text/css\">table.blockgrid {border: none;} .blockgrid tr {border: none;} .blockgrid td {padding: 0px;} #blocks6322a3f0-75e8-4d42-a3ee-d6ee15f73c80 td {border: 1px solid white;}</style><table id=\"blocks6322a3f0-75e8-4d42-a3ee-d6ee15f73c80\" class=\"blockgrid\"><tbody><tr><td title=\"Index: [0, 0]&#10;Color: (0, 0, 0)\" style=\"width: 20px; height: 20px;background-color: rgb(0, 0, 0);\"></td><td title=\"Index: [0, 1]&#10;Color: (123, 234, 123)\" style=\"width: 20px; height: 20px;background-color: rgb(123, 234, 123);\"></td><td title=\"Index: [0, 2]&#10;Color: (255, 0, 0)\" style=\"width: 20px; height: 20px;background-color: rgb(255, 0, 0);\"></td><td title=\"Index: [0, 3]&#10;Color: (123, 234, 123)\" style=\"width: 20px; height: 20px;background-color: rgb(123, 234, 123);\"></td><td title=\"Index: [0, 4]&#10;Color: (255, 255, 255)\" style=\"width: 20px; height: 20px;background-color: rgb(255, 255, 255);\"></td><td title=\"Index: [0, 5]&#10;Color: (123, 234, 123)\" style=\"width: 20px; height: 20px;background-color: rgb(123, 234, 123);\"></td><td title=\"Index: [0, 6]&#10;Color: (0, 150, 150)\" style=\"width: 20px; height: 20px;background-color: rgb(0, 150, 150);\"></td><td title=\"Index: [0, 7]&#10;Color: (123, 234, 123)\" style=\"width: 20px; height: 20px;background-color: rgb(123, 234, 123);\"></td></tr><tr><td title=\"Index: [1, 0]&#10;Color: (123, 234, 123)\" style=\"width: 20px; height: 20px;background-color: rgb(123, 234, 123);\"></td><td title=\"Index: [1, 1]&#10;Color: (123, 234, 123)\" style=\"width: 20px; height: 20px;background-color: rgb(123, 234, 123);\"></td><td title=\"Index: [1, 2]&#10;Color: (123, 234, 123)\" style=\"width: 20px; height: 20px;background-color: rgb(123, 234, 123);\"></td><td title=\"Index: [1, 3]&#10;Color: (123, 234, 123)\" style=\"width: 20px; height: 20px;background-color: rgb(123, 234, 123);\"></td><td title=\"Index: [1, 4]&#10;Color: (123, 234, 123)\" style=\"width: 20px; height: 20px;background-color: rgb(123, 234, 123);\"></td><td title=\"Index: [1, 5]&#10;Color: (123, 234, 123)\" style=\"width: 20px; height: 20px;background-color: rgb(123, 234, 123);\"></td><td title=\"Index: [1, 6]&#10;Color: (123, 234, 123)\" style=\"width: 20px; height: 20px;background-color: rgb(123, 234, 123);\"></td><td title=\"Index: [1, 7]&#10;Color: (123, 234, 123)\" style=\"width: 20px; height: 20px;background-color: rgb(123, 234, 123);\"></td></tr><tr><td title=\"Index: [2, 0]&#10;Color: (123, 234, 123)\" style=\"width: 20px; height: 20px;background-color: rgb(123, 234, 123);\"></td><td title=\"Index: [2, 1]&#10;Color: (123, 234, 123)\" style=\"width: 20px; height: 20px;background-color: rgb(123, 234, 123);\"></td><td title=\"Index: [2, 2]&#10;Color: (123, 234, 123)\" style=\"width: 20px; height: 20px;background-color: rgb(123, 234, 123);\"></td><td title=\"Index: [2, 3]&#10;Color: (123, 234, 123)\" style=\"width: 20px; height: 20px;background-color: rgb(123, 234, 123);\"></td><td title=\"Index: [2, 4]&#10;Color: (123, 234, 123)\" style=\"width: 20px; height: 20px;background-color: rgb(123, 234, 123);\"></td><td title=\"Index: [2, 5]&#10;Color: (123, 234, 123)\" style=\"width: 20px; height: 20px;background-color: rgb(123, 234, 123);\"></td><td title=\"Index: [2, 6]&#10;Color: (123, 234, 123)\" style=\"width: 20px; height: 20px;background-color: rgb(123, 234, 123);\"></td><td title=\"Index: [2, 7]&#10;Color: (123, 234, 123)\" style=\"width: 20px; height: 20px;background-color: rgb(123, 234, 123);\"></td></tr><tr><td title=\"Index: [3, 0]&#10;Color: (123, 234, 123)\" style=\"width: 20px; height: 20px;background-color: rgb(123, 234, 123);\"></td><td title=\"Index: [3, 1]&#10;Color: (123, 234, 123)\" style=\"width: 20px; height: 20px;background-color: rgb(123, 234, 123);\"></td><td title=\"Index: [3, 2]&#10;Color: (123, 234, 123)\" style=\"width: 20px; height: 20px;background-color: rgb(123, 234, 123);\"></td><td title=\"Index: [3, 3]&#10;Color: (123, 234, 123)\" style=\"width: 20px; height: 20px;background-color: rgb(123, 234, 123);\"></td><td title=\"Index: [3, 4]&#10;Color: (123, 234, 123)\" style=\"width: 20px; height: 20px;background-color: rgb(123, 234, 123);\"></td><td title=\"Index: [3, 5]&#10;Color: (123, 234, 123)\" style=\"width: 20px; height: 20px;background-color: rgb(123, 234, 123);\"></td><td title=\"Index: [3, 6]&#10;Color: (123, 234, 123)\" style=\"width: 20px; height: 20px;background-color: rgb(123, 234, 123);\"></td><td title=\"Index: [3, 7]&#10;Color: (123, 234, 123)\" style=\"width: 20px; height: 20px;background-color: rgb(123, 234, 123);\"></td></tr><tr><td title=\"Index: [4, 0]&#10;Color: (123, 234, 123)\" style=\"width: 20px; height: 20px;background-color: rgb(123, 234, 123);\"></td><td title=\"Index: [4, 1]&#10;Color: (123, 234, 123)\" style=\"width: 20px; height: 20px;background-color: rgb(123, 234, 123);\"></td><td title=\"Index: [4, 2]&#10;Color: (123, 234, 123)\" style=\"width: 20px; height: 20px;background-color: rgb(123, 234, 123);\"></td><td title=\"Index: [4, 3]&#10;Color: (123, 234, 123)\" style=\"width: 20px; height: 20px;background-color: rgb(123, 234, 123);\"></td><td title=\"Index: [4, 4]&#10;Color: (123, 234, 123)\" style=\"width: 20px; height: 20px;background-color: rgb(123, 234, 123);\"></td><td title=\"Index: [4, 5]&#10;Color: (123, 234, 123)\" style=\"width: 20px; height: 20px;background-color: rgb(123, 234, 123);\"></td><td title=\"Index: [4, 6]&#10;Color: (123, 234, 123)\" style=\"width: 20px; height: 20px;background-color: rgb(123, 234, 123);\"></td><td title=\"Index: [4, 7]&#10;Color: (123, 234, 123)\" style=\"width: 20px; height: 20px;background-color: rgb(123, 234, 123);\"></td></tr><tr><td title=\"Index: [5, 0]&#10;Color: (123, 234, 123)\" style=\"width: 20px; height: 20px;background-color: rgb(123, 234, 123);\"></td><td title=\"Index: [5, 1]&#10;Color: (123, 234, 123)\" style=\"width: 20px; height: 20px;background-color: rgb(123, 234, 123);\"></td><td title=\"Index: [5, 2]&#10;Color: (123, 234, 123)\" style=\"width: 20px; height: 20px;background-color: rgb(123, 234, 123);\"></td><td title=\"Index: [5, 3]&#10;Color: (123, 234, 123)\" style=\"width: 20px; height: 20px;background-color: rgb(123, 234, 123);\"></td><td title=\"Index: [5, 4]&#10;Color: (123, 234, 123)\" style=\"width: 20px; height: 20px;background-color: rgb(123, 234, 123);\"></td><td title=\"Index: [5, 5]&#10;Color: (123, 234, 123)\" style=\"width: 20px; height: 20px;background-color: rgb(123, 234, 123);\"></td><td title=\"Index: [5, 6]&#10;Color: (123, 234, 123)\" style=\"width: 20px; height: 20px;background-color: rgb(123, 234, 123);\"></td><td title=\"Index: [5, 7]&#10;Color: (123, 234, 123)\" style=\"width: 20px; height: 20px;background-color: rgb(123, 234, 123);\"></td></tr><tr><td title=\"Index: [6, 0]&#10;Color: (123, 234, 123)\" style=\"width: 20px; height: 20px;background-color: rgb(123, 234, 123);\"></td><td title=\"Index: [6, 1]&#10;Color: (123, 234, 123)\" style=\"width: 20px; height: 20px;background-color: rgb(123, 234, 123);\"></td><td title=\"Index: [6, 2]&#10;Color: (123, 234, 123)\" style=\"width: 20px; height: 20px;background-color: rgb(123, 234, 123);\"></td><td title=\"Index: [6, 3]&#10;Color: (123, 234, 123)\" style=\"width: 20px; height: 20px;background-color: rgb(123, 234, 123);\"></td><td title=\"Index: [6, 4]&#10;Color: (123, 234, 123)\" style=\"width: 20px; height: 20px;background-color: rgb(123, 234, 123);\"></td><td title=\"Index: [6, 5]&#10;Color: (123, 234, 123)\" style=\"width: 20px; height: 20px;background-color: rgb(123, 234, 123);\"></td><td title=\"Index: [6, 6]&#10;Color: (123, 234, 123)\" style=\"width: 20px; height: 20px;background-color: rgb(123, 234, 123);\"></td><td title=\"Index: [6, 7]&#10;Color: (123, 234, 123)\" style=\"width: 20px; height: 20px;background-color: rgb(123, 234, 123);\"></td></tr><tr><td title=\"Index: [7, 0]&#10;Color: (123, 234, 123)\" style=\"width: 20px; height: 20px;background-color: rgb(123, 234, 123);\"></td><td title=\"Index: [7, 1]&#10;Color: (123, 234, 123)\" style=\"width: 20px; height: 20px;background-color: rgb(123, 234, 123);\"></td><td title=\"Index: [7, 2]&#10;Color: (123, 234, 123)\" style=\"width: 20px; height: 20px;background-color: rgb(123, 234, 123);\"></td><td title=\"Index: [7, 3]&#10;Color: (123, 234, 123)\" style=\"width: 20px; height: 20px;background-color: rgb(123, 234, 123);\"></td><td title=\"Index: [7, 4]&#10;Color: (123, 234, 123)\" style=\"width: 20px; height: 20px;background-color: rgb(123, 234, 123);\"></td><td title=\"Index: [7, 5]&#10;Color: (123, 234, 123)\" style=\"width: 20px; height: 20px;background-color: rgb(123, 234, 123);\"></td><td title=\"Index: [7, 6]&#10;Color: (123, 234, 123)\" style=\"width: 20px; height: 20px;background-color: rgb(123, 234, 123);\"></td><td title=\"Index: [7, 7]&#10;Color: (123, 234, 123)\" style=\"width: 20px; height: 20px;background-color: rgb(123, 234, 123);\"></td></tr></tbody></table>"
       ],
       "metadata": {},
       "output_type": "pyout",
       "prompt_number": 4,
       "text": [
        "<ipythonblocks.ipythonblocks.BlockGrid at 0x101e99c10>"
       ]
      }
     ],
     "prompt_number": 4
    },
    {
     "cell_type": "code",
     "collapsed": false,
     "input": [
      "for block in grid:\n",
      "    if (block.row + block.col) % 2 == 0:\n",
      "        block.red = 0\n",
      "        block.green = 0\n",
      "        block.blue = 255\n",
      "grid"
     ],
     "language": "python",
     "metadata": {},
     "outputs": [
      {
       "html": [
        "<style type=\"text/css\">table.blockgrid {border: none;} .blockgrid tr {border: none;} .blockgrid td {padding: 0px;} #blocksf8d82475-6343-49a6-b7dc-f8b67dd05e3c td {border: 1px solid white;}</style><table id=\"blocksf8d82475-6343-49a6-b7dc-f8b67dd05e3c\" class=\"blockgrid\"><tbody><tr><td title=\"Index: [0, 0]&#10;Color: (0, 0, 255)\" style=\"width: 20px; height: 20px;background-color: rgb(0, 0, 255);\"></td><td title=\"Index: [0, 1]&#10;Color: (123, 234, 123)\" style=\"width: 20px; height: 20px;background-color: rgb(123, 234, 123);\"></td><td title=\"Index: [0, 2]&#10;Color: (0, 0, 255)\" style=\"width: 20px; height: 20px;background-color: rgb(0, 0, 255);\"></td><td title=\"Index: [0, 3]&#10;Color: (123, 234, 123)\" style=\"width: 20px; height: 20px;background-color: rgb(123, 234, 123);\"></td><td title=\"Index: [0, 4]&#10;Color: (0, 0, 255)\" style=\"width: 20px; height: 20px;background-color: rgb(0, 0, 255);\"></td><td title=\"Index: [0, 5]&#10;Color: (123, 234, 123)\" style=\"width: 20px; height: 20px;background-color: rgb(123, 234, 123);\"></td><td title=\"Index: [0, 6]&#10;Color: (0, 0, 255)\" style=\"width: 20px; height: 20px;background-color: rgb(0, 0, 255);\"></td><td title=\"Index: [0, 7]&#10;Color: (123, 234, 123)\" style=\"width: 20px; height: 20px;background-color: rgb(123, 234, 123);\"></td></tr><tr><td title=\"Index: [1, 0]&#10;Color: (123, 234, 123)\" style=\"width: 20px; height: 20px;background-color: rgb(123, 234, 123);\"></td><td title=\"Index: [1, 1]&#10;Color: (0, 0, 255)\" style=\"width: 20px; height: 20px;background-color: rgb(0, 0, 255);\"></td><td title=\"Index: [1, 2]&#10;Color: (123, 234, 123)\" style=\"width: 20px; height: 20px;background-color: rgb(123, 234, 123);\"></td><td title=\"Index: [1, 3]&#10;Color: (0, 0, 255)\" style=\"width: 20px; height: 20px;background-color: rgb(0, 0, 255);\"></td><td title=\"Index: [1, 4]&#10;Color: (123, 234, 123)\" style=\"width: 20px; height: 20px;background-color: rgb(123, 234, 123);\"></td><td title=\"Index: [1, 5]&#10;Color: (0, 0, 255)\" style=\"width: 20px; height: 20px;background-color: rgb(0, 0, 255);\"></td><td title=\"Index: [1, 6]&#10;Color: (123, 234, 123)\" style=\"width: 20px; height: 20px;background-color: rgb(123, 234, 123);\"></td><td title=\"Index: [1, 7]&#10;Color: (0, 0, 255)\" style=\"width: 20px; height: 20px;background-color: rgb(0, 0, 255);\"></td></tr><tr><td title=\"Index: [2, 0]&#10;Color: (0, 0, 255)\" style=\"width: 20px; height: 20px;background-color: rgb(0, 0, 255);\"></td><td title=\"Index: [2, 1]&#10;Color: (123, 234, 123)\" style=\"width: 20px; height: 20px;background-color: rgb(123, 234, 123);\"></td><td title=\"Index: [2, 2]&#10;Color: (0, 0, 255)\" style=\"width: 20px; height: 20px;background-color: rgb(0, 0, 255);\"></td><td title=\"Index: [2, 3]&#10;Color: (123, 234, 123)\" style=\"width: 20px; height: 20px;background-color: rgb(123, 234, 123);\"></td><td title=\"Index: [2, 4]&#10;Color: (0, 0, 255)\" style=\"width: 20px; height: 20px;background-color: rgb(0, 0, 255);\"></td><td title=\"Index: [2, 5]&#10;Color: (123, 234, 123)\" style=\"width: 20px; height: 20px;background-color: rgb(123, 234, 123);\"></td><td title=\"Index: [2, 6]&#10;Color: (0, 0, 255)\" style=\"width: 20px; height: 20px;background-color: rgb(0, 0, 255);\"></td><td title=\"Index: [2, 7]&#10;Color: (123, 234, 123)\" style=\"width: 20px; height: 20px;background-color: rgb(123, 234, 123);\"></td></tr><tr><td title=\"Index: [3, 0]&#10;Color: (123, 234, 123)\" style=\"width: 20px; height: 20px;background-color: rgb(123, 234, 123);\"></td><td title=\"Index: [3, 1]&#10;Color: (0, 0, 255)\" style=\"width: 20px; height: 20px;background-color: rgb(0, 0, 255);\"></td><td title=\"Index: [3, 2]&#10;Color: (123, 234, 123)\" style=\"width: 20px; height: 20px;background-color: rgb(123, 234, 123);\"></td><td title=\"Index: [3, 3]&#10;Color: (0, 0, 255)\" style=\"width: 20px; height: 20px;background-color: rgb(0, 0, 255);\"></td><td title=\"Index: [3, 4]&#10;Color: (123, 234, 123)\" style=\"width: 20px; height: 20px;background-color: rgb(123, 234, 123);\"></td><td title=\"Index: [3, 5]&#10;Color: (0, 0, 255)\" style=\"width: 20px; height: 20px;background-color: rgb(0, 0, 255);\"></td><td title=\"Index: [3, 6]&#10;Color: (123, 234, 123)\" style=\"width: 20px; height: 20px;background-color: rgb(123, 234, 123);\"></td><td title=\"Index: [3, 7]&#10;Color: (0, 0, 255)\" style=\"width: 20px; height: 20px;background-color: rgb(0, 0, 255);\"></td></tr><tr><td title=\"Index: [4, 0]&#10;Color: (0, 0, 255)\" style=\"width: 20px; height: 20px;background-color: rgb(0, 0, 255);\"></td><td title=\"Index: [4, 1]&#10;Color: (123, 234, 123)\" style=\"width: 20px; height: 20px;background-color: rgb(123, 234, 123);\"></td><td title=\"Index: [4, 2]&#10;Color: (0, 0, 255)\" style=\"width: 20px; height: 20px;background-color: rgb(0, 0, 255);\"></td><td title=\"Index: [4, 3]&#10;Color: (123, 234, 123)\" style=\"width: 20px; height: 20px;background-color: rgb(123, 234, 123);\"></td><td title=\"Index: [4, 4]&#10;Color: (0, 0, 255)\" style=\"width: 20px; height: 20px;background-color: rgb(0, 0, 255);\"></td><td title=\"Index: [4, 5]&#10;Color: (123, 234, 123)\" style=\"width: 20px; height: 20px;background-color: rgb(123, 234, 123);\"></td><td title=\"Index: [4, 6]&#10;Color: (0, 0, 255)\" style=\"width: 20px; height: 20px;background-color: rgb(0, 0, 255);\"></td><td title=\"Index: [4, 7]&#10;Color: (123, 234, 123)\" style=\"width: 20px; height: 20px;background-color: rgb(123, 234, 123);\"></td></tr><tr><td title=\"Index: [5, 0]&#10;Color: (123, 234, 123)\" style=\"width: 20px; height: 20px;background-color: rgb(123, 234, 123);\"></td><td title=\"Index: [5, 1]&#10;Color: (0, 0, 255)\" style=\"width: 20px; height: 20px;background-color: rgb(0, 0, 255);\"></td><td title=\"Index: [5, 2]&#10;Color: (123, 234, 123)\" style=\"width: 20px; height: 20px;background-color: rgb(123, 234, 123);\"></td><td title=\"Index: [5, 3]&#10;Color: (0, 0, 255)\" style=\"width: 20px; height: 20px;background-color: rgb(0, 0, 255);\"></td><td title=\"Index: [5, 4]&#10;Color: (123, 234, 123)\" style=\"width: 20px; height: 20px;background-color: rgb(123, 234, 123);\"></td><td title=\"Index: [5, 5]&#10;Color: (0, 0, 255)\" style=\"width: 20px; height: 20px;background-color: rgb(0, 0, 255);\"></td><td title=\"Index: [5, 6]&#10;Color: (123, 234, 123)\" style=\"width: 20px; height: 20px;background-color: rgb(123, 234, 123);\"></td><td title=\"Index: [5, 7]&#10;Color: (0, 0, 255)\" style=\"width: 20px; height: 20px;background-color: rgb(0, 0, 255);\"></td></tr><tr><td title=\"Index: [6, 0]&#10;Color: (0, 0, 255)\" style=\"width: 20px; height: 20px;background-color: rgb(0, 0, 255);\"></td><td title=\"Index: [6, 1]&#10;Color: (123, 234, 123)\" style=\"width: 20px; height: 20px;background-color: rgb(123, 234, 123);\"></td><td title=\"Index: [6, 2]&#10;Color: (0, 0, 255)\" style=\"width: 20px; height: 20px;background-color: rgb(0, 0, 255);\"></td><td title=\"Index: [6, 3]&#10;Color: (123, 234, 123)\" style=\"width: 20px; height: 20px;background-color: rgb(123, 234, 123);\"></td><td title=\"Index: [6, 4]&#10;Color: (0, 0, 255)\" style=\"width: 20px; height: 20px;background-color: rgb(0, 0, 255);\"></td><td title=\"Index: [6, 5]&#10;Color: (123, 234, 123)\" style=\"width: 20px; height: 20px;background-color: rgb(123, 234, 123);\"></td><td title=\"Index: [6, 6]&#10;Color: (0, 0, 255)\" style=\"width: 20px; height: 20px;background-color: rgb(0, 0, 255);\"></td><td title=\"Index: [6, 7]&#10;Color: (123, 234, 123)\" style=\"width: 20px; height: 20px;background-color: rgb(123, 234, 123);\"></td></tr><tr><td title=\"Index: [7, 0]&#10;Color: (123, 234, 123)\" style=\"width: 20px; height: 20px;background-color: rgb(123, 234, 123);\"></td><td title=\"Index: [7, 1]&#10;Color: (0, 0, 255)\" style=\"width: 20px; height: 20px;background-color: rgb(0, 0, 255);\"></td><td title=\"Index: [7, 2]&#10;Color: (123, 234, 123)\" style=\"width: 20px; height: 20px;background-color: rgb(123, 234, 123);\"></td><td title=\"Index: [7, 3]&#10;Color: (0, 0, 255)\" style=\"width: 20px; height: 20px;background-color: rgb(0, 0, 255);\"></td><td title=\"Index: [7, 4]&#10;Color: (123, 234, 123)\" style=\"width: 20px; height: 20px;background-color: rgb(123, 234, 123);\"></td><td title=\"Index: [7, 5]&#10;Color: (0, 0, 255)\" style=\"width: 20px; height: 20px;background-color: rgb(0, 0, 255);\"></td><td title=\"Index: [7, 6]&#10;Color: (123, 234, 123)\" style=\"width: 20px; height: 20px;background-color: rgb(123, 234, 123);\"></td><td title=\"Index: [7, 7]&#10;Color: (0, 0, 255)\" style=\"width: 20px; height: 20px;background-color: rgb(0, 0, 255);\"></td></tr></tbody></table>"
       ],
       "metadata": {},
       "output_type": "pyout",
       "prompt_number": 5,
       "text": [
        "<ipythonblocks.ipythonblocks.BlockGrid at 0x101e99c10>"
       ]
      }
     ],
     "prompt_number": 5
    },
    {
     "cell_type": "code",
     "collapsed": false,
     "input": [
      "for row in range(grid.height):\n",
      "    for col in range(grid.width):\n",
      "        square = grid[row,col]\n",
      "        if row %2 == 0:\n",
      "            square.green = 15\n",
      "        else:\n",
      "            square.green = 255\n",
      "            \n",
      "        if col %2 == 0:\n",
      "            square.blue = 15\n",
      "        else:\n",
      "            square.blue = 255\n",
      "            \n",
      "grid.show()"
     ],
     "language": "python",
     "metadata": {},
     "outputs": [
      {
       "html": [
        "<style type=\"text/css\">table.blockgrid {border: none;} .blockgrid tr {border: none;} .blockgrid td {padding: 0px;} #blockseee4bc52-3330-44c4-adce-a1cee61b77ee td {border: 1px solid white;}</style><table id=\"blockseee4bc52-3330-44c4-adce-a1cee61b77ee\" class=\"blockgrid\"><tbody><tr><td title=\"Index: [0, 0]&#10;Color: (0, 15, 15)\" style=\"width: 20px; height: 20px;background-color: rgb(0, 15, 15);\"></td><td title=\"Index: [0, 1]&#10;Color: (123, 15, 255)\" style=\"width: 20px; height: 20px;background-color: rgb(123, 15, 255);\"></td><td title=\"Index: [0, 2]&#10;Color: (0, 15, 15)\" style=\"width: 20px; height: 20px;background-color: rgb(0, 15, 15);\"></td><td title=\"Index: [0, 3]&#10;Color: (123, 15, 255)\" style=\"width: 20px; height: 20px;background-color: rgb(123, 15, 255);\"></td><td title=\"Index: [0, 4]&#10;Color: (0, 15, 15)\" style=\"width: 20px; height: 20px;background-color: rgb(0, 15, 15);\"></td><td title=\"Index: [0, 5]&#10;Color: (123, 15, 255)\" style=\"width: 20px; height: 20px;background-color: rgb(123, 15, 255);\"></td><td title=\"Index: [0, 6]&#10;Color: (0, 15, 15)\" style=\"width: 20px; height: 20px;background-color: rgb(0, 15, 15);\"></td><td title=\"Index: [0, 7]&#10;Color: (123, 15, 255)\" style=\"width: 20px; height: 20px;background-color: rgb(123, 15, 255);\"></td></tr><tr><td title=\"Index: [1, 0]&#10;Color: (123, 255, 15)\" style=\"width: 20px; height: 20px;background-color: rgb(123, 255, 15);\"></td><td title=\"Index: [1, 1]&#10;Color: (0, 255, 255)\" style=\"width: 20px; height: 20px;background-color: rgb(0, 255, 255);\"></td><td title=\"Index: [1, 2]&#10;Color: (123, 255, 15)\" style=\"width: 20px; height: 20px;background-color: rgb(123, 255, 15);\"></td><td title=\"Index: [1, 3]&#10;Color: (0, 255, 255)\" style=\"width: 20px; height: 20px;background-color: rgb(0, 255, 255);\"></td><td title=\"Index: [1, 4]&#10;Color: (123, 255, 15)\" style=\"width: 20px; height: 20px;background-color: rgb(123, 255, 15);\"></td><td title=\"Index: [1, 5]&#10;Color: (0, 255, 255)\" style=\"width: 20px; height: 20px;background-color: rgb(0, 255, 255);\"></td><td title=\"Index: [1, 6]&#10;Color: (123, 255, 15)\" style=\"width: 20px; height: 20px;background-color: rgb(123, 255, 15);\"></td><td title=\"Index: [1, 7]&#10;Color: (0, 255, 255)\" style=\"width: 20px; height: 20px;background-color: rgb(0, 255, 255);\"></td></tr><tr><td title=\"Index: [2, 0]&#10;Color: (0, 15, 15)\" style=\"width: 20px; height: 20px;background-color: rgb(0, 15, 15);\"></td><td title=\"Index: [2, 1]&#10;Color: (123, 15, 255)\" style=\"width: 20px; height: 20px;background-color: rgb(123, 15, 255);\"></td><td title=\"Index: [2, 2]&#10;Color: (0, 15, 15)\" style=\"width: 20px; height: 20px;background-color: rgb(0, 15, 15);\"></td><td title=\"Index: [2, 3]&#10;Color: (123, 15, 255)\" style=\"width: 20px; height: 20px;background-color: rgb(123, 15, 255);\"></td><td title=\"Index: [2, 4]&#10;Color: (0, 15, 15)\" style=\"width: 20px; height: 20px;background-color: rgb(0, 15, 15);\"></td><td title=\"Index: [2, 5]&#10;Color: (123, 15, 255)\" style=\"width: 20px; height: 20px;background-color: rgb(123, 15, 255);\"></td><td title=\"Index: [2, 6]&#10;Color: (0, 15, 15)\" style=\"width: 20px; height: 20px;background-color: rgb(0, 15, 15);\"></td><td title=\"Index: [2, 7]&#10;Color: (123, 15, 255)\" style=\"width: 20px; height: 20px;background-color: rgb(123, 15, 255);\"></td></tr><tr><td title=\"Index: [3, 0]&#10;Color: (123, 255, 15)\" style=\"width: 20px; height: 20px;background-color: rgb(123, 255, 15);\"></td><td title=\"Index: [3, 1]&#10;Color: (0, 255, 255)\" style=\"width: 20px; height: 20px;background-color: rgb(0, 255, 255);\"></td><td title=\"Index: [3, 2]&#10;Color: (123, 255, 15)\" style=\"width: 20px; height: 20px;background-color: rgb(123, 255, 15);\"></td><td title=\"Index: [3, 3]&#10;Color: (0, 255, 255)\" style=\"width: 20px; height: 20px;background-color: rgb(0, 255, 255);\"></td><td title=\"Index: [3, 4]&#10;Color: (123, 255, 15)\" style=\"width: 20px; height: 20px;background-color: rgb(123, 255, 15);\"></td><td title=\"Index: [3, 5]&#10;Color: (0, 255, 255)\" style=\"width: 20px; height: 20px;background-color: rgb(0, 255, 255);\"></td><td title=\"Index: [3, 6]&#10;Color: (123, 255, 15)\" style=\"width: 20px; height: 20px;background-color: rgb(123, 255, 15);\"></td><td title=\"Index: [3, 7]&#10;Color: (0, 255, 255)\" style=\"width: 20px; height: 20px;background-color: rgb(0, 255, 255);\"></td></tr><tr><td title=\"Index: [4, 0]&#10;Color: (0, 15, 15)\" style=\"width: 20px; height: 20px;background-color: rgb(0, 15, 15);\"></td><td title=\"Index: [4, 1]&#10;Color: (123, 15, 255)\" style=\"width: 20px; height: 20px;background-color: rgb(123, 15, 255);\"></td><td title=\"Index: [4, 2]&#10;Color: (0, 15, 15)\" style=\"width: 20px; height: 20px;background-color: rgb(0, 15, 15);\"></td><td title=\"Index: [4, 3]&#10;Color: (123, 15, 255)\" style=\"width: 20px; height: 20px;background-color: rgb(123, 15, 255);\"></td><td title=\"Index: [4, 4]&#10;Color: (0, 15, 15)\" style=\"width: 20px; height: 20px;background-color: rgb(0, 15, 15);\"></td><td title=\"Index: [4, 5]&#10;Color: (123, 15, 255)\" style=\"width: 20px; height: 20px;background-color: rgb(123, 15, 255);\"></td><td title=\"Index: [4, 6]&#10;Color: (0, 15, 15)\" style=\"width: 20px; height: 20px;background-color: rgb(0, 15, 15);\"></td><td title=\"Index: [4, 7]&#10;Color: (123, 15, 255)\" style=\"width: 20px; height: 20px;background-color: rgb(123, 15, 255);\"></td></tr><tr><td title=\"Index: [5, 0]&#10;Color: (123, 255, 15)\" style=\"width: 20px; height: 20px;background-color: rgb(123, 255, 15);\"></td><td title=\"Index: [5, 1]&#10;Color: (0, 255, 255)\" style=\"width: 20px; height: 20px;background-color: rgb(0, 255, 255);\"></td><td title=\"Index: [5, 2]&#10;Color: (123, 255, 15)\" style=\"width: 20px; height: 20px;background-color: rgb(123, 255, 15);\"></td><td title=\"Index: [5, 3]&#10;Color: (0, 255, 255)\" style=\"width: 20px; height: 20px;background-color: rgb(0, 255, 255);\"></td><td title=\"Index: [5, 4]&#10;Color: (123, 255, 15)\" style=\"width: 20px; height: 20px;background-color: rgb(123, 255, 15);\"></td><td title=\"Index: [5, 5]&#10;Color: (0, 255, 255)\" style=\"width: 20px; height: 20px;background-color: rgb(0, 255, 255);\"></td><td title=\"Index: [5, 6]&#10;Color: (123, 255, 15)\" style=\"width: 20px; height: 20px;background-color: rgb(123, 255, 15);\"></td><td title=\"Index: [5, 7]&#10;Color: (0, 255, 255)\" style=\"width: 20px; height: 20px;background-color: rgb(0, 255, 255);\"></td></tr><tr><td title=\"Index: [6, 0]&#10;Color: (0, 15, 15)\" style=\"width: 20px; height: 20px;background-color: rgb(0, 15, 15);\"></td><td title=\"Index: [6, 1]&#10;Color: (123, 15, 255)\" style=\"width: 20px; height: 20px;background-color: rgb(123, 15, 255);\"></td><td title=\"Index: [6, 2]&#10;Color: (0, 15, 15)\" style=\"width: 20px; height: 20px;background-color: rgb(0, 15, 15);\"></td><td title=\"Index: [6, 3]&#10;Color: (123, 15, 255)\" style=\"width: 20px; height: 20px;background-color: rgb(123, 15, 255);\"></td><td title=\"Index: [6, 4]&#10;Color: (0, 15, 15)\" style=\"width: 20px; height: 20px;background-color: rgb(0, 15, 15);\"></td><td title=\"Index: [6, 5]&#10;Color: (123, 15, 255)\" style=\"width: 20px; height: 20px;background-color: rgb(123, 15, 255);\"></td><td title=\"Index: [6, 6]&#10;Color: (0, 15, 15)\" style=\"width: 20px; height: 20px;background-color: rgb(0, 15, 15);\"></td><td title=\"Index: [6, 7]&#10;Color: (123, 15, 255)\" style=\"width: 20px; height: 20px;background-color: rgb(123, 15, 255);\"></td></tr><tr><td title=\"Index: [7, 0]&#10;Color: (123, 255, 15)\" style=\"width: 20px; height: 20px;background-color: rgb(123, 255, 15);\"></td><td title=\"Index: [7, 1]&#10;Color: (0, 255, 255)\" style=\"width: 20px; height: 20px;background-color: rgb(0, 255, 255);\"></td><td title=\"Index: [7, 2]&#10;Color: (123, 255, 15)\" style=\"width: 20px; height: 20px;background-color: rgb(123, 255, 15);\"></td><td title=\"Index: [7, 3]&#10;Color: (0, 255, 255)\" style=\"width: 20px; height: 20px;background-color: rgb(0, 255, 255);\"></td><td title=\"Index: [7, 4]&#10;Color: (123, 255, 15)\" style=\"width: 20px; height: 20px;background-color: rgb(123, 255, 15);\"></td><td title=\"Index: [7, 5]&#10;Color: (0, 255, 255)\" style=\"width: 20px; height: 20px;background-color: rgb(0, 255, 255);\"></td><td title=\"Index: [7, 6]&#10;Color: (123, 255, 15)\" style=\"width: 20px; height: 20px;background-color: rgb(123, 255, 15);\"></td><td title=\"Index: [7, 7]&#10;Color: (0, 255, 255)\" style=\"width: 20px; height: 20px;background-color: rgb(0, 255, 255);\"></td></tr></tbody></table>"
       ],
       "metadata": {},
       "output_type": "display_data",
       "text": [
        "<IPython.core.display.HTML at 0x102189b10>"
       ]
      }
     ],
     "prompt_number": 6
    },
    {
     "cell_type": "code",
     "collapsed": false,
     "input": [
      "from ipythonblocks import colors\n",
      "colors"
     ],
     "language": "python",
     "metadata": {},
     "outputs": [
      {
       "metadata": {},
       "output_type": "pyout",
       "prompt_number": 23,
       "text": [
        "{'AliceBlue': (240, 248, 255),\n",
        " 'AntiqueWhite': (250, 235, 215),\n",
        " 'Aqua': (0, 255, 255),\n",
        " 'Aquamarine': (127, 255, 212),\n",
        " 'Azure': (240, 255, 255),\n",
        " 'Beige': (245, 245, 220),\n",
        " 'Bisque': (255, 228, 196),\n",
        " 'Black': (0, 0, 0),\n",
        " 'BlanchedAlmond': (255, 235, 205),\n",
        " 'Blue': (0, 0, 255),\n",
        " 'BlueViolet': (138, 43, 226),\n",
        " 'Brown': (165, 42, 42),\n",
        " 'BurlyWood': (222, 184, 135),\n",
        " 'CadetBlue': (95, 158, 160),\n",
        " 'Chartreuse': (127, 255, 0),\n",
        " 'Chocolate': (210, 105, 30),\n",
        " 'Coral': (255, 127, 80),\n",
        " 'CornflowerBlue': (100, 149, 237),\n",
        " 'Cornsilk': (255, 248, 220),\n",
        " 'Crimson': (220, 20, 60),\n",
        " 'Cyan': (0, 255, 255),\n",
        " 'DarkBlue': (0, 0, 139),\n",
        " 'DarkCyan': (0, 139, 139),\n",
        " 'DarkGoldenrod': (184, 134, 11),\n",
        " 'DarkGray': (169, 169, 169),\n",
        " 'DarkGreen': (0, 100, 0),\n",
        " 'DarkKhaki': (189, 183, 107),\n",
        " 'DarkMagenta': (139, 0, 139),\n",
        " 'DarkOliveGreen': (85, 107, 47),\n",
        " 'DarkOrange': (255, 140, 0),\n",
        " 'DarkOrchid': (153, 50, 204),\n",
        " 'DarkRed': (139, 0, 0),\n",
        " 'DarkSalmon': (233, 150, 122),\n",
        " 'DarkSeaGreen': (143, 188, 143),\n",
        " 'DarkSlateBlue': (72, 61, 139),\n",
        " 'DarkSlateGray': (47, 79, 79),\n",
        " 'DarkTurquoise': (0, 206, 209),\n",
        " 'DarkViolet': (148, 0, 211),\n",
        " 'DeepPink': (255, 20, 147),\n",
        " 'DeepSkyBlue': (0, 191, 255),\n",
        " 'DimGray': (105, 105, 105),\n",
        " 'DodgerBlue': (30, 144, 255),\n",
        " 'FireBrick': (178, 34, 34),\n",
        " 'FloralWhite': (255, 250, 240),\n",
        " 'ForestGreen': (34, 139, 34),\n",
        " 'Fuchsia': (255, 0, 255),\n",
        " 'Gainsboro': (220, 220, 220),\n",
        " 'GhostWhite': (248, 248, 255),\n",
        " 'Gold': (255, 215, 0),\n",
        " 'Goldenrod': (218, 165, 32),\n",
        " 'Gray': (128, 128, 128),\n",
        " 'Green': (0, 128, 0),\n",
        " 'GreenYellow': (173, 255, 47),\n",
        " 'Honeydew': (240, 255, 240),\n",
        " 'HotPink': (255, 105, 180),\n",
        " 'IndianRed': (205, 92, 92),\n",
        " 'Indigo': (75, 0, 130),\n",
        " 'Ivory': (255, 255, 240),\n",
        " 'Khaki': (240, 230, 140),\n",
        " 'Lavender': (230, 230, 250),\n",
        " 'LavenderBlush': (255, 240, 245),\n",
        " 'LawnGreen': (124, 252, 0),\n",
        " 'LemonChiffon': (255, 250, 205),\n",
        " 'LightBlue': (173, 216, 230),\n",
        " 'LightCoral': (240, 128, 128),\n",
        " 'LightCyan': (224, 255, 255),\n",
        " 'LightGoldenrodYellow': (250, 250, 210),\n",
        " 'LightGray': (211, 211, 211),\n",
        " 'LightGreen': (144, 238, 144),\n",
        " 'LightPink': (255, 182, 193),\n",
        " 'LightSalmon': (255, 160, 122),\n",
        " 'LightSeaGreen': (32, 178, 170),\n",
        " 'LightSkyBlue': (135, 206, 250),\n",
        " 'LightSlateGray': (119, 136, 153),\n",
        " 'LightSteelBlue': (176, 196, 222),\n",
        " 'LightYellow': (255, 255, 224),\n",
        " 'Lime': (0, 255, 0),\n",
        " 'LimeGreen': (50, 205, 50),\n",
        " 'Linen': (250, 240, 230),\n",
        " 'Magenta': (255, 0, 255),\n",
        " 'Maroon': (128, 0, 0),\n",
        " 'MediumAquamarine': (102, 205, 170),\n",
        " 'MediumBlue': (0, 0, 205),\n",
        " 'MediumOrchid': (186, 85, 211),\n",
        " 'MediumPurple': (147, 112, 219),\n",
        " 'MediumSeaGreen': (60, 179, 113),\n",
        " 'MediumSlateBlue': (123, 104, 238),\n",
        " 'MediumSpringGreen': (0, 250, 154),\n",
        " 'MediumTurquoise': (72, 209, 204),\n",
        " 'MediumVioletRed': (199, 21, 133),\n",
        " 'MidnightBlue': (25, 25, 112),\n",
        " 'MintCream': (245, 255, 250),\n",
        " 'MistyRose': (255, 228, 225),\n",
        " 'Moccasin': (255, 228, 181),\n",
        " 'NavajoWhite': (255, 222, 173),\n",
        " 'Navy': (0, 0, 128),\n",
        " 'OldLace': (253, 245, 230),\n",
        " 'Olive': (128, 128, 0),\n",
        " 'OliveDrab': (107, 142, 35),\n",
        " 'Orange': (255, 165, 0),\n",
        " 'OrangeRed': (255, 69, 0),\n",
        " 'Orchid': (218, 112, 214),\n",
        " 'PaleGoldenrod': (238, 232, 170),\n",
        " 'PaleGreen': (152, 251, 152),\n",
        " 'PaleTurquoise': (175, 238, 238),\n",
        " 'PaleVioletRed': (219, 112, 147),\n",
        " 'PapayaWhip': (255, 239, 213),\n",
        " 'PeachPuff': (255, 218, 185),\n",
        " 'Peru': (205, 133, 63),\n",
        " 'Pink': (255, 192, 203),\n",
        " 'Plum': (221, 160, 221),\n",
        " 'PowderBlue': (176, 224, 230),\n",
        " 'Purple': (128, 0, 128),\n",
        " 'Red': (255, 0, 0),\n",
        " 'RosyBrown': (188, 143, 143),\n",
        " 'RoyalBlue': (65, 105, 225),\n",
        " 'SaddleBrown': (139, 69, 19),\n",
        " 'Salmon': (250, 128, 114),\n",
        " 'SandyBrown': (244, 164, 96),\n",
        " 'SeaGreen': (46, 139, 87),\n",
        " 'Seashell': (255, 245, 238),\n",
        " 'Sienna': (160, 82, 45),\n",
        " 'Silver': (192, 192, 192),\n",
        " 'SkyBlue': (135, 206, 235),\n",
        " 'SlateBlue': (106, 90, 205),\n",
        " 'SlateGray': (112, 128, 144),\n",
        " 'Snow': (255, 250, 250),\n",
        " 'SpringGreen': (0, 255, 127),\n",
        " 'SteelBlue': (70, 130, 180),\n",
        " 'Tan': (210, 180, 140),\n",
        " 'Teal': (0, 128, 128),\n",
        " 'Thistle': (216, 191, 216),\n",
        " 'Tomato': (255, 99, 71),\n",
        " 'Turquoise': (64, 224, 208),\n",
        " 'Violet': (238, 130, 238),\n",
        " 'Wheat': (245, 222, 179),\n",
        " 'White': (255, 255, 255),\n",
        " 'WhiteSmoke': (245, 245, 245),\n",
        " 'Yellow': (255, 255, 0),\n",
        " 'YellowGreen': (154, 205, 50)}"
       ]
      }
     ],
     "prompt_number": 23
    },
    {
     "cell_type": "code",
     "collapsed": false,
     "input": [
      "grid[1,3] = colors['Honeydew']\n",
      "grid"
     ],
     "language": "python",
     "metadata": {},
     "outputs": [
      {
       "html": [
        "<style type=\"text/css\">table.blockgrid {border: none;} .blockgrid tr {border: none;} .blockgrid td {padding: 0px;} #blocksd9cf72c1-3112-4f8c-bff0-0cf1b1626c6d td {border: 1px solid white;}</style><table id=\"blocksd9cf72c1-3112-4f8c-bff0-0cf1b1626c6d\" class=\"blockgrid\"><tbody><tr><td title=\"Index: [0, 0]&#10;Color: (0, 15, 15)\" style=\"width: 20px; height: 20px;background-color: rgb(0, 15, 15);\"></td><td title=\"Index: [0, 1]&#10;Color: (123, 15, 255)\" style=\"width: 20px; height: 20px;background-color: rgb(123, 15, 255);\"></td><td title=\"Index: [0, 2]&#10;Color: (0, 15, 15)\" style=\"width: 20px; height: 20px;background-color: rgb(0, 15, 15);\"></td><td title=\"Index: [0, 3]&#10;Color: (123, 15, 255)\" style=\"width: 20px; height: 20px;background-color: rgb(123, 15, 255);\"></td><td title=\"Index: [0, 4]&#10;Color: (0, 15, 15)\" style=\"width: 20px; height: 20px;background-color: rgb(0, 15, 15);\"></td><td title=\"Index: [0, 5]&#10;Color: (123, 15, 255)\" style=\"width: 20px; height: 20px;background-color: rgb(123, 15, 255);\"></td><td title=\"Index: [0, 6]&#10;Color: (0, 15, 15)\" style=\"width: 20px; height: 20px;background-color: rgb(0, 15, 15);\"></td><td title=\"Index: [0, 7]&#10;Color: (123, 15, 255)\" style=\"width: 20px; height: 20px;background-color: rgb(123, 15, 255);\"></td></tr><tr><td title=\"Index: [1, 0]&#10;Color: (123, 255, 15)\" style=\"width: 20px; height: 20px;background-color: rgb(123, 255, 15);\"></td><td title=\"Index: [1, 1]&#10;Color: (0, 255, 255)\" style=\"width: 20px; height: 20px;background-color: rgb(0, 255, 255);\"></td><td title=\"Index: [1, 2]&#10;Color: (123, 255, 15)\" style=\"width: 20px; height: 20px;background-color: rgb(123, 255, 15);\"></td><td title=\"Index: [1, 3]&#10;Color: (240, 255, 240)\" style=\"width: 20px; height: 20px;background-color: rgb(240, 255, 240);\"></td><td title=\"Index: [1, 4]&#10;Color: (123, 255, 15)\" style=\"width: 20px; height: 20px;background-color: rgb(123, 255, 15);\"></td><td title=\"Index: [1, 5]&#10;Color: (0, 255, 255)\" style=\"width: 20px; height: 20px;background-color: rgb(0, 255, 255);\"></td><td title=\"Index: [1, 6]&#10;Color: (123, 255, 15)\" style=\"width: 20px; height: 20px;background-color: rgb(123, 255, 15);\"></td><td title=\"Index: [1, 7]&#10;Color: (0, 255, 255)\" style=\"width: 20px; height: 20px;background-color: rgb(0, 255, 255);\"></td></tr><tr><td title=\"Index: [2, 0]&#10;Color: (0, 15, 15)\" style=\"width: 20px; height: 20px;background-color: rgb(0, 15, 15);\"></td><td title=\"Index: [2, 1]&#10;Color: (123, 15, 255)\" style=\"width: 20px; height: 20px;background-color: rgb(123, 15, 255);\"></td><td title=\"Index: [2, 2]&#10;Color: (0, 15, 15)\" style=\"width: 20px; height: 20px;background-color: rgb(0, 15, 15);\"></td><td title=\"Index: [2, 3]&#10;Color: (123, 15, 255)\" style=\"width: 20px; height: 20px;background-color: rgb(123, 15, 255);\"></td><td title=\"Index: [2, 4]&#10;Color: (0, 15, 15)\" style=\"width: 20px; height: 20px;background-color: rgb(0, 15, 15);\"></td><td title=\"Index: [2, 5]&#10;Color: (123, 15, 255)\" style=\"width: 20px; height: 20px;background-color: rgb(123, 15, 255);\"></td><td title=\"Index: [2, 6]&#10;Color: (0, 15, 15)\" style=\"width: 20px; height: 20px;background-color: rgb(0, 15, 15);\"></td><td title=\"Index: [2, 7]&#10;Color: (123, 15, 255)\" style=\"width: 20px; height: 20px;background-color: rgb(123, 15, 255);\"></td></tr><tr><td title=\"Index: [3, 0]&#10;Color: (123, 255, 15)\" style=\"width: 20px; height: 20px;background-color: rgb(123, 255, 15);\"></td><td title=\"Index: [3, 1]&#10;Color: (0, 255, 255)\" style=\"width: 20px; height: 20px;background-color: rgb(0, 255, 255);\"></td><td title=\"Index: [3, 2]&#10;Color: (123, 255, 15)\" style=\"width: 20px; height: 20px;background-color: rgb(123, 255, 15);\"></td><td title=\"Index: [3, 3]&#10;Color: (0, 255, 255)\" style=\"width: 20px; height: 20px;background-color: rgb(0, 255, 255);\"></td><td title=\"Index: [3, 4]&#10;Color: (123, 255, 15)\" style=\"width: 20px; height: 20px;background-color: rgb(123, 255, 15);\"></td><td title=\"Index: [3, 5]&#10;Color: (0, 255, 255)\" style=\"width: 20px; height: 20px;background-color: rgb(0, 255, 255);\"></td><td title=\"Index: [3, 6]&#10;Color: (123, 255, 15)\" style=\"width: 20px; height: 20px;background-color: rgb(123, 255, 15);\"></td><td title=\"Index: [3, 7]&#10;Color: (0, 255, 255)\" style=\"width: 20px; height: 20px;background-color: rgb(0, 255, 255);\"></td></tr><tr><td title=\"Index: [4, 0]&#10;Color: (0, 15, 15)\" style=\"width: 20px; height: 20px;background-color: rgb(0, 15, 15);\"></td><td title=\"Index: [4, 1]&#10;Color: (123, 15, 255)\" style=\"width: 20px; height: 20px;background-color: rgb(123, 15, 255);\"></td><td title=\"Index: [4, 2]&#10;Color: (0, 15, 15)\" style=\"width: 20px; height: 20px;background-color: rgb(0, 15, 15);\"></td><td title=\"Index: [4, 3]&#10;Color: (123, 15, 255)\" style=\"width: 20px; height: 20px;background-color: rgb(123, 15, 255);\"></td><td title=\"Index: [4, 4]&#10;Color: (0, 15, 15)\" style=\"width: 20px; height: 20px;background-color: rgb(0, 15, 15);\"></td><td title=\"Index: [4, 5]&#10;Color: (123, 15, 255)\" style=\"width: 20px; height: 20px;background-color: rgb(123, 15, 255);\"></td><td title=\"Index: [4, 6]&#10;Color: (0, 15, 15)\" style=\"width: 20px; height: 20px;background-color: rgb(0, 15, 15);\"></td><td title=\"Index: [4, 7]&#10;Color: (123, 15, 255)\" style=\"width: 20px; height: 20px;background-color: rgb(123, 15, 255);\"></td></tr><tr><td title=\"Index: [5, 0]&#10;Color: (123, 255, 15)\" style=\"width: 20px; height: 20px;background-color: rgb(123, 255, 15);\"></td><td title=\"Index: [5, 1]&#10;Color: (0, 255, 255)\" style=\"width: 20px; height: 20px;background-color: rgb(0, 255, 255);\"></td><td title=\"Index: [5, 2]&#10;Color: (123, 255, 15)\" style=\"width: 20px; height: 20px;background-color: rgb(123, 255, 15);\"></td><td title=\"Index: [5, 3]&#10;Color: (0, 255, 255)\" style=\"width: 20px; height: 20px;background-color: rgb(0, 255, 255);\"></td><td title=\"Index: [5, 4]&#10;Color: (123, 255, 15)\" style=\"width: 20px; height: 20px;background-color: rgb(123, 255, 15);\"></td><td title=\"Index: [5, 5]&#10;Color: (0, 255, 255)\" style=\"width: 20px; height: 20px;background-color: rgb(0, 255, 255);\"></td><td title=\"Index: [5, 6]&#10;Color: (123, 255, 15)\" style=\"width: 20px; height: 20px;background-color: rgb(123, 255, 15);\"></td><td title=\"Index: [5, 7]&#10;Color: (0, 255, 255)\" style=\"width: 20px; height: 20px;background-color: rgb(0, 255, 255);\"></td></tr><tr><td title=\"Index: [6, 0]&#10;Color: (0, 15, 15)\" style=\"width: 20px; height: 20px;background-color: rgb(0, 15, 15);\"></td><td title=\"Index: [6, 1]&#10;Color: (123, 15, 255)\" style=\"width: 20px; height: 20px;background-color: rgb(123, 15, 255);\"></td><td title=\"Index: [6, 2]&#10;Color: (0, 15, 15)\" style=\"width: 20px; height: 20px;background-color: rgb(0, 15, 15);\"></td><td title=\"Index: [6, 3]&#10;Color: (123, 15, 255)\" style=\"width: 20px; height: 20px;background-color: rgb(123, 15, 255);\"></td><td title=\"Index: [6, 4]&#10;Color: (0, 15, 15)\" style=\"width: 20px; height: 20px;background-color: rgb(0, 15, 15);\"></td><td title=\"Index: [6, 5]&#10;Color: (123, 15, 255)\" style=\"width: 20px; height: 20px;background-color: rgb(123, 15, 255);\"></td><td title=\"Index: [6, 6]&#10;Color: (0, 15, 15)\" style=\"width: 20px; height: 20px;background-color: rgb(0, 15, 15);\"></td><td title=\"Index: [6, 7]&#10;Color: (123, 15, 255)\" style=\"width: 20px; height: 20px;background-color: rgb(123, 15, 255);\"></td></tr><tr><td title=\"Index: [7, 0]&#10;Color: (123, 255, 15)\" style=\"width: 20px; height: 20px;background-color: rgb(123, 255, 15);\"></td><td title=\"Index: [7, 1]&#10;Color: (0, 255, 255)\" style=\"width: 20px; height: 20px;background-color: rgb(0, 255, 255);\"></td><td title=\"Index: [7, 2]&#10;Color: (123, 255, 15)\" style=\"width: 20px; height: 20px;background-color: rgb(123, 255, 15);\"></td><td title=\"Index: [7, 3]&#10;Color: (0, 255, 255)\" style=\"width: 20px; height: 20px;background-color: rgb(0, 255, 255);\"></td><td title=\"Index: [7, 4]&#10;Color: (123, 255, 15)\" style=\"width: 20px; height: 20px;background-color: rgb(123, 255, 15);\"></td><td title=\"Index: [7, 5]&#10;Color: (0, 255, 255)\" style=\"width: 20px; height: 20px;background-color: rgb(0, 255, 255);\"></td><td title=\"Index: [7, 6]&#10;Color: (123, 255, 15)\" style=\"width: 20px; height: 20px;background-color: rgb(123, 255, 15);\"></td><td title=\"Index: [7, 7]&#10;Color: (0, 255, 255)\" style=\"width: 20px; height: 20px;background-color: rgb(0, 255, 255);\"></td></tr></tbody></table>"
       ],
       "metadata": {},
       "output_type": "pyout",
       "prompt_number": 25,
       "text": [
        "<ipythonblocks.ipythonblocks.BlockGrid at 0x102714350>"
       ]
      }
     ],
     "prompt_number": 25
    },
    {
     "cell_type": "code",
     "collapsed": false,
     "input": [
      "subgrid = grid[:,3]\n",
      "subgrid"
     ],
     "language": "python",
     "metadata": {},
     "outputs": [
      {
       "html": [
        "<style type=\"text/css\">table.blockgrid {border: none;} .blockgrid tr {border: none;} .blockgrid td {padding: 0px;} #blocks3fb46083-d3f3-4468-bd89-4ab7034d86cd td {border: 1px solid white;}</style><table id=\"blocks3fb46083-d3f3-4468-bd89-4ab7034d86cd\" class=\"blockgrid\"><tbody><tr><td title=\"Index: [0, 0]&#10;Color: (123, 15, 255)\" style=\"width: 20px; height: 20px;background-color: rgb(123, 15, 255);\"></td></tr><tr><td title=\"Index: [1, 0]&#10;Color: (240, 255, 240)\" style=\"width: 20px; height: 20px;background-color: rgb(240, 255, 240);\"></td></tr><tr><td title=\"Index: [2, 0]&#10;Color: (123, 15, 255)\" style=\"width: 20px; height: 20px;background-color: rgb(123, 15, 255);\"></td></tr><tr><td title=\"Index: [3, 0]&#10;Color: (0, 255, 255)\" style=\"width: 20px; height: 20px;background-color: rgb(0, 255, 255);\"></td></tr><tr><td title=\"Index: [4, 0]&#10;Color: (123, 15, 255)\" style=\"width: 20px; height: 20px;background-color: rgb(123, 15, 255);\"></td></tr><tr><td title=\"Index: [5, 0]&#10;Color: (0, 255, 255)\" style=\"width: 20px; height: 20px;background-color: rgb(0, 255, 255);\"></td></tr><tr><td title=\"Index: [6, 0]&#10;Color: (123, 15, 255)\" style=\"width: 20px; height: 20px;background-color: rgb(123, 15, 255);\"></td></tr><tr><td title=\"Index: [7, 0]&#10;Color: (0, 255, 255)\" style=\"width: 20px; height: 20px;background-color: rgb(0, 255, 255);\"></td></tr></tbody></table>"
       ],
       "metadata": {},
       "output_type": "pyout",
       "prompt_number": 26,
       "text": [
        "<ipythonblocks.ipythonblocks.BlockGrid at 0x1027143d0>"
       ]
      }
     ],
     "prompt_number": 26
    },
    {
     "cell_type": "code",
     "collapsed": false,
     "input": [
      "subgrid2 = grid[2:4,5:7]\n",
      "subgrid2"
     ],
     "language": "python",
     "metadata": {},
     "outputs": [
      {
       "html": [
        "<style type=\"text/css\">table.blockgrid {border: none;} .blockgrid tr {border: none;} .blockgrid td {padding: 0px;} #blocks528b4dd6-cdc6-4d2d-ac01-0c34bcd52926 td {border: 1px solid white;}</style><table id=\"blocks528b4dd6-cdc6-4d2d-ac01-0c34bcd52926\" class=\"blockgrid\"><tbody><tr><td title=\"Index: [0, 0]&#10;Color: (123, 15, 255)\" style=\"width: 20px; height: 20px;background-color: rgb(123, 15, 255);\"></td><td title=\"Index: [0, 1]&#10;Color: (0, 15, 15)\" style=\"width: 20px; height: 20px;background-color: rgb(0, 15, 15);\"></td></tr><tr><td title=\"Index: [1, 0]&#10;Color: (0, 255, 255)\" style=\"width: 20px; height: 20px;background-color: rgb(0, 255, 255);\"></td><td title=\"Index: [1, 1]&#10;Color: (123, 255, 15)\" style=\"width: 20px; height: 20px;background-color: rgb(123, 255, 15);\"></td></tr></tbody></table>"
       ],
       "metadata": {},
       "output_type": "pyout",
       "prompt_number": 27,
       "text": [
        "<ipythonblocks.ipythonblocks.BlockGrid at 0x1027142d0>"
       ]
      }
     ],
     "prompt_number": 27
    },
    {
     "cell_type": "heading",
     "level": 1,
     "metadata": {},
     "source": []
    },
    {
     "cell_type": "code",
     "collapsed": false,
     "input": [],
     "language": "python",
     "metadata": {},
     "outputs": [],
     "prompt_number": 2
    },
    {
     "cell_type": "code",
     "collapsed": false,
     "input": [],
     "language": "python",
     "metadata": {},
     "outputs": []
    }
   ],
   "metadata": {}
  }
 ]
}