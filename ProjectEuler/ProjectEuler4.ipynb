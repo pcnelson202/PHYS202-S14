{
 "metadata": {
  "name": "",
  "signature": "sha256:942680767e7c0e85c2ceee639643b78eb1debbfb95ab2e3e12b0fe313d081b95"
 },
 "nbformat": 3,
 "nbformat_minor": 0,
 "worksheets": [
  {
   "cells": [
    {
     "cell_type": "heading",
     "level": 1,
     "metadata": {},
     "source": [
      "Largest Palindrome Product"
     ]
    },
    {
     "cell_type": "markdown",
     "metadata": {},
     "source": [
      "A palindromic number reads the same both ways. The largest palindrome made from the product of two 2-digit numbers is 9009 = 91 \u00d7 99.\n",
      "\n",
      "Find the largest palindrome made from the product of two 3-digit numbers."
     ]
    },
    {
     "cell_type": "heading",
     "level": 3,
     "metadata": {},
     "source": [
      "Solution Code"
     ]
    },
    {
     "cell_type": "code",
     "collapsed": false,
     "input": [
      "def PalindromeCheck(n): \n",
      "    return str(n) == str(n)[::-1] #Returns true if forward and backward are identical\n",
      "\n",
      "def LargestPalindromeProduct(n):\n",
      "    largestpalindrome = 1\n",
      "    for x in range(n,1,-1):\n",
      "        if x*n < largestpalindrome:\n",
      "            break\n",
      "        for y in range(n,1,-1):\n",
      "            if x*y < largestpalindrome:\n",
      "                break\n",
      "            if PalindromeCheck(x*y):\n",
      "                largestpalindrome = x*y\n",
      "    return largestpalindrome\n"
     ],
     "language": "python",
     "metadata": {},
     "outputs": [],
     "prompt_number": 1
    },
    {
     "cell_type": "heading",
     "level": 3,
     "metadata": {},
     "source": [
      "Test Case"
     ]
    },
    {
     "cell_type": "markdown",
     "metadata": {},
     "source": [
      "As shown above, the largest palindrome of any two digit numbers is 9009. Time to double check that our function works correctly."
     ]
    },
    {
     "cell_type": "code",
     "collapsed": false,
     "input": [
      "LargestPalindromeProduct(99)"
     ],
     "language": "python",
     "metadata": {},
     "outputs": [
      {
       "metadata": {},
       "output_type": "pyout",
       "prompt_number": 2,
       "text": [
        "9009"
       ]
      }
     ],
     "prompt_number": 2
    },
    {
     "cell_type": "heading",
     "level": 3,
     "metadata": {},
     "source": [
      "Solution"
     ]
    },
    {
     "cell_type": "code",
     "collapsed": false,
     "input": [
      "LargestPalindromeProduct(999)"
     ],
     "language": "python",
     "metadata": {},
     "outputs": [
      {
       "metadata": {},
       "output_type": "pyout",
       "prompt_number": 3,
       "text": [
        "906609"
       ]
      }
     ],
     "prompt_number": 3
    }
   ],
   "metadata": {}
  }
 ]
}