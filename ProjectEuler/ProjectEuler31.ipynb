{
 "metadata": {
  "name": "",
  "signature": "sha256:1c2ef1fbcfa409cfc72b3e0eb1813585e7fbb72924d1f7d8b308bf209c60611e"
 },
 "nbformat": 3,
 "nbformat_minor": 0,
 "worksheets": [
  {
   "cells": [
    {
     "cell_type": "heading",
     "level": 1,
     "metadata": {},
     "source": [
      "Coin Sums"
     ]
    },
    {
     "cell_type": "markdown",
     "metadata": {},
     "source": [
      "In England the currency is made up of pound, L, and pence, p, and there are eight coins in general circulation:\n",
      "\n",
      "    1p, 2p, 5p, 10p, 20p, 50p, L1(100p) and L2(200p).\n",
      "\n",
      "It is possible to make L2 in the following way:\n",
      "\n",
      "    1xL1 + 1x50p + 2x20p + 1x5p + 1x2p + 3x1p\n",
      "    \n",
      "How many different ways can L2 be made using any number of coins?"
     ]
    },
    {
     "cell_type": "heading",
     "level": 3,
     "metadata": {},
     "source": [
      "Solution Code"
     ]
    },
    {
     "cell_type": "markdown",
     "metadata": {},
     "source": [
      "The easiest way to complete this task would be to try everything. That would take many for loops nested in each other, and most likely take the computer a long time to compute. This method is much quicker, and relies on doing a large amount of addition within an array.\n",
      "\n",
      "To start, we'll need an array with all 0's. It's width is the number of coins we are using, and it's height is the (amount of pence + 1), where the amount of pence is the amount we're trying to create in as many ways as possible. The first column is the amount of ways we can create the row number (amount of pence) with just 1p. This is 1 for all x values since we only have 1 coin to use, and the coin is the size of our row increments.\n",
      "\n",
      "The program moves down the rows in order. In each row, it moves through the column from left to right.\n",
      "When looking at each entry, there are two possibilities:\n",
      "\n",
      "* If the amount we are trying to make is smaller than the coin we are observing, there must be no new ways of creating the amount, so we can use the number of ways given by the preceding array element of the same row.\n",
      "\n",
      "* If the amount we are trying to make is larger than the coin we are observing, there may be new ways of creating the amount. First, we know it must at least be the same amount of ways as we could make the amount without this new coin, so we'll add that number to 0. Then, we shall add the number of ways you could make the amount equal to the row number - the coin value for this same column.\n",
      "\n",
      "For example, for making 22 pence with 1p, 2p, 5p, and 10p, the program would go through the following.\n",
      "Since 22 > 10, the value of array[22,4] should be the same as the value from array[22,3] plus the value of array[12,4].\n",
      "\n",
      "For a given value n, the amount of ways to make n pence with these 8 coins is the bottom right entry of the array."
     ]
    },
    {
     "cell_type": "code",
     "collapsed": false,
     "input": [
      "import numpy as np\n",
      "coins = [1, 2, 5, 10, 20, 50, 100, 200]\n",
      "\n",
      "def numberofways(n):\n",
      "    Target = n\n",
      "    array  = np.zeros((n+1)*len(coins), dtype = int).reshape(n+1,len(coins))\n",
      "    array[:,0]=1\n",
      "    for x in range(0, Target+1):\n",
      "        for y in range(1, len(coins)):\n",
      "            if x >=coins[y]:\n",
      "                array[x,y] += array[x,y-1]\n",
      "                array[x,y] += array[x-coins[y],y]\n",
      "            else:\n",
      "                array[x,y] = array[x,y-1]\n",
      "    return array[n,len(coins)-1]"
     ],
     "language": "python",
     "metadata": {},
     "outputs": [],
     "prompt_number": 7
    },
    {
     "cell_type": "heading",
     "level": 4,
     "metadata": {},
     "source": [
      "Why does this work?"
     ]
    },
    {
     "cell_type": "markdown",
     "metadata": {},
     "source": [
      "The number to the left of any point in the array is the amount of ways we make x pence without the newest coin. We can still use any of these combinations now that we have one more option, so we'll just add that number. The trickier part is why we can simply add the number from the same column, that is the coins worth in rows above the new entry. It's because these are the final answer to the question \"How many ways can I make x-newestcoinvalue pence out of all the coins <= newestcoinvalue?\" which is the same as the answer to the question \"How many way can I make x pence out of all the coins <= newestcoinvalue, guranteeing that one of them is the newestcoinvalue?\" This also prohibits any combination from being counted twice, since all these solutions must include at least one of the newest coin, while all the other solutions (the ones from [x-1,y]) must NOT include the newest coin."
     ]
    },
    {
     "cell_type": "heading",
     "level": 3,
     "metadata": {},
     "source": [
      "Test Case"
     ]
    },
    {
     "cell_type": "markdown",
     "metadata": {},
     "source": [
      "How many ways can we make 5p with these coins? It could be a single 5p coin, two 2p coins with one 1p coin, one 2p coin with three 1p coins, or five 1p coins.  This is a total of 4 unique ways\n",
      "\n",
      "How many ways can we make 10p with these coins? It could be one 10p coin, or one 5p coin matched with any solution to the answer above (4 solutions), or five 2p coins, four 2p coins and two 1p coins, three 2p coins and four 1p coins, two 2p coins and six 1p coins, one 2p coin and eight 1p coins, or ten 1p coins. This is a total of 11 unique ways."
     ]
    },
    {
     "cell_type": "code",
     "collapsed": false,
     "input": [
      "print numberofways(5)\n",
      "print numberofways(10)"
     ],
     "language": "python",
     "metadata": {},
     "outputs": [
      {
       "output_type": "stream",
       "stream": "stdout",
       "text": [
        "4\n",
        "11\n"
       ]
      }
     ],
     "prompt_number": 8
    },
    {
     "cell_type": "heading",
     "level": 3,
     "metadata": {},
     "source": [
      "Answer"
     ]
    },
    {
     "cell_type": "markdown",
     "metadata": {},
     "source": [
      "With the function already defined, all we need to do is insert 200 as the number of pence we are looking for."
     ]
    },
    {
     "cell_type": "code",
     "collapsed": false,
     "input": [
      "print numberofways(200)"
     ],
     "language": "python",
     "metadata": {},
     "outputs": [
      {
       "output_type": "stream",
       "stream": "stdout",
       "text": [
        "73682\n"
       ]
      }
     ],
     "prompt_number": 9
    },
    {
     "cell_type": "code",
     "collapsed": false,
     "input": [],
     "language": "python",
     "metadata": {},
     "outputs": [],
     "prompt_number": 9
    }
   ],
   "metadata": {}
  }
 ]
}