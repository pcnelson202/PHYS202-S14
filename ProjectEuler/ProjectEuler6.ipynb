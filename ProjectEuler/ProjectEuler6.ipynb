{
 "metadata": {
  "name": "",
  "signature": "sha256:5da651c2dc8030a779308476c67919880259313252affba2059d46ea2b0e7aad"
 },
 "nbformat": 3,
 "nbformat_minor": 0,
 "worksheets": [
  {
   "cells": [
    {
     "cell_type": "heading",
     "level": 1,
     "metadata": {},
     "source": [
      "Sum Square Difference"
     ]
    },
    {
     "cell_type": "markdown",
     "metadata": {},
     "source": [
      "The sum of the squares of the first ten natural numbers is,\n",
      "\n",
      "        1^2 + 2^2 + ... + 10^2 = 385\n",
      "       \n",
      "The square of the sum of the first ten natural numbers is,\n",
      "\n",
      "        (1 + 2 + ... + 10)^2 = 55^2 = 3025\n",
      "        \n",
      "Hence the difference between the sum of the squares of the first ten natural numbers and the square of the sum is 3025 - 385 = 2640.\n",
      "\n",
      "Find the difference between the sum of the squares of the first one hundred natural numbers and the square of the sum."
     ]
    },
    {
     "cell_type": "heading",
     "level": 3,
     "metadata": {},
     "source": [
      "Solution Code"
     ]
    },
    {
     "cell_type": "markdown",
     "metadata": {},
     "source": [
      "The least convoluted way of doing this will involve making three functions. \n",
      "\n",
      "* One function will take the sum of the squares for a given n. \n",
      "* One function will take the square of the sum for a given n. \n",
      "* The last function will take the difference of these results for a given n."
     ]
    },
    {
     "cell_type": "code",
     "collapsed": false,
     "input": [
      "def sumofsquares(n):\n",
      "    answer1 = 0\n",
      "    for i in range(n+1):\n",
      "        answer1 += i**2\n",
      "    return answer1\n",
      "        \n",
      "def squareofsum(n):\n",
      "    answer2 = 0\n",
      "    for i in range(n+1):\n",
      "        answer2 += i\n",
      "    return answer2**2\n",
      "\n",
      "def sumsquaredifference(n):\n",
      "    answer3 = squareofsum(n) - sumofsquares(n)\n",
      "    return answer3"
     ],
     "language": "python",
     "metadata": {},
     "outputs": [],
     "prompt_number": 47
    },
    {
     "cell_type": "heading",
     "level": 3,
     "metadata": {},
     "source": [
      "Test Case"
     ]
    },
    {
     "cell_type": "markdown",
     "metadata": {},
     "source": [
      "For a simple number, like 2, the sum square difference is (1 + 2)^2 - (1^2 + 2^2) = 9 - 5 = 4\n",
      "\n",
      "* The function sumofsquares(2) should result in 1^2 + 2^2 = 5\n",
      "* The function squareofsum(2) should result in (1+2)^2 = 9\n",
      "* The function sumsquaredifference(2) should result in 9 - 5 = 4\n",
      "\n",
      "So once we have developed a code that works for each part of the test case, we can test it to see if it gives a reasonable answer for the n=100 case."
     ]
    },
    {
     "cell_type": "code",
     "collapsed": false,
     "input": [
      "print sumofsquares(2)\n",
      "print squareofsum(2)\n",
      "print sumsquaredifference(2)"
     ],
     "language": "python",
     "metadata": {},
     "outputs": [
      {
       "output_type": "stream",
       "stream": "stdout",
       "text": [
        "5\n",
        "9\n",
        "4\n"
       ]
      }
     ],
     "prompt_number": 49
    },
    {
     "cell_type": "markdown",
     "metadata": {},
     "source": [
      "Also, from the problem, we have the result that:\n",
      "\n",
      "* sumofsquares(10) = 385\n",
      "* squareofsum(10) = 3025\n",
      "* sumsquaredifference(10) = 2640\n",
      "\n",
      "Let's test this just to be sure."
     ]
    },
    {
     "cell_type": "code",
     "collapsed": false,
     "input": [
      "print sumofsquares(10)\n",
      "print squareofsum(10)\n",
      "print sumsquaredifference(10)"
     ],
     "language": "python",
     "metadata": {},
     "outputs": [
      {
       "output_type": "stream",
       "stream": "stdout",
       "text": [
        "385\n",
        "3025\n",
        "2640\n"
       ]
      }
     ],
     "prompt_number": 50
    },
    {
     "cell_type": "heading",
     "level": 3,
     "metadata": {},
     "source": [
      "Answer"
     ]
    },
    {
     "cell_type": "markdown",
     "metadata": {},
     "source": [
      "Since the code has been successful so far, it's as easy as calling sumsquaredifference(100) to find the difference between the sum of the squares and the square of the sum for the first one hundred natural numbers."
     ]
    },
    {
     "cell_type": "code",
     "collapsed": false,
     "input": [
      "print sumsquaredifference(100)"
     ],
     "language": "python",
     "metadata": {},
     "outputs": [
      {
       "output_type": "stream",
       "stream": "stdout",
       "text": [
        "25164150\n"
       ]
      }
     ],
     "prompt_number": 58
    },
    {
     "cell_type": "code",
     "collapsed": false,
     "input": [],
     "language": "python",
     "metadata": {},
     "outputs": []
    }
   ],
   "metadata": {}
  }
 ]
}