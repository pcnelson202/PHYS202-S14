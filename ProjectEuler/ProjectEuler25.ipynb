{
 "metadata": {
  "name": "",
  "signature": "sha256:d699fbb3fd512a8ba30ca7026fd137b5feb63a81ba416ab46996d39303438157"
 },
 "nbformat": 3,
 "nbformat_minor": 0,
 "worksheets": [
  {
   "cells": [
    {
     "cell_type": "heading",
     "level": 1,
     "metadata": {},
     "source": [
      "1000-digit Fibonacci Number"
     ]
    },
    {
     "cell_type": "markdown",
     "metadata": {},
     "source": [
      "\n",
      "\n",
      "The Fibonacci sequence is defined by the recurrence relation:\n",
      "\n",
      "    Fn = Fn\u22121 + Fn\u22122, where F1 = 1 and F2 = 1.\n",
      "\n",
      "Hence the first 12 terms will be:\n",
      "\n",
      "    F1 = 1\n",
      "    F2 = 1\n",
      "    F3 = 2\n",
      "    F4 = 3\n",
      "    F5 = 5\n",
      "    F6 = 8\n",
      "    F7 = 13\n",
      "    F8 = 21\n",
      "    F9 = 34\n",
      "    F10 = 55\n",
      "    F11 = 89\n",
      "    F12 = 144\n",
      "\n",
      "The 12th term, F12, is the first term to contain three digits.\n",
      "\n",
      "What is the first term in the Fibonacci sequence to contain 1000 digits?\n"
     ]
    },
    {
     "cell_type": "heading",
     "level": 3,
     "metadata": {},
     "source": [
      "Solution Code"
     ]
    },
    {
     "cell_type": "code",
     "collapsed": false,
     "input": [
      "def digitfibonacci(q):\n",
      "    \"\"\"Provides which term in the Fibonacci sequence is the first to have q terms. For example, digitfibonacci(3) will output\n",
      "    the number of Fibonacci numbers with 1 or 2 terms + 1. The recusion relation is a while loop using the previous two outputs, and\n",
      "    the two initial inputs are both 1.\"\"\"\n",
      "    Fibonaccis = [1,1]\n",
      "    Fibinitial = 1\n",
      "    Fibsecond = 1\n",
      "    i = 0\n",
      "    while len(str(i)) < q:\n",
      "        i = Fibinitial + Fibsecond\n",
      "        Fibinitial = Fibsecond\n",
      "        Fibsecond = i\n",
      "        Fibonaccis.append(i)\n",
      "    print len(Fibonaccis)"
     ],
     "language": "python",
     "metadata": {},
     "outputs": [],
     "prompt_number": 21
    },
    {
     "cell_type": "heading",
     "level": 3,
     "metadata": {},
     "source": [
      "Test Case"
     ]
    },
    {
     "cell_type": "markdown",
     "metadata": {},
     "source": [
      "As shown above, the 12th term in the Fibonacci sequence is the first one with 3 digits. Let's see if the function gives us this result."
     ]
    },
    {
     "cell_type": "code",
     "collapsed": false,
     "input": [
      "print digitfibonacci(3)"
     ],
     "language": "python",
     "metadata": {},
     "outputs": [
      {
       "output_type": "stream",
       "stream": "stdout",
       "text": [
        "12\n",
        "None\n"
       ]
      }
     ],
     "prompt_number": 22
    },
    {
     "cell_type": "markdown",
     "metadata": {},
     "source": [
      "Yay."
     ]
    },
    {
     "cell_type": "heading",
     "level": 3,
     "metadata": {},
     "source": [
      "Answer"
     ]
    },
    {
     "cell_type": "markdown",
     "metadata": {},
     "source": [
      "All that is left to do is run the function with q = 1000."
     ]
    },
    {
     "cell_type": "code",
     "collapsed": false,
     "input": [
      "print digitfibonacci(1000)"
     ],
     "language": "python",
     "metadata": {},
     "outputs": [
      {
       "output_type": "stream",
       "stream": "stdout",
       "text": [
        "4782\n",
        "None\n"
       ]
      }
     ],
     "prompt_number": 23
    },
    {
     "cell_type": "markdown",
     "metadata": {},
     "source": [
      "The $4782^{nd}$ Fibonacci number is the first one with 1000 digits."
     ]
    },
    {
     "cell_type": "code",
     "collapsed": false,
     "input": [],
     "language": "python",
     "metadata": {},
     "outputs": []
    }
   ],
   "metadata": {}
  }
 ]
}