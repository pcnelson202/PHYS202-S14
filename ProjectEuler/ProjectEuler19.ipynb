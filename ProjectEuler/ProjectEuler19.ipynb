{
 "metadata": {
  "name": "",
  "signature": "sha256:3fc5ef993d1c90b47d4100d20de7bd8a8f4989dc93dd7c32365328521be14147"
 },
 "nbformat": 3,
 "nbformat_minor": 0,
 "worksheets": [
  {
   "cells": [
    {
     "cell_type": "heading",
     "level": 1,
     "metadata": {},
     "source": [
      "Counting Sundays"
     ]
    },
    {
     "cell_type": "markdown",
     "metadata": {},
     "source": [
      "\n",
      "\n",
      "You are given the following information, but you may prefer to do some research for yourself.\n",
      "\n",
      "* 1 Jan 1900 was a Monday.\n",
      "* Thirty days has September,\n",
      "    April, June and November.\n",
      "    All the rest have thirty-one,\n",
      "    Saving February alone,\n",
      "    Which has twenty-eight, rain or shine.\n",
      "    And on leap years, twenty-nine.\n",
      "* A leap year occurs on any year evenly divisible by 4, but not on a century unless it is divisible by 400.\n",
      "\n",
      "How many Sundays fell on the first of the month during the twentieth century (1 Jan 1901 to 31 Dec 2000)?\n"
     ]
    },
    {
     "cell_type": "heading",
     "level": 3,
     "metadata": {},
     "source": [
      "Solution Code"
     ]
    },
    {
     "cell_type": "code",
     "collapsed": false,
     "input": [
      "months = [31,28,31,30,31,30,31,31,30,31,30,31]    \n",
      "\n",
      "def firstofthemonth_sundays(endyear):\n",
      "    counter = 1 #Monday\n",
      "    tally = 0 #Number of Sundays\n",
      "    for year in range(1900, endyear):\n",
      "        if year % 4 == 0: #Leap year\n",
      "            months[1] = 29 #February's days change to 29\n",
      "        else:\n",
      "            months[1] = 28 #February's days change back to 28\n",
      "        for month in months:\n",
      "            if counter % 7 == 0: #The day is a sunday\n",
      "                tally = tally+1\n",
      "            counter = counter + month\n",
      "    return (tally - 2) #Subtract two for the two sundays in 1900\n",
      "    "
     ],
     "language": "python",
     "metadata": {},
     "outputs": [],
     "prompt_number": 34
    },
    {
     "cell_type": "heading",
     "level": 3,
     "metadata": {},
     "source": [
      "Test Case"
     ]
    },
    {
     "cell_type": "markdown",
     "metadata": {},
     "source": [
      "For the endyear of 1901, the answer should be 0, because there are exactly two first month sundays in the year 1900, where the function begins running, and the return statement at the end of the function is tally - 2."
     ]
    },
    {
     "cell_type": "code",
     "collapsed": false,
     "input": [
      "print firstofthemonth_sundays(1901)"
     ],
     "language": "python",
     "metadata": {},
     "outputs": [
      {
       "output_type": "stream",
       "stream": "stdout",
       "text": [
        "0\n"
       ]
      }
     ],
     "prompt_number": 35
    },
    {
     "cell_type": "heading",
     "level": 3,
     "metadata": {},
     "source": [
      "Answer"
     ]
    },
    {
     "cell_type": "markdown",
     "metadata": {},
     "source": [
      "To find the number of first of the month sundays between 1901 and the end of year 2000, we'll call the function with an endyear of 2001, meaning it will stop running at the beginning of 2001, or the end of year 2000."
     ]
    },
    {
     "cell_type": "code",
     "collapsed": false,
     "input": [
      "print firstofthemonth_sundays(2001)"
     ],
     "language": "python",
     "metadata": {},
     "outputs": [
      {
       "output_type": "stream",
       "stream": "stdout",
       "text": [
        "171\n"
       ]
      }
     ],
     "prompt_number": 36
    },
    {
     "cell_type": "code",
     "collapsed": false,
     "input": [],
     "language": "python",
     "metadata": {},
     "outputs": []
    }
   ],
   "metadata": {}
  }
 ]
}